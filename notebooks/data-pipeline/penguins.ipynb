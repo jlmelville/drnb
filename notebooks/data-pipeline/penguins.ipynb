{
 "cells": [
  {
   "cell_type": "code",
   "execution_count": 1,
   "id": "a96539f6",
   "metadata": {},
   "outputs": [
    {
     "name": "stdout",
     "output_type": "stream",
     "text": [
      "time: 268 ms (started: 2022-09-15 22:25:34 -07:00)\n"
     ]
    }
   ],
   "source": [
    "%load_ext lab_black\n",
    "%load_ext autotime\n",
    "import pandas as pd\n",
    "import numpy as np\n",
    "import drnb as nb"
   ]
  },
  {
   "cell_type": "markdown",
   "id": "8ba63f31-85ee-480c-9968-5b6ebb0eddea",
   "metadata": {},
   "source": [
    "Based on the penguins example in [How to Use UMAP](https://umap-learn.readthedocs.io/en/latest/basic_usage.html)"
   ]
  },
  {
   "cell_type": "code",
   "execution_count": 2,
   "id": "9e2d59bd-6c38-42a4-a33c-e06ac83808ff",
   "metadata": {},
   "outputs": [
    {
     "data": {
      "text/html": [
       "<div>\n",
       "<style scoped>\n",
       "    .dataframe tbody tr th:only-of-type {\n",
       "        vertical-align: middle;\n",
       "    }\n",
       "\n",
       "    .dataframe tbody tr th {\n",
       "        vertical-align: top;\n",
       "    }\n",
       "\n",
       "    .dataframe thead th {\n",
       "        text-align: right;\n",
       "    }\n",
       "</style>\n",
       "<table border=\"1\" class=\"dataframe\">\n",
       "  <thead>\n",
       "    <tr style=\"text-align: right;\">\n",
       "      <th></th>\n",
       "      <th>species</th>\n",
       "      <th>island</th>\n",
       "      <th>bill_length_mm</th>\n",
       "      <th>bill_depth_mm</th>\n",
       "      <th>flipper_length_mm</th>\n",
       "      <th>body_mass_g</th>\n",
       "      <th>sex</th>\n",
       "      <th>year</th>\n",
       "    </tr>\n",
       "  </thead>\n",
       "  <tbody>\n",
       "    <tr>\n",
       "      <th>0</th>\n",
       "      <td>Adelie</td>\n",
       "      <td>Torgersen</td>\n",
       "      <td>39.1</td>\n",
       "      <td>18.7</td>\n",
       "      <td>181.0</td>\n",
       "      <td>3750.0</td>\n",
       "      <td>male</td>\n",
       "      <td>2007</td>\n",
       "    </tr>\n",
       "    <tr>\n",
       "      <th>1</th>\n",
       "      <td>Adelie</td>\n",
       "      <td>Torgersen</td>\n",
       "      <td>39.5</td>\n",
       "      <td>17.4</td>\n",
       "      <td>186.0</td>\n",
       "      <td>3800.0</td>\n",
       "      <td>female</td>\n",
       "      <td>2007</td>\n",
       "    </tr>\n",
       "    <tr>\n",
       "      <th>2</th>\n",
       "      <td>Adelie</td>\n",
       "      <td>Torgersen</td>\n",
       "      <td>40.3</td>\n",
       "      <td>18.0</td>\n",
       "      <td>195.0</td>\n",
       "      <td>3250.0</td>\n",
       "      <td>female</td>\n",
       "      <td>2007</td>\n",
       "    </tr>\n",
       "    <tr>\n",
       "      <th>3</th>\n",
       "      <td>Adelie</td>\n",
       "      <td>Torgersen</td>\n",
       "      <td>NaN</td>\n",
       "      <td>NaN</td>\n",
       "      <td>NaN</td>\n",
       "      <td>NaN</td>\n",
       "      <td>NaN</td>\n",
       "      <td>2007</td>\n",
       "    </tr>\n",
       "    <tr>\n",
       "      <th>4</th>\n",
       "      <td>Adelie</td>\n",
       "      <td>Torgersen</td>\n",
       "      <td>36.7</td>\n",
       "      <td>19.3</td>\n",
       "      <td>193.0</td>\n",
       "      <td>3450.0</td>\n",
       "      <td>female</td>\n",
       "      <td>2007</td>\n",
       "    </tr>\n",
       "  </tbody>\n",
       "</table>\n",
       "</div>"
      ],
      "text/plain": [
       "  species     island  bill_length_mm  bill_depth_mm  flipper_length_mm  \\\n",
       "0  Adelie  Torgersen            39.1           18.7              181.0   \n",
       "1  Adelie  Torgersen            39.5           17.4              186.0   \n",
       "2  Adelie  Torgersen            40.3           18.0              195.0   \n",
       "3  Adelie  Torgersen             NaN            NaN                NaN   \n",
       "4  Adelie  Torgersen            36.7           19.3              193.0   \n",
       "\n",
       "   body_mass_g     sex  year  \n",
       "0       3750.0    male  2007  \n",
       "1       3800.0  female  2007  \n",
       "2       3250.0  female  2007  \n",
       "3          NaN     NaN  2007  \n",
       "4       3450.0  female  2007  "
      ]
     },
     "execution_count": 2,
     "metadata": {},
     "output_type": "execute_result"
    },
    {
     "name": "stdout",
     "output_type": "stream",
     "text": [
      "time: 68.9 ms (started: 2022-09-15 22:25:34 -07:00)\n"
     ]
    }
   ],
   "source": [
    "penguins_raw = pd.read_csv(\n",
    "    \"https://raw.githubusercontent.com/allisonhorst/palmerpenguins/c19a904462482430170bfe2c718775ddb7dbb885/inst/extdata/penguins.csv\"\n",
    ")\n",
    "penguins_raw.head()"
   ]
  },
  {
   "cell_type": "code",
   "execution_count": 3,
   "id": "424b8101-fc1b-401e-ada4-33da710e6354",
   "metadata": {},
   "outputs": [
    {
     "data": {
      "text/html": [
       "<pre style=\"white-space:pre;overflow-x:auto;line-height:normal;font-family:Menlo,'DejaVu Sans Mono',consolas,'Courier New',monospace\"><span style=\"color: #7fbfbf; text-decoration-color: #7fbfbf\">[22:25:38] </span><span style=\"color: #000080; text-decoration-color: #000080\">INFO    </span> Requesting one extra neighbor to account for self-neighbor                      <a href=\"file:///home/james/dev/drnb/src/drnb/io/pipeline.py\" target=\"_blank\"><span style=\"color: #7f7f7f; text-decoration-color: #7f7f7f\">pipeline.py</span></a><span style=\"color: #7f7f7f; text-decoration-color: #7f7f7f\">:</span><a href=\"file:///home/james/dev/drnb/src/drnb/io/pipeline.py#392\" target=\"_blank\"><span style=\"color: #7f7f7f; text-decoration-color: #7f7f7f\">392</span></a>\n",
       "</pre>\n"
      ],
      "text/plain": [
       "\u001b[2;36m[22:25:38]\u001b[0m\u001b[2;36m \u001b[0m\u001b[34mINFO    \u001b[0m Requesting one extra neighbor to account for self-neighbor                      \u001b]8;id=457909;file:///home/james/dev/drnb/src/drnb/io/pipeline.py\u001b\\\u001b[2mpipeline.py\u001b[0m\u001b]8;;\u001b\\\u001b[2m:\u001b[0m\u001b]8;id=236901;file:///home/james/dev/drnb/src/drnb/io/pipeline.py#392\u001b\\\u001b[2m392\u001b[0m\u001b]8;;\u001b\\\n"
      ]
     },
     "metadata": {},
     "output_type": "display_data"
    },
    {
     "name": "stdout",
     "output_type": "stream",
     "text": [
      "time: 3.67 s (started: 2022-09-15 22:25:35 -07:00)\n"
     ]
    }
   ],
   "source": [
    "from drnb.io.pipeline import create_default_pipeline\n",
    "\n",
    "data_pipe = create_default_pipeline(\n",
    "    check_for_duplicates=True,\n",
    "    scale=\"z\",\n",
    ")"
   ]
  },
  {
   "cell_type": "markdown",
   "id": "d72a70e0-19dd-4021-9569-11533991194b",
   "metadata": {},
   "source": [
    "For the `target_cols`, I have reordered them so that `species` is last. When plotting, the last target column is chosen by default for categorical plotting and I want `species` for that."
   ]
  },
  {
   "cell_type": "code",
   "execution_count": 6,
   "id": "56a12581-bf42-41ee-84e8-9a5edaeee035",
   "metadata": {},
   "outputs": [
    {
     "data": {
      "text/html": [
       "<pre style=\"white-space:pre;overflow-x:auto;line-height:normal;font-family:Menlo,'DejaVu Sans Mono',consolas,'Courier New',monospace\"><span style=\"color: #7fbfbf; text-decoration-color: #7fbfbf\">[22:32:18] </span><span style=\"color: #000080; text-decoration-color: #000080\">INFO    </span> Using data as source for target                                                 <a href=\"file:///home/james/dev/drnb/src/drnb/io/pipeline.py\" target=\"_blank\"><span style=\"color: #7f7f7f; text-decoration-color: #7f7f7f\">pipeline.py</span></a><span style=\"color: #7f7f7f; text-decoration-color: #7f7f7f\">:</span><a href=\"file:///home/james/dev/drnb/src/drnb/io/pipeline.py#186\" target=\"_blank\"><span style=\"color: #7f7f7f; text-decoration-color: #7f7f7f\">186</span></a>\n",
       "</pre>\n"
      ],
      "text/plain": [
       "\u001b[2;36m[22:32:18]\u001b[0m\u001b[2;36m \u001b[0m\u001b[34mINFO    \u001b[0m Using data as source for target                                                 \u001b]8;id=248461;file:///home/james/dev/drnb/src/drnb/io/pipeline.py\u001b\\\u001b[2mpipeline.py\u001b[0m\u001b]8;;\u001b\\\u001b[2m:\u001b[0m\u001b]8;id=36837;file:///home/james/dev/drnb/src/drnb/io/pipeline.py#186\u001b\\\u001b[2m186\u001b[0m\u001b]8;;\u001b\\\n"
      ]
     },
     "metadata": {},
     "output_type": "display_data"
    },
    {
     "data": {
      "text/html": [
       "<pre style=\"white-space:pre;overflow-x:auto;line-height:normal;font-family:Menlo,'DejaVu Sans Mono',consolas,'Courier New',monospace\"><span style=\"color: #7fbfbf; text-decoration-color: #7fbfbf\">           </span><span style=\"color: #000080; text-decoration-color: #000080\">INFO    </span> Initial data shape: <span style=\"font-weight: bold\">(</span><span style=\"color: #008080; text-decoration-color: #008080; font-weight: bold\">344</span>, <span style=\"color: #008080; text-decoration-color: #008080; font-weight: bold\">8</span><span style=\"font-weight: bold\">)</span>                                                     <a href=\"file:///home/james/dev/drnb/src/drnb/io/pipeline.py\" target=\"_blank\"><span style=\"color: #7f7f7f; text-decoration-color: #7f7f7f\">pipeline.py</span></a><span style=\"color: #7f7f7f; text-decoration-color: #7f7f7f\">:</span><a href=\"file:///home/james/dev/drnb/src/drnb/io/pipeline.py#80\" target=\"_blank\"><span style=\"color: #7f7f7f; text-decoration-color: #7f7f7f\">80</span></a>\n",
       "</pre>\n"
      ],
      "text/plain": [
       "\u001b[2;36m          \u001b[0m\u001b[2;36m \u001b[0m\u001b[34mINFO    \u001b[0m Initial data shape: \u001b[1m(\u001b[0m\u001b[1;36m344\u001b[0m, \u001b[1;36m8\u001b[0m\u001b[1m)\u001b[0m                                                     \u001b]8;id=804181;file:///home/james/dev/drnb/src/drnb/io/pipeline.py\u001b\\\u001b[2mpipeline.py\u001b[0m\u001b]8;;\u001b\\\u001b[2m:\u001b[0m\u001b]8;id=868225;file:///home/james/dev/drnb/src/drnb/io/pipeline.py#80\u001b\\\u001b[2m80\u001b[0m\u001b]8;;\u001b\\\n"
      ]
     },
     "metadata": {},
     "output_type": "display_data"
    },
    {
     "data": {
      "text/html": [
       "<pre style=\"white-space:pre;overflow-x:auto;line-height:normal;font-family:Menlo,'DejaVu Sans Mono',consolas,'Courier New',monospace\"><span style=\"color: #7fbfbf; text-decoration-color: #7fbfbf\">           </span><span style=\"color: #000080; text-decoration-color: #000080\">INFO    </span> Keeping columns: <span style=\"font-weight: bold\">[</span><span style=\"color: #008000; text-decoration-color: #008000\">'bill_length_mm'</span>, <span style=\"color: #008000; text-decoration-color: #008000\">'bill_depth_mm'</span>, <span style=\"color: #008000; text-decoration-color: #008000\">'flipper_length_mm'</span>,      <a href=\"file:///home/james/dev/drnb/src/drnb/preprocess.py\" target=\"_blank\"><span style=\"color: #7f7f7f; text-decoration-color: #7f7f7f\">preprocess.py</span></a><span style=\"color: #7f7f7f; text-decoration-color: #7f7f7f\">:</span><a href=\"file:///home/james/dev/drnb/src/drnb/preprocess.py#65\" target=\"_blank\"><span style=\"color: #7f7f7f; text-decoration-color: #7f7f7f\">65</span></a>\n",
       "<span style=\"color: #7fbfbf; text-decoration-color: #7fbfbf\">           </span>         <span style=\"color: #008000; text-decoration-color: #008000\">'body_mass_g'</span><span style=\"font-weight: bold\">]</span>                                                                 <span style=\"color: #7f7f7f; text-decoration-color: #7f7f7f\">                </span>\n",
       "</pre>\n"
      ],
      "text/plain": [
       "\u001b[2;36m          \u001b[0m\u001b[2;36m \u001b[0m\u001b[34mINFO    \u001b[0m Keeping columns: \u001b[1m[\u001b[0m\u001b[32m'bill_length_mm'\u001b[0m, \u001b[32m'bill_depth_mm'\u001b[0m, \u001b[32m'flipper_length_mm'\u001b[0m,      \u001b]8;id=347627;file:///home/james/dev/drnb/src/drnb/preprocess.py\u001b\\\u001b[2mpreprocess.py\u001b[0m\u001b]8;;\u001b\\\u001b[2m:\u001b[0m\u001b]8;id=162132;file:///home/james/dev/drnb/src/drnb/preprocess.py#65\u001b\\\u001b[2m65\u001b[0m\u001b]8;;\u001b\\\n",
       "\u001b[2;36m           \u001b[0m         \u001b[32m'body_mass_g'\u001b[0m\u001b[1m]\u001b[0m                                                                 \u001b[2m                \u001b[0m\n"
      ]
     },
     "metadata": {},
     "output_type": "display_data"
    },
    {
     "data": {
      "text/html": [
       "<pre style=\"white-space:pre;overflow-x:auto;line-height:normal;font-family:Menlo,'DejaVu Sans Mono',consolas,'Courier New',monospace\"><span style=\"color: #7fbfbf; text-decoration-color: #7fbfbf\">           </span><span style=\"color: #000080; text-decoration-color: #000080\">INFO    </span> Data shape after filtering columns: <span style=\"font-weight: bold\">(</span><span style=\"color: #008080; text-decoration-color: #008080; font-weight: bold\">344</span>, <span style=\"color: #008080; text-decoration-color: #008080; font-weight: bold\">4</span><span style=\"font-weight: bold\">)</span>                                    <a href=\"file:///home/james/dev/drnb/src/drnb/io/pipeline.py\" target=\"_blank\"><span style=\"color: #7f7f7f; text-decoration-color: #7f7f7f\">pipeline.py</span></a><span style=\"color: #7f7f7f; text-decoration-color: #7f7f7f\">:</span><a href=\"file:///home/james/dev/drnb/src/drnb/io/pipeline.py#151\" target=\"_blank\"><span style=\"color: #7f7f7f; text-decoration-color: #7f7f7f\">151</span></a>\n",
       "</pre>\n"
      ],
      "text/plain": [
       "\u001b[2;36m          \u001b[0m\u001b[2;36m \u001b[0m\u001b[34mINFO    \u001b[0m Data shape after filtering columns: \u001b[1m(\u001b[0m\u001b[1;36m344\u001b[0m, \u001b[1;36m4\u001b[0m\u001b[1m)\u001b[0m                                    \u001b]8;id=998682;file:///home/james/dev/drnb/src/drnb/io/pipeline.py\u001b\\\u001b[2mpipeline.py\u001b[0m\u001b]8;;\u001b\\\u001b[2m:\u001b[0m\u001b]8;id=196900;file:///home/james/dev/drnb/src/drnb/io/pipeline.py#151\u001b\\\u001b[2m151\u001b[0m\u001b]8;;\u001b\\\n"
      ]
     },
     "metadata": {},
     "output_type": "display_data"
    },
    {
     "data": {
      "text/html": [
       "<pre style=\"white-space:pre;overflow-x:auto;line-height:normal;font-family:Menlo,'DejaVu Sans Mono',consolas,'Courier New',monospace\"><span style=\"color: #7fbfbf; text-decoration-color: #7fbfbf\">           </span><span style=\"color: #000080; text-decoration-color: #000080\">INFO    </span> Removing rows with NAs                                                          <a href=\"file:///home/james/dev/drnb/src/drnb/io/pipeline.py\" target=\"_blank\"><span style=\"color: #7f7f7f; text-decoration-color: #7f7f7f\">pipeline.py</span></a><span style=\"color: #7f7f7f; text-decoration-color: #7f7f7f\">:</span><a href=\"file:///home/james/dev/drnb/src/drnb/io/pipeline.py#135\" target=\"_blank\"><span style=\"color: #7f7f7f; text-decoration-color: #7f7f7f\">135</span></a>\n",
       "</pre>\n"
      ],
      "text/plain": [
       "\u001b[2;36m          \u001b[0m\u001b[2;36m \u001b[0m\u001b[34mINFO    \u001b[0m Removing rows with NAs                                                          \u001b]8;id=377042;file:///home/james/dev/drnb/src/drnb/io/pipeline.py\u001b\\\u001b[2mpipeline.py\u001b[0m\u001b]8;;\u001b\\\u001b[2m:\u001b[0m\u001b]8;id=908049;file:///home/james/dev/drnb/src/drnb/io/pipeline.py#135\u001b\\\u001b[2m135\u001b[0m\u001b]8;;\u001b\\\n"
      ]
     },
     "metadata": {},
     "output_type": "display_data"
    },
    {
     "data": {
      "text/html": [
       "<pre style=\"white-space:pre;overflow-x:auto;line-height:normal;font-family:Menlo,'DejaVu Sans Mono',consolas,'Courier New',monospace\"><span style=\"color: #7fbfbf; text-decoration-color: #7fbfbf\">           </span><span style=\"color: #000080; text-decoration-color: #000080\">INFO    </span> Data shape after filtering NAs: <span style=\"font-weight: bold\">(</span><span style=\"color: #008080; text-decoration-color: #008080; font-weight: bold\">342</span>, <span style=\"color: #008080; text-decoration-color: #008080; font-weight: bold\">4</span><span style=\"font-weight: bold\">)</span>                                        <a href=\"file:///home/james/dev/drnb/src/drnb/io/pipeline.py\" target=\"_blank\"><span style=\"color: #7f7f7f; text-decoration-color: #7f7f7f\">pipeline.py</span></a><span style=\"color: #7f7f7f; text-decoration-color: #7f7f7f\">:</span><a href=\"file:///home/james/dev/drnb/src/drnb/io/pipeline.py#146\" target=\"_blank\"><span style=\"color: #7f7f7f; text-decoration-color: #7f7f7f\">146</span></a>\n",
       "</pre>\n"
      ],
      "text/plain": [
       "\u001b[2;36m          \u001b[0m\u001b[2;36m \u001b[0m\u001b[34mINFO    \u001b[0m Data shape after filtering NAs: \u001b[1m(\u001b[0m\u001b[1;36m342\u001b[0m, \u001b[1;36m4\u001b[0m\u001b[1m)\u001b[0m                                        \u001b]8;id=438741;file:///home/james/dev/drnb/src/drnb/io/pipeline.py\u001b\\\u001b[2mpipeline.py\u001b[0m\u001b]8;;\u001b\\\u001b[2m:\u001b[0m\u001b]8;id=213966;file:///home/james/dev/drnb/src/drnb/io/pipeline.py#146\u001b\\\u001b[2m146\u001b[0m\u001b]8;;\u001b\\\n"
      ]
     },
     "metadata": {},
     "output_type": "display_data"
    },
    {
     "data": {
      "text/html": [
       "<pre style=\"white-space:pre;overflow-x:auto;line-height:normal;font-family:Menlo,'DejaVu Sans Mono',consolas,'Courier New',monospace\"><span style=\"color: #7fbfbf; text-decoration-color: #7fbfbf\">           </span><span style=\"color: #000080; text-decoration-color: #000080\">INFO    </span> Checked for duplicates: found <span style=\"color: #008080; text-decoration-color: #008080; font-weight: bold\">0</span>                                                 <a href=\"file:///home/james/dev/drnb/src/drnb/io/pipeline.py\" target=\"_blank\"><span style=\"color: #7f7f7f; text-decoration-color: #7f7f7f\">pipeline.py</span></a><span style=\"color: #7f7f7f; text-decoration-color: #7f7f7f\">:</span><a href=\"file:///home/james/dev/drnb/src/drnb/io/pipeline.py#158\" target=\"_blank\"><span style=\"color: #7f7f7f; text-decoration-color: #7f7f7f\">158</span></a>\n",
       "</pre>\n"
      ],
      "text/plain": [
       "\u001b[2;36m          \u001b[0m\u001b[2;36m \u001b[0m\u001b[34mINFO    \u001b[0m Checked for duplicates: found \u001b[1;36m0\u001b[0m                                                 \u001b]8;id=435960;file:///home/james/dev/drnb/src/drnb/io/pipeline.py\u001b\\\u001b[2mpipeline.py\u001b[0m\u001b]8;;\u001b\\\u001b[2m:\u001b[0m\u001b]8;id=850644;file:///home/james/dev/drnb/src/drnb/io/pipeline.py#158\u001b\\\u001b[2m158\u001b[0m\u001b]8;;\u001b\\\n"
      ]
     },
     "metadata": {},
     "output_type": "display_data"
    },
    {
     "data": {
      "text/html": [
       "<pre style=\"white-space:pre;overflow-x:auto;line-height:normal;font-family:Menlo,'DejaVu Sans Mono',consolas,'Courier New',monospace\"><span style=\"color: #7fbfbf; text-decoration-color: #7fbfbf\">           </span><span style=\"color: #000080; text-decoration-color: #000080\">INFO    </span> Z-Scaling                                                                      <a href=\"file:///home/james/dev/drnb/src/drnb/preprocess.py\" target=\"_blank\"><span style=\"color: #7f7f7f; text-decoration-color: #7f7f7f\">preprocess.py</span></a><span style=\"color: #7f7f7f; text-decoration-color: #7f7f7f\">:</span><a href=\"file:///home/james/dev/drnb/src/drnb/preprocess.py#32\" target=\"_blank\"><span style=\"color: #7f7f7f; text-decoration-color: #7f7f7f\">32</span></a>\n",
       "</pre>\n"
      ],
      "text/plain": [
       "\u001b[2;36m          \u001b[0m\u001b[2;36m \u001b[0m\u001b[34mINFO    \u001b[0m Z-Scaling                                                                      \u001b]8;id=852527;file:///home/james/dev/drnb/src/drnb/preprocess.py\u001b\\\u001b[2mpreprocess.py\u001b[0m\u001b]8;;\u001b\\\u001b[2m:\u001b[0m\u001b]8;id=478760;file:///home/james/dev/drnb/src/drnb/preprocess.py#32\u001b\\\u001b[2m32\u001b[0m\u001b]8;;\u001b\\\n"
      ]
     },
     "metadata": {},
     "output_type": "display_data"
    },
    {
     "data": {
      "text/html": [
       "<pre style=\"white-space:pre;overflow-x:auto;line-height:normal;font-family:Menlo,'DejaVu Sans Mono',consolas,'Courier New',monospace\"><span style=\"color: #7fbfbf; text-decoration-color: #7fbfbf\">           </span><span style=\"color: #000080; text-decoration-color: #000080\">INFO    </span> Converting to numpy with <span style=\"font-weight: bold\">{</span><span style=\"color: #008000; text-decoration-color: #008000\">'dtype'</span>: <span style=\"color: #008000; text-decoration-color: #008000\">'float32'</span>, <span style=\"color: #008000; text-decoration-color: #008000\">'layout'</span>: <span style=\"color: #008000; text-decoration-color: #008000\">'c'</span><span style=\"font-weight: bold\">}</span>                    <a href=\"file:///home/james/dev/drnb/src/drnb/io/pipeline.py\" target=\"_blank\"><span style=\"color: #7f7f7f; text-decoration-color: #7f7f7f\">pipeline.py</span></a><span style=\"color: #7f7f7f; text-decoration-color: #7f7f7f\">:</span><a href=\"file:///home/james/dev/drnb/src/drnb/io/pipeline.py#163\" target=\"_blank\"><span style=\"color: #7f7f7f; text-decoration-color: #7f7f7f\">163</span></a>\n",
       "</pre>\n"
      ],
      "text/plain": [
       "\u001b[2;36m          \u001b[0m\u001b[2;36m \u001b[0m\u001b[34mINFO    \u001b[0m Converting to numpy with \u001b[1m{\u001b[0m\u001b[32m'dtype'\u001b[0m: \u001b[32m'float32'\u001b[0m, \u001b[32m'layout'\u001b[0m: \u001b[32m'c'\u001b[0m\u001b[1m}\u001b[0m                    \u001b]8;id=640215;file:///home/james/dev/drnb/src/drnb/io/pipeline.py\u001b\\\u001b[2mpipeline.py\u001b[0m\u001b]8;;\u001b\\\u001b[2m:\u001b[0m\u001b]8;id=244791;file:///home/james/dev/drnb/src/drnb/io/pipeline.py#163\u001b\\\u001b[2m163\u001b[0m\u001b]8;;\u001b\\\n"
      ]
     },
     "metadata": {},
     "output_type": "display_data"
    },
    {
     "data": {
      "text/html": [
       "<pre style=\"white-space:pre;overflow-x:auto;line-height:normal;font-family:Menlo,'DejaVu Sans Mono',consolas,'Courier New',monospace\"><span style=\"color: #7fbfbf; text-decoration-color: #7fbfbf\">           </span><span style=\"color: #000080; text-decoration-color: #000080\">INFO    </span> Writing data for penguins                                                       <a href=\"file:///home/james/dev/drnb/src/drnb/io/pipeline.py\" target=\"_blank\"><span style=\"color: #7f7f7f; text-decoration-color: #7f7f7f\">pipeline.py</span></a><span style=\"color: #7f7f7f; text-decoration-color: #7f7f7f\">:</span><a href=\"file:///home/james/dev/drnb/src/drnb/io/pipeline.py#225\" target=\"_blank\"><span style=\"color: #7f7f7f; text-decoration-color: #7f7f7f\">225</span></a>\n",
       "</pre>\n"
      ],
      "text/plain": [
       "\u001b[2;36m          \u001b[0m\u001b[2;36m \u001b[0m\u001b[34mINFO    \u001b[0m Writing data for penguins                                                       \u001b]8;id=492587;file:///home/james/dev/drnb/src/drnb/io/pipeline.py\u001b\\\u001b[2mpipeline.py\u001b[0m\u001b]8;;\u001b\\\u001b[2m:\u001b[0m\u001b]8;id=553539;file:///home/james/dev/drnb/src/drnb/io/pipeline.py#225\u001b\\\u001b[2m225\u001b[0m\u001b]8;;\u001b\\\n"
      ]
     },
     "metadata": {},
     "output_type": "display_data"
    },
    {
     "data": {
      "text/html": [
       "<pre style=\"white-space:pre;overflow-x:auto;line-height:normal;font-family:Menlo,'DejaVu Sans Mono',consolas,'Courier New',monospace\"><span style=\"color: #7fbfbf; text-decoration-color: #7fbfbf\">           </span><span style=\"color: #000080; text-decoration-color: #000080\">INFO    </span> Processing target with initial shape <span style=\"font-weight: bold\">(</span><span style=\"color: #008080; text-decoration-color: #008080; font-weight: bold\">344</span>, <span style=\"color: #008080; text-decoration-color: #008080; font-weight: bold\">8</span><span style=\"font-weight: bold\">)</span>                                   <a href=\"file:///home/james/dev/drnb/src/drnb/io/pipeline.py\" target=\"_blank\"><span style=\"color: #7f7f7f; text-decoration-color: #7f7f7f\">pipeline.py</span></a><span style=\"color: #7f7f7f; text-decoration-color: #7f7f7f\">:</span><a href=\"file:///home/james/dev/drnb/src/drnb/io/pipeline.py#196\" target=\"_blank\"><span style=\"color: #7f7f7f; text-decoration-color: #7f7f7f\">196</span></a>\n",
       "</pre>\n"
      ],
      "text/plain": [
       "\u001b[2;36m          \u001b[0m\u001b[2;36m \u001b[0m\u001b[34mINFO    \u001b[0m Processing target with initial shape \u001b[1m(\u001b[0m\u001b[1;36m344\u001b[0m, \u001b[1;36m8\u001b[0m\u001b[1m)\u001b[0m                                   \u001b]8;id=38932;file:///home/james/dev/drnb/src/drnb/io/pipeline.py\u001b\\\u001b[2mpipeline.py\u001b[0m\u001b]8;;\u001b\\\u001b[2m:\u001b[0m\u001b]8;id=852804;file:///home/james/dev/drnb/src/drnb/io/pipeline.py#196\u001b\\\u001b[2m196\u001b[0m\u001b]8;;\u001b\\\n"
      ]
     },
     "metadata": {},
     "output_type": "display_data"
    },
    {
     "data": {
      "text/html": [
       "<pre style=\"white-space:pre;overflow-x:auto;line-height:normal;font-family:Menlo,'DejaVu Sans Mono',consolas,'Courier New',monospace\"><span style=\"color: #7fbfbf; text-decoration-color: #7fbfbf\">           </span><span style=\"color: #000080; text-decoration-color: #000080\">INFO    </span> Keeping columns: <span style=\"font-weight: bold\">[</span><span style=\"color: #008000; text-decoration-color: #008000\">'island'</span>, <span style=\"color: #008000; text-decoration-color: #008000\">'sex'</span>, <span style=\"color: #008000; text-decoration-color: #008000\">'species'</span><span style=\"font-weight: bold\">]</span>                                  <a href=\"file:///home/james/dev/drnb/src/drnb/preprocess.py\" target=\"_blank\"><span style=\"color: #7f7f7f; text-decoration-color: #7f7f7f\">preprocess.py</span></a><span style=\"color: #7f7f7f; text-decoration-color: #7f7f7f\">:</span><a href=\"file:///home/james/dev/drnb/src/drnb/preprocess.py#65\" target=\"_blank\"><span style=\"color: #7f7f7f; text-decoration-color: #7f7f7f\">65</span></a>\n",
       "</pre>\n"
      ],
      "text/plain": [
       "\u001b[2;36m          \u001b[0m\u001b[2;36m \u001b[0m\u001b[34mINFO    \u001b[0m Keeping columns: \u001b[1m[\u001b[0m\u001b[32m'island'\u001b[0m, \u001b[32m'sex'\u001b[0m, \u001b[32m'species'\u001b[0m\u001b[1m]\u001b[0m                                  \u001b]8;id=292588;file:///home/james/dev/drnb/src/drnb/preprocess.py\u001b\\\u001b[2mpreprocess.py\u001b[0m\u001b]8;;\u001b\\\u001b[2m:\u001b[0m\u001b]8;id=596435;file:///home/james/dev/drnb/src/drnb/preprocess.py#65\u001b\\\u001b[2m65\u001b[0m\u001b]8;;\u001b\\\n"
      ]
     },
     "metadata": {},
     "output_type": "display_data"
    },
    {
     "data": {
      "text/html": [
       "<pre style=\"white-space:pre;overflow-x:auto;line-height:normal;font-family:Menlo,'DejaVu Sans Mono',consolas,'Courier New',monospace\"><span style=\"color: #7fbfbf; text-decoration-color: #7fbfbf\">           </span><span style=\"color: #000080; text-decoration-color: #000080\">INFO    </span> Writing target for penguins                                                     <a href=\"file:///home/james/dev/drnb/src/drnb/io/pipeline.py\" target=\"_blank\"><span style=\"color: #7f7f7f; text-decoration-color: #7f7f7f\">pipeline.py</span></a><span style=\"color: #7f7f7f; text-decoration-color: #7f7f7f\">:</span><a href=\"file:///home/james/dev/drnb/src/drnb/io/pipeline.py#225\" target=\"_blank\"><span style=\"color: #7f7f7f; text-decoration-color: #7f7f7f\">225</span></a>\n",
       "</pre>\n"
      ],
      "text/plain": [
       "\u001b[2;36m          \u001b[0m\u001b[2;36m \u001b[0m\u001b[34mINFO    \u001b[0m Writing target for penguins                                                     \u001b]8;id=890951;file:///home/james/dev/drnb/src/drnb/io/pipeline.py\u001b\\\u001b[2mpipeline.py\u001b[0m\u001b]8;;\u001b\\\u001b[2m:\u001b[0m\u001b]8;id=926909;file:///home/james/dev/drnb/src/drnb/io/pipeline.py#225\u001b\\\u001b[2m225\u001b[0m\u001b]8;;\u001b\\\n"
      ]
     },
     "metadata": {},
     "output_type": "display_data"
    },
    {
     "data": {
      "text/html": [
       "<pre style=\"white-space:pre;overflow-x:auto;line-height:normal;font-family:Menlo,'DejaVu Sans Mono',consolas,'Courier New',monospace\"><span style=\"color: #7fbfbf; text-decoration-color: #7fbfbf\">           </span><span style=\"color: #000080; text-decoration-color: #000080\">INFO    </span> Calculating nearest neighbors                                                   <a href=\"file:///home/james/dev/drnb/src/drnb/io/pipeline.py\" target=\"_blank\"><span style=\"color: #7f7f7f; text-decoration-color: #7f7f7f\">pipeline.py</span></a><span style=\"color: #7f7f7f; text-decoration-color: #7f7f7f\">:</span><a href=\"file:///home/james/dev/drnb/src/drnb/io/pipeline.py#240\" target=\"_blank\"><span style=\"color: #7f7f7f; text-decoration-color: #7f7f7f\">240</span></a>\n",
       "</pre>\n"
      ],
      "text/plain": [
       "\u001b[2;36m          \u001b[0m\u001b[2;36m \u001b[0m\u001b[34mINFO    \u001b[0m Calculating nearest neighbors                                                   \u001b]8;id=874740;file:///home/james/dev/drnb/src/drnb/io/pipeline.py\u001b\\\u001b[2mpipeline.py\u001b[0m\u001b]8;;\u001b\\\u001b[2m:\u001b[0m\u001b]8;id=357292;file:///home/james/dev/drnb/src/drnb/io/pipeline.py#240\u001b\\\u001b[2m240\u001b[0m\u001b]8;;\u001b\\\n"
      ]
     },
     "metadata": {},
     "output_type": "display_data"
    },
    {
     "data": {
      "text/html": [
       "<pre style=\"white-space:pre;overflow-x:auto;line-height:normal;font-family:Menlo,'DejaVu Sans Mono',consolas,'Courier New',monospace\"><span style=\"color: #7fbfbf; text-decoration-color: #7fbfbf\">           </span><span style=\"color: #000080; text-decoration-color: #000080\">INFO    </span> Finding <span style=\"color: #008080; text-decoration-color: #008080; font-weight: bold\">151</span> neighbors using faiss with euclidean metric and params: <span style=\"font-weight: bold\">{}</span>           <a href=\"file:///home/james/dev/drnb/src/drnb/neighbors/__init__.py\" target=\"_blank\"><span style=\"color: #7f7f7f; text-decoration-color: #7f7f7f\">__init__.py</span></a><span style=\"color: #7f7f7f; text-decoration-color: #7f7f7f\">:</span><a href=\"file:///home/james/dev/drnb/src/drnb/neighbors/__init__.py#71\" target=\"_blank\"><span style=\"color: #7f7f7f; text-decoration-color: #7f7f7f\">71</span></a>\n",
       "</pre>\n"
      ],
      "text/plain": [
       "\u001b[2;36m          \u001b[0m\u001b[2;36m \u001b[0m\u001b[34mINFO    \u001b[0m Finding \u001b[1;36m151\u001b[0m neighbors using faiss with euclidean metric and params: \u001b[1m{\u001b[0m\u001b[1m}\u001b[0m           \u001b]8;id=297031;file:///home/james/dev/drnb/src/drnb/neighbors/__init__.py\u001b\\\u001b[2m__init__.py\u001b[0m\u001b]8;;\u001b\\\u001b[2m:\u001b[0m\u001b]8;id=589368;file:///home/james/dev/drnb/src/drnb/neighbors/__init__.py#71\u001b\\\u001b[2m71\u001b[0m\u001b]8;;\u001b\\\n"
      ]
     },
     "metadata": {},
     "output_type": "display_data"
    },
    {
     "data": {
      "text/html": [
       "<pre style=\"white-space:pre;overflow-x:auto;line-height:normal;font-family:Menlo,'DejaVu Sans Mono',consolas,'Courier New',monospace\"><span style=\"color: #7fbfbf; text-decoration-color: #7fbfbf\">           </span><span style=\"color: #000080; text-decoration-color: #000080\">INFO    </span> Calculating triplets                                                            <a href=\"file:///home/james/dev/drnb/src/drnb/io/pipeline.py\" target=\"_blank\"><span style=\"color: #7f7f7f; text-decoration-color: #7f7f7f\">pipeline.py</span></a><span style=\"color: #7f7f7f; text-decoration-color: #7f7f7f\">:</span><a href=\"file:///home/james/dev/drnb/src/drnb/io/pipeline.py#276\" target=\"_blank\"><span style=\"color: #7f7f7f; text-decoration-color: #7f7f7f\">276</span></a>\n",
       "</pre>\n"
      ],
      "text/plain": [
       "\u001b[2;36m          \u001b[0m\u001b[2;36m \u001b[0m\u001b[34mINFO    \u001b[0m Calculating triplets                                                            \u001b]8;id=567634;file:///home/james/dev/drnb/src/drnb/io/pipeline.py\u001b\\\u001b[2mpipeline.py\u001b[0m\u001b]8;;\u001b\\\u001b[2m:\u001b[0m\u001b]8;id=136985;file:///home/james/dev/drnb/src/drnb/io/pipeline.py#276\u001b\\\u001b[2m276\u001b[0m\u001b]8;;\u001b\\\n"
      ]
     },
     "metadata": {},
     "output_type": "display_data"
    },
    {
     "data": {
      "text/html": [
       "<pre style=\"white-space:pre;overflow-x:auto;line-height:normal;font-family:Menlo,'DejaVu Sans Mono',consolas,'Courier New',monospace\"><span style=\"color: #7fbfbf; text-decoration-color: #7fbfbf\">           </span><span style=\"color: #000080; text-decoration-color: #000080\">INFO    </span> Writing csv format to triplets/penguins.<span style=\"color: #008080; text-decoration-color: #008080; font-weight: bold\">5.1337</span>.idx.csv                          <a href=\"file:///home/james/dev/drnb/src/drnb/io/__init__.py\" target=\"_blank\"><span style=\"color: #7f7f7f; text-decoration-color: #7f7f7f\">__init__.py</span></a><span style=\"color: #7f7f7f; text-decoration-color: #7f7f7f\">:</span><a href=\"file:///home/james/dev/drnb/src/drnb/io/__init__.py#221\" target=\"_blank\"><span style=\"color: #7f7f7f; text-decoration-color: #7f7f7f\">221</span></a>\n",
       "</pre>\n"
      ],
      "text/plain": [
       "\u001b[2;36m          \u001b[0m\u001b[2;36m \u001b[0m\u001b[34mINFO    \u001b[0m Writing csv format to triplets/penguins.\u001b[1;36m5.1337\u001b[0m.idx.csv                          \u001b]8;id=16498;file:///home/james/dev/drnb/src/drnb/io/__init__.py\u001b\\\u001b[2m__init__.py\u001b[0m\u001b]8;;\u001b\\\u001b[2m:\u001b[0m\u001b]8;id=876833;file:///home/james/dev/drnb/src/drnb/io/__init__.py#221\u001b\\\u001b[2m221\u001b[0m\u001b]8;;\u001b\\\n"
      ]
     },
     "metadata": {},
     "output_type": "display_data"
    },
    {
     "data": {
      "text/html": [
       "<pre style=\"white-space:pre;overflow-x:auto;line-height:normal;font-family:Menlo,'DejaVu Sans Mono',consolas,'Courier New',monospace\"><span style=\"color: #7fbfbf; text-decoration-color: #7fbfbf\">           </span><span style=\"color: #000080; text-decoration-color: #000080\">INFO    </span> Writing csv format to triplets/penguins.<span style=\"color: #008080; text-decoration-color: #008080; font-weight: bold\">5.1337</span>.l2.csv                           <a href=\"file:///home/james/dev/drnb/src/drnb/io/__init__.py\" target=\"_blank\"><span style=\"color: #7f7f7f; text-decoration-color: #7f7f7f\">__init__.py</span></a><span style=\"color: #7f7f7f; text-decoration-color: #7f7f7f\">:</span><a href=\"file:///home/james/dev/drnb/src/drnb/io/__init__.py#221\" target=\"_blank\"><span style=\"color: #7f7f7f; text-decoration-color: #7f7f7f\">221</span></a>\n",
       "</pre>\n"
      ],
      "text/plain": [
       "\u001b[2;36m          \u001b[0m\u001b[2;36m \u001b[0m\u001b[34mINFO    \u001b[0m Writing csv format to triplets/penguins.\u001b[1;36m5.1337\u001b[0m.l2.csv                           \u001b]8;id=962346;file:///home/james/dev/drnb/src/drnb/io/__init__.py\u001b\\\u001b[2m__init__.py\u001b[0m\u001b]8;;\u001b\\\u001b[2m:\u001b[0m\u001b]8;id=965850;file:///home/james/dev/drnb/src/drnb/io/__init__.py#221\u001b\\\u001b[2m221\u001b[0m\u001b]8;;\u001b\\\n"
      ]
     },
     "metadata": {},
     "output_type": "display_data"
    },
    {
     "data": {
      "text/html": [
       "<pre style=\"white-space:pre;overflow-x:auto;line-height:normal;font-family:Menlo,'DejaVu Sans Mono',consolas,'Courier New',monospace\"><span style=\"color: #7fbfbf; text-decoration-color: #7fbfbf\">           </span><span style=\"color: #000080; text-decoration-color: #000080\">INFO    </span> Writing numpy format to triplets/penguins.<span style=\"color: #008080; text-decoration-color: #008080; font-weight: bold\">5.1337</span>.idx.npy                        <a href=\"file:///home/james/dev/drnb/src/drnb/io/__init__.py\" target=\"_blank\"><span style=\"color: #7f7f7f; text-decoration-color: #7f7f7f\">__init__.py</span></a><span style=\"color: #7f7f7f; text-decoration-color: #7f7f7f\">:</span><a href=\"file:///home/james/dev/drnb/src/drnb/io/__init__.py#244\" target=\"_blank\"><span style=\"color: #7f7f7f; text-decoration-color: #7f7f7f\">244</span></a>\n",
       "</pre>\n"
      ],
      "text/plain": [
       "\u001b[2;36m          \u001b[0m\u001b[2;36m \u001b[0m\u001b[34mINFO    \u001b[0m Writing numpy format to triplets/penguins.\u001b[1;36m5.1337\u001b[0m.idx.npy                        \u001b]8;id=56875;file:///home/james/dev/drnb/src/drnb/io/__init__.py\u001b\\\u001b[2m__init__.py\u001b[0m\u001b]8;;\u001b\\\u001b[2m:\u001b[0m\u001b]8;id=588483;file:///home/james/dev/drnb/src/drnb/io/__init__.py#244\u001b\\\u001b[2m244\u001b[0m\u001b]8;;\u001b\\\n"
      ]
     },
     "metadata": {},
     "output_type": "display_data"
    },
    {
     "data": {
      "text/html": [
       "<pre style=\"white-space:pre;overflow-x:auto;line-height:normal;font-family:Menlo,'DejaVu Sans Mono',consolas,'Courier New',monospace\"><span style=\"color: #7fbfbf; text-decoration-color: #7fbfbf\">           </span><span style=\"color: #000080; text-decoration-color: #000080\">INFO    </span> Writing numpy format to triplets/penguins.<span style=\"color: #008080; text-decoration-color: #008080; font-weight: bold\">5.1337</span>.l2.npy                         <a href=\"file:///home/james/dev/drnb/src/drnb/io/__init__.py\" target=\"_blank\"><span style=\"color: #7f7f7f; text-decoration-color: #7f7f7f\">__init__.py</span></a><span style=\"color: #7f7f7f; text-decoration-color: #7f7f7f\">:</span><a href=\"file:///home/james/dev/drnb/src/drnb/io/__init__.py#244\" target=\"_blank\"><span style=\"color: #7f7f7f; text-decoration-color: #7f7f7f\">244</span></a>\n",
       "</pre>\n"
      ],
      "text/plain": [
       "\u001b[2;36m          \u001b[0m\u001b[2;36m \u001b[0m\u001b[34mINFO    \u001b[0m Writing numpy format to triplets/penguins.\u001b[1;36m5.1337\u001b[0m.l2.npy                         \u001b]8;id=815586;file:///home/james/dev/drnb/src/drnb/io/__init__.py\u001b\\\u001b[2m__init__.py\u001b[0m\u001b]8;;\u001b\\\u001b[2m:\u001b[0m\u001b]8;id=556092;file:///home/james/dev/drnb/src/drnb/io/__init__.py#244\u001b\\\u001b[2m244\u001b[0m\u001b]8;;\u001b\\\n"
      ]
     },
     "metadata": {},
     "output_type": "display_data"
    },
    {
     "data": {
      "text/html": [
       "<pre style=\"white-space:pre;overflow-x:auto;line-height:normal;font-family:Menlo,'DejaVu Sans Mono',consolas,'Courier New',monospace\"><span style=\"color: #7fbfbf; text-decoration-color: #7fbfbf\">           </span><span style=\"color: #000080; text-decoration-color: #000080\">INFO    </span> Writing pipeline result for penguins                                            <a href=\"file:///home/james/dev/drnb/src/drnb/io/pipeline.py\" target=\"_blank\"><span style=\"color: #7f7f7f; text-decoration-color: #7f7f7f\">pipeline.py</span></a><span style=\"color: #7f7f7f; text-decoration-color: #7f7f7f\">:</span><a href=\"file:///home/james/dev/drnb/src/drnb/io/pipeline.py#128\" target=\"_blank\"><span style=\"color: #7f7f7f; text-decoration-color: #7f7f7f\">128</span></a>\n",
       "</pre>\n"
      ],
      "text/plain": [
       "\u001b[2;36m          \u001b[0m\u001b[2;36m \u001b[0m\u001b[34mINFO    \u001b[0m Writing pipeline result for penguins                                            \u001b]8;id=211320;file:///home/james/dev/drnb/src/drnb/io/pipeline.py\u001b\\\u001b[2mpipeline.py\u001b[0m\u001b]8;;\u001b\\\u001b[2m:\u001b[0m\u001b]8;id=445406;file:///home/james/dev/drnb/src/drnb/io/pipeline.py#128\u001b\\\u001b[2m128\u001b[0m\u001b]8;;\u001b\\\n"
      ]
     },
     "metadata": {},
     "output_type": "display_data"
    },
    {
     "name": "stdout",
     "output_type": "stream",
     "text": [
      "time: 825 ms (started: 2022-09-15 22:32:18 -07:00)\n"
     ]
    }
   ],
   "source": [
    "data_result = data_pipe.run(\n",
    "    \"penguins\",\n",
    "    data=penguins_raw,\n",
    "    data_cols=[\n",
    "        \"bill_length_mm\",\n",
    "        \"bill_depth_mm\",\n",
    "        \"flipper_length_mm\",\n",
    "        \"body_mass_g\",\n",
    "    ],\n",
    "    target_cols=[\"island\", \"sex\", \"species\"],\n",
    "    url=\"https://allisonhorst.github.io/palmerpenguins/\",\n",
    "    tags=[\"small\", \"lowdim\"],\n",
    "    verbose=True,\n",
    ")"
   ]
  },
  {
   "cell_type": "code",
   "execution_count": 5,
   "id": "b6c25aa7-ad86-43a4-b932-b53ea461a003",
   "metadata": {},
   "outputs": [
    {
     "name": "stdout",
     "output_type": "stream",
     "text": [
      "{\n",
      "    \"pipeline\": {\n",
      "        \"convert\": {\n",
      "            \"dtype\": \"float32\",\n",
      "            \"layout\": \"c\"\n",
      "        },\n",
      "        \"scale\": {\n",
      "            \"scale_type\": \"z\"\n",
      "        },\n",
      "        \"check_for_duplicates\": true,\n",
      "        \"reduce\": null,\n",
      "        \"reduce_result\": null,\n",
      "        \"drnb_home\": null,\n",
      "        \"data_sub_dir\": \"data\",\n",
      "        \"data_exporters\": [\n",
      "            {\n",
      "                \"drnb_home\": null,\n",
      "                \"sub_dir\": null,\n",
      "                \"suffix\": null,\n",
      "                \"create_sub_dir\": true,\n",
      "                \"verbose\": false,\n",
      "                \"file_type\": \"csv\"\n",
      "            },\n",
      "            {\n",
      "                \"drnb_home\": null,\n",
      "                \"sub_dir\": null,\n",
      "                \"suffix\": null,\n",
      "                \"create_sub_dir\": true,\n",
      "                \"verbose\": false,\n",
      "                \"file_type\": \"npy\"\n",
      "            }\n",
      "        ],\n",
      "        \"target_exporters\": [\n",
      "            {\n",
      "                \"drnb_home\": null,\n",
      "                \"sub_dir\": null,\n",
      "                \"suffix\": null,\n",
      "                \"create_sub_dir\": true,\n",
      "                \"verbose\": false,\n",
      "                \"file_type\": \"csv\"\n",
      "            },\n",
      "            {\n",
      "                \"drnb_home\": null,\n",
      "                \"sub_dir\": null,\n",
      "                \"suffix\": null,\n",
      "                \"create_sub_dir\": true,\n",
      "                \"verbose\": false,\n",
      "                \"file_type\": \"pkl\"\n",
      "            }\n",
      "        ],\n",
      "        \"neighbors_request\": {\n",
      "            \"n_neighbors\": [\n",
      "                16,\n",
      "                51,\n",
      "                151\n",
      "            ],\n",
      "            \"method\": \"exact\",\n",
      "            \"metric\": [\n",
      "                \"euclidean\"\n",
      "            ],\n",
      "            \"file_types\": [\n",
      "                \"csv\",\n",
      "                \"npy\"\n",
      "            ],\n",
      "            \"params\": {}\n",
      "        },\n",
      "        \"triplets_request\": {\n",
      "            \"n_triplets_per_point\": 5,\n",
      "            \"seed\": 1337,\n",
      "            \"file_types\": [\n",
      "                \"csv\",\n",
      "                \"npy\"\n",
      "            ]\n",
      "        },\n",
      "        \"verbose\": true\n",
      "    },\n",
      "    \"started_on\": 1663305938.707448,\n",
      "    \"created_on\": 1663305939.998983,\n",
      "    \"updated_on\": 1663305939.998983,\n",
      "    \"data_shape\": [\n",
      "        342,\n",
      "        4\n",
      "    ],\n",
      "    \"n_na_rows\": 2,\n",
      "    \"n_duplicates\": 0,\n",
      "    \"reduce_result\": null,\n",
      "    \"data_output_paths\": [\n",
      "        \"data/penguins-data.csv\",\n",
      "        \"data/penguins-data.npy\"\n",
      "    ],\n",
      "    \"target_shape\": [\n",
      "        342,\n",
      "        3\n",
      "    ],\n",
      "    \"target_output_paths\": [\n",
      "        \"data/penguins-target.csv\",\n",
      "        \"data/penguins-target.pkl\"\n",
      "    ],\n",
      "    \"neighbors_output_paths\": [\n",
      "        [\n",
      "            \"nn/penguins.16.euclidean.exact.faiss.idx.csv\",\n",
      "            \"nn/penguins.16.euclidean.exact.faiss.idx.npy\",\n",
      "            \"nn/penguins.16.euclidean.exact.faiss.dist.csv\",\n",
      "            \"nn/penguins.16.euclidean.exact.faiss.dist.npy\"\n",
      "        ],\n",
      "        [\n",
      "            \"nn/penguins.51.euclidean.exact.faiss.idx.csv\",\n",
      "            \"nn/penguins.51.euclidean.exact.faiss.idx.npy\",\n",
      "            \"nn/penguins.51.euclidean.exact.faiss.dist.csv\",\n",
      "            \"nn/penguins.51.euclidean.exact.faiss.dist.npy\"\n",
      "        ],\n",
      "        [\n",
      "            \"nn/penguins.151.euclidean.exact.faiss.idx.csv\",\n",
      "            \"nn/penguins.151.euclidean.exact.faiss.idx.npy\",\n",
      "            \"nn/penguins.151.euclidean.exact.faiss.dist.csv\",\n",
      "            \"nn/penguins.151.euclidean.exact.faiss.dist.npy\"\n",
      "        ]\n",
      "    ],\n",
      "    \"triplets_output_paths\": [\n",
      "        \"triplets/penguins.5.1337.idx.csv\",\n",
      "        \"triplets/penguins.5.1337.idx.npy\",\n",
      "        \"triplets/penguins.5.1337.l2.csv\",\n",
      "        \"triplets/penguins.5.1337.l2.npy\"\n",
      "    ],\n",
      "    \"url\": \"https://allisonhorst.github.io/palmerpenguins/\",\n",
      "    \"tags\": [\n",
      "        \"small\"\n",
      "    ],\n",
      "    \"data_cols\": [\n",
      "        \"bill_length_mm\",\n",
      "        \"bill_depth_mm\",\n",
      "        \"flipper_length_mm\",\n",
      "        \"body_mass_g\"\n",
      "    ],\n",
      "    \"target_cols\": [\n",
      "        \"island\",\n",
      "        \"sex\",\n",
      "        \"species\"\n",
      "    ]\n",
      "}\n",
      "time: 1.19 ms (started: 2022-09-15 22:25:40 -07:00)\n"
     ]
    }
   ],
   "source": [
    "print(data_result.to_json(indent=4))"
   ]
  },
  {
   "cell_type": "code",
   "execution_count": null,
   "id": "a26ff883-03d9-482e-9b8a-5bceda3ee043",
   "metadata": {},
   "outputs": [],
   "source": []
  }
 ],
 "metadata": {
  "kernelspec": {
   "display_name": "Python 3 (ipykernel)",
   "language": "python",
   "name": "python3"
  },
  "language_info": {
   "codemirror_mode": {
    "name": "ipython",
    "version": 3
   },
   "file_extension": ".py",
   "mimetype": "text/x-python",
   "name": "python",
   "nbconvert_exporter": "python",
   "pygments_lexer": "ipython3",
   "version": "3.10.4"
  }
 },
 "nbformat": 4,
 "nbformat_minor": 5
}
