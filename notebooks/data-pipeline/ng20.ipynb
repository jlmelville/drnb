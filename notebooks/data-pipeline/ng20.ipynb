{
 "cells": [
  {
   "cell_type": "code",
   "execution_count": 1,
   "id": "970312c0-e6d5-410a-b27e-ca17a8b38180",
   "metadata": {
    "tags": []
   },
   "outputs": [
    {
     "name": "stdout",
     "output_type": "stream",
     "text": [
      "time: 258 ms (started: 2022-09-15 23:30:53 -07:00)\n"
     ]
    }
   ],
   "source": [
    "%load_ext lab_black\n",
    "%load_ext autotime\n",
    "import pandas as pd\n",
    "import numpy as np"
   ]
  },
  {
   "cell_type": "markdown",
   "id": "c7a57006-f002-4e62-90c0-f98a07de40d8",
   "metadata": {},
   "source": [
    "The [20 Newsgroups dataset](http://qwone.com/~jason/20Newsgroups/). This treatment is based on the material in <https://umap-learn.readthedocs.io/en/latest/sparse.html>, which leaves the data sparse. Not all dimensionality reduction methods can handle sparse data, so it will be converted to a 3000D dense matrix via PCA. **Warning**: the truncated SVD will cause this notebook to take up a fair bit of RAM (around 11GB)."
   ]
  },
  {
   "cell_type": "code",
   "execution_count": 2,
   "id": "d578564d-db3c-43dd-99af-a6e55d5b23df",
   "metadata": {},
   "outputs": [
    {
     "name": "stdout",
     "output_type": "stream",
     "text": [
      "time: 1.21 s (started: 2022-09-15 23:30:53 -07:00)\n"
     ]
    }
   ],
   "source": [
    "import sklearn.datasets\n",
    "import sklearn.feature_extraction.text\n",
    "\n",
    "ng20v = sklearn.datasets.fetch_20newsgroups_vectorized(subset=\"all\")\n",
    "ng20tfidf = sklearn.feature_extraction.text.TfidfTransformer(norm=\"l1\").fit_transform(\n",
    "    ng20v.data\n",
    ")"
   ]
  },
  {
   "cell_type": "code",
   "execution_count": 3,
   "id": "596bc1ad-75c1-4bfe-ae45-ca4284c18d7b",
   "metadata": {},
   "outputs": [
    {
     "data": {
      "text/plain": [
       "(18846, 130107)"
      ]
     },
     "execution_count": 3,
     "metadata": {},
     "output_type": "execute_result"
    },
    {
     "name": "stdout",
     "output_type": "stream",
     "text": [
      "time: 7.13 ms (started: 2022-09-15 23:30:54 -07:00)\n"
     ]
    }
   ],
   "source": [
    "ng20tfidf.shape"
   ]
  },
  {
   "cell_type": "code",
   "execution_count": 4,
   "id": "016f5e2c-1ce2-4c50-92a6-058ef6e38db2",
   "metadata": {},
   "outputs": [
    {
     "data": {
      "text/plain": [
       "<18846x130107 sparse matrix of type '<class 'numpy.float64'>'\n",
       "\twith 2895521 stored elements in Compressed Sparse Row format>"
      ]
     },
     "execution_count": 4,
     "metadata": {},
     "output_type": "execute_result"
    },
    {
     "name": "stdout",
     "output_type": "stream",
     "text": [
      "time: 11.4 ms (started: 2022-09-15 23:30:54 -07:00)\n"
     ]
    }
   ],
   "source": [
    "ng20tfidf"
   ]
  },
  {
   "cell_type": "code",
   "execution_count": 5,
   "id": "d36cb98c-9036-44bb-93c3-309ab217765b",
   "metadata": {},
   "outputs": [
    {
     "name": "stdout",
     "output_type": "stream",
     "text": [
      "time: 33.4 ms (started: 2022-09-15 23:30:54 -07:00)\n"
     ]
    }
   ],
   "source": [
    "import sklearn.decomposition"
   ]
  },
  {
   "cell_type": "markdown",
   "id": "8d8755da-26e2-4003-af37-b3aa9380b339",
   "metadata": {},
   "source": [
    "Apart from eating up a fair bit of RAM, this next step is also pretty slow (around ten minutes on my machine):"
   ]
  },
  {
   "cell_type": "code",
   "execution_count": 6,
   "id": "dbcb2507-3052-4359-90e6-c78c86d1cb97",
   "metadata": {},
   "outputs": [
    {
     "name": "stdout",
     "output_type": "stream",
     "text": [
      "time: 9min 18s (started: 2022-09-15 23:30:54 -07:00)\n"
     ]
    }
   ],
   "source": [
    "tsvd = sklearn.decomposition.TruncatedSVD(n_components=3000).fit(ng20tfidf)"
   ]
  },
  {
   "cell_type": "markdown",
   "id": "b35865de-de13-4cb3-b8d2-765dad9c1e02",
   "metadata": {},
   "source": [
    "How much variance does 3000 components explain?"
   ]
  },
  {
   "cell_type": "code",
   "execution_count": 7,
   "id": "77551609-b8b8-41b9-b7ec-e83e33a6e885",
   "metadata": {},
   "outputs": [
    {
     "data": {
      "text/plain": [
       "0.7099497001717341"
      ]
     },
     "execution_count": 7,
     "metadata": {},
     "output_type": "execute_result"
    },
    {
     "name": "stdout",
     "output_type": "stream",
     "text": [
      "time: 3.86 ms (started: 2022-09-15 23:40:13 -07:00)\n"
     ]
    }
   ],
   "source": [
    "np.sum(tsvd.explained_variance_ratio_)"
   ]
  },
  {
   "cell_type": "markdown",
   "id": "294c6c6e-294a-451a-a123-56923d42c8f2",
   "metadata": {},
   "source": [
    "71%? Not terrible."
   ]
  },
  {
   "cell_type": "code",
   "execution_count": 8,
   "id": "f3424a42-1697-4276-b136-790c0fae9c14",
   "metadata": {},
   "outputs": [
    {
     "name": "stdout",
     "output_type": "stream",
     "text": [
      "time: 6.23 s (started: 2022-09-15 23:40:13 -07:00)\n"
     ]
    }
   ],
   "source": [
    "data = tsvd.transform(ng20tfidf)"
   ]
  },
  {
   "cell_type": "code",
   "execution_count": 9,
   "id": "4a09dfee-9677-436e-9fd0-ecda0373fd5f",
   "metadata": {},
   "outputs": [
    {
     "data": {
      "text/plain": [
       "['alt.atheism',\n",
       " 'comp.graphics',\n",
       " 'comp.os.ms-windows.misc',\n",
       " 'comp.sys.ibm.pc.hardware',\n",
       " 'comp.sys.mac.hardware',\n",
       " 'comp.windows.x',\n",
       " 'misc.forsale',\n",
       " 'rec.autos',\n",
       " 'rec.motorcycles',\n",
       " 'rec.sport.baseball',\n",
       " 'rec.sport.hockey',\n",
       " 'sci.crypt',\n",
       " 'sci.electronics',\n",
       " 'sci.med',\n",
       " 'sci.space',\n",
       " 'soc.religion.christian',\n",
       " 'talk.politics.guns',\n",
       " 'talk.politics.mideast',\n",
       " 'talk.politics.misc',\n",
       " 'talk.religion.misc']"
      ]
     },
     "execution_count": 9,
     "metadata": {},
     "output_type": "execute_result"
    },
    {
     "name": "stdout",
     "output_type": "stream",
     "text": [
      "time: 3.91 ms (started: 2022-09-15 23:40:19 -07:00)\n"
     ]
    }
   ],
   "source": [
    "ng20v.target_names"
   ]
  },
  {
   "cell_type": "code",
   "execution_count": 10,
   "id": "f2de2c3e-9863-4b21-b0c4-fa8127f7412c",
   "metadata": {},
   "outputs": [
    {
     "data": {
      "text/plain": [
       "array([17,  7, 10, ..., 10, 18,  9])"
      ]
     },
     "execution_count": 10,
     "metadata": {},
     "output_type": "execute_result"
    },
    {
     "name": "stdout",
     "output_type": "stream",
     "text": [
      "time: 4.46 ms (started: 2022-09-15 23:40:19 -07:00)\n"
     ]
    }
   ],
   "source": [
    "ng20v.target"
   ]
  },
  {
   "cell_type": "code",
   "execution_count": 11,
   "id": "5dc221c2-3591-4b3f-952c-2a94a2321964",
   "metadata": {},
   "outputs": [
    {
     "name": "stdout",
     "output_type": "stream",
     "text": [
      "time: 6.63 ms (started: 2022-09-15 23:40:19 -07:00)\n"
     ]
    }
   ],
   "source": [
    "description = pd.Series(\n",
    "    list(map(ng20v.target_names.__getitem__, ng20v.target.astype(int))),\n",
    "    name=\"description\",\n",
    ")"
   ]
  },
  {
   "cell_type": "code",
   "execution_count": 12,
   "id": "22496d1d-2b7a-4767-94cd-29c162dccb27",
   "metadata": {},
   "outputs": [
    {
     "data": {
      "text/plain": [
       "0        talk.politics.mideast\n",
       "1                    rec.autos\n",
       "2             rec.sport.hockey\n",
       "3             rec.sport.hockey\n",
       "4                    rec.autos\n",
       "                 ...          \n",
       "18841       talk.politics.misc\n",
       "18842       talk.politics.guns\n",
       "18843         rec.sport.hockey\n",
       "18844       talk.politics.misc\n",
       "18845       rec.sport.baseball\n",
       "Name: description, Length: 18846, dtype: object"
      ]
     },
     "execution_count": 12,
     "metadata": {},
     "output_type": "execute_result"
    },
    {
     "name": "stdout",
     "output_type": "stream",
     "text": [
      "time: 12.5 ms (started: 2022-09-15 23:40:19 -07:00)\n"
     ]
    }
   ],
   "source": [
    "description"
   ]
  },
  {
   "cell_type": "code",
   "execution_count": 13,
   "id": "cbed46d7-94cd-4d95-b5d1-b277e57ea66d",
   "metadata": {},
   "outputs": [
    {
     "name": "stdout",
     "output_type": "stream",
     "text": [
      "time: 2.93 ms (started: 2022-09-15 23:40:19 -07:00)\n"
     ]
    }
   ],
   "source": [
    "target = pd.concat([pd.Series(ng20v.target, name=\"class\"), description], axis=1)"
   ]
  },
  {
   "cell_type": "code",
   "execution_count": 14,
   "id": "6390c20e-9e2a-4e71-b0b2-c6ab57a8027a",
   "metadata": {},
   "outputs": [
    {
     "data": {
      "text/html": [
       "<div>\n",
       "<style scoped>\n",
       "    .dataframe tbody tr th:only-of-type {\n",
       "        vertical-align: middle;\n",
       "    }\n",
       "\n",
       "    .dataframe tbody tr th {\n",
       "        vertical-align: top;\n",
       "    }\n",
       "\n",
       "    .dataframe thead th {\n",
       "        text-align: right;\n",
       "    }\n",
       "</style>\n",
       "<table border=\"1\" class=\"dataframe\">\n",
       "  <thead>\n",
       "    <tr style=\"text-align: right;\">\n",
       "      <th></th>\n",
       "      <th>class</th>\n",
       "      <th>description</th>\n",
       "    </tr>\n",
       "  </thead>\n",
       "  <tbody>\n",
       "    <tr>\n",
       "      <th>0</th>\n",
       "      <td>17</td>\n",
       "      <td>talk.politics.mideast</td>\n",
       "    </tr>\n",
       "    <tr>\n",
       "      <th>1</th>\n",
       "      <td>7</td>\n",
       "      <td>rec.autos</td>\n",
       "    </tr>\n",
       "    <tr>\n",
       "      <th>2</th>\n",
       "      <td>10</td>\n",
       "      <td>rec.sport.hockey</td>\n",
       "    </tr>\n",
       "    <tr>\n",
       "      <th>3</th>\n",
       "      <td>10</td>\n",
       "      <td>rec.sport.hockey</td>\n",
       "    </tr>\n",
       "    <tr>\n",
       "      <th>4</th>\n",
       "      <td>7</td>\n",
       "      <td>rec.autos</td>\n",
       "    </tr>\n",
       "    <tr>\n",
       "      <th>...</th>\n",
       "      <td>...</td>\n",
       "      <td>...</td>\n",
       "    </tr>\n",
       "    <tr>\n",
       "      <th>18841</th>\n",
       "      <td>18</td>\n",
       "      <td>talk.politics.misc</td>\n",
       "    </tr>\n",
       "    <tr>\n",
       "      <th>18842</th>\n",
       "      <td>16</td>\n",
       "      <td>talk.politics.guns</td>\n",
       "    </tr>\n",
       "    <tr>\n",
       "      <th>18843</th>\n",
       "      <td>10</td>\n",
       "      <td>rec.sport.hockey</td>\n",
       "    </tr>\n",
       "    <tr>\n",
       "      <th>18844</th>\n",
       "      <td>18</td>\n",
       "      <td>talk.politics.misc</td>\n",
       "    </tr>\n",
       "    <tr>\n",
       "      <th>18845</th>\n",
       "      <td>9</td>\n",
       "      <td>rec.sport.baseball</td>\n",
       "    </tr>\n",
       "  </tbody>\n",
       "</table>\n",
       "<p>18846 rows × 2 columns</p>\n",
       "</div>"
      ],
      "text/plain": [
       "       class            description\n",
       "0         17  talk.politics.mideast\n",
       "1          7              rec.autos\n",
       "2         10       rec.sport.hockey\n",
       "3         10       rec.sport.hockey\n",
       "4          7              rec.autos\n",
       "...      ...                    ...\n",
       "18841     18     talk.politics.misc\n",
       "18842     16     talk.politics.guns\n",
       "18843     10       rec.sport.hockey\n",
       "18844     18     talk.politics.misc\n",
       "18845      9     rec.sport.baseball\n",
       "\n",
       "[18846 rows x 2 columns]"
      ]
     },
     "execution_count": 14,
     "metadata": {},
     "output_type": "execute_result"
    },
    {
     "name": "stdout",
     "output_type": "stream",
     "text": [
      "time: 13.9 ms (started: 2022-09-15 23:40:19 -07:00)\n"
     ]
    }
   ],
   "source": [
    "target"
   ]
  },
  {
   "cell_type": "markdown",
   "id": "bb7d2701-87d5-408f-b7a7-297bda0b7ac5",
   "metadata": {},
   "source": [
    "## Pipeline"
   ]
  },
  {
   "cell_type": "code",
   "execution_count": 15,
   "id": "ca318067-786d-4d4f-936a-ff2f7f932ead",
   "metadata": {},
   "outputs": [
    {
     "data": {
      "text/html": [
       "<pre style=\"white-space:pre;overflow-x:auto;line-height:normal;font-family:Menlo,'DejaVu Sans Mono',consolas,'Courier New',monospace\"><span style=\"color: #7fbfbf; text-decoration-color: #7fbfbf\">[23:40:23] </span><span style=\"color: #000080; text-decoration-color: #000080\">INFO    </span> Requesting one extra neighbor to account for self-neighbor                      <a href=\"file:///home/james/dev/drnb/src/drnb/io/pipeline.py\" target=\"_blank\"><span style=\"color: #7f7f7f; text-decoration-color: #7f7f7f\">pipeline.py</span></a><span style=\"color: #7f7f7f; text-decoration-color: #7f7f7f\">:</span><a href=\"file:///home/james/dev/drnb/src/drnb/io/pipeline.py#392\" target=\"_blank\"><span style=\"color: #7f7f7f; text-decoration-color: #7f7f7f\">392</span></a>\n",
       "</pre>\n"
      ],
      "text/plain": [
       "\u001b[2;36m[23:40:23]\u001b[0m\u001b[2;36m \u001b[0m\u001b[34mINFO    \u001b[0m Requesting one extra neighbor to account for self-neighbor                      \u001b]8;id=440513;file:///home/james/dev/drnb/src/drnb/io/pipeline.py\u001b\\\u001b[2mpipeline.py\u001b[0m\u001b]8;;\u001b\\\u001b[2m:\u001b[0m\u001b]8;id=722540;file:///home/james/dev/drnb/src/drnb/io/pipeline.py#392\u001b\\\u001b[2m392\u001b[0m\u001b]8;;\u001b\\\n"
      ]
     },
     "metadata": {},
     "output_type": "display_data"
    },
    {
     "data": {
      "text/html": [
       "<pre style=\"white-space:pre;overflow-x:auto;line-height:normal;font-family:Menlo,'DejaVu Sans Mono',consolas,'Courier New',monospace\"><span style=\"color: #7fbfbf; text-decoration-color: #7fbfbf\">           </span><span style=\"color: #000080; text-decoration-color: #000080\">INFO    </span> Initial data shape: <span style=\"font-weight: bold\">(</span><span style=\"color: #008080; text-decoration-color: #008080; font-weight: bold\">18846</span>, <span style=\"color: #008080; text-decoration-color: #008080; font-weight: bold\">3000</span><span style=\"font-weight: bold\">)</span>                                                <a href=\"file:///home/james/dev/drnb/src/drnb/io/pipeline.py\" target=\"_blank\"><span style=\"color: #7f7f7f; text-decoration-color: #7f7f7f\">pipeline.py</span></a><span style=\"color: #7f7f7f; text-decoration-color: #7f7f7f\">:</span><a href=\"file:///home/james/dev/drnb/src/drnb/io/pipeline.py#80\" target=\"_blank\"><span style=\"color: #7f7f7f; text-decoration-color: #7f7f7f\">80</span></a>\n",
       "</pre>\n"
      ],
      "text/plain": [
       "\u001b[2;36m          \u001b[0m\u001b[2;36m \u001b[0m\u001b[34mINFO    \u001b[0m Initial data shape: \u001b[1m(\u001b[0m\u001b[1;36m18846\u001b[0m, \u001b[1;36m3000\u001b[0m\u001b[1m)\u001b[0m                                                \u001b]8;id=850243;file:///home/james/dev/drnb/src/drnb/io/pipeline.py\u001b\\\u001b[2mpipeline.py\u001b[0m\u001b]8;;\u001b\\\u001b[2m:\u001b[0m\u001b]8;id=102540;file:///home/james/dev/drnb/src/drnb/io/pipeline.py#80\u001b\\\u001b[2m80\u001b[0m\u001b]8;;\u001b\\\n"
      ]
     },
     "metadata": {},
     "output_type": "display_data"
    },
    {
     "data": {
      "text/html": [
       "<pre style=\"white-space:pre;overflow-x:auto;line-height:normal;font-family:Menlo,'DejaVu Sans Mono',consolas,'Courier New',monospace\"><span style=\"color: #7fbfbf; text-decoration-color: #7fbfbf\">           </span><span style=\"color: #000080; text-decoration-color: #000080\">INFO    </span> Keeping all columns                                                            <a href=\"file:///home/james/dev/drnb/src/drnb/preprocess.py\" target=\"_blank\"><span style=\"color: #7f7f7f; text-decoration-color: #7f7f7f\">preprocess.py</span></a><span style=\"color: #7f7f7f; text-decoration-color: #7f7f7f\">:</span><a href=\"file:///home/james/dev/drnb/src/drnb/preprocess.py#62\" target=\"_blank\"><span style=\"color: #7f7f7f; text-decoration-color: #7f7f7f\">62</span></a>\n",
       "</pre>\n"
      ],
      "text/plain": [
       "\u001b[2;36m          \u001b[0m\u001b[2;36m \u001b[0m\u001b[34mINFO    \u001b[0m Keeping all columns                                                            \u001b]8;id=156241;file:///home/james/dev/drnb/src/drnb/preprocess.py\u001b\\\u001b[2mpreprocess.py\u001b[0m\u001b]8;;\u001b\\\u001b[2m:\u001b[0m\u001b]8;id=949413;file:///home/james/dev/drnb/src/drnb/preprocess.py#62\u001b\\\u001b[2m62\u001b[0m\u001b]8;;\u001b\\\n"
      ]
     },
     "metadata": {},
     "output_type": "display_data"
    },
    {
     "data": {
      "text/html": [
       "<pre style=\"white-space:pre;overflow-x:auto;line-height:normal;font-family:Menlo,'DejaVu Sans Mono',consolas,'Courier New',monospace\"><span style=\"color: #7fbfbf; text-decoration-color: #7fbfbf\">           </span><span style=\"color: #000080; text-decoration-color: #000080\">INFO    </span> Data shape after filtering columns: <span style=\"font-weight: bold\">(</span><span style=\"color: #008080; text-decoration-color: #008080; font-weight: bold\">18846</span>, <span style=\"color: #008080; text-decoration-color: #008080; font-weight: bold\">3000</span><span style=\"font-weight: bold\">)</span>                               <a href=\"file:///home/james/dev/drnb/src/drnb/io/pipeline.py\" target=\"_blank\"><span style=\"color: #7f7f7f; text-decoration-color: #7f7f7f\">pipeline.py</span></a><span style=\"color: #7f7f7f; text-decoration-color: #7f7f7f\">:</span><a href=\"file:///home/james/dev/drnb/src/drnb/io/pipeline.py#151\" target=\"_blank\"><span style=\"color: #7f7f7f; text-decoration-color: #7f7f7f\">151</span></a>\n",
       "</pre>\n"
      ],
      "text/plain": [
       "\u001b[2;36m          \u001b[0m\u001b[2;36m \u001b[0m\u001b[34mINFO    \u001b[0m Data shape after filtering columns: \u001b[1m(\u001b[0m\u001b[1;36m18846\u001b[0m, \u001b[1;36m3000\u001b[0m\u001b[1m)\u001b[0m                               \u001b]8;id=372940;file:///home/james/dev/drnb/src/drnb/io/pipeline.py\u001b\\\u001b[2mpipeline.py\u001b[0m\u001b]8;;\u001b\\\u001b[2m:\u001b[0m\u001b]8;id=852381;file:///home/james/dev/drnb/src/drnb/io/pipeline.py#151\u001b\\\u001b[2m151\u001b[0m\u001b]8;;\u001b\\\n"
      ]
     },
     "metadata": {},
     "output_type": "display_data"
    },
    {
     "data": {
      "text/html": [
       "<pre style=\"white-space:pre;overflow-x:auto;line-height:normal;font-family:Menlo,'DejaVu Sans Mono',consolas,'Courier New',monospace\"><span style=\"color: #7fbfbf; text-decoration-color: #7fbfbf\">           </span><span style=\"color: #000080; text-decoration-color: #000080\">INFO    </span> Removing rows with NAs                                                          <a href=\"file:///home/james/dev/drnb/src/drnb/io/pipeline.py\" target=\"_blank\"><span style=\"color: #7f7f7f; text-decoration-color: #7f7f7f\">pipeline.py</span></a><span style=\"color: #7f7f7f; text-decoration-color: #7f7f7f\">:</span><a href=\"file:///home/james/dev/drnb/src/drnb/io/pipeline.py#135\" target=\"_blank\"><span style=\"color: #7f7f7f; text-decoration-color: #7f7f7f\">135</span></a>\n",
       "</pre>\n"
      ],
      "text/plain": [
       "\u001b[2;36m          \u001b[0m\u001b[2;36m \u001b[0m\u001b[34mINFO    \u001b[0m Removing rows with NAs                                                          \u001b]8;id=206447;file:///home/james/dev/drnb/src/drnb/io/pipeline.py\u001b\\\u001b[2mpipeline.py\u001b[0m\u001b]8;;\u001b\\\u001b[2m:\u001b[0m\u001b]8;id=828616;file:///home/james/dev/drnb/src/drnb/io/pipeline.py#135\u001b\\\u001b[2m135\u001b[0m\u001b]8;;\u001b\\\n"
      ]
     },
     "metadata": {},
     "output_type": "display_data"
    },
    {
     "data": {
      "text/html": [
       "<pre style=\"white-space:pre;overflow-x:auto;line-height:normal;font-family:Menlo,'DejaVu Sans Mono',consolas,'Courier New',monospace\"><span style=\"color: #7fbfbf; text-decoration-color: #7fbfbf\">           </span><span style=\"color: #000080; text-decoration-color: #000080\">INFO    </span> Data shape after filtering NAs: <span style=\"font-weight: bold\">(</span><span style=\"color: #008080; text-decoration-color: #008080; font-weight: bold\">18846</span>, <span style=\"color: #008080; text-decoration-color: #008080; font-weight: bold\">3000</span><span style=\"font-weight: bold\">)</span>                                   <a href=\"file:///home/james/dev/drnb/src/drnb/io/pipeline.py\" target=\"_blank\"><span style=\"color: #7f7f7f; text-decoration-color: #7f7f7f\">pipeline.py</span></a><span style=\"color: #7f7f7f; text-decoration-color: #7f7f7f\">:</span><a href=\"file:///home/james/dev/drnb/src/drnb/io/pipeline.py#146\" target=\"_blank\"><span style=\"color: #7f7f7f; text-decoration-color: #7f7f7f\">146</span></a>\n",
       "</pre>\n"
      ],
      "text/plain": [
       "\u001b[2;36m          \u001b[0m\u001b[2;36m \u001b[0m\u001b[34mINFO    \u001b[0m Data shape after filtering NAs: \u001b[1m(\u001b[0m\u001b[1;36m18846\u001b[0m, \u001b[1;36m3000\u001b[0m\u001b[1m)\u001b[0m                                   \u001b]8;id=959117;file:///home/james/dev/drnb/src/drnb/io/pipeline.py\u001b\\\u001b[2mpipeline.py\u001b[0m\u001b]8;;\u001b\\\u001b[2m:\u001b[0m\u001b]8;id=595303;file:///home/james/dev/drnb/src/drnb/io/pipeline.py#146\u001b\\\u001b[2m146\u001b[0m\u001b]8;;\u001b\\\n"
      ]
     },
     "metadata": {},
     "output_type": "display_data"
    },
    {
     "data": {
      "text/html": [
       "<pre style=\"white-space:pre;overflow-x:auto;line-height:normal;font-family:Menlo,'DejaVu Sans Mono',consolas,'Courier New',monospace\"><span style=\"color: #7fbfbf; text-decoration-color: #7fbfbf\">[23:40:24] </span><span style=\"color: #000080; text-decoration-color: #000080\">INFO    </span> Checked for duplicates: found <span style=\"color: #008080; text-decoration-color: #008080; font-weight: bold\">5</span>                                                 <a href=\"file:///home/james/dev/drnb/src/drnb/io/pipeline.py\" target=\"_blank\"><span style=\"color: #7f7f7f; text-decoration-color: #7f7f7f\">pipeline.py</span></a><span style=\"color: #7f7f7f; text-decoration-color: #7f7f7f\">:</span><a href=\"file:///home/james/dev/drnb/src/drnb/io/pipeline.py#158\" target=\"_blank\"><span style=\"color: #7f7f7f; text-decoration-color: #7f7f7f\">158</span></a>\n",
       "</pre>\n"
      ],
      "text/plain": [
       "\u001b[2;36m[23:40:24]\u001b[0m\u001b[2;36m \u001b[0m\u001b[34mINFO    \u001b[0m Checked for duplicates: found \u001b[1;36m5\u001b[0m                                                 \u001b]8;id=422691;file:///home/james/dev/drnb/src/drnb/io/pipeline.py\u001b\\\u001b[2mpipeline.py\u001b[0m\u001b]8;;\u001b\\\u001b[2m:\u001b[0m\u001b]8;id=496381;file:///home/james/dev/drnb/src/drnb/io/pipeline.py#158\u001b\\\u001b[2m158\u001b[0m\u001b]8;;\u001b\\\n"
      ]
     },
     "metadata": {},
     "output_type": "display_data"
    },
    {
     "data": {
      "text/html": [
       "<pre style=\"white-space:pre;overflow-x:auto;line-height:normal;font-family:Menlo,'DejaVu Sans Mono',consolas,'Courier New',monospace\"><span style=\"color: #7fbfbf; text-decoration-color: #7fbfbf\">           </span><span style=\"color: #000080; text-decoration-color: #000080\">INFO    </span> No scaling                                                                     <a href=\"file:///home/james/dev/drnb/src/drnb/preprocess.py\" target=\"_blank\"><span style=\"color: #7f7f7f; text-decoration-color: #7f7f7f\">preprocess.py</span></a><span style=\"color: #7f7f7f; text-decoration-color: #7f7f7f\">:</span><a href=\"file:///home/james/dev/drnb/src/drnb/preprocess.py#25\" target=\"_blank\"><span style=\"color: #7f7f7f; text-decoration-color: #7f7f7f\">25</span></a>\n",
       "</pre>\n"
      ],
      "text/plain": [
       "\u001b[2;36m          \u001b[0m\u001b[2;36m \u001b[0m\u001b[34mINFO    \u001b[0m No scaling                                                                     \u001b]8;id=596504;file:///home/james/dev/drnb/src/drnb/preprocess.py\u001b\\\u001b[2mpreprocess.py\u001b[0m\u001b]8;;\u001b\\\u001b[2m:\u001b[0m\u001b]8;id=842397;file:///home/james/dev/drnb/src/drnb/preprocess.py#25\u001b\\\u001b[2m25\u001b[0m\u001b]8;;\u001b\\\n"
      ]
     },
     "metadata": {},
     "output_type": "display_data"
    },
    {
     "data": {
      "text/html": [
       "<pre style=\"white-space:pre;overflow-x:auto;line-height:normal;font-family:Menlo,'DejaVu Sans Mono',consolas,'Courier New',monospace\"><span style=\"color: #7fbfbf; text-decoration-color: #7fbfbf\">           </span><span style=\"color: #000080; text-decoration-color: #000080\">INFO    </span> Converting to numpy with <span style=\"font-weight: bold\">{</span><span style=\"color: #008000; text-decoration-color: #008000\">'dtype'</span>: <span style=\"color: #008000; text-decoration-color: #008000\">'float32'</span>, <span style=\"color: #008000; text-decoration-color: #008000\">'layout'</span>: <span style=\"color: #008000; text-decoration-color: #008000\">'c'</span><span style=\"font-weight: bold\">}</span>                    <a href=\"file:///home/james/dev/drnb/src/drnb/io/pipeline.py\" target=\"_blank\"><span style=\"color: #7f7f7f; text-decoration-color: #7f7f7f\">pipeline.py</span></a><span style=\"color: #7f7f7f; text-decoration-color: #7f7f7f\">:</span><a href=\"file:///home/james/dev/drnb/src/drnb/io/pipeline.py#163\" target=\"_blank\"><span style=\"color: #7f7f7f; text-decoration-color: #7f7f7f\">163</span></a>\n",
       "</pre>\n"
      ],
      "text/plain": [
       "\u001b[2;36m          \u001b[0m\u001b[2;36m \u001b[0m\u001b[34mINFO    \u001b[0m Converting to numpy with \u001b[1m{\u001b[0m\u001b[32m'dtype'\u001b[0m: \u001b[32m'float32'\u001b[0m, \u001b[32m'layout'\u001b[0m: \u001b[32m'c'\u001b[0m\u001b[1m}\u001b[0m                    \u001b]8;id=404728;file:///home/james/dev/drnb/src/drnb/io/pipeline.py\u001b\\\u001b[2mpipeline.py\u001b[0m\u001b]8;;\u001b\\\u001b[2m:\u001b[0m\u001b]8;id=993826;file:///home/james/dev/drnb/src/drnb/io/pipeline.py#163\u001b\\\u001b[2m163\u001b[0m\u001b]8;;\u001b\\\n"
      ]
     },
     "metadata": {},
     "output_type": "display_data"
    },
    {
     "data": {
      "text/html": [
       "<pre style=\"white-space:pre;overflow-x:auto;line-height:normal;font-family:Menlo,'DejaVu Sans Mono',consolas,'Courier New',monospace\"><span style=\"color: #7fbfbf; text-decoration-color: #7fbfbf\">           </span><span style=\"color: #000080; text-decoration-color: #000080\">INFO    </span> Writing data for ng20                                                           <a href=\"file:///home/james/dev/drnb/src/drnb/io/pipeline.py\" target=\"_blank\"><span style=\"color: #7f7f7f; text-decoration-color: #7f7f7f\">pipeline.py</span></a><span style=\"color: #7f7f7f; text-decoration-color: #7f7f7f\">:</span><a href=\"file:///home/james/dev/drnb/src/drnb/io/pipeline.py#225\" target=\"_blank\"><span style=\"color: #7f7f7f; text-decoration-color: #7f7f7f\">225</span></a>\n",
       "</pre>\n"
      ],
      "text/plain": [
       "\u001b[2;36m          \u001b[0m\u001b[2;36m \u001b[0m\u001b[34mINFO    \u001b[0m Writing data for ng20                                                           \u001b]8;id=108636;file:///home/james/dev/drnb/src/drnb/io/pipeline.py\u001b\\\u001b[2mpipeline.py\u001b[0m\u001b]8;;\u001b\\\u001b[2m:\u001b[0m\u001b]8;id=946366;file:///home/james/dev/drnb/src/drnb/io/pipeline.py#225\u001b\\\u001b[2m225\u001b[0m\u001b]8;;\u001b\\\n"
      ]
     },
     "metadata": {},
     "output_type": "display_data"
    },
    {
     "data": {
      "text/html": [
       "<pre style=\"white-space:pre;overflow-x:auto;line-height:normal;font-family:Menlo,'DejaVu Sans Mono',consolas,'Courier New',monospace\"><span style=\"color: #7fbfbf; text-decoration-color: #7fbfbf\">[23:41:07] </span><span style=\"color: #000080; text-decoration-color: #000080\">INFO    </span> Processing target with initial shape <span style=\"font-weight: bold\">(</span><span style=\"color: #008080; text-decoration-color: #008080; font-weight: bold\">18846</span>, <span style=\"color: #008080; text-decoration-color: #008080; font-weight: bold\">2</span><span style=\"font-weight: bold\">)</span>                                 <a href=\"file:///home/james/dev/drnb/src/drnb/io/pipeline.py\" target=\"_blank\"><span style=\"color: #7f7f7f; text-decoration-color: #7f7f7f\">pipeline.py</span></a><span style=\"color: #7f7f7f; text-decoration-color: #7f7f7f\">:</span><a href=\"file:///home/james/dev/drnb/src/drnb/io/pipeline.py#196\" target=\"_blank\"><span style=\"color: #7f7f7f; text-decoration-color: #7f7f7f\">196</span></a>\n",
       "</pre>\n"
      ],
      "text/plain": [
       "\u001b[2;36m[23:41:07]\u001b[0m\u001b[2;36m \u001b[0m\u001b[34mINFO    \u001b[0m Processing target with initial shape \u001b[1m(\u001b[0m\u001b[1;36m18846\u001b[0m, \u001b[1;36m2\u001b[0m\u001b[1m)\u001b[0m                                 \u001b]8;id=658491;file:///home/james/dev/drnb/src/drnb/io/pipeline.py\u001b\\\u001b[2mpipeline.py\u001b[0m\u001b]8;;\u001b\\\u001b[2m:\u001b[0m\u001b]8;id=617055;file:///home/james/dev/drnb/src/drnb/io/pipeline.py#196\u001b\\\u001b[2m196\u001b[0m\u001b]8;;\u001b\\\n"
      ]
     },
     "metadata": {},
     "output_type": "display_data"
    },
    {
     "data": {
      "text/html": [
       "<pre style=\"white-space:pre;overflow-x:auto;line-height:normal;font-family:Menlo,'DejaVu Sans Mono',consolas,'Courier New',monospace\"><span style=\"color: #7fbfbf; text-decoration-color: #7fbfbf\">           </span><span style=\"color: #000080; text-decoration-color: #000080\">INFO    </span> Keeping all columns                                                            <a href=\"file:///home/james/dev/drnb/src/drnb/preprocess.py\" target=\"_blank\"><span style=\"color: #7f7f7f; text-decoration-color: #7f7f7f\">preprocess.py</span></a><span style=\"color: #7f7f7f; text-decoration-color: #7f7f7f\">:</span><a href=\"file:///home/james/dev/drnb/src/drnb/preprocess.py#62\" target=\"_blank\"><span style=\"color: #7f7f7f; text-decoration-color: #7f7f7f\">62</span></a>\n",
       "</pre>\n"
      ],
      "text/plain": [
       "\u001b[2;36m          \u001b[0m\u001b[2;36m \u001b[0m\u001b[34mINFO    \u001b[0m Keeping all columns                                                            \u001b]8;id=920477;file:///home/james/dev/drnb/src/drnb/preprocess.py\u001b\\\u001b[2mpreprocess.py\u001b[0m\u001b]8;;\u001b\\\u001b[2m:\u001b[0m\u001b]8;id=705796;file:///home/james/dev/drnb/src/drnb/preprocess.py#62\u001b\\\u001b[2m62\u001b[0m\u001b]8;;\u001b\\\n"
      ]
     },
     "metadata": {},
     "output_type": "display_data"
    },
    {
     "data": {
      "text/html": [
       "<pre style=\"white-space:pre;overflow-x:auto;line-height:normal;font-family:Menlo,'DejaVu Sans Mono',consolas,'Courier New',monospace\"><span style=\"color: #7fbfbf; text-decoration-color: #7fbfbf\">           </span><span style=\"color: #000080; text-decoration-color: #000080\">INFO    </span> Writing target for ng20                                                         <a href=\"file:///home/james/dev/drnb/src/drnb/io/pipeline.py\" target=\"_blank\"><span style=\"color: #7f7f7f; text-decoration-color: #7f7f7f\">pipeline.py</span></a><span style=\"color: #7f7f7f; text-decoration-color: #7f7f7f\">:</span><a href=\"file:///home/james/dev/drnb/src/drnb/io/pipeline.py#225\" target=\"_blank\"><span style=\"color: #7f7f7f; text-decoration-color: #7f7f7f\">225</span></a>\n",
       "</pre>\n"
      ],
      "text/plain": [
       "\u001b[2;36m          \u001b[0m\u001b[2;36m \u001b[0m\u001b[34mINFO    \u001b[0m Writing target for ng20                                                         \u001b]8;id=677625;file:///home/james/dev/drnb/src/drnb/io/pipeline.py\u001b\\\u001b[2mpipeline.py\u001b[0m\u001b]8;;\u001b\\\u001b[2m:\u001b[0m\u001b]8;id=454614;file:///home/james/dev/drnb/src/drnb/io/pipeline.py#225\u001b\\\u001b[2m225\u001b[0m\u001b]8;;\u001b\\\n"
      ]
     },
     "metadata": {},
     "output_type": "display_data"
    },
    {
     "data": {
      "text/html": [
       "<pre style=\"white-space:pre;overflow-x:auto;line-height:normal;font-family:Menlo,'DejaVu Sans Mono',consolas,'Courier New',monospace\"><span style=\"color: #7fbfbf; text-decoration-color: #7fbfbf\">           </span><span style=\"color: #000080; text-decoration-color: #000080\">INFO    </span> Calculating nearest neighbors                                                   <a href=\"file:///home/james/dev/drnb/src/drnb/io/pipeline.py\" target=\"_blank\"><span style=\"color: #7f7f7f; text-decoration-color: #7f7f7f\">pipeline.py</span></a><span style=\"color: #7f7f7f; text-decoration-color: #7f7f7f\">:</span><a href=\"file:///home/james/dev/drnb/src/drnb/io/pipeline.py#240\" target=\"_blank\"><span style=\"color: #7f7f7f; text-decoration-color: #7f7f7f\">240</span></a>\n",
       "</pre>\n"
      ],
      "text/plain": [
       "\u001b[2;36m          \u001b[0m\u001b[2;36m \u001b[0m\u001b[34mINFO    \u001b[0m Calculating nearest neighbors                                                   \u001b]8;id=844981;file:///home/james/dev/drnb/src/drnb/io/pipeline.py\u001b\\\u001b[2mpipeline.py\u001b[0m\u001b]8;;\u001b\\\u001b[2m:\u001b[0m\u001b]8;id=990660;file:///home/james/dev/drnb/src/drnb/io/pipeline.py#240\u001b\\\u001b[2m240\u001b[0m\u001b]8;;\u001b\\\n"
      ]
     },
     "metadata": {},
     "output_type": "display_data"
    },
    {
     "data": {
      "text/html": [
       "<pre style=\"white-space:pre;overflow-x:auto;line-height:normal;font-family:Menlo,'DejaVu Sans Mono',consolas,'Courier New',monospace\"><span style=\"color: #7fbfbf; text-decoration-color: #7fbfbf\">           </span><span style=\"color: #000080; text-decoration-color: #000080\">INFO    </span> Finding <span style=\"color: #008080; text-decoration-color: #008080; font-weight: bold\">151</span> neighbors using faiss with euclidean metric and params: <span style=\"font-weight: bold\">{}</span>           <a href=\"file:///home/james/dev/drnb/src/drnb/neighbors/__init__.py\" target=\"_blank\"><span style=\"color: #7f7f7f; text-decoration-color: #7f7f7f\">__init__.py</span></a><span style=\"color: #7f7f7f; text-decoration-color: #7f7f7f\">:</span><a href=\"file:///home/james/dev/drnb/src/drnb/neighbors/__init__.py#71\" target=\"_blank\"><span style=\"color: #7f7f7f; text-decoration-color: #7f7f7f\">71</span></a>\n",
       "</pre>\n"
      ],
      "text/plain": [
       "\u001b[2;36m          \u001b[0m\u001b[2;36m \u001b[0m\u001b[34mINFO    \u001b[0m Finding \u001b[1;36m151\u001b[0m neighbors using faiss with euclidean metric and params: \u001b[1m{\u001b[0m\u001b[1m}\u001b[0m           \u001b]8;id=136439;file:///home/james/dev/drnb/src/drnb/neighbors/__init__.py\u001b\\\u001b[2m__init__.py\u001b[0m\u001b]8;;\u001b\\\u001b[2m:\u001b[0m\u001b]8;id=707532;file:///home/james/dev/drnb/src/drnb/neighbors/__init__.py#71\u001b\\\u001b[2m71\u001b[0m\u001b]8;;\u001b\\\n"
      ]
     },
     "metadata": {},
     "output_type": "display_data"
    },
    {
     "data": {
      "text/html": [
       "<pre style=\"white-space:pre;overflow-x:auto;line-height:normal;font-family:Menlo,'DejaVu Sans Mono',consolas,'Courier New',monospace\"><span style=\"color: #7fbfbf; text-decoration-color: #7fbfbf\">           </span><span style=\"color: #000080; text-decoration-color: #000080\">INFO    </span> Loading faiss with AVX2 support.                                                   <a href=\"file:///home/james/dev/drnb/venv/lib/python3.10/site-packages/faiss/loader.py\" target=\"_blank\"><span style=\"color: #7f7f7f; text-decoration-color: #7f7f7f\">loader.py</span></a><span style=\"color: #7f7f7f; text-decoration-color: #7f7f7f\">:</span><a href=\"file:///home/james/dev/drnb/venv/lib/python3.10/site-packages/faiss/loader.py#54\" target=\"_blank\"><span style=\"color: #7f7f7f; text-decoration-color: #7f7f7f\">54</span></a>\n",
       "</pre>\n"
      ],
      "text/plain": [
       "\u001b[2;36m          \u001b[0m\u001b[2;36m \u001b[0m\u001b[34mINFO    \u001b[0m Loading faiss with AVX2 support.                                                   \u001b]8;id=990994;file:///home/james/dev/drnb/venv/lib/python3.10/site-packages/faiss/loader.py\u001b\\\u001b[2mloader.py\u001b[0m\u001b]8;;\u001b\\\u001b[2m:\u001b[0m\u001b]8;id=388179;file:///home/james/dev/drnb/venv/lib/python3.10/site-packages/faiss/loader.py#54\u001b\\\u001b[2m54\u001b[0m\u001b]8;;\u001b\\\n"
      ]
     },
     "metadata": {},
     "output_type": "display_data"
    },
    {
     "data": {
      "text/html": [
       "<pre style=\"white-space:pre;overflow-x:auto;line-height:normal;font-family:Menlo,'DejaVu Sans Mono',consolas,'Courier New',monospace\"><span style=\"color: #7fbfbf; text-decoration-color: #7fbfbf\">           </span><span style=\"color: #000080; text-decoration-color: #000080\">INFO    </span> Could not load library with AVX2 support due to:                                   <a href=\"file:///home/james/dev/drnb/venv/lib/python3.10/site-packages/faiss/loader.py\" target=\"_blank\"><span style=\"color: #7f7f7f; text-decoration-color: #7f7f7f\">loader.py</span></a><span style=\"color: #7f7f7f; text-decoration-color: #7f7f7f\">:</span><a href=\"file:///home/james/dev/drnb/venv/lib/python3.10/site-packages/faiss/loader.py#58\" target=\"_blank\"><span style=\"color: #7f7f7f; text-decoration-color: #7f7f7f\">58</span></a>\n",
       "<span style=\"color: #7fbfbf; text-decoration-color: #7fbfbf\">           </span>         <span style=\"color: #800080; text-decoration-color: #800080; font-weight: bold\">ModuleNotFoundError</span><span style=\"font-weight: bold\">(</span><span style=\"color: #008000; text-decoration-color: #008000\">\"No module named 'faiss.swigfaiss_avx2'\"</span><span style=\"font-weight: bold\">)</span>                      <span style=\"color: #7f7f7f; text-decoration-color: #7f7f7f\">            </span>\n",
       "</pre>\n"
      ],
      "text/plain": [
       "\u001b[2;36m          \u001b[0m\u001b[2;36m \u001b[0m\u001b[34mINFO    \u001b[0m Could not load library with AVX2 support due to:                                   \u001b]8;id=498298;file:///home/james/dev/drnb/venv/lib/python3.10/site-packages/faiss/loader.py\u001b\\\u001b[2mloader.py\u001b[0m\u001b]8;;\u001b\\\u001b[2m:\u001b[0m\u001b]8;id=195835;file:///home/james/dev/drnb/venv/lib/python3.10/site-packages/faiss/loader.py#58\u001b\\\u001b[2m58\u001b[0m\u001b]8;;\u001b\\\n",
       "\u001b[2;36m           \u001b[0m         \u001b[1;35mModuleNotFoundError\u001b[0m\u001b[1m(\u001b[0m\u001b[32m\"No module named 'faiss.swigfaiss_avx2'\"\u001b[0m\u001b[1m)\u001b[0m                      \u001b[2m            \u001b[0m\n"
      ]
     },
     "metadata": {},
     "output_type": "display_data"
    },
    {
     "data": {
      "text/html": [
       "<pre style=\"white-space:pre;overflow-x:auto;line-height:normal;font-family:Menlo,'DejaVu Sans Mono',consolas,'Courier New',monospace\"><span style=\"color: #7fbfbf; text-decoration-color: #7fbfbf\">           </span><span style=\"color: #000080; text-decoration-color: #000080\">INFO    </span> Loading faiss.                                                                     <a href=\"file:///home/james/dev/drnb/venv/lib/python3.10/site-packages/faiss/loader.py\" target=\"_blank\"><span style=\"color: #7f7f7f; text-decoration-color: #7f7f7f\">loader.py</span></a><span style=\"color: #7f7f7f; text-decoration-color: #7f7f7f\">:</span><a href=\"file:///home/james/dev/drnb/venv/lib/python3.10/site-packages/faiss/loader.py#64\" target=\"_blank\"><span style=\"color: #7f7f7f; text-decoration-color: #7f7f7f\">64</span></a>\n",
       "</pre>\n"
      ],
      "text/plain": [
       "\u001b[2;36m          \u001b[0m\u001b[2;36m \u001b[0m\u001b[34mINFO    \u001b[0m Loading faiss.                                                                     \u001b]8;id=847574;file:///home/james/dev/drnb/venv/lib/python3.10/site-packages/faiss/loader.py\u001b\\\u001b[2mloader.py\u001b[0m\u001b]8;;\u001b\\\u001b[2m:\u001b[0m\u001b]8;id=156577;file:///home/james/dev/drnb/venv/lib/python3.10/site-packages/faiss/loader.py#64\u001b\\\u001b[2m64\u001b[0m\u001b]8;;\u001b\\\n"
      ]
     },
     "metadata": {},
     "output_type": "display_data"
    },
    {
     "data": {
      "text/html": [
       "<pre style=\"white-space:pre;overflow-x:auto;line-height:normal;font-family:Menlo,'DejaVu Sans Mono',consolas,'Courier New',monospace\"><span style=\"color: #7fbfbf; text-decoration-color: #7fbfbf\">           </span><span style=\"color: #000080; text-decoration-color: #000080\">INFO    </span> Successfully loaded faiss.                                                         <a href=\"file:///home/james/dev/drnb/venv/lib/python3.10/site-packages/faiss/loader.py\" target=\"_blank\"><span style=\"color: #7f7f7f; text-decoration-color: #7f7f7f\">loader.py</span></a><span style=\"color: #7f7f7f; text-decoration-color: #7f7f7f\">:</span><a href=\"file:///home/james/dev/drnb/venv/lib/python3.10/site-packages/faiss/loader.py#66\" target=\"_blank\"><span style=\"color: #7f7f7f; text-decoration-color: #7f7f7f\">66</span></a>\n",
       "</pre>\n"
      ],
      "text/plain": [
       "\u001b[2;36m          \u001b[0m\u001b[2;36m \u001b[0m\u001b[34mINFO    \u001b[0m Successfully loaded faiss.                                                         \u001b]8;id=705003;file:///home/james/dev/drnb/venv/lib/python3.10/site-packages/faiss/loader.py\u001b\\\u001b[2mloader.py\u001b[0m\u001b]8;;\u001b\\\u001b[2m:\u001b[0m\u001b]8;id=36649;file:///home/james/dev/drnb/venv/lib/python3.10/site-packages/faiss/loader.py#66\u001b\\\u001b[2m66\u001b[0m\u001b]8;;\u001b\\\n"
      ]
     },
     "metadata": {},
     "output_type": "display_data"
    },
    {
     "data": {
      "text/html": [
       "<pre style=\"white-space:pre;overflow-x:auto;line-height:normal;font-family:Menlo,'DejaVu Sans Mono',consolas,'Courier New',monospace\"><span style=\"color: #7fbfbf; text-decoration-color: #7fbfbf\">[23:41:21] </span><span style=\"color: #000080; text-decoration-color: #000080\">INFO    </span> Calculating triplets                                                            <a href=\"file:///home/james/dev/drnb/src/drnb/io/pipeline.py\" target=\"_blank\"><span style=\"color: #7f7f7f; text-decoration-color: #7f7f7f\">pipeline.py</span></a><span style=\"color: #7f7f7f; text-decoration-color: #7f7f7f\">:</span><a href=\"file:///home/james/dev/drnb/src/drnb/io/pipeline.py#276\" target=\"_blank\"><span style=\"color: #7f7f7f; text-decoration-color: #7f7f7f\">276</span></a>\n",
       "</pre>\n"
      ],
      "text/plain": [
       "\u001b[2;36m[23:41:21]\u001b[0m\u001b[2;36m \u001b[0m\u001b[34mINFO    \u001b[0m Calculating triplets                                                            \u001b]8;id=816475;file:///home/james/dev/drnb/src/drnb/io/pipeline.py\u001b\\\u001b[2mpipeline.py\u001b[0m\u001b]8;;\u001b\\\u001b[2m:\u001b[0m\u001b]8;id=646132;file:///home/james/dev/drnb/src/drnb/io/pipeline.py#276\u001b\\\u001b[2m276\u001b[0m\u001b]8;;\u001b\\\n"
      ]
     },
     "metadata": {},
     "output_type": "display_data"
    },
    {
     "data": {
      "text/html": [
       "<pre style=\"white-space:pre;overflow-x:auto;line-height:normal;font-family:Menlo,'DejaVu Sans Mono',consolas,'Courier New',monospace\"><span style=\"color: #7fbfbf; text-decoration-color: #7fbfbf\">[23:41:22] </span><span style=\"color: #000080; text-decoration-color: #000080\">INFO    </span> Writing csv format to triplets/ng20.<span style=\"color: #008080; text-decoration-color: #008080; font-weight: bold\">5.1337</span>.idx.csv                              <a href=\"file:///home/james/dev/drnb/src/drnb/io/__init__.py\" target=\"_blank\"><span style=\"color: #7f7f7f; text-decoration-color: #7f7f7f\">__init__.py</span></a><span style=\"color: #7f7f7f; text-decoration-color: #7f7f7f\">:</span><a href=\"file:///home/james/dev/drnb/src/drnb/io/__init__.py#221\" target=\"_blank\"><span style=\"color: #7f7f7f; text-decoration-color: #7f7f7f\">221</span></a>\n",
       "</pre>\n"
      ],
      "text/plain": [
       "\u001b[2;36m[23:41:22]\u001b[0m\u001b[2;36m \u001b[0m\u001b[34mINFO    \u001b[0m Writing csv format to triplets/ng20.\u001b[1;36m5.1337\u001b[0m.idx.csv                              \u001b]8;id=747937;file:///home/james/dev/drnb/src/drnb/io/__init__.py\u001b\\\u001b[2m__init__.py\u001b[0m\u001b]8;;\u001b\\\u001b[2m:\u001b[0m\u001b]8;id=299975;file:///home/james/dev/drnb/src/drnb/io/__init__.py#221\u001b\\\u001b[2m221\u001b[0m\u001b]8;;\u001b\\\n"
      ]
     },
     "metadata": {},
     "output_type": "display_data"
    },
    {
     "data": {
      "text/html": [
       "<pre style=\"white-space:pre;overflow-x:auto;line-height:normal;font-family:Menlo,'DejaVu Sans Mono',consolas,'Courier New',monospace\"><span style=\"color: #7fbfbf; text-decoration-color: #7fbfbf\">           </span><span style=\"color: #000080; text-decoration-color: #000080\">INFO    </span> Writing csv format to triplets/ng20.<span style=\"color: #008080; text-decoration-color: #008080; font-weight: bold\">5.1337</span>.l2.csv                               <a href=\"file:///home/james/dev/drnb/src/drnb/io/__init__.py\" target=\"_blank\"><span style=\"color: #7f7f7f; text-decoration-color: #7f7f7f\">__init__.py</span></a><span style=\"color: #7f7f7f; text-decoration-color: #7f7f7f\">:</span><a href=\"file:///home/james/dev/drnb/src/drnb/io/__init__.py#221\" target=\"_blank\"><span style=\"color: #7f7f7f; text-decoration-color: #7f7f7f\">221</span></a>\n",
       "</pre>\n"
      ],
      "text/plain": [
       "\u001b[2;36m          \u001b[0m\u001b[2;36m \u001b[0m\u001b[34mINFO    \u001b[0m Writing csv format to triplets/ng20.\u001b[1;36m5.1337\u001b[0m.l2.csv                               \u001b]8;id=718791;file:///home/james/dev/drnb/src/drnb/io/__init__.py\u001b\\\u001b[2m__init__.py\u001b[0m\u001b]8;;\u001b\\\u001b[2m:\u001b[0m\u001b]8;id=510842;file:///home/james/dev/drnb/src/drnb/io/__init__.py#221\u001b\\\u001b[2m221\u001b[0m\u001b]8;;\u001b\\\n"
      ]
     },
     "metadata": {},
     "output_type": "display_data"
    },
    {
     "data": {
      "text/html": [
       "<pre style=\"white-space:pre;overflow-x:auto;line-height:normal;font-family:Menlo,'DejaVu Sans Mono',consolas,'Courier New',monospace\"><span style=\"color: #7fbfbf; text-decoration-color: #7fbfbf\">           </span><span style=\"color: #000080; text-decoration-color: #000080\">INFO    </span> Writing numpy format to triplets/ng20.<span style=\"color: #008080; text-decoration-color: #008080; font-weight: bold\">5.1337</span>.idx.npy                            <a href=\"file:///home/james/dev/drnb/src/drnb/io/__init__.py\" target=\"_blank\"><span style=\"color: #7f7f7f; text-decoration-color: #7f7f7f\">__init__.py</span></a><span style=\"color: #7f7f7f; text-decoration-color: #7f7f7f\">:</span><a href=\"file:///home/james/dev/drnb/src/drnb/io/__init__.py#244\" target=\"_blank\"><span style=\"color: #7f7f7f; text-decoration-color: #7f7f7f\">244</span></a>\n",
       "</pre>\n"
      ],
      "text/plain": [
       "\u001b[2;36m          \u001b[0m\u001b[2;36m \u001b[0m\u001b[34mINFO    \u001b[0m Writing numpy format to triplets/ng20.\u001b[1;36m5.1337\u001b[0m.idx.npy                            \u001b]8;id=655768;file:///home/james/dev/drnb/src/drnb/io/__init__.py\u001b\\\u001b[2m__init__.py\u001b[0m\u001b]8;;\u001b\\\u001b[2m:\u001b[0m\u001b]8;id=490961;file:///home/james/dev/drnb/src/drnb/io/__init__.py#244\u001b\\\u001b[2m244\u001b[0m\u001b]8;;\u001b\\\n"
      ]
     },
     "metadata": {},
     "output_type": "display_data"
    },
    {
     "data": {
      "text/html": [
       "<pre style=\"white-space:pre;overflow-x:auto;line-height:normal;font-family:Menlo,'DejaVu Sans Mono',consolas,'Courier New',monospace\"><span style=\"color: #7fbfbf; text-decoration-color: #7fbfbf\">           </span><span style=\"color: #000080; text-decoration-color: #000080\">INFO    </span> Writing numpy format to triplets/ng20.<span style=\"color: #008080; text-decoration-color: #008080; font-weight: bold\">5.1337</span>.l2.npy                             <a href=\"file:///home/james/dev/drnb/src/drnb/io/__init__.py\" target=\"_blank\"><span style=\"color: #7f7f7f; text-decoration-color: #7f7f7f\">__init__.py</span></a><span style=\"color: #7f7f7f; text-decoration-color: #7f7f7f\">:</span><a href=\"file:///home/james/dev/drnb/src/drnb/io/__init__.py#244\" target=\"_blank\"><span style=\"color: #7f7f7f; text-decoration-color: #7f7f7f\">244</span></a>\n",
       "</pre>\n"
      ],
      "text/plain": [
       "\u001b[2;36m          \u001b[0m\u001b[2;36m \u001b[0m\u001b[34mINFO    \u001b[0m Writing numpy format to triplets/ng20.\u001b[1;36m5.1337\u001b[0m.l2.npy                             \u001b]8;id=529146;file:///home/james/dev/drnb/src/drnb/io/__init__.py\u001b\\\u001b[2m__init__.py\u001b[0m\u001b]8;;\u001b\\\u001b[2m:\u001b[0m\u001b]8;id=331421;file:///home/james/dev/drnb/src/drnb/io/__init__.py#244\u001b\\\u001b[2m244\u001b[0m\u001b]8;;\u001b\\\n"
      ]
     },
     "metadata": {},
     "output_type": "display_data"
    },
    {
     "data": {
      "text/html": [
       "<pre style=\"white-space:pre;overflow-x:auto;line-height:normal;font-family:Menlo,'DejaVu Sans Mono',consolas,'Courier New',monospace\"><span style=\"color: #7fbfbf; text-decoration-color: #7fbfbf\">           </span><span style=\"color: #000080; text-decoration-color: #000080\">INFO    </span> Writing pipeline result for ng20                                                <a href=\"file:///home/james/dev/drnb/src/drnb/io/pipeline.py\" target=\"_blank\"><span style=\"color: #7f7f7f; text-decoration-color: #7f7f7f\">pipeline.py</span></a><span style=\"color: #7f7f7f; text-decoration-color: #7f7f7f\">:</span><a href=\"file:///home/james/dev/drnb/src/drnb/io/pipeline.py#128\" target=\"_blank\"><span style=\"color: #7f7f7f; text-decoration-color: #7f7f7f\">128</span></a>\n",
       "</pre>\n"
      ],
      "text/plain": [
       "\u001b[2;36m          \u001b[0m\u001b[2;36m \u001b[0m\u001b[34mINFO    \u001b[0m Writing pipeline result for ng20                                                \u001b]8;id=650454;file:///home/james/dev/drnb/src/drnb/io/pipeline.py\u001b\\\u001b[2mpipeline.py\u001b[0m\u001b]8;;\u001b\\\u001b[2m:\u001b[0m\u001b]8;id=255563;file:///home/james/dev/drnb/src/drnb/io/pipeline.py#128\u001b\\\u001b[2m128\u001b[0m\u001b]8;;\u001b\\\n"
      ]
     },
     "metadata": {},
     "output_type": "display_data"
    },
    {
     "name": "stdout",
     "output_type": "stream",
     "text": [
      "time: 1min 3s (started: 2022-09-15 23:40:19 -07:00)\n"
     ]
    }
   ],
   "source": [
    "from drnb.io.pipeline import create_default_pipeline\n",
    "\n",
    "data_result = create_default_pipeline(check_for_duplicates=True).run(\n",
    "    \"ng20\",\n",
    "    data=data,\n",
    "    target=target,\n",
    "    tags=[\"highdim\"],\n",
    "    url=\"http://qwone.com/~jason/20Newsgroups/\",\n",
    "    verbose=True,\n",
    ")"
   ]
  },
  {
   "cell_type": "code",
   "execution_count": null,
   "id": "b792058c-771f-409d-a58d-c46e2ce8cd06",
   "metadata": {},
   "outputs": [],
   "source": []
  }
 ],
 "metadata": {
  "kernelspec": {
   "display_name": "Python 3 (ipykernel)",
   "language": "python",
   "name": "python3"
  },
  "language_info": {
   "codemirror_mode": {
    "name": "ipython",
    "version": 3
   },
   "file_extension": ".py",
   "mimetype": "text/x-python",
   "name": "python",
   "nbconvert_exporter": "python",
   "pygments_lexer": "ipython3",
   "version": "3.10.4"
  }
 },
 "nbformat": 4,
 "nbformat_minor": 5
}
