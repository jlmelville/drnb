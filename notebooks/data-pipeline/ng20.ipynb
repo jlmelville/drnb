{
 "cells": [
  {
   "cell_type": "code",
   "execution_count": 6,
   "id": "970312c0-e6d5-410a-b27e-ca17a8b38180",
   "metadata": {
    "tags": []
   },
   "outputs": [
    {
     "name": "stdout",
     "output_type": "stream",
     "text": [
      "time: 118 ms (started: 2022-09-11 23:31:44 -07:00)\n"
     ]
    }
   ],
   "source": [
    "%load_ext lab_black\n",
    "%load_ext autotime\n",
    "import pandas as pd\n",
    "import numpy as np"
   ]
  },
  {
   "cell_type": "markdown",
   "id": "c7a57006-f002-4e62-90c0-f98a07de40d8",
   "metadata": {},
   "source": [
    "The [20 Newsgroups dataset](http://qwone.com/~jason/20Newsgroups/). This treatment is based on the material in <https://umap-learn.readthedocs.io/en/latest/sparse.html>, which leaves the data sparse. Not all dimensionality reduction methods can handle sparse data, so it will be converted to a 3000D dense matrix via PCA. **Warning**: the truncated SVD will cause this notebook to take up a fair bit of RAM (around 11GB)."
   ]
  },
  {
   "cell_type": "code",
   "execution_count": 1,
   "id": "d578564d-db3c-43dd-99af-a6e55d5b23df",
   "metadata": {},
   "outputs": [],
   "source": [
    "import sklearn.datasets\n",
    "import sklearn.feature_extraction.text\n",
    "\n",
    "ng20v = sklearn.datasets.fetch_20newsgroups_vectorized(subset=\"all\")\n",
    "ng20tfidf = sklearn.feature_extraction.text.TfidfTransformer(norm='l1').fit_transform(ng20v.data)"
   ]
  },
  {
   "cell_type": "code",
   "execution_count": 2,
   "id": "596bc1ad-75c1-4bfe-ae45-ca4284c18d7b",
   "metadata": {},
   "outputs": [
    {
     "data": {
      "text/plain": [
       "(18846, 130107)"
      ]
     },
     "execution_count": 2,
     "metadata": {},
     "output_type": "execute_result"
    }
   ],
   "source": [
    "ng20tfidf.shape"
   ]
  },
  {
   "cell_type": "code",
   "execution_count": 3,
   "id": "016f5e2c-1ce2-4c50-92a6-058ef6e38db2",
   "metadata": {},
   "outputs": [
    {
     "data": {
      "text/plain": [
       "<18846x130107 sparse matrix of type '<class 'numpy.float64'>'\n",
       "\twith 2895521 stored elements in Compressed Sparse Row format>"
      ]
     },
     "execution_count": 3,
     "metadata": {},
     "output_type": "execute_result"
    }
   ],
   "source": [
    "ng20tfidf"
   ]
  },
  {
   "cell_type": "code",
   "execution_count": 7,
   "id": "d36cb98c-9036-44bb-93c3-309ab217765b",
   "metadata": {},
   "outputs": [
    {
     "name": "stdout",
     "output_type": "stream",
     "text": [
      "time: 751 µs (started: 2022-09-11 23:31:48 -07:00)\n"
     ]
    }
   ],
   "source": [
    "import sklearn.decomposition"
   ]
  },
  {
   "cell_type": "markdown",
   "id": "8d8755da-26e2-4003-af37-b3aa9380b339",
   "metadata": {},
   "source": [
    "Apart from eating up a fair bit of RAM, this next step is also pretty slow (around ten minutes on my machine):"
   ]
  },
  {
   "cell_type": "code",
   "execution_count": 9,
   "id": "dbcb2507-3052-4359-90e6-c78c86d1cb97",
   "metadata": {},
   "outputs": [
    {
     "name": "stdout",
     "output_type": "stream",
     "text": [
      "time: 9min 31s (started: 2022-09-11 23:31:56 -07:00)\n"
     ]
    }
   ],
   "source": [
    "tsvd = sklearn.decomposition.TruncatedSVD(n_components=3000).fit(ng20tfidf)"
   ]
  },
  {
   "cell_type": "markdown",
   "id": "b35865de-de13-4cb3-b8d2-765dad9c1e02",
   "metadata": {},
   "source": [
    "How much variance does 3000 components explain?"
   ]
  },
  {
   "cell_type": "code",
   "execution_count": 11,
   "id": "77551609-b8b8-41b9-b7ec-e83e33a6e885",
   "metadata": {},
   "outputs": [
    {
     "data": {
      "text/plain": [
       "0.7099729670131367"
      ]
     },
     "execution_count": 11,
     "metadata": {},
     "output_type": "execute_result"
    },
    {
     "name": "stdout",
     "output_type": "stream",
     "text": [
      "time: 4.36 ms (started: 2022-09-11 23:43:01 -07:00)\n"
     ]
    }
   ],
   "source": [
    "np.sum(tsvd.explained_variance_ratio_)"
   ]
  },
  {
   "cell_type": "markdown",
   "id": "294c6c6e-294a-451a-a123-56923d42c8f2",
   "metadata": {},
   "source": [
    "71%? Not terrible."
   ]
  },
  {
   "cell_type": "code",
   "execution_count": 12,
   "id": "f3424a42-1697-4276-b136-790c0fae9c14",
   "metadata": {},
   "outputs": [
    {
     "name": "stdout",
     "output_type": "stream",
     "text": [
      "time: 6.55 s (started: 2022-09-11 23:43:55 -07:00)\n"
     ]
    }
   ],
   "source": [
    "data = tsvd.transform(ng20tfidf)"
   ]
  },
  {
   "cell_type": "code",
   "execution_count": 16,
   "id": "4a09dfee-9677-436e-9fd0-ecda0373fd5f",
   "metadata": {},
   "outputs": [
    {
     "data": {
      "text/plain": [
       "['alt.atheism',\n",
       " 'comp.graphics',\n",
       " 'comp.os.ms-windows.misc',\n",
       " 'comp.sys.ibm.pc.hardware',\n",
       " 'comp.sys.mac.hardware',\n",
       " 'comp.windows.x',\n",
       " 'misc.forsale',\n",
       " 'rec.autos',\n",
       " 'rec.motorcycles',\n",
       " 'rec.sport.baseball',\n",
       " 'rec.sport.hockey',\n",
       " 'sci.crypt',\n",
       " 'sci.electronics',\n",
       " 'sci.med',\n",
       " 'sci.space',\n",
       " 'soc.religion.christian',\n",
       " 'talk.politics.guns',\n",
       " 'talk.politics.mideast',\n",
       " 'talk.politics.misc',\n",
       " 'talk.religion.misc']"
      ]
     },
     "execution_count": 16,
     "metadata": {},
     "output_type": "execute_result"
    },
    {
     "name": "stdout",
     "output_type": "stream",
     "text": [
      "time: 4.84 ms (started: 2022-09-11 23:46:23 -07:00)\n"
     ]
    }
   ],
   "source": [
    "ng20v.target_names"
   ]
  },
  {
   "cell_type": "code",
   "execution_count": 17,
   "id": "f2de2c3e-9863-4b21-b0c4-fa8127f7412c",
   "metadata": {},
   "outputs": [
    {
     "data": {
      "text/plain": [
       "array([17,  7, 10, ..., 10, 18,  9])"
      ]
     },
     "execution_count": 17,
     "metadata": {},
     "output_type": "execute_result"
    },
    {
     "name": "stdout",
     "output_type": "stream",
     "text": [
      "time: 4.13 ms (started: 2022-09-11 23:46:29 -07:00)\n"
     ]
    }
   ],
   "source": [
    "ng20v.target"
   ]
  },
  {
   "cell_type": "code",
   "execution_count": 18,
   "id": "5dc221c2-3591-4b3f-952c-2a94a2321964",
   "metadata": {},
   "outputs": [
    {
     "name": "stdout",
     "output_type": "stream",
     "text": [
      "time: 5.47 ms (started: 2022-09-11 23:47:41 -07:00)\n"
     ]
    }
   ],
   "source": [
    "description = pd.Series(\n",
    "    list(map(ng20v.target_names.__getitem__, ng20v.target.astype(int))),\n",
    "    name=\"description\",\n",
    ")"
   ]
  },
  {
   "cell_type": "code",
   "execution_count": 19,
   "id": "22496d1d-2b7a-4767-94cd-29c162dccb27",
   "metadata": {},
   "outputs": [
    {
     "data": {
      "text/plain": [
       "0        talk.politics.mideast\n",
       "1                    rec.autos\n",
       "2             rec.sport.hockey\n",
       "3             rec.sport.hockey\n",
       "4                    rec.autos\n",
       "                 ...          \n",
       "18841       talk.politics.misc\n",
       "18842       talk.politics.guns\n",
       "18843         rec.sport.hockey\n",
       "18844       talk.politics.misc\n",
       "18845       rec.sport.baseball\n",
       "Name: description, Length: 18846, dtype: object"
      ]
     },
     "execution_count": 19,
     "metadata": {},
     "output_type": "execute_result"
    },
    {
     "name": "stdout",
     "output_type": "stream",
     "text": [
      "time: 4.57 ms (started: 2022-09-11 23:47:46 -07:00)\n"
     ]
    }
   ],
   "source": [
    "description"
   ]
  },
  {
   "cell_type": "code",
   "execution_count": 23,
   "id": "cbed46d7-94cd-4d95-b5d1-b277e57ea66d",
   "metadata": {},
   "outputs": [
    {
     "name": "stdout",
     "output_type": "stream",
     "text": [
      "time: 3.41 ms (started: 2022-09-11 23:49:45 -07:00)\n"
     ]
    }
   ],
   "source": [
    "target = pd.concat([pd.Series(ng20v.target, name=\"class\"), description], axis=1)"
   ]
  },
  {
   "cell_type": "code",
   "execution_count": 24,
   "id": "6390c20e-9e2a-4e71-b0b2-c6ab57a8027a",
   "metadata": {},
   "outputs": [
    {
     "data": {
      "text/html": [
       "<div>\n",
       "<style scoped>\n",
       "    .dataframe tbody tr th:only-of-type {\n",
       "        vertical-align: middle;\n",
       "    }\n",
       "\n",
       "    .dataframe tbody tr th {\n",
       "        vertical-align: top;\n",
       "    }\n",
       "\n",
       "    .dataframe thead th {\n",
       "        text-align: right;\n",
       "    }\n",
       "</style>\n",
       "<table border=\"1\" class=\"dataframe\">\n",
       "  <thead>\n",
       "    <tr style=\"text-align: right;\">\n",
       "      <th></th>\n",
       "      <th>class</th>\n",
       "      <th>description</th>\n",
       "    </tr>\n",
       "  </thead>\n",
       "  <tbody>\n",
       "    <tr>\n",
       "      <th>0</th>\n",
       "      <td>17</td>\n",
       "      <td>talk.politics.mideast</td>\n",
       "    </tr>\n",
       "    <tr>\n",
       "      <th>1</th>\n",
       "      <td>7</td>\n",
       "      <td>rec.autos</td>\n",
       "    </tr>\n",
       "    <tr>\n",
       "      <th>2</th>\n",
       "      <td>10</td>\n",
       "      <td>rec.sport.hockey</td>\n",
       "    </tr>\n",
       "    <tr>\n",
       "      <th>3</th>\n",
       "      <td>10</td>\n",
       "      <td>rec.sport.hockey</td>\n",
       "    </tr>\n",
       "    <tr>\n",
       "      <th>4</th>\n",
       "      <td>7</td>\n",
       "      <td>rec.autos</td>\n",
       "    </tr>\n",
       "    <tr>\n",
       "      <th>...</th>\n",
       "      <td>...</td>\n",
       "      <td>...</td>\n",
       "    </tr>\n",
       "    <tr>\n",
       "      <th>18841</th>\n",
       "      <td>18</td>\n",
       "      <td>talk.politics.misc</td>\n",
       "    </tr>\n",
       "    <tr>\n",
       "      <th>18842</th>\n",
       "      <td>16</td>\n",
       "      <td>talk.politics.guns</td>\n",
       "    </tr>\n",
       "    <tr>\n",
       "      <th>18843</th>\n",
       "      <td>10</td>\n",
       "      <td>rec.sport.hockey</td>\n",
       "    </tr>\n",
       "    <tr>\n",
       "      <th>18844</th>\n",
       "      <td>18</td>\n",
       "      <td>talk.politics.misc</td>\n",
       "    </tr>\n",
       "    <tr>\n",
       "      <th>18845</th>\n",
       "      <td>9</td>\n",
       "      <td>rec.sport.baseball</td>\n",
       "    </tr>\n",
       "  </tbody>\n",
       "</table>\n",
       "<p>18846 rows × 2 columns</p>\n",
       "</div>"
      ],
      "text/plain": [
       "       class            description\n",
       "0         17  talk.politics.mideast\n",
       "1          7              rec.autos\n",
       "2         10       rec.sport.hockey\n",
       "3         10       rec.sport.hockey\n",
       "4          7              rec.autos\n",
       "...      ...                    ...\n",
       "18841     18     talk.politics.misc\n",
       "18842     16     talk.politics.guns\n",
       "18843     10       rec.sport.hockey\n",
       "18844     18     talk.politics.misc\n",
       "18845      9     rec.sport.baseball\n",
       "\n",
       "[18846 rows x 2 columns]"
      ]
     },
     "execution_count": 24,
     "metadata": {},
     "output_type": "execute_result"
    },
    {
     "name": "stdout",
     "output_type": "stream",
     "text": [
      "time: 8.88 ms (started: 2022-09-11 23:49:47 -07:00)\n"
     ]
    }
   ],
   "source": [
    "target"
   ]
  },
  {
   "cell_type": "markdown",
   "id": "bb7d2701-87d5-408f-b7a7-297bda0b7ac5",
   "metadata": {},
   "source": [
    "## Pipeline"
   ]
  },
  {
   "cell_type": "code",
   "execution_count": 25,
   "id": "ca318067-786d-4d4f-936a-ff2f7f932ead",
   "metadata": {},
   "outputs": [
    {
     "name": "stderr",
     "output_type": "stream",
     "text": [
      "INFO:rich:Requesting one extra neighbor to account for self-neighbor\n"
     ]
    },
    {
     "name": "stdout",
     "output_type": "stream",
     "text": [
      "time: 3.87 s (started: 2022-09-11 23:51:44 -07:00)\n"
     ]
    }
   ],
   "source": [
    "from drnb.dataset import create_data_pipeline\n",
    "\n",
    "data_pipe = create_data_pipeline(\n",
    "    data_export=[\"csv\", \"npy\"],\n",
    "    target_export=[\"csv\", \"pkl\"],\n",
    "    neighbors=dict(\n",
    "        n_neighbors=[15, 50, 150],\n",
    "        method=\"exact\",\n",
    "        metric=[\"euclidean\"],\n",
    "        file_types=[\"csv\", \"npy\"],\n",
    "    ),\n",
    "    triplets=dict(\n",
    "        n_triplets_per_point=5,\n",
    "        seed=1337,\n",
    "        file_types=[\"csv\", \"npy\"],\n",
    "    ),\n",
    "    verbose=True,\n",
    ")"
   ]
  },
  {
   "cell_type": "code",
   "execution_count": 26,
   "id": "d2dd52ef-f989-4e02-8c5a-52177256c2a3",
   "metadata": {},
   "outputs": [
    {
     "name": "stderr",
     "output_type": "stream",
     "text": [
      "INFO:rich:initial data shape: (18846, 3000)\n",
      "INFO:rich:Removing rows with NAs\n",
      "INFO:rich:data shape after filtering NAs: (18846, 3000)\n",
      "INFO:rich:Keeping all columns\n",
      "INFO:rich:data shape after filtering columns: (18846, 3000)\n",
      "INFO:rich:No scaling\n",
      "INFO:rich:Converting to numpy with {'dtype': 'float32', 'layout': 'c'}\n",
      "INFO:rich:Writing data for ng20\n",
      "INFO:rich:Processing target with initial shape (18846, 2)\n",
      "INFO:rich:Keeping all columns\n",
      "INFO:rich:Writing target for ng20\n",
      "INFO:rich:Calculating nearest neighbors\n",
      "INFO:rich:Finding 151 neighbors using faiss with euclidean metric and params: {}\n",
      "INFO:rich:Calculating triplets\n",
      "INFO:rich:Writing csv format to triplets/ng20.5.1337.idx.csv\n",
      "INFO:rich:Writing csv format to triplets/ng20.5.1337.l2.csv\n",
      "INFO:rich:Writing numpy format to triplets/ng20.5.1337.idx.npy\n",
      "INFO:rich:Writing numpy format to triplets/ng20.5.1337.l2.npy\n",
      "INFO:rich:Writing pipeline result for ng20\n"
     ]
    },
    {
     "name": "stdout",
     "output_type": "stream",
     "text": [
      "time: 58.9 s (started: 2022-09-11 23:52:08 -07:00)\n"
     ]
    }
   ],
   "source": [
    "data_result = data_pipe.run(\"ng20\", data=data, target=target, verbose=True)"
   ]
  },
  {
   "cell_type": "code",
   "execution_count": null,
   "id": "b792058c-771f-409d-a58d-c46e2ce8cd06",
   "metadata": {},
   "outputs": [],
   "source": []
  }
 ],
 "metadata": {
  "kernelspec": {
   "display_name": "Python 3 (ipykernel)",
   "language": "python",
   "name": "python3"
  },
  "language_info": {
   "codemirror_mode": {
    "name": "ipython",
    "version": 3
   },
   "file_extension": ".py",
   "mimetype": "text/x-python",
   "name": "python",
   "nbconvert_exporter": "python",
   "pygments_lexer": "ipython3",
   "version": "3.10.4"
  }
 },
 "nbformat": 4,
 "nbformat_minor": 5
}
