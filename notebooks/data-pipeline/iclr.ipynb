{
 "cells": [
  {
   "cell_type": "code",
   "execution_count": 1,
   "id": "c68e7976-7645-4362-810b-91e865c3eb47",
   "metadata": {},
   "outputs": [
    {
     "name": "stdout",
     "output_type": "stream",
     "text": [
      "time: 273 ms (started: 2022-10-02 00:43:11 -07:00)\n"
     ]
    }
   ],
   "source": [
    "%load_ext lab_black\n",
    "%load_ext autotime\n",
    "import pandas as pd\n",
    "import numpy as np"
   ]
  },
  {
   "cell_type": "markdown",
   "id": "7d0d4fce-2c4d-4e45-9585-183f06522d88",
   "metadata": {},
   "source": [
    "Based on a [notebook](https://github.com/dkobak/iclr-tsne/blob/main/iclr-tsne.ipynb) by [Dmitry Kobak](https://github.com/dkobak) (I originally found it via [a tweet](https://twitter.com/hippopedoid/status/1575879260216373249)). This uses TF-IDF of ICLR submissions."
   ]
  },
  {
   "cell_type": "code",
   "execution_count": 2,
   "id": "e5845ab1-7f18-463d-9d3c-5e2f16de7853",
   "metadata": {},
   "outputs": [
    {
     "name": "stdout",
     "output_type": "stream",
     "text": [
      "time: 40.1 ms (started: 2022-10-02 00:43:12 -07:00)\n"
     ]
    }
   ],
   "source": [
    "import requests\n",
    "\n",
    "\n",
    "def download_iclr():\n",
    "    titles = []\n",
    "    abstracts = []\n",
    "    years = []\n",
    "\n",
    "    for year in [2018, 2019, 2020, 2021, 2022, 2023]:\n",
    "        url = f\"https://api.openreview.net/notes?invitation=ICLR.cc%2F{year}%2FConference%2F-%2FBlind_Submission\"\n",
    "        for offset in [0, 1000, 2000, 3000, 4000]:\n",
    "            df = pd.DataFrame(requests.get(url + f\"&offset={offset}\").json()[\"notes\"])\n",
    "            if len(df) > 0:\n",
    "                titles += [d[\"title\"].strip() for d in df[\"content\"].values]\n",
    "                abstracts += [d[\"abstract\"].strip() for d in df[\"content\"].values]\n",
    "                years += [year] * len(df)\n",
    "\n",
    "    return abstracts, titles, np.array(years)"
   ]
  },
  {
   "cell_type": "code",
   "execution_count": 3,
   "id": "6f9951e4-b7f2-4fd6-8838-9f074f44ae2e",
   "metadata": {},
   "outputs": [
    {
     "name": "stdout",
     "output_type": "stream",
     "text": [
      "time: 20.4 s (started: 2022-10-02 00:43:12 -07:00)\n"
     ]
    }
   ],
   "source": [
    "abstracts, titles, years = download_iclr()"
   ]
  },
  {
   "cell_type": "code",
   "execution_count": 4,
   "id": "d0ebd1e4-0dff-4b9c-a748-37565bb164ab",
   "metadata": {},
   "outputs": [
    {
     "data": {
      "text/plain": [
       "(14732, 14732)"
      ]
     },
     "execution_count": 4,
     "metadata": {},
     "output_type": "execute_result"
    },
    {
     "name": "stdout",
     "output_type": "stream",
     "text": [
      "time: 7.1 ms (started: 2022-10-02 00:43:32 -07:00)\n"
     ]
    }
   ],
   "source": [
    "len(titles), len(abstracts)"
   ]
  },
  {
   "cell_type": "code",
   "execution_count": 5,
   "id": "fe2d524a-29d4-460b-9f39-74fc100a0eab",
   "metadata": {},
   "outputs": [
    {
     "name": "stdout",
     "output_type": "stream",
     "text": [
      "time: 1.75 s (started: 2022-10-02 00:43:32 -07:00)\n"
     ]
    }
   ],
   "source": [
    "import sklearn.feature_extraction.text\n",
    "\n",
    "iclr_tfidf = sklearn.feature_extraction.text.TfidfVectorizer(\n",
    "    sublinear_tf=True\n",
    ").fit_transform(abstracts)"
   ]
  },
  {
   "cell_type": "code",
   "execution_count": 6,
   "id": "3de7d49b-d142-4d5f-8e8c-2d98a584d199",
   "metadata": {},
   "outputs": [
    {
     "data": {
      "text/plain": [
       "<14732x32146 sparse matrix of type '<class 'numpy.float64'>'\n",
       "\twith 1618991 stored elements in Compressed Sparse Row format>"
      ]
     },
     "execution_count": 6,
     "metadata": {},
     "output_type": "execute_result"
    },
    {
     "name": "stdout",
     "output_type": "stream",
     "text": [
      "time: 2.57 ms (started: 2022-10-02 00:43:34 -07:00)\n"
     ]
    }
   ],
   "source": [
    "iclr_tfidf"
   ]
  },
  {
   "cell_type": "markdown",
   "id": "189887e0-ecb4-4c13-8389-1a2bdd1ef1b0",
   "metadata": {},
   "source": [
    "PCA to a dense representation should take less than 3GB and a few minutes to run:"
   ]
  },
  {
   "cell_type": "code",
   "execution_count": 7,
   "id": "b6dfe73e-dc53-49f6-bbc6-78a85f43cca4",
   "metadata": {},
   "outputs": [
    {
     "name": "stdout",
     "output_type": "stream",
     "text": [
      "time: 2min 41s (started: 2022-10-02 00:43:34 -07:00)\n"
     ]
    }
   ],
   "source": [
    "import sklearn.decomposition\n",
    "\n",
    "tsvd = sklearn.decomposition.TruncatedSVD(n_components=3000).fit(iclr_tfidf)"
   ]
  },
  {
   "cell_type": "code",
   "execution_count": 8,
   "id": "93f1cad3-ee2c-49ca-85d7-78107028a7a7",
   "metadata": {},
   "outputs": [
    {
     "data": {
      "text/plain": [
       "0.7653356697941727"
      ]
     },
     "execution_count": 8,
     "metadata": {},
     "output_type": "execute_result"
    },
    {
     "name": "stdout",
     "output_type": "stream",
     "text": [
      "time: 4.16 ms (started: 2022-10-02 00:46:16 -07:00)\n"
     ]
    }
   ],
   "source": [
    "np.sum(tsvd.explained_variance_ratio_)"
   ]
  },
  {
   "cell_type": "markdown",
   "id": "42625848-b726-4cca-8bf6-f7e2f82ccb4c",
   "metadata": {},
   "source": [
    "77% of variance explained with 3000 dimensions."
   ]
  },
  {
   "cell_type": "code",
   "execution_count": 9,
   "id": "87fdf2c7-7d48-4f76-9258-76b395ea1ff7",
   "metadata": {},
   "outputs": [
    {
     "name": "stdout",
     "output_type": "stream",
     "text": [
      "time: 2.89 s (started: 2022-10-02 00:46:16 -07:00)\n"
     ]
    }
   ],
   "source": [
    "data = tsvd.transform(iclr_tfidf)"
   ]
  },
  {
   "cell_type": "code",
   "execution_count": 10,
   "id": "1cb37ed8-8f8b-44ba-941c-8315ac861755",
   "metadata": {},
   "outputs": [
    {
     "name": "stdout",
     "output_type": "stream",
     "text": [
      "time: 1.7 ms (started: 2022-10-02 00:46:18 -07:00)\n"
     ]
    }
   ],
   "source": [
    "keywords = [\n",
    "    \"network\",\n",
    "    \"graph\",\n",
    "    \"reinforcement\",\n",
    "    \"language\",\n",
    "    \"adversarial\",\n",
    "    \"federated\",\n",
    "    \"contrastive\",\n",
    "    \"domain\",\n",
    "    \"generalization\",\n",
    "    \"detection\",\n",
    "    \"diffusion\",\n",
    "    \"recurrent\",\n",
    "]"
   ]
  },
  {
   "cell_type": "code",
   "execution_count": 11,
   "id": "ae6dac86-396e-4bf0-bc02-b62cb89400d8",
   "metadata": {
    "tags": []
   },
   "outputs": [
    {
     "name": "stdout",
     "output_type": "stream",
     "text": [
      "Learning             4078\n",
      "Neural               1824\n",
      "Networks             1459\n",
      "Reinforcement         807\n",
      "Models                719\n",
      "Graph                 711\n",
      "Adversarial           687\n",
      "Training              557\n",
      "Network               474\n",
      "Representation        473\n",
      "Model                 437\n",
      "Efficient             418\n",
      "Optimization          417\n",
      "Generative            394\n",
      "Language              363\n",
      "Representations       359\n",
      "Robust                320\n",
      "Generalization        311\n",
      "Gradient              310\n",
      "using                 305\n",
      "Image                 297\n",
      "learning              297\n",
      "Towards               294\n",
      "Federated             291\n",
      "Unsupervised          288\n",
      "Generation            273\n",
      "Detection             266\n",
      "Robustness            261\n",
      "Classification        255\n",
      "Policy                252\n",
      "Adaptive              240\n",
      "Contrastive           237\n",
      "time: 71.5 ms (started: 2022-10-02 00:46:18 -07:00)\n"
     ]
    }
   ],
   "source": [
    "# Most frequent words in the titles (at least 5 letters)\n",
    "\n",
    "words, counts = np.unique(\" \".join(titles).split(), return_counts=True)\n",
    "ind = np.argsort(counts)[::-1][:50]\n",
    "for i in ind:\n",
    "    if len(words[i]) >= 5:\n",
    "        print(f\"{words[i]:20} {counts[i]:4}\")"
   ]
  },
  {
   "cell_type": "markdown",
   "id": "0f5d3417-e85f-4d7d-b400-91ed456bf746",
   "metadata": {},
   "source": [
    "Some processing of the text is necessary. To do this properly you may want to consider looking into the likes of [nltk](https://www.nltk.org/) for more robust handling of text (see for example this [article](https://towardsdatascience.com/tf-idf-for-document-ranking-from-scratch-in-python-on-real-world-dataset-796d339a4089)), but I am just going to make everything lower-case and then remove some symbols. This seems good enough for this dataset."
   ]
  },
  {
   "cell_type": "code",
   "execution_count": 12,
   "id": "4feda20c-bd04-4fda-8931-4f7bdb7e6eee",
   "metadata": {},
   "outputs": [
    {
     "name": "stdout",
     "output_type": "stream",
     "text": [
      "time: 1.57 s (started: 2022-10-02 00:46:18 -07:00)\n"
     ]
    }
   ],
   "source": [
    "def remove_symbols(text):\n",
    "    symbols = '!\"#$%&()*+-,./:;<=>?@[\\]^_`{|}~\\n'\n",
    "    for i in symbols:\n",
    "        text = np.char.replace(text, i, \" \")\n",
    "    return text.tolist()\n",
    "\n",
    "\n",
    "processed_titles = [remove_symbols(title.lower()) for title in titles]"
   ]
  },
  {
   "cell_type": "code",
   "execution_count": 13,
   "id": "e414dd9b-bc05-4699-8c7a-97290b2244a0",
   "metadata": {},
   "outputs": [
    {
     "data": {
      "text/plain": [
       "(['Predicting Floor-Level for 911 Calls with Neural Networks and Smartphone Sensor Data',\n",
       "  'Some Considerations on Learning to Explore via Meta-Reinforcement Learning',\n",
       "  'MACH: Embarrassingly parallel $K$-class classification in $O(d\\\\log{K})$ memory and $O(K\\\\log{K} + d\\\\log{K})$ time, instead of $O(Kd)$',\n",
       "  'Deterministic Policy Imitation Gradient Algorithm',\n",
       "  'Searching for Activation Functions'],\n",
       " ['predicting floor level for 911 calls with neural networks and smartphone sensor data',\n",
       "  'some considerations on learning to explore via meta reinforcement learning',\n",
       "  'mach  embarrassingly parallel  k  class classification in  o d log k    memory and  o k log k    d log k    time  instead of  o kd  ',\n",
       "  'deterministic policy imitation gradient algorithm',\n",
       "  'searching for activation functions'])"
      ]
     },
     "execution_count": 13,
     "metadata": {},
     "output_type": "execute_result"
    },
    {
     "name": "stdout",
     "output_type": "stream",
     "text": [
      "time: 2.56 ms (started: 2022-10-02 00:46:20 -07:00)\n"
     ]
    }
   ],
   "source": [
    "titles[:5], processed_titles[:5]"
   ]
  },
  {
   "cell_type": "code",
   "execution_count": 14,
   "id": "a1a3728c-d0af-46cd-8263-ad5e00f2f529",
   "metadata": {},
   "outputs": [
    {
     "name": "stdout",
     "output_type": "stream",
     "text": [
      "reinforcement         879\n",
      "graph                 833\n",
      "adversarial           769\n",
      "network               615\n",
      "language              471\n",
      "generalization        376\n",
      "detection             324\n",
      "domain                314\n",
      "federated             303\n",
      "contrastive           268\n",
      "recurrent             151\n",
      "diffusion             149\n",
      "time: 81.6 ms (started: 2022-10-02 00:46:20 -07:00)\n"
     ]
    }
   ],
   "source": [
    "words, counts = np.unique(\" \".join(processed_titles).split(), return_counts=True)\n",
    "ind = np.argsort(counts)[::-1]\n",
    "for i in ind:\n",
    "    if len(words[i]) >= 5:\n",
    "        if words[i] in keywords:\n",
    "            print(f\"{words[i]:20} {counts[i]:4}\")"
   ]
  },
  {
   "cell_type": "markdown",
   "id": "4b712e2d-0df9-41d2-b7b7-2dc8ac966ca6",
   "metadata": {},
   "source": [
    "As a rough way to see what titles we are missing due to bad processing, here the same procedure but allowing through any words that begin with the keywords, so we pickup any plurals or when it's part of a compound adjective:"
   ]
  },
  {
   "cell_type": "code",
   "execution_count": 15,
   "id": "4f3ad68f-4895-4935-b4ea-0a0127de7ba8",
   "metadata": {},
   "outputs": [
    {
     "name": "stdout",
     "output_type": "stream",
     "text": [
      "networks             1814\n",
      "reinforcement         879\n",
      "graph                 833\n",
      "adversarial           769\n",
      "network               615\n",
      "language              471\n",
      "generalization        376\n",
      "detection             324\n",
      "domain                314\n",
      "federated             303\n",
      "contrastive           268\n",
      "recurrent             151\n",
      "diffusion             149\n",
      "graphs                135\n",
      "adversarially          42\n",
      "domains                34\n",
      "languages              16\n",
      "graphics                6\n",
      "networked               4\n",
      "graphical               4\n",
      "graph2seq               3\n",
      "diffusions              3\n",
      "graphon                 2\n",
      "graphic                 2\n",
      "contrastively           1\n",
      "graphzoom               1\n",
      "graphvf                 1\n",
      "graphvae                1\n",
      "grapheditor             1\n",
      "graphaf                 1\n",
      "graphcg                 1\n",
      "graphcgan               1\n",
      "graphcodebert           1\n",
      "graphcore               1\n",
      "graphebm                1\n",
      "graphens                1\n",
      "graphseq2seq            1\n",
      "graphgan                1\n",
      "graphix                 1\n",
      "graphlog                1\n",
      "graphmix                1\n",
      "graphnvp                1\n",
      "graphpnas               1\n",
      "graphqa                 1\n",
      "graphsad                1\n",
      "graphsaint              1\n",
      "graphsensor             1\n",
      "networks'               1\n",
      "networks’               1\n",
      "time: 109 ms (started: 2022-10-02 00:46:20 -07:00)\n"
     ]
    }
   ],
   "source": [
    "words, counts = np.unique(\" \".join(processed_titles).split(), return_counts=True)\n",
    "ind = np.argsort(counts)[::-1]\n",
    "for i in ind:\n",
    "    if len(words[i]) >= 5:\n",
    "        for k in keywords:\n",
    "            if words[i].startswith(k):\n",
    "                print(f\"{words[i]:20} {counts[i]:4}\")\n",
    "                break"
   ]
  },
  {
   "cell_type": "code",
   "execution_count": 16,
   "id": "66a30685-c90d-4fb5-9084-4e82fd954148",
   "metadata": {},
   "outputs": [
    {
     "data": {
      "text/plain": [
       "['reinforcement',\n",
       " 'graph',\n",
       " 'adversarial',\n",
       " 'network',\n",
       " 'language',\n",
       " 'generalization',\n",
       " 'detection',\n",
       " 'domain',\n",
       " 'federated',\n",
       " 'contrastive',\n",
       " 'recurrent',\n",
       " 'diffusion']"
      ]
     },
     "execution_count": 16,
     "metadata": {},
     "output_type": "execute_result"
    },
    {
     "name": "stdout",
     "output_type": "stream",
     "text": [
      "time: 71.6 ms (started: 2022-10-02 00:46:20 -07:00)\n"
     ]
    }
   ],
   "source": [
    "ordered_keywords = []\n",
    "words, counts = np.unique(\" \".join(processed_titles).split(), return_counts=True)\n",
    "ind = np.argsort(counts)[::-1]\n",
    "for i in ind:\n",
    "    if len(words[i]) >= 5:\n",
    "        if words[i] in keywords:\n",
    "            ordered_keywords.append(words[i])\n",
    "ordered_keywords"
   ]
  },
  {
   "cell_type": "code",
   "execution_count": 17,
   "id": "9e4e2d90-57ca-49b0-b0c8-5ecf6f8c6fe3",
   "metadata": {},
   "outputs": [
    {
     "name": "stdout",
     "output_type": "stream",
     "text": [
      "time: 52.3 ms (started: 2022-10-02 00:46:20 -07:00)\n"
     ]
    }
   ],
   "source": [
    "levels = np.repeat(len(ordered_keywords), len(processed_titles))\n",
    "for level_int, keyword in enumerate(ordered_keywords):\n",
    "    ind = [i for i, t in enumerate(titles) if keyword.lower() in t.lower()]\n",
    "    levels[ind] = level_int\n",
    "ordered_keywords.append(\"unknown\")"
   ]
  },
  {
   "cell_type": "code",
   "execution_count": 18,
   "id": "50b55aa4-3f66-47ce-8c91-2730774e445d",
   "metadata": {},
   "outputs": [
    {
     "data": {
      "text/plain": [
       "array([ 3,  0, 12, ...,  0, 12,  0])"
      ]
     },
     "execution_count": 18,
     "metadata": {},
     "output_type": "execute_result"
    },
    {
     "name": "stdout",
     "output_type": "stream",
     "text": [
      "time: 3.9 ms (started: 2022-10-02 00:46:20 -07:00)\n"
     ]
    }
   ],
   "source": [
    "levels"
   ]
  },
  {
   "cell_type": "code",
   "execution_count": 19,
   "id": "1d51fc70-8eda-4d37-9a51-c5f14962eaae",
   "metadata": {},
   "outputs": [
    {
     "data": {
      "text/plain": [
       "0               network\n",
       "1         reinforcement\n",
       "2               unknown\n",
       "3               unknown\n",
       "4               unknown\n",
       "              ...      \n",
       "14727           unknown\n",
       "14728    generalization\n",
       "14729     reinforcement\n",
       "14730           unknown\n",
       "14731     reinforcement\n",
       "Name: description, Length: 14732, dtype: category\n",
       "Categories (13, object): ['adversarial', 'contrastive', 'detection', 'diffusion', ..., 'network', 'recurrent', 'reinforcement', 'unknown']"
      ]
     },
     "execution_count": 19,
     "metadata": {},
     "output_type": "execute_result"
    },
    {
     "name": "stdout",
     "output_type": "stream",
     "text": [
      "time: 12.9 ms (started: 2022-10-02 00:46:20 -07:00)\n"
     ]
    }
   ],
   "source": [
    "from drnb.util import codes_to_categories\n",
    "\n",
    "description = codes_to_categories(levels, ordered_keywords, \"description\")\n",
    "description"
   ]
  },
  {
   "cell_type": "markdown",
   "id": "b0909194-dcb8-4ade-9aa5-430779adc719",
   "metadata": {},
   "source": [
    "## Pipeline"
   ]
  },
  {
   "cell_type": "code",
   "execution_count": 27,
   "id": "7c89153d-3818-45f9-822d-2905d8b1fb9d",
   "metadata": {},
   "outputs": [
    {
     "data": {
      "text/html": [
       "<div>\n",
       "<style scoped>\n",
       "    .dataframe tbody tr th:only-of-type {\n",
       "        vertical-align: middle;\n",
       "    }\n",
       "\n",
       "    .dataframe tbody tr th {\n",
       "        vertical-align: top;\n",
       "    }\n",
       "\n",
       "    .dataframe thead th {\n",
       "        text-align: right;\n",
       "    }\n",
       "</style>\n",
       "<table border=\"1\" class=\"dataframe\">\n",
       "  <thead>\n",
       "    <tr style=\"text-align: right;\">\n",
       "      <th></th>\n",
       "      <th>year</th>\n",
       "      <th>class</th>\n",
       "      <th>description</th>\n",
       "    </tr>\n",
       "  </thead>\n",
       "  <tbody>\n",
       "    <tr>\n",
       "      <th>0</th>\n",
       "      <td>2018</td>\n",
       "      <td>3</td>\n",
       "      <td>network</td>\n",
       "    </tr>\n",
       "    <tr>\n",
       "      <th>1</th>\n",
       "      <td>2018</td>\n",
       "      <td>0</td>\n",
       "      <td>reinforcement</td>\n",
       "    </tr>\n",
       "    <tr>\n",
       "      <th>2</th>\n",
       "      <td>2018</td>\n",
       "      <td>12</td>\n",
       "      <td>unknown</td>\n",
       "    </tr>\n",
       "    <tr>\n",
       "      <th>3</th>\n",
       "      <td>2018</td>\n",
       "      <td>12</td>\n",
       "      <td>unknown</td>\n",
       "    </tr>\n",
       "    <tr>\n",
       "      <th>4</th>\n",
       "      <td>2018</td>\n",
       "      <td>12</td>\n",
       "      <td>unknown</td>\n",
       "    </tr>\n",
       "    <tr>\n",
       "      <th>...</th>\n",
       "      <td>...</td>\n",
       "      <td>...</td>\n",
       "      <td>...</td>\n",
       "    </tr>\n",
       "    <tr>\n",
       "      <th>14727</th>\n",
       "      <td>2023</td>\n",
       "      <td>12</td>\n",
       "      <td>unknown</td>\n",
       "    </tr>\n",
       "    <tr>\n",
       "      <th>14728</th>\n",
       "      <td>2023</td>\n",
       "      <td>5</td>\n",
       "      <td>generalization</td>\n",
       "    </tr>\n",
       "    <tr>\n",
       "      <th>14729</th>\n",
       "      <td>2023</td>\n",
       "      <td>0</td>\n",
       "      <td>reinforcement</td>\n",
       "    </tr>\n",
       "    <tr>\n",
       "      <th>14730</th>\n",
       "      <td>2023</td>\n",
       "      <td>12</td>\n",
       "      <td>unknown</td>\n",
       "    </tr>\n",
       "    <tr>\n",
       "      <th>14731</th>\n",
       "      <td>2023</td>\n",
       "      <td>0</td>\n",
       "      <td>reinforcement</td>\n",
       "    </tr>\n",
       "  </tbody>\n",
       "</table>\n",
       "<p>14732 rows × 3 columns</p>\n",
       "</div>"
      ],
      "text/plain": [
       "       year  class     description\n",
       "0      2018      3         network\n",
       "1      2018      0   reinforcement\n",
       "2      2018     12         unknown\n",
       "3      2018     12         unknown\n",
       "4      2018     12         unknown\n",
       "...     ...    ...             ...\n",
       "14727  2023     12         unknown\n",
       "14728  2023      5  generalization\n",
       "14729  2023      0   reinforcement\n",
       "14730  2023     12         unknown\n",
       "14731  2023      0   reinforcement\n",
       "\n",
       "[14732 rows x 3 columns]"
      ]
     },
     "execution_count": 27,
     "metadata": {},
     "output_type": "execute_result"
    },
    {
     "name": "stdout",
     "output_type": "stream",
     "text": [
      "time: 15.4 ms (started: 2022-10-02 01:15:57 -07:00)\n"
     ]
    }
   ],
   "source": [
    "target = pd.concat(\n",
    "    [\n",
    "        pd.Series(years, name=\"year\", dtype=\"category\"),\n",
    "        pd.Series(levels, name=\"class\"),\n",
    "        description,\n",
    "    ],\n",
    "    axis=1,\n",
    ")\n",
    "target"
   ]
  },
  {
   "cell_type": "code",
   "execution_count": 24,
   "id": "595211f2-2c22-49d8-98d4-e344544389e8",
   "metadata": {},
   "outputs": [
    {
     "data": {
      "text/plain": [
       "{'description': {'reinforcement': '#8dd3c7',\n",
       "  'graph': '#ffffb3',\n",
       "  'adversarial': '#bebada',\n",
       "  'network': '#fb8072',\n",
       "  'language': '#80b1d3',\n",
       "  'generalization': '#fdb462',\n",
       "  'detection': '#b3de69',\n",
       "  'domain': '#fccde5',\n",
       "  'federated': '#d9d9d9',\n",
       "  'contrastive': '#bc80bd',\n",
       "  'recurrent': '#ccebc5',\n",
       "  'diffusion': '#ffed6f',\n",
       "  'unknown': '#f6f6f6'}}"
      ]
     },
     "execution_count": 24,
     "metadata": {},
     "output_type": "execute_result"
    },
    {
     "name": "stdout",
     "output_type": "stream",
     "text": [
      "time: 6.73 ms (started: 2022-10-02 01:05:18 -07:00)\n"
     ]
    }
   ],
   "source": [
    "palette = dict(\n",
    "    description=dict(\n",
    "        zip(\n",
    "            ordered_keywords,\n",
    "            [\n",
    "                \"#8dd3c7\",\n",
    "                \"#ffffb3\",\n",
    "                \"#bebada\",\n",
    "                \"#fb8072\",\n",
    "                \"#80b1d3\",\n",
    "                \"#fdb462\",\n",
    "                \"#b3de69\",\n",
    "                \"#fccde5\",\n",
    "                \"#d9d9d9\",\n",
    "                \"#bc80bd\",\n",
    "                \"#ccebc5\",\n",
    "                \"#ffed6f\",\n",
    "                \"#f6f6f6\",\n",
    "            ],\n",
    "        )\n",
    "    )\n",
    ")\n",
    "palette"
   ]
  },
  {
   "cell_type": "code",
   "execution_count": 28,
   "id": "4435717e-c2ff-4353-8ba2-4d52b1184743",
   "metadata": {},
   "outputs": [
    {
     "data": {
      "text/html": [
       "<pre style=\"white-space:pre;overflow-x:auto;line-height:normal;font-family:Menlo,'DejaVu Sans Mono',consolas,'Courier New',monospace\"><span style=\"color: #7fbfbf; text-decoration-color: #7fbfbf\">[01:16:45] </span><span style=\"color: #000080; text-decoration-color: #000080\">INFO    </span> Requesting one extra neighbor to account for self-neighbor                      <a href=\"file:///home/james/dev/drnb/src/drnb/neighbors/__init__.py\" target=\"_blank\"><span style=\"color: #7f7f7f; text-decoration-color: #7f7f7f\">__init__.py</span></a><span style=\"color: #7f7f7f; text-decoration-color: #7f7f7f\">:</span><a href=\"file:///home/james/dev/drnb/src/drnb/neighbors/__init__.py#483\" target=\"_blank\"><span style=\"color: #7f7f7f; text-decoration-color: #7f7f7f\">483</span></a>\n",
       "</pre>\n"
      ],
      "text/plain": [
       "\u001b[2;36m[01:16:45]\u001b[0m\u001b[2;36m \u001b[0m\u001b[34mINFO    \u001b[0m Requesting one extra neighbor to account for self-neighbor                      \u001b]8;id=16469;file:///home/james/dev/drnb/src/drnb/neighbors/__init__.py\u001b\\\u001b[2m__init__.py\u001b[0m\u001b]8;;\u001b\\\u001b[2m:\u001b[0m\u001b]8;id=539088;file:///home/james/dev/drnb/src/drnb/neighbors/__init__.py#483\u001b\\\u001b[2m483\u001b[0m\u001b]8;;\u001b\\\n"
      ]
     },
     "metadata": {},
     "output_type": "display_data"
    },
    {
     "data": {
      "text/html": [
       "<pre style=\"white-space:pre;overflow-x:auto;line-height:normal;font-family:Menlo,'DejaVu Sans Mono',consolas,'Courier New',monospace\"><span style=\"color: #7fbfbf; text-decoration-color: #7fbfbf\">           </span><span style=\"color: #000080; text-decoration-color: #000080\">INFO    </span> Initial data shape: <span style=\"font-weight: bold\">(</span><span style=\"color: #008080; text-decoration-color: #008080; font-weight: bold\">14732</span>, <span style=\"color: #008080; text-decoration-color: #008080; font-weight: bold\">3000</span><span style=\"font-weight: bold\">)</span>                                                <a href=\"file:///home/james/dev/drnb/src/drnb/io/pipeline.py\" target=\"_blank\"><span style=\"color: #7f7f7f; text-decoration-color: #7f7f7f\">pipeline.py</span></a><span style=\"color: #7f7f7f; text-decoration-color: #7f7f7f\">:</span><a href=\"file:///home/james/dev/drnb/src/drnb/io/pipeline.py#75\" target=\"_blank\"><span style=\"color: #7f7f7f; text-decoration-color: #7f7f7f\">75</span></a>\n",
       "</pre>\n"
      ],
      "text/plain": [
       "\u001b[2;36m          \u001b[0m\u001b[2;36m \u001b[0m\u001b[34mINFO    \u001b[0m Initial data shape: \u001b[1m(\u001b[0m\u001b[1;36m14732\u001b[0m, \u001b[1;36m3000\u001b[0m\u001b[1m)\u001b[0m                                                \u001b]8;id=523818;file:///home/james/dev/drnb/src/drnb/io/pipeline.py\u001b\\\u001b[2mpipeline.py\u001b[0m\u001b]8;;\u001b\\\u001b[2m:\u001b[0m\u001b]8;id=784189;file:///home/james/dev/drnb/src/drnb/io/pipeline.py#75\u001b\\\u001b[2m75\u001b[0m\u001b]8;;\u001b\\\n"
      ]
     },
     "metadata": {},
     "output_type": "display_data"
    },
    {
     "data": {
      "text/html": [
       "<pre style=\"white-space:pre;overflow-x:auto;line-height:normal;font-family:Menlo,'DejaVu Sans Mono',consolas,'Courier New',monospace\"><span style=\"color: #7fbfbf; text-decoration-color: #7fbfbf\">           </span><span style=\"color: #000080; text-decoration-color: #000080\">INFO    </span> Keeping all columns                                                            <a href=\"file:///home/james/dev/drnb/src/drnb/preprocess.py\" target=\"_blank\"><span style=\"color: #7f7f7f; text-decoration-color: #7f7f7f\">preprocess.py</span></a><span style=\"color: #7f7f7f; text-decoration-color: #7f7f7f\">:</span><a href=\"file:///home/james/dev/drnb/src/drnb/preprocess.py#67\" target=\"_blank\"><span style=\"color: #7f7f7f; text-decoration-color: #7f7f7f\">67</span></a>\n",
       "</pre>\n"
      ],
      "text/plain": [
       "\u001b[2;36m          \u001b[0m\u001b[2;36m \u001b[0m\u001b[34mINFO    \u001b[0m Keeping all columns                                                            \u001b]8;id=352633;file:///home/james/dev/drnb/src/drnb/preprocess.py\u001b\\\u001b[2mpreprocess.py\u001b[0m\u001b]8;;\u001b\\\u001b[2m:\u001b[0m\u001b]8;id=745578;file:///home/james/dev/drnb/src/drnb/preprocess.py#67\u001b\\\u001b[2m67\u001b[0m\u001b]8;;\u001b\\\n"
      ]
     },
     "metadata": {},
     "output_type": "display_data"
    },
    {
     "data": {
      "text/html": [
       "<pre style=\"white-space:pre;overflow-x:auto;line-height:normal;font-family:Menlo,'DejaVu Sans Mono',consolas,'Courier New',monospace\"><span style=\"color: #7fbfbf; text-decoration-color: #7fbfbf\">           </span><span style=\"color: #000080; text-decoration-color: #000080\">INFO    </span> Data shape after filtering columns: <span style=\"font-weight: bold\">(</span><span style=\"color: #008080; text-decoration-color: #008080; font-weight: bold\">14732</span>, <span style=\"color: #008080; text-decoration-color: #008080; font-weight: bold\">3000</span><span style=\"font-weight: bold\">)</span>                               <a href=\"file:///home/james/dev/drnb/src/drnb/io/pipeline.py\" target=\"_blank\"><span style=\"color: #7f7f7f; text-decoration-color: #7f7f7f\">pipeline.py</span></a><span style=\"color: #7f7f7f; text-decoration-color: #7f7f7f\">:</span><a href=\"file:///home/james/dev/drnb/src/drnb/io/pipeline.py#146\" target=\"_blank\"><span style=\"color: #7f7f7f; text-decoration-color: #7f7f7f\">146</span></a>\n",
       "</pre>\n"
      ],
      "text/plain": [
       "\u001b[2;36m          \u001b[0m\u001b[2;36m \u001b[0m\u001b[34mINFO    \u001b[0m Data shape after filtering columns: \u001b[1m(\u001b[0m\u001b[1;36m14732\u001b[0m, \u001b[1;36m3000\u001b[0m\u001b[1m)\u001b[0m                               \u001b]8;id=491204;file:///home/james/dev/drnb/src/drnb/io/pipeline.py\u001b\\\u001b[2mpipeline.py\u001b[0m\u001b]8;;\u001b\\\u001b[2m:\u001b[0m\u001b]8;id=670171;file:///home/james/dev/drnb/src/drnb/io/pipeline.py#146\u001b\\\u001b[2m146\u001b[0m\u001b]8;;\u001b\\\n"
      ]
     },
     "metadata": {},
     "output_type": "display_data"
    },
    {
     "data": {
      "text/html": [
       "<pre style=\"white-space:pre;overflow-x:auto;line-height:normal;font-family:Menlo,'DejaVu Sans Mono',consolas,'Courier New',monospace\"><span style=\"color: #7fbfbf; text-decoration-color: #7fbfbf\">           </span><span style=\"color: #000080; text-decoration-color: #000080\">INFO    </span> Removing rows with NAs                                                          <a href=\"file:///home/james/dev/drnb/src/drnb/io/pipeline.py\" target=\"_blank\"><span style=\"color: #7f7f7f; text-decoration-color: #7f7f7f\">pipeline.py</span></a><span style=\"color: #7f7f7f; text-decoration-color: #7f7f7f\">:</span><a href=\"file:///home/james/dev/drnb/src/drnb/io/pipeline.py#130\" target=\"_blank\"><span style=\"color: #7f7f7f; text-decoration-color: #7f7f7f\">130</span></a>\n",
       "</pre>\n"
      ],
      "text/plain": [
       "\u001b[2;36m          \u001b[0m\u001b[2;36m \u001b[0m\u001b[34mINFO    \u001b[0m Removing rows with NAs                                                          \u001b]8;id=115635;file:///home/james/dev/drnb/src/drnb/io/pipeline.py\u001b\\\u001b[2mpipeline.py\u001b[0m\u001b]8;;\u001b\\\u001b[2m:\u001b[0m\u001b]8;id=133629;file:///home/james/dev/drnb/src/drnb/io/pipeline.py#130\u001b\\\u001b[2m130\u001b[0m\u001b]8;;\u001b\\\n"
      ]
     },
     "metadata": {},
     "output_type": "display_data"
    },
    {
     "data": {
      "text/html": [
       "<pre style=\"white-space:pre;overflow-x:auto;line-height:normal;font-family:Menlo,'DejaVu Sans Mono',consolas,'Courier New',monospace\"><span style=\"color: #7fbfbf; text-decoration-color: #7fbfbf\">           </span><span style=\"color: #000080; text-decoration-color: #000080\">INFO    </span> Data shape after filtering NAs: <span style=\"font-weight: bold\">(</span><span style=\"color: #008080; text-decoration-color: #008080; font-weight: bold\">14732</span>, <span style=\"color: #008080; text-decoration-color: #008080; font-weight: bold\">3000</span><span style=\"font-weight: bold\">)</span>                                   <a href=\"file:///home/james/dev/drnb/src/drnb/io/pipeline.py\" target=\"_blank\"><span style=\"color: #7f7f7f; text-decoration-color: #7f7f7f\">pipeline.py</span></a><span style=\"color: #7f7f7f; text-decoration-color: #7f7f7f\">:</span><a href=\"file:///home/james/dev/drnb/src/drnb/io/pipeline.py#141\" target=\"_blank\"><span style=\"color: #7f7f7f; text-decoration-color: #7f7f7f\">141</span></a>\n",
       "</pre>\n"
      ],
      "text/plain": [
       "\u001b[2;36m          \u001b[0m\u001b[2;36m \u001b[0m\u001b[34mINFO    \u001b[0m Data shape after filtering NAs: \u001b[1m(\u001b[0m\u001b[1;36m14732\u001b[0m, \u001b[1;36m3000\u001b[0m\u001b[1m)\u001b[0m                                   \u001b]8;id=683088;file:///home/james/dev/drnb/src/drnb/io/pipeline.py\u001b\\\u001b[2mpipeline.py\u001b[0m\u001b]8;;\u001b\\\u001b[2m:\u001b[0m\u001b]8;id=386623;file:///home/james/dev/drnb/src/drnb/io/pipeline.py#141\u001b\\\u001b[2m141\u001b[0m\u001b]8;;\u001b\\\n"
      ]
     },
     "metadata": {},
     "output_type": "display_data"
    },
    {
     "data": {
      "text/html": [
       "<pre style=\"white-space:pre;overflow-x:auto;line-height:normal;font-family:Menlo,'DejaVu Sans Mono',consolas,'Courier New',monospace\"><span style=\"color: #7fbfbf; text-decoration-color: #7fbfbf\">           </span><span style=\"color: #000080; text-decoration-color: #000080\">INFO    </span> Checked for duplicates: found <span style=\"color: #008080; text-decoration-color: #008080; font-weight: bold\">7</span>                                                 <a href=\"file:///home/james/dev/drnb/src/drnb/io/pipeline.py\" target=\"_blank\"><span style=\"color: #7f7f7f; text-decoration-color: #7f7f7f\">pipeline.py</span></a><span style=\"color: #7f7f7f; text-decoration-color: #7f7f7f\">:</span><a href=\"file:///home/james/dev/drnb/src/drnb/io/pipeline.py#153\" target=\"_blank\"><span style=\"color: #7f7f7f; text-decoration-color: #7f7f7f\">153</span></a>\n",
       "</pre>\n"
      ],
      "text/plain": [
       "\u001b[2;36m          \u001b[0m\u001b[2;36m \u001b[0m\u001b[34mINFO    \u001b[0m Checked for duplicates: found \u001b[1;36m7\u001b[0m                                                 \u001b]8;id=634561;file:///home/james/dev/drnb/src/drnb/io/pipeline.py\u001b\\\u001b[2mpipeline.py\u001b[0m\u001b]8;;\u001b\\\u001b[2m:\u001b[0m\u001b]8;id=637999;file:///home/james/dev/drnb/src/drnb/io/pipeline.py#153\u001b\\\u001b[2m153\u001b[0m\u001b]8;;\u001b\\\n"
      ]
     },
     "metadata": {},
     "output_type": "display_data"
    },
    {
     "data": {
      "text/html": [
       "<pre style=\"white-space:pre;overflow-x:auto;line-height:normal;font-family:Menlo,'DejaVu Sans Mono',consolas,'Courier New',monospace\"><span style=\"color: #7fbfbf; text-decoration-color: #7fbfbf\">           </span><span style=\"color: #000080; text-decoration-color: #000080\">INFO    </span> No scaling                                                                     <a href=\"file:///home/james/dev/drnb/src/drnb/preprocess.py\" target=\"_blank\"><span style=\"color: #7f7f7f; text-decoration-color: #7f7f7f\">preprocess.py</span></a><span style=\"color: #7f7f7f; text-decoration-color: #7f7f7f\">:</span><a href=\"file:///home/james/dev/drnb/src/drnb/preprocess.py#25\" target=\"_blank\"><span style=\"color: #7f7f7f; text-decoration-color: #7f7f7f\">25</span></a>\n",
       "</pre>\n"
      ],
      "text/plain": [
       "\u001b[2;36m          \u001b[0m\u001b[2;36m \u001b[0m\u001b[34mINFO    \u001b[0m No scaling                                                                     \u001b]8;id=613204;file:///home/james/dev/drnb/src/drnb/preprocess.py\u001b\\\u001b[2mpreprocess.py\u001b[0m\u001b]8;;\u001b\\\u001b[2m:\u001b[0m\u001b]8;id=227570;file:///home/james/dev/drnb/src/drnb/preprocess.py#25\u001b\\\u001b[2m25\u001b[0m\u001b]8;;\u001b\\\n"
      ]
     },
     "metadata": {},
     "output_type": "display_data"
    },
    {
     "data": {
      "text/html": [
       "<pre style=\"white-space:pre;overflow-x:auto;line-height:normal;font-family:Menlo,'DejaVu Sans Mono',consolas,'Courier New',monospace\"><span style=\"color: #7fbfbf; text-decoration-color: #7fbfbf\">           </span><span style=\"color: #000080; text-decoration-color: #000080\">INFO    </span> Converting to numpy with <span style=\"font-weight: bold\">{</span><span style=\"color: #008000; text-decoration-color: #008000\">'dtype'</span>: <span style=\"color: #008000; text-decoration-color: #008000\">'float32'</span>, <span style=\"color: #008000; text-decoration-color: #008000\">'layout'</span>: <span style=\"color: #008000; text-decoration-color: #008000\">'c'</span><span style=\"font-weight: bold\">}</span>                    <a href=\"file:///home/james/dev/drnb/src/drnb/io/pipeline.py\" target=\"_blank\"><span style=\"color: #7f7f7f; text-decoration-color: #7f7f7f\">pipeline.py</span></a><span style=\"color: #7f7f7f; text-decoration-color: #7f7f7f\">:</span><a href=\"file:///home/james/dev/drnb/src/drnb/io/pipeline.py#158\" target=\"_blank\"><span style=\"color: #7f7f7f; text-decoration-color: #7f7f7f\">158</span></a>\n",
       "</pre>\n"
      ],
      "text/plain": [
       "\u001b[2;36m          \u001b[0m\u001b[2;36m \u001b[0m\u001b[34mINFO    \u001b[0m Converting to numpy with \u001b[1m{\u001b[0m\u001b[32m'dtype'\u001b[0m: \u001b[32m'float32'\u001b[0m, \u001b[32m'layout'\u001b[0m: \u001b[32m'c'\u001b[0m\u001b[1m}\u001b[0m                    \u001b]8;id=694392;file:///home/james/dev/drnb/src/drnb/io/pipeline.py\u001b\\\u001b[2mpipeline.py\u001b[0m\u001b]8;;\u001b\\\u001b[2m:\u001b[0m\u001b]8;id=150165;file:///home/james/dev/drnb/src/drnb/io/pipeline.py#158\u001b\\\u001b[2m158\u001b[0m\u001b]8;;\u001b\\\n"
      ]
     },
     "metadata": {},
     "output_type": "display_data"
    },
    {
     "data": {
      "text/html": [
       "<pre style=\"white-space:pre;overflow-x:auto;line-height:normal;font-family:Menlo,'DejaVu Sans Mono',consolas,'Courier New',monospace\"><span style=\"color: #7fbfbf; text-decoration-color: #7fbfbf\">           </span><span style=\"color: #000080; text-decoration-color: #000080\">INFO    </span> Writing data for iclr                                                           <a href=\"file:///home/james/dev/drnb/src/drnb/io/pipeline.py\" target=\"_blank\"><span style=\"color: #7f7f7f; text-decoration-color: #7f7f7f\">pipeline.py</span></a><span style=\"color: #7f7f7f; text-decoration-color: #7f7f7f\">:</span><a href=\"file:///home/james/dev/drnb/src/drnb/io/pipeline.py#220\" target=\"_blank\"><span style=\"color: #7f7f7f; text-decoration-color: #7f7f7f\">220</span></a>\n",
       "</pre>\n"
      ],
      "text/plain": [
       "\u001b[2;36m          \u001b[0m\u001b[2;36m \u001b[0m\u001b[34mINFO    \u001b[0m Writing data for iclr                                                           \u001b]8;id=813226;file:///home/james/dev/drnb/src/drnb/io/pipeline.py\u001b\\\u001b[2mpipeline.py\u001b[0m\u001b]8;;\u001b\\\u001b[2m:\u001b[0m\u001b]8;id=548243;file:///home/james/dev/drnb/src/drnb/io/pipeline.py#220\u001b\\\u001b[2m220\u001b[0m\u001b]8;;\u001b\\\n"
      ]
     },
     "metadata": {},
     "output_type": "display_data"
    },
    {
     "data": {
      "text/html": [
       "<pre style=\"white-space:pre;overflow-x:auto;line-height:normal;font-family:Menlo,'DejaVu Sans Mono',consolas,'Courier New',monospace\"><span style=\"color: #7fbfbf; text-decoration-color: #7fbfbf\">[01:17:16] </span><span style=\"color: #000080; text-decoration-color: #000080\">INFO    </span> Processing target with initial shape <span style=\"font-weight: bold\">(</span><span style=\"color: #008080; text-decoration-color: #008080; font-weight: bold\">14732</span>, <span style=\"color: #008080; text-decoration-color: #008080; font-weight: bold\">3</span><span style=\"font-weight: bold\">)</span>                                 <a href=\"file:///home/james/dev/drnb/src/drnb/io/pipeline.py\" target=\"_blank\"><span style=\"color: #7f7f7f; text-decoration-color: #7f7f7f\">pipeline.py</span></a><span style=\"color: #7f7f7f; text-decoration-color: #7f7f7f\">:</span><a href=\"file:///home/james/dev/drnb/src/drnb/io/pipeline.py#191\" target=\"_blank\"><span style=\"color: #7f7f7f; text-decoration-color: #7f7f7f\">191</span></a>\n",
       "</pre>\n"
      ],
      "text/plain": [
       "\u001b[2;36m[01:17:16]\u001b[0m\u001b[2;36m \u001b[0m\u001b[34mINFO    \u001b[0m Processing target with initial shape \u001b[1m(\u001b[0m\u001b[1;36m14732\u001b[0m, \u001b[1;36m3\u001b[0m\u001b[1m)\u001b[0m                                 \u001b]8;id=647967;file:///home/james/dev/drnb/src/drnb/io/pipeline.py\u001b\\\u001b[2mpipeline.py\u001b[0m\u001b]8;;\u001b\\\u001b[2m:\u001b[0m\u001b]8;id=989064;file:///home/james/dev/drnb/src/drnb/io/pipeline.py#191\u001b\\\u001b[2m191\u001b[0m\u001b]8;;\u001b\\\n"
      ]
     },
     "metadata": {},
     "output_type": "display_data"
    },
    {
     "data": {
      "text/html": [
       "<pre style=\"white-space:pre;overflow-x:auto;line-height:normal;font-family:Menlo,'DejaVu Sans Mono',consolas,'Courier New',monospace\"><span style=\"color: #7fbfbf; text-decoration-color: #7fbfbf\">           </span><span style=\"color: #000080; text-decoration-color: #000080\">INFO    </span> Keeping all columns                                                            <a href=\"file:///home/james/dev/drnb/src/drnb/preprocess.py\" target=\"_blank\"><span style=\"color: #7f7f7f; text-decoration-color: #7f7f7f\">preprocess.py</span></a><span style=\"color: #7f7f7f; text-decoration-color: #7f7f7f\">:</span><a href=\"file:///home/james/dev/drnb/src/drnb/preprocess.py#67\" target=\"_blank\"><span style=\"color: #7f7f7f; text-decoration-color: #7f7f7f\">67</span></a>\n",
       "</pre>\n"
      ],
      "text/plain": [
       "\u001b[2;36m          \u001b[0m\u001b[2;36m \u001b[0m\u001b[34mINFO    \u001b[0m Keeping all columns                                                            \u001b]8;id=301160;file:///home/james/dev/drnb/src/drnb/preprocess.py\u001b\\\u001b[2mpreprocess.py\u001b[0m\u001b]8;;\u001b\\\u001b[2m:\u001b[0m\u001b]8;id=371425;file:///home/james/dev/drnb/src/drnb/preprocess.py#67\u001b\\\u001b[2m67\u001b[0m\u001b]8;;\u001b\\\n"
      ]
     },
     "metadata": {},
     "output_type": "display_data"
    },
    {
     "data": {
      "text/html": [
       "<pre style=\"white-space:pre;overflow-x:auto;line-height:normal;font-family:Menlo,'DejaVu Sans Mono',consolas,'Courier New',monospace\"><span style=\"color: #7fbfbf; text-decoration-color: #7fbfbf\">           </span><span style=\"color: #000080; text-decoration-color: #000080\">INFO    </span> Writing target for iclr                                                         <a href=\"file:///home/james/dev/drnb/src/drnb/io/pipeline.py\" target=\"_blank\"><span style=\"color: #7f7f7f; text-decoration-color: #7f7f7f\">pipeline.py</span></a><span style=\"color: #7f7f7f; text-decoration-color: #7f7f7f\">:</span><a href=\"file:///home/james/dev/drnb/src/drnb/io/pipeline.py#220\" target=\"_blank\"><span style=\"color: #7f7f7f; text-decoration-color: #7f7f7f\">220</span></a>\n",
       "</pre>\n"
      ],
      "text/plain": [
       "\u001b[2;36m          \u001b[0m\u001b[2;36m \u001b[0m\u001b[34mINFO    \u001b[0m Writing target for iclr                                                         \u001b]8;id=746677;file:///home/james/dev/drnb/src/drnb/io/pipeline.py\u001b\\\u001b[2mpipeline.py\u001b[0m\u001b]8;;\u001b\\\u001b[2m:\u001b[0m\u001b]8;id=458158;file:///home/james/dev/drnb/src/drnb/io/pipeline.py#220\u001b\\\u001b[2m220\u001b[0m\u001b]8;;\u001b\\\n"
      ]
     },
     "metadata": {},
     "output_type": "display_data"
    },
    {
     "data": {
      "text/html": [
       "<pre style=\"white-space:pre;overflow-x:auto;line-height:normal;font-family:Menlo,'DejaVu Sans Mono',consolas,'Courier New',monospace\"><span style=\"color: #7fbfbf; text-decoration-color: #7fbfbf\">[01:17:17] </span><span style=\"color: #000080; text-decoration-color: #000080\">INFO    </span> Writing pkl format to data/iclr-target-palette.pkl                              <a href=\"file:///home/james/dev/drnb/src/drnb/io/__init__.py\" target=\"_blank\"><span style=\"color: #7f7f7f; text-decoration-color: #7f7f7f\">__init__.py</span></a><span style=\"color: #7f7f7f; text-decoration-color: #7f7f7f\">:</span><a href=\"file:///home/james/dev/drnb/src/drnb/io/__init__.py#265\" target=\"_blank\"><span style=\"color: #7f7f7f; text-decoration-color: #7f7f7f\">265</span></a>\n",
       "</pre>\n"
      ],
      "text/plain": [
       "\u001b[2;36m[01:17:17]\u001b[0m\u001b[2;36m \u001b[0m\u001b[34mINFO    \u001b[0m Writing pkl format to data/iclr-target-palette.pkl                              \u001b]8;id=261919;file:///home/james/dev/drnb/src/drnb/io/__init__.py\u001b\\\u001b[2m__init__.py\u001b[0m\u001b]8;;\u001b\\\u001b[2m:\u001b[0m\u001b]8;id=30268;file:///home/james/dev/drnb/src/drnb/io/__init__.py#265\u001b\\\u001b[2m265\u001b[0m\u001b]8;;\u001b\\\n"
      ]
     },
     "metadata": {},
     "output_type": "display_data"
    },
    {
     "data": {
      "text/html": [
       "<pre style=\"white-space:pre;overflow-x:auto;line-height:normal;font-family:Menlo,'DejaVu Sans Mono',consolas,'Courier New',monospace\"><span style=\"color: #7fbfbf; text-decoration-color: #7fbfbf\">           </span><span style=\"color: #000080; text-decoration-color: #000080\">INFO    </span> Calculating nearest neighbors                                                   <a href=\"file:///home/james/dev/drnb/src/drnb/io/pipeline.py\" target=\"_blank\"><span style=\"color: #7f7f7f; text-decoration-color: #7f7f7f\">pipeline.py</span></a><span style=\"color: #7f7f7f; text-decoration-color: #7f7f7f\">:</span><a href=\"file:///home/james/dev/drnb/src/drnb/io/pipeline.py#235\" target=\"_blank\"><span style=\"color: #7f7f7f; text-decoration-color: #7f7f7f\">235</span></a>\n",
       "</pre>\n"
      ],
      "text/plain": [
       "\u001b[2;36m          \u001b[0m\u001b[2;36m \u001b[0m\u001b[34mINFO    \u001b[0m Calculating nearest neighbors                                                   \u001b]8;id=353936;file:///home/james/dev/drnb/src/drnb/io/pipeline.py\u001b\\\u001b[2mpipeline.py\u001b[0m\u001b]8;;\u001b\\\u001b[2m:\u001b[0m\u001b]8;id=26800;file:///home/james/dev/drnb/src/drnb/io/pipeline.py#235\u001b\\\u001b[2m235\u001b[0m\u001b]8;;\u001b\\\n"
      ]
     },
     "metadata": {},
     "output_type": "display_data"
    },
    {
     "data": {
      "text/html": [
       "<pre style=\"white-space:pre;overflow-x:auto;line-height:normal;font-family:Menlo,'DejaVu Sans Mono',consolas,'Courier New',monospace\"><span style=\"color: #7fbfbf; text-decoration-color: #7fbfbf\">[01:17:40] </span><span style=\"color: #000080; text-decoration-color: #000080\">INFO    </span> Calculating triplets                                                            <a href=\"file:///home/james/dev/drnb/src/drnb/io/pipeline.py\" target=\"_blank\"><span style=\"color: #7f7f7f; text-decoration-color: #7f7f7f\">pipeline.py</span></a><span style=\"color: #7f7f7f; text-decoration-color: #7f7f7f\">:</span><a href=\"file:///home/james/dev/drnb/src/drnb/io/pipeline.py#246\" target=\"_blank\"><span style=\"color: #7f7f7f; text-decoration-color: #7f7f7f\">246</span></a>\n",
       "</pre>\n"
      ],
      "text/plain": [
       "\u001b[2;36m[01:17:40]\u001b[0m\u001b[2;36m \u001b[0m\u001b[34mINFO    \u001b[0m Calculating triplets                                                            \u001b]8;id=858601;file:///home/james/dev/drnb/src/drnb/io/pipeline.py\u001b\\\u001b[2mpipeline.py\u001b[0m\u001b]8;;\u001b\\\u001b[2m:\u001b[0m\u001b]8;id=387310;file:///home/james/dev/drnb/src/drnb/io/pipeline.py#246\u001b\\\u001b[2m246\u001b[0m\u001b]8;;\u001b\\\n"
      ]
     },
     "metadata": {},
     "output_type": "display_data"
    },
    {
     "data": {
      "text/html": [
       "<pre style=\"white-space:pre;overflow-x:auto;line-height:normal;font-family:Menlo,'DejaVu Sans Mono',consolas,'Courier New',monospace\"><span style=\"color: #7fbfbf; text-decoration-color: #7fbfbf\">           </span><span style=\"color: #000080; text-decoration-color: #000080\">INFO    </span> Writing csv format to triplets/iclr.<span style=\"color: #008080; text-decoration-color: #008080; font-weight: bold\">5.1337</span>.idx.csv                              <a href=\"file:///home/james/dev/drnb/src/drnb/io/__init__.py\" target=\"_blank\"><span style=\"color: #7f7f7f; text-decoration-color: #7f7f7f\">__init__.py</span></a><span style=\"color: #7f7f7f; text-decoration-color: #7f7f7f\">:</span><a href=\"file:///home/james/dev/drnb/src/drnb/io/__init__.py#224\" target=\"_blank\"><span style=\"color: #7f7f7f; text-decoration-color: #7f7f7f\">224</span></a>\n",
       "</pre>\n"
      ],
      "text/plain": [
       "\u001b[2;36m          \u001b[0m\u001b[2;36m \u001b[0m\u001b[34mINFO    \u001b[0m Writing csv format to triplets/iclr.\u001b[1;36m5.1337\u001b[0m.idx.csv                              \u001b]8;id=692056;file:///home/james/dev/drnb/src/drnb/io/__init__.py\u001b\\\u001b[2m__init__.py\u001b[0m\u001b]8;;\u001b\\\u001b[2m:\u001b[0m\u001b]8;id=234196;file:///home/james/dev/drnb/src/drnb/io/__init__.py#224\u001b\\\u001b[2m224\u001b[0m\u001b]8;;\u001b\\\n"
      ]
     },
     "metadata": {},
     "output_type": "display_data"
    },
    {
     "data": {
      "text/html": [
       "<pre style=\"white-space:pre;overflow-x:auto;line-height:normal;font-family:Menlo,'DejaVu Sans Mono',consolas,'Courier New',monospace\"><span style=\"color: #7fbfbf; text-decoration-color: #7fbfbf\">           </span><span style=\"color: #000080; text-decoration-color: #000080\">INFO    </span> Writing csv format to triplets/iclr.<span style=\"color: #008080; text-decoration-color: #008080; font-weight: bold\">5.1337</span>.euclidean.csv                        <a href=\"file:///home/james/dev/drnb/src/drnb/io/__init__.py\" target=\"_blank\"><span style=\"color: #7f7f7f; text-decoration-color: #7f7f7f\">__init__.py</span></a><span style=\"color: #7f7f7f; text-decoration-color: #7f7f7f\">:</span><a href=\"file:///home/james/dev/drnb/src/drnb/io/__init__.py#224\" target=\"_blank\"><span style=\"color: #7f7f7f; text-decoration-color: #7f7f7f\">224</span></a>\n",
       "</pre>\n"
      ],
      "text/plain": [
       "\u001b[2;36m          \u001b[0m\u001b[2;36m \u001b[0m\u001b[34mINFO    \u001b[0m Writing csv format to triplets/iclr.\u001b[1;36m5.1337\u001b[0m.euclidean.csv                        \u001b]8;id=795545;file:///home/james/dev/drnb/src/drnb/io/__init__.py\u001b\\\u001b[2m__init__.py\u001b[0m\u001b]8;;\u001b\\\u001b[2m:\u001b[0m\u001b]8;id=556755;file:///home/james/dev/drnb/src/drnb/io/__init__.py#224\u001b\\\u001b[2m224\u001b[0m\u001b]8;;\u001b\\\n"
      ]
     },
     "metadata": {},
     "output_type": "display_data"
    },
    {
     "data": {
      "text/html": [
       "<pre style=\"white-space:pre;overflow-x:auto;line-height:normal;font-family:Menlo,'DejaVu Sans Mono',consolas,'Courier New',monospace\"><span style=\"color: #7fbfbf; text-decoration-color: #7fbfbf\">[01:17:41] </span><span style=\"color: #000080; text-decoration-color: #000080\">INFO    </span> Writing numpy format to triplets/iclr.<span style=\"color: #008080; text-decoration-color: #008080; font-weight: bold\">5.1337</span>.idx.npy                            <a href=\"file:///home/james/dev/drnb/src/drnb/io/__init__.py\" target=\"_blank\"><span style=\"color: #7f7f7f; text-decoration-color: #7f7f7f\">__init__.py</span></a><span style=\"color: #7f7f7f; text-decoration-color: #7f7f7f\">:</span><a href=\"file:///home/james/dev/drnb/src/drnb/io/__init__.py#247\" target=\"_blank\"><span style=\"color: #7f7f7f; text-decoration-color: #7f7f7f\">247</span></a>\n",
       "</pre>\n"
      ],
      "text/plain": [
       "\u001b[2;36m[01:17:41]\u001b[0m\u001b[2;36m \u001b[0m\u001b[34mINFO    \u001b[0m Writing numpy format to triplets/iclr.\u001b[1;36m5.1337\u001b[0m.idx.npy                            \u001b]8;id=900964;file:///home/james/dev/drnb/src/drnb/io/__init__.py\u001b\\\u001b[2m__init__.py\u001b[0m\u001b]8;;\u001b\\\u001b[2m:\u001b[0m\u001b]8;id=553715;file:///home/james/dev/drnb/src/drnb/io/__init__.py#247\u001b\\\u001b[2m247\u001b[0m\u001b]8;;\u001b\\\n"
      ]
     },
     "metadata": {},
     "output_type": "display_data"
    },
    {
     "data": {
      "text/html": [
       "<pre style=\"white-space:pre;overflow-x:auto;line-height:normal;font-family:Menlo,'DejaVu Sans Mono',consolas,'Courier New',monospace\"><span style=\"color: #7fbfbf; text-decoration-color: #7fbfbf\">           </span><span style=\"color: #000080; text-decoration-color: #000080\">INFO    </span> Writing numpy format to triplets/iclr.<span style=\"color: #008080; text-decoration-color: #008080; font-weight: bold\">5.1337</span>.euclidean.npy                      <a href=\"file:///home/james/dev/drnb/src/drnb/io/__init__.py\" target=\"_blank\"><span style=\"color: #7f7f7f; text-decoration-color: #7f7f7f\">__init__.py</span></a><span style=\"color: #7f7f7f; text-decoration-color: #7f7f7f\">:</span><a href=\"file:///home/james/dev/drnb/src/drnb/io/__init__.py#247\" target=\"_blank\"><span style=\"color: #7f7f7f; text-decoration-color: #7f7f7f\">247</span></a>\n",
       "</pre>\n"
      ],
      "text/plain": [
       "\u001b[2;36m          \u001b[0m\u001b[2;36m \u001b[0m\u001b[34mINFO    \u001b[0m Writing numpy format to triplets/iclr.\u001b[1;36m5.1337\u001b[0m.euclidean.npy                      \u001b]8;id=222497;file:///home/james/dev/drnb/src/drnb/io/__init__.py\u001b\\\u001b[2m__init__.py\u001b[0m\u001b]8;;\u001b\\\u001b[2m:\u001b[0m\u001b]8;id=859071;file:///home/james/dev/drnb/src/drnb/io/__init__.py#247\u001b\\\u001b[2m247\u001b[0m\u001b]8;;\u001b\\\n"
      ]
     },
     "metadata": {},
     "output_type": "display_data"
    },
    {
     "data": {
      "text/html": [
       "<pre style=\"white-space:pre;overflow-x:auto;line-height:normal;font-family:Menlo,'DejaVu Sans Mono',consolas,'Courier New',monospace\"><span style=\"color: #7fbfbf; text-decoration-color: #7fbfbf\">           </span><span style=\"color: #000080; text-decoration-color: #000080\">INFO    </span> Writing pipeline result for iclr                                                <a href=\"file:///home/james/dev/drnb/src/drnb/io/pipeline.py\" target=\"_blank\"><span style=\"color: #7f7f7f; text-decoration-color: #7f7f7f\">pipeline.py</span></a><span style=\"color: #7f7f7f; text-decoration-color: #7f7f7f\">:</span><a href=\"file:///home/james/dev/drnb/src/drnb/io/pipeline.py#123\" target=\"_blank\"><span style=\"color: #7f7f7f; text-decoration-color: #7f7f7f\">123</span></a>\n",
       "</pre>\n"
      ],
      "text/plain": [
       "\u001b[2;36m          \u001b[0m\u001b[2;36m \u001b[0m\u001b[34mINFO    \u001b[0m Writing pipeline result for iclr                                                \u001b]8;id=161192;file:///home/james/dev/drnb/src/drnb/io/pipeline.py\u001b\\\u001b[2mpipeline.py\u001b[0m\u001b]8;;\u001b\\\u001b[2m:\u001b[0m\u001b]8;id=24966;file:///home/james/dev/drnb/src/drnb/io/pipeline.py#123\u001b\\\u001b[2m123\u001b[0m\u001b]8;;\u001b\\\n"
      ]
     },
     "metadata": {},
     "output_type": "display_data"
    },
    {
     "name": "stdout",
     "output_type": "stream",
     "text": [
      "time: 56.2 s (started: 2022-10-02 01:16:45 -07:00)\n"
     ]
    }
   ],
   "source": [
    "from drnb.io.pipeline import create_default_pipeline\n",
    "\n",
    "data_result = create_default_pipeline(\n",
    "    check_for_duplicates=True, metric=[\"euclidean\", \"cosine\"]\n",
    ").run(\n",
    "    \"iclr\",\n",
    "    data=data,\n",
    "    target=target,\n",
    "    target_palette=palette,\n",
    "    tags=[\"highdim\"],\n",
    "    url=\"https://github.com/dkobak/iclr-tsne\",\n",
    "    verbose=True,\n",
    ")"
   ]
  },
  {
   "cell_type": "code",
   "execution_count": null,
   "id": "b0da7aea-6a64-4874-8a48-c9371732000c",
   "metadata": {},
   "outputs": [],
   "source": []
  }
 ],
 "metadata": {
  "kernelspec": {
   "display_name": "Python 3 (ipykernel)",
   "language": "python",
   "name": "python3"
  },
  "language_info": {
   "codemirror_mode": {
    "name": "ipython",
    "version": 3
   },
   "file_extension": ".py",
   "mimetype": "text/x-python",
   "name": "python",
   "nbconvert_exporter": "python",
   "pygments_lexer": "ipython3",
   "version": "3.10.6"
  }
 },
 "nbformat": 4,
 "nbformat_minor": 5
}
