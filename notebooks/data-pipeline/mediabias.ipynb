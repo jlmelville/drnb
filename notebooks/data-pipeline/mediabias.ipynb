{
 "cells": [
  {
   "cell_type": "code",
   "execution_count": 1,
   "id": "c82b1edf-ff1e-4ef5-b8a0-0f1701b91bd4",
   "metadata": {},
   "outputs": [
    {
     "name": "stdout",
     "output_type": "stream",
     "text": [
      "time: 325 ms (started: 2023-03-21 17:01:48 -07:00)\n"
     ]
    }
   ],
   "source": [
    "%load_ext lab_black\n",
    "%load_ext autotime\n",
    "import pandas as pd\n",
    "import numpy as np"
   ]
  },
  {
   "cell_type": "markdown",
   "id": "0bf32bfd-2760-484d-9b4f-88235d8a3867",
   "metadata": {},
   "source": [
    "# Media Bias\n",
    "\n",
    "Samantha D'Alonzo and Max Tegmark (yes, the cosmologist) looked at characterizing various publications by counts of certain phrases and then applied a generalized PCA to get a 2D layout that creditably distributed both left-right and establishment bias. The paper is available at [PLOS ONE](https://journals.plos.org/plosone/article?id=10.1371/journal.pone.0271947) (and [arxiv](https://arxiv.org/abs/2109.00024)) and the phrase counts are at [kaggle](https://www.kaggle.com/datasets/tegmark/mediabias) and [Max Tegmark's own webpage](https://space.mit.edu/home/tegmark/phrasebias.html)."
   ]
  },
  {
   "cell_type": "markdown",
   "id": "aa1dd631-3956-491b-9867-3fcb90394003",
   "metadata": {},
   "source": [
    "The phrase counts are divided into different CSV files with different subjects, which incidentally make for a great list of things to *not* discuss with your relatives at any family gathering:"
   ]
  },
  {
   "cell_type": "code",
   "execution_count": 2,
   "id": "390f7f86-0712-4553-8f87-b98d28cf398c",
   "metadata": {},
   "outputs": [
    {
     "name": "stdout",
     "output_type": "stream",
     "text": [
      "time: 4.91 ms (started: 2023-03-21 17:01:48 -07:00)\n"
     ]
    }
   ],
   "source": [
    "# note that the \"police\" subject has an extra trailing underscore\n",
    "subjects = [\n",
    "    \"abortion\",\n",
    "    \"affirmative_action\",\n",
    "    \"blm_movement\",\n",
    "    \"china\",\n",
    "    \"church_state\",\n",
    "    \"climate_change\",\n",
    "    \"cuba\",\n",
    "    \"espionage\",\n",
    "    \"guns\",\n",
    "    \"human_rights\",\n",
    "    \"islam\",\n",
    "    \"israel\",\n",
    "    \"judaism\",\n",
    "    \"military_spending\",\n",
    "    \"native_americans\",\n",
    "    \"nuclear_weapons\",\n",
    "    \"oil\",\n",
    "    \"palestine\",\n",
    "    \"police_\",\n",
    "    \"prisons\",\n",
    "    \"private_finance\",\n",
    "    \"public_finance\",\n",
    "    \"russia\",\n",
    "    \"sexual_harrassment\",\n",
    "    \"tech_censorship\",\n",
    "    \"universities\",\n",
    "    \"us_immigration\",\n",
    "    \"venezuela\",\n",
    "    \"yemen\",\n",
    "]"
   ]
  },
  {
   "cell_type": "markdown",
   "id": "c8c43a07-76cf-4728-8ef8-7318fe9303eb",
   "metadata": {},
   "source": [
    "Below is some code to download the tar file from Max Tegmark's webpage. Note that I got an issue with the MIT web site not having the latest SSL ciphers, so you may need to uncomment the line about `DEFAULT_CIPHERS`."
   ]
  },
  {
   "cell_type": "code",
   "execution_count": 3,
   "id": "32c992b8-c976-456f-a478-036cc1dbad18",
   "metadata": {},
   "outputs": [
    {
     "data": {
      "text/html": [
       "<div>\n",
       "<style scoped>\n",
       "    .dataframe tbody tr th:only-of-type {\n",
       "        vertical-align: middle;\n",
       "    }\n",
       "\n",
       "    .dataframe tbody tr th {\n",
       "        vertical-align: top;\n",
       "    }\n",
       "\n",
       "    .dataframe thead th {\n",
       "        text-align: right;\n",
       "    }\n",
       "</style>\n",
       "<table border=\"1\" class=\"dataframe\">\n",
       "  <thead>\n",
       "    <tr style=\"text-align: right;\">\n",
       "      <th></th>\n",
       "      <th>PHRASE</th>\n",
       "      <th>TOTAL</th>\n",
       "      <th>aljazeera</th>\n",
       "      <th>alternet</th>\n",
       "      <th>americanconservative</th>\n",
       "      <th>americanspectator</th>\n",
       "      <th>americanthinker</th>\n",
       "      <th>antiwar</th>\n",
       "      <th>ap</th>\n",
       "      <th>atlantic</th>\n",
       "      <th>...</th>\n",
       "      <th>truthdig</th>\n",
       "      <th>usatoday</th>\n",
       "      <th>verge</th>\n",
       "      <th>veteranstoday</th>\n",
       "      <th>vice</th>\n",
       "      <th>voltairenetwork</th>\n",
       "      <th>vox</th>\n",
       "      <th>wapo</th>\n",
       "      <th>wired</th>\n",
       "      <th>wsj</th>\n",
       "    </tr>\n",
       "  </thead>\n",
       "  <tbody>\n",
       "    <tr>\n",
       "      <th>0</th>\n",
       "      <td>pro life</td>\n",
       "      <td>4849</td>\n",
       "      <td>12</td>\n",
       "      <td>13</td>\n",
       "      <td>68.0</td>\n",
       "      <td>10.0</td>\n",
       "      <td>NaN</td>\n",
       "      <td>NaN</td>\n",
       "      <td>7</td>\n",
       "      <td>16</td>\n",
       "      <td>...</td>\n",
       "      <td>5.0</td>\n",
       "      <td>131</td>\n",
       "      <td>NaN</td>\n",
       "      <td>NaN</td>\n",
       "      <td>13.0</td>\n",
       "      <td>NaN</td>\n",
       "      <td>60</td>\n",
       "      <td>242</td>\n",
       "      <td>NaN</td>\n",
       "      <td>1.0</td>\n",
       "    </tr>\n",
       "    <tr>\n",
       "      <th>1</th>\n",
       "      <td>abortion rights</td>\n",
       "      <td>4851</td>\n",
       "      <td>97</td>\n",
       "      <td>42</td>\n",
       "      <td>15.0</td>\n",
       "      <td>5.0</td>\n",
       "      <td>NaN</td>\n",
       "      <td>NaN</td>\n",
       "      <td>43</td>\n",
       "      <td>63</td>\n",
       "      <td>...</td>\n",
       "      <td>32.0</td>\n",
       "      <td>211</td>\n",
       "      <td>NaN</td>\n",
       "      <td>NaN</td>\n",
       "      <td>103.0</td>\n",
       "      <td>NaN</td>\n",
       "      <td>461</td>\n",
       "      <td>585</td>\n",
       "      <td>NaN</td>\n",
       "      <td>24.0</td>\n",
       "    </tr>\n",
       "    <tr>\n",
       "      <th>2</th>\n",
       "      <td>anti abortion</td>\n",
       "      <td>4067</td>\n",
       "      <td>53</td>\n",
       "      <td>54</td>\n",
       "      <td>4.0</td>\n",
       "      <td>0.0</td>\n",
       "      <td>NaN</td>\n",
       "      <td>NaN</td>\n",
       "      <td>37</td>\n",
       "      <td>49</td>\n",
       "      <td>...</td>\n",
       "      <td>27.0</td>\n",
       "      <td>239</td>\n",
       "      <td>NaN</td>\n",
       "      <td>NaN</td>\n",
       "      <td>143.0</td>\n",
       "      <td>NaN</td>\n",
       "      <td>487</td>\n",
       "      <td>29</td>\n",
       "      <td>NaN</td>\n",
       "      <td>3.0</td>\n",
       "    </tr>\n",
       "    <tr>\n",
       "      <th>3</th>\n",
       "      <td>anti choice</td>\n",
       "      <td>705</td>\n",
       "      <td>0</td>\n",
       "      <td>54</td>\n",
       "      <td>0.0</td>\n",
       "      <td>0.0</td>\n",
       "      <td>NaN</td>\n",
       "      <td>NaN</td>\n",
       "      <td>0</td>\n",
       "      <td>1</td>\n",
       "      <td>...</td>\n",
       "      <td>5.0</td>\n",
       "      <td>5</td>\n",
       "      <td>NaN</td>\n",
       "      <td>NaN</td>\n",
       "      <td>38.0</td>\n",
       "      <td>NaN</td>\n",
       "      <td>14</td>\n",
       "      <td>19</td>\n",
       "      <td>NaN</td>\n",
       "      <td>0.0</td>\n",
       "    </tr>\n",
       "    <tr>\n",
       "      <th>4</th>\n",
       "      <td>abortion care</td>\n",
       "      <td>1215</td>\n",
       "      <td>7</td>\n",
       "      <td>13</td>\n",
       "      <td>0.0</td>\n",
       "      <td>1.0</td>\n",
       "      <td>NaN</td>\n",
       "      <td>NaN</td>\n",
       "      <td>2</td>\n",
       "      <td>2</td>\n",
       "      <td>...</td>\n",
       "      <td>7.0</td>\n",
       "      <td>52</td>\n",
       "      <td>NaN</td>\n",
       "      <td>NaN</td>\n",
       "      <td>60.0</td>\n",
       "      <td>NaN</td>\n",
       "      <td>76</td>\n",
       "      <td>64</td>\n",
       "      <td>NaN</td>\n",
       "      <td>1.0</td>\n",
       "    </tr>\n",
       "    <tr>\n",
       "      <th>...</th>\n",
       "      <td>...</td>\n",
       "      <td>...</td>\n",
       "      <td>...</td>\n",
       "      <td>...</td>\n",
       "      <td>...</td>\n",
       "      <td>...</td>\n",
       "      <td>...</td>\n",
       "      <td>...</td>\n",
       "      <td>...</td>\n",
       "      <td>...</td>\n",
       "      <td>...</td>\n",
       "      <td>...</td>\n",
       "      <td>...</td>\n",
       "      <td>...</td>\n",
       "      <td>...</td>\n",
       "      <td>...</td>\n",
       "      <td>...</td>\n",
       "      <td>...</td>\n",
       "      <td>...</td>\n",
       "      <td>...</td>\n",
       "      <td>...</td>\n",
       "    </tr>\n",
       "    <tr>\n",
       "      <th>24</th>\n",
       "      <td>the IRGC</td>\n",
       "      <td>346</td>\n",
       "      <td>21</td>\n",
       "      <td>1</td>\n",
       "      <td>21.0</td>\n",
       "      <td>NaN</td>\n",
       "      <td>NaN</td>\n",
       "      <td>0.0</td>\n",
       "      <td>0</td>\n",
       "      <td>2</td>\n",
       "      <td>...</td>\n",
       "      <td>9.0</td>\n",
       "      <td>1</td>\n",
       "      <td>NaN</td>\n",
       "      <td>0.0</td>\n",
       "      <td>0.0</td>\n",
       "      <td>NaN</td>\n",
       "      <td>19</td>\n",
       "      <td>31</td>\n",
       "      <td>NaN</td>\n",
       "      <td>14.0</td>\n",
       "    </tr>\n",
       "    <tr>\n",
       "      <th>25</th>\n",
       "      <td>the JCPOA</td>\n",
       "      <td>725</td>\n",
       "      <td>27</td>\n",
       "      <td>10</td>\n",
       "      <td>49.0</td>\n",
       "      <td>NaN</td>\n",
       "      <td>NaN</td>\n",
       "      <td>6.0</td>\n",
       "      <td>3</td>\n",
       "      <td>12</td>\n",
       "      <td>...</td>\n",
       "      <td>35.0</td>\n",
       "      <td>8</td>\n",
       "      <td>NaN</td>\n",
       "      <td>2.0</td>\n",
       "      <td>0.0</td>\n",
       "      <td>NaN</td>\n",
       "      <td>1</td>\n",
       "      <td>33</td>\n",
       "      <td>NaN</td>\n",
       "      <td>2.0</td>\n",
       "    </tr>\n",
       "    <tr>\n",
       "      <th>26</th>\n",
       "      <td>the Yemeni</td>\n",
       "      <td>1372</td>\n",
       "      <td>238</td>\n",
       "      <td>4</td>\n",
       "      <td>31.0</td>\n",
       "      <td>NaN</td>\n",
       "      <td>NaN</td>\n",
       "      <td>15.0</td>\n",
       "      <td>2</td>\n",
       "      <td>8</td>\n",
       "      <td>...</td>\n",
       "      <td>17.0</td>\n",
       "      <td>7</td>\n",
       "      <td>NaN</td>\n",
       "      <td>14.0</td>\n",
       "      <td>2.0</td>\n",
       "      <td>NaN</td>\n",
       "      <td>13</td>\n",
       "      <td>86</td>\n",
       "      <td>NaN</td>\n",
       "      <td>3.0</td>\n",
       "    </tr>\n",
       "    <tr>\n",
       "      <th>27</th>\n",
       "      <td>war on Yemen</td>\n",
       "      <td>678</td>\n",
       "      <td>5</td>\n",
       "      <td>12</td>\n",
       "      <td>252.0</td>\n",
       "      <td>NaN</td>\n",
       "      <td>NaN</td>\n",
       "      <td>36.0</td>\n",
       "      <td>0</td>\n",
       "      <td>1</td>\n",
       "      <td>...</td>\n",
       "      <td>20.0</td>\n",
       "      <td>0</td>\n",
       "      <td>NaN</td>\n",
       "      <td>2.0</td>\n",
       "      <td>0.0</td>\n",
       "      <td>NaN</td>\n",
       "      <td>7</td>\n",
       "      <td>4</td>\n",
       "      <td>NaN</td>\n",
       "      <td>0.0</td>\n",
       "    </tr>\n",
       "    <tr>\n",
       "      <th>28</th>\n",
       "      <td>terrorism</td>\n",
       "      <td>3432</td>\n",
       "      <td>169</td>\n",
       "      <td>30</td>\n",
       "      <td>89.0</td>\n",
       "      <td>NaN</td>\n",
       "      <td>NaN</td>\n",
       "      <td>21.0</td>\n",
       "      <td>25</td>\n",
       "      <td>49</td>\n",
       "      <td>...</td>\n",
       "      <td>98.0</td>\n",
       "      <td>73</td>\n",
       "      <td>NaN</td>\n",
       "      <td>134.0</td>\n",
       "      <td>3.0</td>\n",
       "      <td>NaN</td>\n",
       "      <td>62</td>\n",
       "      <td>322</td>\n",
       "      <td>NaN</td>\n",
       "      <td>7.0</td>\n",
       "    </tr>\n",
       "  </tbody>\n",
       "</table>\n",
       "<p>839 rows × 94 columns</p>\n",
       "</div>"
      ],
      "text/plain": [
       "             PHRASE  TOTAL  aljazeera  alternet  americanconservative  \\\n",
       "0          pro life   4849         12        13                  68.0   \n",
       "1   abortion rights   4851         97        42                  15.0   \n",
       "2     anti abortion   4067         53        54                   4.0   \n",
       "3       anti choice    705          0        54                   0.0   \n",
       "4     abortion care   1215          7        13                   0.0   \n",
       "..              ...    ...        ...       ...                   ...   \n",
       "24         the IRGC    346         21         1                  21.0   \n",
       "25        the JCPOA    725         27        10                  49.0   \n",
       "26       the Yemeni   1372        238         4                  31.0   \n",
       "27     war on Yemen    678          5        12                 252.0   \n",
       "28        terrorism   3432        169        30                  89.0   \n",
       "\n",
       "    americanspectator  americanthinker  antiwar  ap  atlantic  ...  truthdig  \\\n",
       "0                10.0              NaN      NaN   7        16  ...       5.0   \n",
       "1                 5.0              NaN      NaN  43        63  ...      32.0   \n",
       "2                 0.0              NaN      NaN  37        49  ...      27.0   \n",
       "3                 0.0              NaN      NaN   0         1  ...       5.0   \n",
       "4                 1.0              NaN      NaN   2         2  ...       7.0   \n",
       "..                ...              ...      ...  ..       ...  ...       ...   \n",
       "24                NaN              NaN      0.0   0         2  ...       9.0   \n",
       "25                NaN              NaN      6.0   3        12  ...      35.0   \n",
       "26                NaN              NaN     15.0   2         8  ...      17.0   \n",
       "27                NaN              NaN     36.0   0         1  ...      20.0   \n",
       "28                NaN              NaN     21.0  25        49  ...      98.0   \n",
       "\n",
       "    usatoday  verge  veteranstoday   vice  voltairenetwork  vox  wapo  wired  \\\n",
       "0        131    NaN            NaN   13.0              NaN   60   242    NaN   \n",
       "1        211    NaN            NaN  103.0              NaN  461   585    NaN   \n",
       "2        239    NaN            NaN  143.0              NaN  487    29    NaN   \n",
       "3          5    NaN            NaN   38.0              NaN   14    19    NaN   \n",
       "4         52    NaN            NaN   60.0              NaN   76    64    NaN   \n",
       "..       ...    ...            ...    ...              ...  ...   ...    ...   \n",
       "24         1    NaN            0.0    0.0              NaN   19    31    NaN   \n",
       "25         8    NaN            2.0    0.0              NaN    1    33    NaN   \n",
       "26         7    NaN           14.0    2.0              NaN   13    86    NaN   \n",
       "27         0    NaN            2.0    0.0              NaN    7     4    NaN   \n",
       "28        73    NaN          134.0    3.0              NaN   62   322    NaN   \n",
       "\n",
       "     wsj  \n",
       "0    1.0  \n",
       "1   24.0  \n",
       "2    3.0  \n",
       "3    0.0  \n",
       "4    1.0  \n",
       "..   ...  \n",
       "24  14.0  \n",
       "25   2.0  \n",
       "26   3.0  \n",
       "27   0.0  \n",
       "28   7.0  \n",
       "\n",
       "[839 rows x 94 columns]"
      ]
     },
     "execution_count": 3,
     "metadata": {},
     "output_type": "execute_result"
    },
    {
     "name": "stdout",
     "output_type": "stream",
     "text": [
      "time: 2.1 s (started: 2023-03-21 17:01:48 -07:00)\n"
     ]
    }
   ],
   "source": [
    "import tarfile\n",
    "from io import BytesIO\n",
    "\n",
    "import requests\n",
    "\n",
    "# Uncomment if you get a SSLError with a DH_KEY_TOO_SMALL message\n",
    "# https://stackoverflow.com/a/75048832/4096483\n",
    "requests.packages.urllib3.util.ssl_.DEFAULT_CIPHERS += \"@SECLEVEL=1\"\n",
    "\n",
    "dfs = []\n",
    "\n",
    "url = \"https://space.mit.edu/home/tegmark/phrasebias_data.tar.gz\"\n",
    "req = requests.get(url, timeout=10)\n",
    "with tarfile.open(fileobj=BytesIO(req.content), mode=\"r\") as tar_obj:\n",
    "    for subject in subjects:\n",
    "        fileobj = tar_obj.extractfile(\n",
    "            f\"phrasebias_data/phrase_counts/{subject}_counts.csv\"\n",
    "        )\n",
    "        dfs.append(pd.read_csv(fileobj))\n",
    "        fileobj.close()\n",
    "\n",
    "df = pd.concat(dfs, sort=True)\n",
    "df"
   ]
  },
  {
   "cell_type": "markdown",
   "id": "695d1d9c-261d-4073-8e22-8eafa07e472a",
   "metadata": {},
   "source": [
    "Now to do some clean-up:\n",
    "\n",
    "1. The `NaN`s in the data are because some publications aren't included in the different subject analyses. In that case, I am going to set those values to 0.\n",
    "1. The dataframe also has the phrases as rows and the publications as columns. I want the publication as a row and the phrase counts as columns, so we will tranpose the data.\n",
    "1. The phrase itself (in the `PHRASE` column) should be the index.\n",
    "1. I don't need the `TOTAL` (which won't make sense after transposing)."
   ]
  },
  {
   "cell_type": "code",
   "execution_count": 4,
   "id": "bdb6f4eb-17ff-4923-b4d3-23ecdb77cf1f",
   "metadata": {},
   "outputs": [
    {
     "name": "stdout",
     "output_type": "stream",
     "text": [
      "time: 22.1 ms (started: 2023-03-21 17:01:50 -07:00)\n"
     ]
    }
   ],
   "source": [
    "df = df.fillna(0.0).set_index(\"PHRASE\").iloc[:, 1:].transpose()"
   ]
  },
  {
   "cell_type": "markdown",
   "id": "ae9b6481-0537-4dad-88c7-8551002d8d67",
   "metadata": {},
   "source": [
    "Finally, after transposing the `PHRASE` is now the name of the columns, rather than the name of the index, which should be `publication` now anyway. I am sure there is a better way to do this, but this works:"
   ]
  },
  {
   "cell_type": "code",
   "execution_count": 5,
   "id": "b8b8879d-92c5-4700-8911-b516a99a6d43",
   "metadata": {},
   "outputs": [
    {
     "name": "stdout",
     "output_type": "stream",
     "text": [
      "time: 7.06 ms (started: 2023-03-21 17:01:51 -07:00)\n"
     ]
    }
   ],
   "source": [
    "df.columns.name = None\n",
    "df.index.rename(\"publication\", inplace=True)"
   ]
  },
  {
   "cell_type": "code",
   "execution_count": 6,
   "id": "d3adde75-47a6-4a7c-bb74-5e65f1b03b8b",
   "metadata": {},
   "outputs": [
    {
     "data": {
      "text/html": [
       "<div>\n",
       "<style scoped>\n",
       "    .dataframe tbody tr th:only-of-type {\n",
       "        vertical-align: middle;\n",
       "    }\n",
       "\n",
       "    .dataframe tbody tr th {\n",
       "        vertical-align: top;\n",
       "    }\n",
       "\n",
       "    .dataframe thead th {\n",
       "        text-align: right;\n",
       "    }\n",
       "</style>\n",
       "<table border=\"1\" class=\"dataframe\">\n",
       "  <thead>\n",
       "    <tr style=\"text-align: right;\">\n",
       "      <th></th>\n",
       "      <th>pro life</th>\n",
       "      <th>abortion rights</th>\n",
       "      <th>anti abortion</th>\n",
       "      <th>anti choice</th>\n",
       "      <th>abortion care</th>\n",
       "      <th>pregnancy</th>\n",
       "      <th>kill</th>\n",
       "      <th>medical abortion</th>\n",
       "      <th>family planning</th>\n",
       "      <th>pro abortion</th>\n",
       "      <th>...</th>\n",
       "      <th>Saudi led coalition</th>\n",
       "      <th>separatists</th>\n",
       "      <th>Special Operations</th>\n",
       "      <th>terrorist</th>\n",
       "      <th>the Houthis</th>\n",
       "      <th>the IRGC</th>\n",
       "      <th>the JCPOA</th>\n",
       "      <th>the Yemeni</th>\n",
       "      <th>war on Yemen</th>\n",
       "      <th>terrorism</th>\n",
       "    </tr>\n",
       "    <tr>\n",
       "      <th>publication</th>\n",
       "      <th></th>\n",
       "      <th></th>\n",
       "      <th></th>\n",
       "      <th></th>\n",
       "      <th></th>\n",
       "      <th></th>\n",
       "      <th></th>\n",
       "      <th></th>\n",
       "      <th></th>\n",
       "      <th></th>\n",
       "      <th></th>\n",
       "      <th></th>\n",
       "      <th></th>\n",
       "      <th></th>\n",
       "      <th></th>\n",
       "      <th></th>\n",
       "      <th></th>\n",
       "      <th></th>\n",
       "      <th></th>\n",
       "      <th></th>\n",
       "      <th></th>\n",
       "    </tr>\n",
       "  </thead>\n",
       "  <tbody>\n",
       "    <tr>\n",
       "      <th>aljazeera</th>\n",
       "      <td>12.0</td>\n",
       "      <td>97.0</td>\n",
       "      <td>53.0</td>\n",
       "      <td>0.0</td>\n",
       "      <td>7.0</td>\n",
       "      <td>61.0</td>\n",
       "      <td>2.0</td>\n",
       "      <td>2.0</td>\n",
       "      <td>18.0</td>\n",
       "      <td>6.0</td>\n",
       "      <td>...</td>\n",
       "      <td>261.0</td>\n",
       "      <td>172.0</td>\n",
       "      <td>0.0</td>\n",
       "      <td>143.0</td>\n",
       "      <td>832.0</td>\n",
       "      <td>21.0</td>\n",
       "      <td>27.0</td>\n",
       "      <td>238.0</td>\n",
       "      <td>5.0</td>\n",
       "      <td>169.0</td>\n",
       "    </tr>\n",
       "    <tr>\n",
       "      <th>alternet</th>\n",
       "      <td>13.0</td>\n",
       "      <td>42.0</td>\n",
       "      <td>54.0</td>\n",
       "      <td>54.0</td>\n",
       "      <td>13.0</td>\n",
       "      <td>69.0</td>\n",
       "      <td>5.0</td>\n",
       "      <td>0.0</td>\n",
       "      <td>15.0</td>\n",
       "      <td>1.0</td>\n",
       "      <td>...</td>\n",
       "      <td>6.0</td>\n",
       "      <td>0.0</td>\n",
       "      <td>24.0</td>\n",
       "      <td>28.0</td>\n",
       "      <td>11.0</td>\n",
       "      <td>1.0</td>\n",
       "      <td>10.0</td>\n",
       "      <td>4.0</td>\n",
       "      <td>12.0</td>\n",
       "      <td>30.0</td>\n",
       "    </tr>\n",
       "    <tr>\n",
       "      <th>americanconservative</th>\n",
       "      <td>68.0</td>\n",
       "      <td>15.0</td>\n",
       "      <td>4.0</td>\n",
       "      <td>0.0</td>\n",
       "      <td>0.0</td>\n",
       "      <td>8.0</td>\n",
       "      <td>1.0</td>\n",
       "      <td>0.0</td>\n",
       "      <td>0.0</td>\n",
       "      <td>3.0</td>\n",
       "      <td>...</td>\n",
       "      <td>44.0</td>\n",
       "      <td>14.0</td>\n",
       "      <td>5.0</td>\n",
       "      <td>82.0</td>\n",
       "      <td>121.0</td>\n",
       "      <td>21.0</td>\n",
       "      <td>49.0</td>\n",
       "      <td>31.0</td>\n",
       "      <td>252.0</td>\n",
       "      <td>89.0</td>\n",
       "    </tr>\n",
       "    <tr>\n",
       "      <th>americanspectator</th>\n",
       "      <td>10.0</td>\n",
       "      <td>5.0</td>\n",
       "      <td>0.0</td>\n",
       "      <td>0.0</td>\n",
       "      <td>1.0</td>\n",
       "      <td>3.0</td>\n",
       "      <td>1.0</td>\n",
       "      <td>0.0</td>\n",
       "      <td>1.0</td>\n",
       "      <td>4.0</td>\n",
       "      <td>...</td>\n",
       "      <td>0.0</td>\n",
       "      <td>0.0</td>\n",
       "      <td>0.0</td>\n",
       "      <td>0.0</td>\n",
       "      <td>0.0</td>\n",
       "      <td>0.0</td>\n",
       "      <td>0.0</td>\n",
       "      <td>0.0</td>\n",
       "      <td>0.0</td>\n",
       "      <td>0.0</td>\n",
       "    </tr>\n",
       "    <tr>\n",
       "      <th>americanthinker</th>\n",
       "      <td>0.0</td>\n",
       "      <td>0.0</td>\n",
       "      <td>0.0</td>\n",
       "      <td>0.0</td>\n",
       "      <td>0.0</td>\n",
       "      <td>0.0</td>\n",
       "      <td>0.0</td>\n",
       "      <td>0.0</td>\n",
       "      <td>0.0</td>\n",
       "      <td>0.0</td>\n",
       "      <td>...</td>\n",
       "      <td>0.0</td>\n",
       "      <td>0.0</td>\n",
       "      <td>0.0</td>\n",
       "      <td>0.0</td>\n",
       "      <td>0.0</td>\n",
       "      <td>0.0</td>\n",
       "      <td>0.0</td>\n",
       "      <td>0.0</td>\n",
       "      <td>0.0</td>\n",
       "      <td>0.0</td>\n",
       "    </tr>\n",
       "    <tr>\n",
       "      <th>...</th>\n",
       "      <td>...</td>\n",
       "      <td>...</td>\n",
       "      <td>...</td>\n",
       "      <td>...</td>\n",
       "      <td>...</td>\n",
       "      <td>...</td>\n",
       "      <td>...</td>\n",
       "      <td>...</td>\n",
       "      <td>...</td>\n",
       "      <td>...</td>\n",
       "      <td>...</td>\n",
       "      <td>...</td>\n",
       "      <td>...</td>\n",
       "      <td>...</td>\n",
       "      <td>...</td>\n",
       "      <td>...</td>\n",
       "      <td>...</td>\n",
       "      <td>...</td>\n",
       "      <td>...</td>\n",
       "      <td>...</td>\n",
       "      <td>...</td>\n",
       "    </tr>\n",
       "    <tr>\n",
       "      <th>voltairenetwork</th>\n",
       "      <td>0.0</td>\n",
       "      <td>0.0</td>\n",
       "      <td>0.0</td>\n",
       "      <td>0.0</td>\n",
       "      <td>0.0</td>\n",
       "      <td>0.0</td>\n",
       "      <td>0.0</td>\n",
       "      <td>0.0</td>\n",
       "      <td>0.0</td>\n",
       "      <td>0.0</td>\n",
       "      <td>...</td>\n",
       "      <td>0.0</td>\n",
       "      <td>0.0</td>\n",
       "      <td>0.0</td>\n",
       "      <td>0.0</td>\n",
       "      <td>0.0</td>\n",
       "      <td>0.0</td>\n",
       "      <td>0.0</td>\n",
       "      <td>0.0</td>\n",
       "      <td>0.0</td>\n",
       "      <td>0.0</td>\n",
       "    </tr>\n",
       "    <tr>\n",
       "      <th>vox</th>\n",
       "      <td>60.0</td>\n",
       "      <td>461.0</td>\n",
       "      <td>487.0</td>\n",
       "      <td>14.0</td>\n",
       "      <td>76.0</td>\n",
       "      <td>487.0</td>\n",
       "      <td>29.0</td>\n",
       "      <td>8.0</td>\n",
       "      <td>72.0</td>\n",
       "      <td>29.0</td>\n",
       "      <td>...</td>\n",
       "      <td>25.0</td>\n",
       "      <td>3.0</td>\n",
       "      <td>0.0</td>\n",
       "      <td>87.0</td>\n",
       "      <td>15.0</td>\n",
       "      <td>19.0</td>\n",
       "      <td>1.0</td>\n",
       "      <td>13.0</td>\n",
       "      <td>7.0</td>\n",
       "      <td>62.0</td>\n",
       "    </tr>\n",
       "    <tr>\n",
       "      <th>wapo</th>\n",
       "      <td>242.0</td>\n",
       "      <td>585.0</td>\n",
       "      <td>29.0</td>\n",
       "      <td>19.0</td>\n",
       "      <td>64.0</td>\n",
       "      <td>531.0</td>\n",
       "      <td>14.0</td>\n",
       "      <td>9.0</td>\n",
       "      <td>130.0</td>\n",
       "      <td>28.0</td>\n",
       "      <td>...</td>\n",
       "      <td>194.0</td>\n",
       "      <td>34.0</td>\n",
       "      <td>30.0</td>\n",
       "      <td>334.0</td>\n",
       "      <td>347.0</td>\n",
       "      <td>31.0</td>\n",
       "      <td>33.0</td>\n",
       "      <td>86.0</td>\n",
       "      <td>4.0</td>\n",
       "      <td>322.0</td>\n",
       "    </tr>\n",
       "    <tr>\n",
       "      <th>wired</th>\n",
       "      <td>0.0</td>\n",
       "      <td>0.0</td>\n",
       "      <td>0.0</td>\n",
       "      <td>0.0</td>\n",
       "      <td>0.0</td>\n",
       "      <td>0.0</td>\n",
       "      <td>0.0</td>\n",
       "      <td>0.0</td>\n",
       "      <td>0.0</td>\n",
       "      <td>0.0</td>\n",
       "      <td>...</td>\n",
       "      <td>0.0</td>\n",
       "      <td>0.0</td>\n",
       "      <td>0.0</td>\n",
       "      <td>0.0</td>\n",
       "      <td>0.0</td>\n",
       "      <td>0.0</td>\n",
       "      <td>0.0</td>\n",
       "      <td>0.0</td>\n",
       "      <td>0.0</td>\n",
       "      <td>0.0</td>\n",
       "    </tr>\n",
       "    <tr>\n",
       "      <th>wsj</th>\n",
       "      <td>1.0</td>\n",
       "      <td>24.0</td>\n",
       "      <td>3.0</td>\n",
       "      <td>0.0</td>\n",
       "      <td>1.0</td>\n",
       "      <td>26.0</td>\n",
       "      <td>0.0</td>\n",
       "      <td>0.0</td>\n",
       "      <td>9.0</td>\n",
       "      <td>2.0</td>\n",
       "      <td>...</td>\n",
       "      <td>18.0</td>\n",
       "      <td>2.0</td>\n",
       "      <td>0.0</td>\n",
       "      <td>27.0</td>\n",
       "      <td>16.0</td>\n",
       "      <td>14.0</td>\n",
       "      <td>2.0</td>\n",
       "      <td>3.0</td>\n",
       "      <td>0.0</td>\n",
       "      <td>7.0</td>\n",
       "    </tr>\n",
       "  </tbody>\n",
       "</table>\n",
       "<p>92 rows × 839 columns</p>\n",
       "</div>"
      ],
      "text/plain": [
       "                      pro life  abortion rights  anti abortion  anti choice  \\\n",
       "publication                                                                   \n",
       "aljazeera                 12.0             97.0           53.0          0.0   \n",
       "alternet                  13.0             42.0           54.0         54.0   \n",
       "americanconservative      68.0             15.0            4.0          0.0   \n",
       "americanspectator         10.0              5.0            0.0          0.0   \n",
       "americanthinker            0.0              0.0            0.0          0.0   \n",
       "...                        ...              ...            ...          ...   \n",
       "voltairenetwork            0.0              0.0            0.0          0.0   \n",
       "vox                       60.0            461.0          487.0         14.0   \n",
       "wapo                     242.0            585.0           29.0         19.0   \n",
       "wired                      0.0              0.0            0.0          0.0   \n",
       "wsj                        1.0             24.0            3.0          0.0   \n",
       "\n",
       "                      abortion care  pregnancy  kill  medical abortion  \\\n",
       "publication                                                              \n",
       "aljazeera                       7.0       61.0   2.0               2.0   \n",
       "alternet                       13.0       69.0   5.0               0.0   \n",
       "americanconservative            0.0        8.0   1.0               0.0   \n",
       "americanspectator               1.0        3.0   1.0               0.0   \n",
       "americanthinker                 0.0        0.0   0.0               0.0   \n",
       "...                             ...        ...   ...               ...   \n",
       "voltairenetwork                 0.0        0.0   0.0               0.0   \n",
       "vox                            76.0      487.0  29.0               8.0   \n",
       "wapo                           64.0      531.0  14.0               9.0   \n",
       "wired                           0.0        0.0   0.0               0.0   \n",
       "wsj                             1.0       26.0   0.0               0.0   \n",
       "\n",
       "                      family planning  pro abortion  ...  Saudi led coalition  \\\n",
       "publication                                          ...                        \n",
       "aljazeera                        18.0           6.0  ...                261.0   \n",
       "alternet                         15.0           1.0  ...                  6.0   \n",
       "americanconservative              0.0           3.0  ...                 44.0   \n",
       "americanspectator                 1.0           4.0  ...                  0.0   \n",
       "americanthinker                   0.0           0.0  ...                  0.0   \n",
       "...                               ...           ...  ...                  ...   \n",
       "voltairenetwork                   0.0           0.0  ...                  0.0   \n",
       "vox                              72.0          29.0  ...                 25.0   \n",
       "wapo                            130.0          28.0  ...                194.0   \n",
       "wired                             0.0           0.0  ...                  0.0   \n",
       "wsj                               9.0           2.0  ...                 18.0   \n",
       "\n",
       "                      separatists  Special Operations  terrorist  the Houthis  \\\n",
       "publication                                                                     \n",
       "aljazeera                   172.0                 0.0      143.0        832.0   \n",
       "alternet                      0.0                24.0       28.0         11.0   \n",
       "americanconservative         14.0                 5.0       82.0        121.0   \n",
       "americanspectator             0.0                 0.0        0.0          0.0   \n",
       "americanthinker               0.0                 0.0        0.0          0.0   \n",
       "...                           ...                 ...        ...          ...   \n",
       "voltairenetwork               0.0                 0.0        0.0          0.0   \n",
       "vox                           3.0                 0.0       87.0         15.0   \n",
       "wapo                         34.0                30.0      334.0        347.0   \n",
       "wired                         0.0                 0.0        0.0          0.0   \n",
       "wsj                           2.0                 0.0       27.0         16.0   \n",
       "\n",
       "                      the IRGC  the JCPOA  the Yemeni  war on Yemen  terrorism  \n",
       "publication                                                                     \n",
       "aljazeera                 21.0       27.0       238.0           5.0      169.0  \n",
       "alternet                   1.0       10.0         4.0          12.0       30.0  \n",
       "americanconservative      21.0       49.0        31.0         252.0       89.0  \n",
       "americanspectator          0.0        0.0         0.0           0.0        0.0  \n",
       "americanthinker            0.0        0.0         0.0           0.0        0.0  \n",
       "...                        ...        ...         ...           ...        ...  \n",
       "voltairenetwork            0.0        0.0         0.0           0.0        0.0  \n",
       "vox                       19.0        1.0        13.0           7.0       62.0  \n",
       "wapo                      31.0       33.0        86.0           4.0      322.0  \n",
       "wired                      0.0        0.0         0.0           0.0        0.0  \n",
       "wsj                       14.0        2.0         3.0           0.0        7.0  \n",
       "\n",
       "[92 rows x 839 columns]"
      ]
     },
     "execution_count": 6,
     "metadata": {},
     "output_type": "execute_result"
    },
    {
     "name": "stdout",
     "output_type": "stream",
     "text": [
      "time: 86.1 ms (started: 2023-03-21 17:01:51 -07:00)\n"
     ]
    }
   ],
   "source": [
    "df"
   ]
  },
  {
   "cell_type": "markdown",
   "id": "1d728052-2761-4d9d-8398-315d94e08234",
   "metadata": {},
   "source": [
    "Here are all the sampled publications:"
   ]
  },
  {
   "cell_type": "code",
   "execution_count": 7,
   "id": "258f45c9-0bb6-41aa-9b5c-7626763361f8",
   "metadata": {},
   "outputs": [
    {
     "data": {
      "text/plain": [
       "Index(['aljazeera', 'alternet', 'americanconservative', 'americanspectator',\n",
       "       'americanthinker', 'antiwar', 'ap', 'atlantic', 'axios', 'bbc',\n",
       "       'bloomberg', 'breitbart', 'businessinsider', 'buzzfeed', 'canary',\n",
       "       'cbs', 'cnbc', 'cnn', 'commondreams', 'consortium', 'conversation',\n",
       "       'counterpunch', 'dailycaller', 'dailykos', 'dailymail', 'dailywire',\n",
       "       'defenseone', 'economist', 'eff', 'factcheck', 'federalist',\n",
       "       'fivethirtyeight', 'foreignaffairs', 'fox', 'freebeacon',\n",
       "       'globalresearch', 'grayzone', 'guardian', 'huffingtonpost',\n",
       "       'independent', 'infowars', 'intercept', 'jacobinmag', 'jpost',\n",
       "       'koreaherald', 'lewrockwell', 'mintpress', 'motherjones', 'msnbc',\n",
       "       'nationalreview', 'nbc', 'neweasternoutlook', 'newsbud', 'newyorker',\n",
       "       'npr', 'nypost', 'nytimes', 'observerny', 'offguardian', 'opednews',\n",
       "       'pbs', 'peoplesdaily', 'pjmedia', 'propublica', 'psychologytoday',\n",
       "       'rawstory', 'redstate', 'reuters', 'reveal', 'rt', 'science',\n",
       "       'scientificamerican', 'shadowproof', 'slate', 'snopes',\n",
       "       'socialistalternative', 'socialistproject', 'spectator',\n",
       "       'strategicculture', 'techcrunch', 'time', 'townhall', 'truthdig',\n",
       "       'usatoday', 'verge', 'veteranstoday', 'vice', 'voltairenetwork', 'vox',\n",
       "       'wapo', 'wired', 'wsj'],\n",
       "      dtype='object', name='publication')"
      ]
     },
     "execution_count": 7,
     "metadata": {},
     "output_type": "execute_result"
    },
    {
     "name": "stdout",
     "output_type": "stream",
     "text": [
      "time: 5.74 ms (started: 2023-03-21 17:01:51 -07:00)\n"
     ]
    }
   ],
   "source": [
    "df.index"
   ]
  },
  {
   "cell_type": "markdown",
   "id": "bcece5dd-4ad7-47b0-81ea-fb169de8657c",
   "metadata": {},
   "source": [
    "Compared to the paper, the following publications are in the dataset but don't appear in the generalized principle component plots there (Science and Defense One are mentioned as being included in a correlation analysis):"
   ]
  },
  {
   "cell_type": "code",
   "execution_count": 8,
   "id": "be205c34-38d5-4289-8b6f-eae6a38f3902",
   "metadata": {},
   "outputs": [
    {
     "name": "stdout",
     "output_type": "stream",
     "text": [
      "time: 5.19 ms (started: 2023-03-21 17:01:51 -07:00)\n"
     ]
    }
   ],
   "source": [
    "filtered_publications = [\n",
    "    \"bloomberg\",\n",
    "    \"defenseone\",\n",
    "    \"factcheck\",\n",
    "    \"koreaherald\",\n",
    "    \"msnbc\",\n",
    "    \"newsbud\",\n",
    "    \"science\",\n",
    "    \"scientificamerican\",\n",
    "    \"wired\",\n",
    "]"
   ]
  },
  {
   "cell_type": "markdown",
   "id": "3291b646-8cc9-4ff5-b00d-77e841f8e3ee",
   "metadata": {},
   "source": [
    "## Bias Values\n",
    "\n",
    "The authors identify two sources of bias:\n",
    "\n",
    "* left/right bias taken from <https://www.allsides.com/media-bias>.\n",
    "* establishment stance (pro/critical) taken from <https://www.improvethenews.org/>, <https://swprs.org/media-navigator/> and Wikipedia.\n",
    "\n",
    "In both cases they are classified into 5 levels. Unfortunately, these values aren't provided as downloadable data and attempting to recreate it from the sources above is difficult because:\n",
    "\n",
    "* Not all sources are in either the allsides or media navigator database.\n",
    "* The media navigator uses a three-point scale (close, intermediate, distant) for establishment bias.\n",
    "* Improve the News does have a five-point scale, but to get a particular media source to show up, you have to look for specific stories and then hope that publication is in the list, so it's very time-consuming.\n",
    "\n",
    "Instead I have done my best to recreate the values using the media legend of Figure 2 of the paper, which uses color for the left/right bias, and size for the establishment bias. The latter was substantially harder to do than I thought: distinguishing between the smallest two sizes and then within the larger three sizes was not always easy. So expect some mistakes. Also, publications not used in Figure 2 are removed."
   ]
  },
  {
   "cell_type": "code",
   "execution_count": 9,
   "id": "b4deca80-c931-4666-a415-7ab456cf34bf",
   "metadata": {},
   "outputs": [
    {
     "data": {
      "text/html": [
       "<div>\n",
       "<style scoped>\n",
       "    .dataframe tbody tr th:only-of-type {\n",
       "        vertical-align: middle;\n",
       "    }\n",
       "\n",
       "    .dataframe tbody tr th {\n",
       "        vertical-align: top;\n",
       "    }\n",
       "\n",
       "    .dataframe thead th {\n",
       "        text-align: right;\n",
       "    }\n",
       "</style>\n",
       "<table border=\"1\" class=\"dataframe\">\n",
       "  <thead>\n",
       "    <tr style=\"text-align: right;\">\n",
       "      <th></th>\n",
       "      <th>pro life</th>\n",
       "      <th>abortion rights</th>\n",
       "      <th>anti abortion</th>\n",
       "      <th>anti choice</th>\n",
       "      <th>abortion care</th>\n",
       "      <th>pregnancy</th>\n",
       "      <th>kill</th>\n",
       "      <th>medical abortion</th>\n",
       "      <th>family planning</th>\n",
       "      <th>pro abortion</th>\n",
       "      <th>...</th>\n",
       "      <th>Saudi led coalition</th>\n",
       "      <th>separatists</th>\n",
       "      <th>Special Operations</th>\n",
       "      <th>terrorist</th>\n",
       "      <th>the Houthis</th>\n",
       "      <th>the IRGC</th>\n",
       "      <th>the JCPOA</th>\n",
       "      <th>the Yemeni</th>\n",
       "      <th>war on Yemen</th>\n",
       "      <th>terrorism</th>\n",
       "    </tr>\n",
       "    <tr>\n",
       "      <th>publication</th>\n",
       "      <th></th>\n",
       "      <th></th>\n",
       "      <th></th>\n",
       "      <th></th>\n",
       "      <th></th>\n",
       "      <th></th>\n",
       "      <th></th>\n",
       "      <th></th>\n",
       "      <th></th>\n",
       "      <th></th>\n",
       "      <th></th>\n",
       "      <th></th>\n",
       "      <th></th>\n",
       "      <th></th>\n",
       "      <th></th>\n",
       "      <th></th>\n",
       "      <th></th>\n",
       "      <th></th>\n",
       "      <th></th>\n",
       "      <th></th>\n",
       "      <th></th>\n",
       "    </tr>\n",
       "  </thead>\n",
       "  <tbody>\n",
       "    <tr>\n",
       "      <th>aljazeera</th>\n",
       "      <td>12.0</td>\n",
       "      <td>97.0</td>\n",
       "      <td>53.0</td>\n",
       "      <td>0.0</td>\n",
       "      <td>7.0</td>\n",
       "      <td>61.0</td>\n",
       "      <td>2.0</td>\n",
       "      <td>2.0</td>\n",
       "      <td>18.0</td>\n",
       "      <td>6.0</td>\n",
       "      <td>...</td>\n",
       "      <td>261.0</td>\n",
       "      <td>172.0</td>\n",
       "      <td>0.0</td>\n",
       "      <td>143.0</td>\n",
       "      <td>832.0</td>\n",
       "      <td>21.0</td>\n",
       "      <td>27.0</td>\n",
       "      <td>238.0</td>\n",
       "      <td>5.0</td>\n",
       "      <td>169.0</td>\n",
       "    </tr>\n",
       "    <tr>\n",
       "      <th>alternet</th>\n",
       "      <td>13.0</td>\n",
       "      <td>42.0</td>\n",
       "      <td>54.0</td>\n",
       "      <td>54.0</td>\n",
       "      <td>13.0</td>\n",
       "      <td>69.0</td>\n",
       "      <td>5.0</td>\n",
       "      <td>0.0</td>\n",
       "      <td>15.0</td>\n",
       "      <td>1.0</td>\n",
       "      <td>...</td>\n",
       "      <td>6.0</td>\n",
       "      <td>0.0</td>\n",
       "      <td>24.0</td>\n",
       "      <td>28.0</td>\n",
       "      <td>11.0</td>\n",
       "      <td>1.0</td>\n",
       "      <td>10.0</td>\n",
       "      <td>4.0</td>\n",
       "      <td>12.0</td>\n",
       "      <td>30.0</td>\n",
       "    </tr>\n",
       "    <tr>\n",
       "      <th>americanconservative</th>\n",
       "      <td>68.0</td>\n",
       "      <td>15.0</td>\n",
       "      <td>4.0</td>\n",
       "      <td>0.0</td>\n",
       "      <td>0.0</td>\n",
       "      <td>8.0</td>\n",
       "      <td>1.0</td>\n",
       "      <td>0.0</td>\n",
       "      <td>0.0</td>\n",
       "      <td>3.0</td>\n",
       "      <td>...</td>\n",
       "      <td>44.0</td>\n",
       "      <td>14.0</td>\n",
       "      <td>5.0</td>\n",
       "      <td>82.0</td>\n",
       "      <td>121.0</td>\n",
       "      <td>21.0</td>\n",
       "      <td>49.0</td>\n",
       "      <td>31.0</td>\n",
       "      <td>252.0</td>\n",
       "      <td>89.0</td>\n",
       "    </tr>\n",
       "    <tr>\n",
       "      <th>americanspectator</th>\n",
       "      <td>10.0</td>\n",
       "      <td>5.0</td>\n",
       "      <td>0.0</td>\n",
       "      <td>0.0</td>\n",
       "      <td>1.0</td>\n",
       "      <td>3.0</td>\n",
       "      <td>1.0</td>\n",
       "      <td>0.0</td>\n",
       "      <td>1.0</td>\n",
       "      <td>4.0</td>\n",
       "      <td>...</td>\n",
       "      <td>0.0</td>\n",
       "      <td>0.0</td>\n",
       "      <td>0.0</td>\n",
       "      <td>0.0</td>\n",
       "      <td>0.0</td>\n",
       "      <td>0.0</td>\n",
       "      <td>0.0</td>\n",
       "      <td>0.0</td>\n",
       "      <td>0.0</td>\n",
       "      <td>0.0</td>\n",
       "    </tr>\n",
       "    <tr>\n",
       "      <th>americanthinker</th>\n",
       "      <td>0.0</td>\n",
       "      <td>0.0</td>\n",
       "      <td>0.0</td>\n",
       "      <td>0.0</td>\n",
       "      <td>0.0</td>\n",
       "      <td>0.0</td>\n",
       "      <td>0.0</td>\n",
       "      <td>0.0</td>\n",
       "      <td>0.0</td>\n",
       "      <td>0.0</td>\n",
       "      <td>...</td>\n",
       "      <td>0.0</td>\n",
       "      <td>0.0</td>\n",
       "      <td>0.0</td>\n",
       "      <td>0.0</td>\n",
       "      <td>0.0</td>\n",
       "      <td>0.0</td>\n",
       "      <td>0.0</td>\n",
       "      <td>0.0</td>\n",
       "      <td>0.0</td>\n",
       "      <td>0.0</td>\n",
       "    </tr>\n",
       "    <tr>\n",
       "      <th>...</th>\n",
       "      <td>...</td>\n",
       "      <td>...</td>\n",
       "      <td>...</td>\n",
       "      <td>...</td>\n",
       "      <td>...</td>\n",
       "      <td>...</td>\n",
       "      <td>...</td>\n",
       "      <td>...</td>\n",
       "      <td>...</td>\n",
       "      <td>...</td>\n",
       "      <td>...</td>\n",
       "      <td>...</td>\n",
       "      <td>...</td>\n",
       "      <td>...</td>\n",
       "      <td>...</td>\n",
       "      <td>...</td>\n",
       "      <td>...</td>\n",
       "      <td>...</td>\n",
       "      <td>...</td>\n",
       "      <td>...</td>\n",
       "      <td>...</td>\n",
       "    </tr>\n",
       "    <tr>\n",
       "      <th>vice</th>\n",
       "      <td>13.0</td>\n",
       "      <td>103.0</td>\n",
       "      <td>143.0</td>\n",
       "      <td>38.0</td>\n",
       "      <td>60.0</td>\n",
       "      <td>262.0</td>\n",
       "      <td>6.0</td>\n",
       "      <td>2.0</td>\n",
       "      <td>12.0</td>\n",
       "      <td>3.0</td>\n",
       "      <td>...</td>\n",
       "      <td>6.0</td>\n",
       "      <td>0.0</td>\n",
       "      <td>0.0</td>\n",
       "      <td>3.0</td>\n",
       "      <td>3.0</td>\n",
       "      <td>0.0</td>\n",
       "      <td>0.0</td>\n",
       "      <td>2.0</td>\n",
       "      <td>0.0</td>\n",
       "      <td>3.0</td>\n",
       "    </tr>\n",
       "    <tr>\n",
       "      <th>voltairenetwork</th>\n",
       "      <td>0.0</td>\n",
       "      <td>0.0</td>\n",
       "      <td>0.0</td>\n",
       "      <td>0.0</td>\n",
       "      <td>0.0</td>\n",
       "      <td>0.0</td>\n",
       "      <td>0.0</td>\n",
       "      <td>0.0</td>\n",
       "      <td>0.0</td>\n",
       "      <td>0.0</td>\n",
       "      <td>...</td>\n",
       "      <td>0.0</td>\n",
       "      <td>0.0</td>\n",
       "      <td>0.0</td>\n",
       "      <td>0.0</td>\n",
       "      <td>0.0</td>\n",
       "      <td>0.0</td>\n",
       "      <td>0.0</td>\n",
       "      <td>0.0</td>\n",
       "      <td>0.0</td>\n",
       "      <td>0.0</td>\n",
       "    </tr>\n",
       "    <tr>\n",
       "      <th>vox</th>\n",
       "      <td>60.0</td>\n",
       "      <td>461.0</td>\n",
       "      <td>487.0</td>\n",
       "      <td>14.0</td>\n",
       "      <td>76.0</td>\n",
       "      <td>487.0</td>\n",
       "      <td>29.0</td>\n",
       "      <td>8.0</td>\n",
       "      <td>72.0</td>\n",
       "      <td>29.0</td>\n",
       "      <td>...</td>\n",
       "      <td>25.0</td>\n",
       "      <td>3.0</td>\n",
       "      <td>0.0</td>\n",
       "      <td>87.0</td>\n",
       "      <td>15.0</td>\n",
       "      <td>19.0</td>\n",
       "      <td>1.0</td>\n",
       "      <td>13.0</td>\n",
       "      <td>7.0</td>\n",
       "      <td>62.0</td>\n",
       "    </tr>\n",
       "    <tr>\n",
       "      <th>wapo</th>\n",
       "      <td>242.0</td>\n",
       "      <td>585.0</td>\n",
       "      <td>29.0</td>\n",
       "      <td>19.0</td>\n",
       "      <td>64.0</td>\n",
       "      <td>531.0</td>\n",
       "      <td>14.0</td>\n",
       "      <td>9.0</td>\n",
       "      <td>130.0</td>\n",
       "      <td>28.0</td>\n",
       "      <td>...</td>\n",
       "      <td>194.0</td>\n",
       "      <td>34.0</td>\n",
       "      <td>30.0</td>\n",
       "      <td>334.0</td>\n",
       "      <td>347.0</td>\n",
       "      <td>31.0</td>\n",
       "      <td>33.0</td>\n",
       "      <td>86.0</td>\n",
       "      <td>4.0</td>\n",
       "      <td>322.0</td>\n",
       "    </tr>\n",
       "    <tr>\n",
       "      <th>wsj</th>\n",
       "      <td>1.0</td>\n",
       "      <td>24.0</td>\n",
       "      <td>3.0</td>\n",
       "      <td>0.0</td>\n",
       "      <td>1.0</td>\n",
       "      <td>26.0</td>\n",
       "      <td>0.0</td>\n",
       "      <td>0.0</td>\n",
       "      <td>9.0</td>\n",
       "      <td>2.0</td>\n",
       "      <td>...</td>\n",
       "      <td>18.0</td>\n",
       "      <td>2.0</td>\n",
       "      <td>0.0</td>\n",
       "      <td>27.0</td>\n",
       "      <td>16.0</td>\n",
       "      <td>14.0</td>\n",
       "      <td>2.0</td>\n",
       "      <td>3.0</td>\n",
       "      <td>0.0</td>\n",
       "      <td>7.0</td>\n",
       "    </tr>\n",
       "  </tbody>\n",
       "</table>\n",
       "<p>83 rows × 839 columns</p>\n",
       "</div>"
      ],
      "text/plain": [
       "                      pro life  abortion rights  anti abortion  anti choice  \\\n",
       "publication                                                                   \n",
       "aljazeera                 12.0             97.0           53.0          0.0   \n",
       "alternet                  13.0             42.0           54.0         54.0   \n",
       "americanconservative      68.0             15.0            4.0          0.0   \n",
       "americanspectator         10.0              5.0            0.0          0.0   \n",
       "americanthinker            0.0              0.0            0.0          0.0   \n",
       "...                        ...              ...            ...          ...   \n",
       "vice                      13.0            103.0          143.0         38.0   \n",
       "voltairenetwork            0.0              0.0            0.0          0.0   \n",
       "vox                       60.0            461.0          487.0         14.0   \n",
       "wapo                     242.0            585.0           29.0         19.0   \n",
       "wsj                        1.0             24.0            3.0          0.0   \n",
       "\n",
       "                      abortion care  pregnancy  kill  medical abortion  \\\n",
       "publication                                                              \n",
       "aljazeera                       7.0       61.0   2.0               2.0   \n",
       "alternet                       13.0       69.0   5.0               0.0   \n",
       "americanconservative            0.0        8.0   1.0               0.0   \n",
       "americanspectator               1.0        3.0   1.0               0.0   \n",
       "americanthinker                 0.0        0.0   0.0               0.0   \n",
       "...                             ...        ...   ...               ...   \n",
       "vice                           60.0      262.0   6.0               2.0   \n",
       "voltairenetwork                 0.0        0.0   0.0               0.0   \n",
       "vox                            76.0      487.0  29.0               8.0   \n",
       "wapo                           64.0      531.0  14.0               9.0   \n",
       "wsj                             1.0       26.0   0.0               0.0   \n",
       "\n",
       "                      family planning  pro abortion  ...  Saudi led coalition  \\\n",
       "publication                                          ...                        \n",
       "aljazeera                        18.0           6.0  ...                261.0   \n",
       "alternet                         15.0           1.0  ...                  6.0   \n",
       "americanconservative              0.0           3.0  ...                 44.0   \n",
       "americanspectator                 1.0           4.0  ...                  0.0   \n",
       "americanthinker                   0.0           0.0  ...                  0.0   \n",
       "...                               ...           ...  ...                  ...   \n",
       "vice                             12.0           3.0  ...                  6.0   \n",
       "voltairenetwork                   0.0           0.0  ...                  0.0   \n",
       "vox                              72.0          29.0  ...                 25.0   \n",
       "wapo                            130.0          28.0  ...                194.0   \n",
       "wsj                               9.0           2.0  ...                 18.0   \n",
       "\n",
       "                      separatists  Special Operations  terrorist  the Houthis  \\\n",
       "publication                                                                     \n",
       "aljazeera                   172.0                 0.0      143.0        832.0   \n",
       "alternet                      0.0                24.0       28.0         11.0   \n",
       "americanconservative         14.0                 5.0       82.0        121.0   \n",
       "americanspectator             0.0                 0.0        0.0          0.0   \n",
       "americanthinker               0.0                 0.0        0.0          0.0   \n",
       "...                           ...                 ...        ...          ...   \n",
       "vice                          0.0                 0.0        3.0          3.0   \n",
       "voltairenetwork               0.0                 0.0        0.0          0.0   \n",
       "vox                           3.0                 0.0       87.0         15.0   \n",
       "wapo                         34.0                30.0      334.0        347.0   \n",
       "wsj                           2.0                 0.0       27.0         16.0   \n",
       "\n",
       "                      the IRGC  the JCPOA  the Yemeni  war on Yemen  terrorism  \n",
       "publication                                                                     \n",
       "aljazeera                 21.0       27.0       238.0           5.0      169.0  \n",
       "alternet                   1.0       10.0         4.0          12.0       30.0  \n",
       "americanconservative      21.0       49.0        31.0         252.0       89.0  \n",
       "americanspectator          0.0        0.0         0.0           0.0        0.0  \n",
       "americanthinker            0.0        0.0         0.0           0.0        0.0  \n",
       "...                        ...        ...         ...           ...        ...  \n",
       "vice                       0.0        0.0         2.0           0.0        3.0  \n",
       "voltairenetwork            0.0        0.0         0.0           0.0        0.0  \n",
       "vox                       19.0        1.0        13.0           7.0       62.0  \n",
       "wapo                      31.0       33.0        86.0           4.0      322.0  \n",
       "wsj                       14.0        2.0         3.0           0.0        7.0  \n",
       "\n",
       "[83 rows x 839 columns]"
      ]
     },
     "execution_count": 9,
     "metadata": {},
     "output_type": "execute_result"
    },
    {
     "name": "stdout",
     "output_type": "stream",
     "text": [
      "time: 38.9 ms (started: 2023-03-21 17:01:51 -07:00)\n"
     ]
    }
   ],
   "source": [
    "filtered_df = df.loc[~df.index.isin(filtered_publications), :]\n",
    "filtered_df"
   ]
  },
  {
   "cell_type": "code",
   "execution_count": 10,
   "id": "0f73f149-1970-4f2c-af8f-c9cec37fc8ac",
   "metadata": {},
   "outputs": [
    {
     "name": "stdout",
     "output_type": "stream",
     "text": [
      "time: 9.2 ms (started: 2023-03-21 17:01:51 -07:00)\n"
     ]
    }
   ],
   "source": [
    "political_code = [\n",
    "    1,\n",
    "    0,\n",
    "    3,\n",
    "    4,\n",
    "    4,\n",
    "    4,\n",
    "    2,\n",
    "    1,\n",
    "    2,\n",
    "    2,\n",
    "    4,\n",
    "    2,\n",
    "    0,\n",
    "    0,\n",
    "    1,\n",
    "    2,\n",
    "    1,\n",
    "    0,\n",
    "    2,\n",
    "    1,\n",
    "    0,\n",
    "    4,\n",
    "    0,\n",
    "    4,\n",
    "    4,\n",
    "    1,\n",
    "    2,\n",
    "    4,\n",
    "    2,\n",
    "    2,\n",
    "    3,\n",
    "    4,\n",
    "    2,\n",
    "    0,\n",
    "    1,\n",
    "    0,\n",
    "    1,\n",
    "    4,\n",
    "    0,\n",
    "    0,\n",
    "    2,\n",
    "    4,\n",
    "    0,\n",
    "    0,\n",
    "    4,\n",
    "    1,\n",
    "    4,\n",
    "    1,\n",
    "    2,\n",
    "    4,\n",
    "    0,\n",
    "    2,\n",
    "    0,\n",
    "    1,\n",
    "    2,\n",
    "    0,\n",
    "    3,\n",
    "    1,\n",
    "    2,\n",
    "    0,\n",
    "    4,\n",
    "    2,\n",
    "    0,\n",
    "    2,\n",
    "    0,\n",
    "    0,\n",
    "    2,\n",
    "    0,\n",
    "    0,\n",
    "    4,\n",
    "    4,\n",
    "    2,\n",
    "    1,\n",
    "    4,\n",
    "    0,\n",
    "    2,\n",
    "    1,\n",
    "    4,\n",
    "    0,\n",
    "    2,\n",
    "    0,\n",
    "    1,\n",
    "    2,\n",
    "]"
   ]
  },
  {
   "cell_type": "code",
   "execution_count": 11,
   "id": "0b1b23d4-e07d-430a-b61d-41d88cbc3231",
   "metadata": {},
   "outputs": [
    {
     "name": "stdout",
     "output_type": "stream",
     "text": [
      "time: 10.8 ms (started: 2023-03-21 17:01:51 -07:00)\n"
     ]
    }
   ],
   "source": [
    "establishment_code = [\n",
    "    1,\n",
    "    1,\n",
    "    1,\n",
    "    4,\n",
    "    4,\n",
    "    0,\n",
    "    4,\n",
    "    3,\n",
    "    3,\n",
    "    4,\n",
    "    2,\n",
    "    3,\n",
    "    4,\n",
    "    0,\n",
    "    4,\n",
    "    4,\n",
    "    4,\n",
    "    1,\n",
    "    0,\n",
    "    2,\n",
    "    1,\n",
    "    3,\n",
    "    1,\n",
    "    4,\n",
    "    2,\n",
    "    4,\n",
    "    1,\n",
    "    3,\n",
    "    3,\n",
    "    4,\n",
    "    3,\n",
    "    4,\n",
    "    0,\n",
    "    1,\n",
    "    4,\n",
    "    3,\n",
    "    2,\n",
    "    1,\n",
    "    1,\n",
    "    1,\n",
    "    0,\n",
    "    1,\n",
    "    1,\n",
    "    1,\n",
    "    4,\n",
    "    3,\n",
    "    1,\n",
    "    1,\n",
    "    4,\n",
    "    4,\n",
    "    4,\n",
    "    1,\n",
    "    0,\n",
    "    1,\n",
    "    4,\n",
    "    0,\n",
    "    3,\n",
    "    2,\n",
    "    3,\n",
    "    0,\n",
    "    3,\n",
    "    4,\n",
    "    1,\n",
    "    0,\n",
    "    1,\n",
    "    3,\n",
    "    3,\n",
    "    1,\n",
    "    1,\n",
    "    4,\n",
    "    1,\n",
    "    1,\n",
    "    4,\n",
    "    2,\n",
    "    1,\n",
    "    4,\n",
    "    2,\n",
    "    1,\n",
    "    4,\n",
    "    0,\n",
    "    2,\n",
    "    4,\n",
    "    4,\n",
    "]"
   ]
  },
  {
   "cell_type": "code",
   "execution_count": 12,
   "id": "a73b93c9-d2ac-4022-a4bb-7e44042ad6c7",
   "metadata": {},
   "outputs": [
    {
     "data": {
      "text/plain": [
       "array(['lean left', 'left', 'lean right', 'right', 'right', 'right',\n",
       "       'center', 'lean left', 'center', 'center', 'right', 'center',\n",
       "       'left', 'left', 'lean left', 'center', 'lean left', 'left',\n",
       "       'center', 'lean left', 'left', 'right', 'left', 'right', 'right',\n",
       "       'lean left', 'center', 'right', 'center', 'center', 'lean right',\n",
       "       'right', 'center', 'left', 'lean left', 'left', 'lean left',\n",
       "       'right', 'left', 'left', 'center', 'right', 'left', 'left',\n",
       "       'right', 'lean left', 'right', 'lean left', 'center', 'right',\n",
       "       'left', 'center', 'left', 'lean left', 'center', 'left',\n",
       "       'lean right', 'lean left', 'center', 'left', 'right', 'center',\n",
       "       'left', 'center', 'left', 'left', 'center', 'left', 'left',\n",
       "       'right', 'right', 'center', 'lean left', 'right', 'left', 'center',\n",
       "       'lean left', 'right', 'left', 'center', 'left', 'lean left',\n",
       "       'center'], dtype='<U10')"
      ]
     },
     "execution_count": 12,
     "metadata": {},
     "output_type": "execute_result"
    },
    {
     "name": "stdout",
     "output_type": "stream",
     "text": [
      "time: 9.24 ms (started: 2023-03-21 17:01:51 -07:00)\n"
     ]
    }
   ],
   "source": [
    "political_bias_categories = np.array(\n",
    "    [\"left\", \"lean left\", \"center\", \"lean right\", \"right\"]\n",
    ")\n",
    "political_bias = political_bias_categories[political_code]\n",
    "political_bias"
   ]
  },
  {
   "cell_type": "code",
   "execution_count": 13,
   "id": "2f97f260-3659-4ff5-90aa-22171ad36d44",
   "metadata": {},
   "outputs": [
    {
     "data": {
      "text/plain": [
       "array(['slightly critical', 'slightly critical', 'slightly critical',\n",
       "       'pro', 'pro', 'critical', 'pro', 'slightly pro', 'slightly pro',\n",
       "       'pro', 'neutral', 'slightly pro', 'pro', 'critical', 'pro', 'pro',\n",
       "       'pro', 'slightly critical', 'critical', 'neutral',\n",
       "       'slightly critical', 'slightly pro', 'slightly critical', 'pro',\n",
       "       'neutral', 'pro', 'slightly critical', 'slightly pro',\n",
       "       'slightly pro', 'pro', 'slightly pro', 'pro', 'critical',\n",
       "       'slightly critical', 'pro', 'slightly pro', 'neutral',\n",
       "       'slightly critical', 'slightly critical', 'slightly critical',\n",
       "       'critical', 'slightly critical', 'slightly critical',\n",
       "       'slightly critical', 'pro', 'slightly pro', 'slightly critical',\n",
       "       'slightly critical', 'pro', 'pro', 'pro', 'slightly critical',\n",
       "       'critical', 'slightly critical', 'pro', 'critical', 'slightly pro',\n",
       "       'neutral', 'slightly pro', 'critical', 'slightly pro', 'pro',\n",
       "       'slightly critical', 'critical', 'slightly critical',\n",
       "       'slightly pro', 'slightly pro', 'slightly critical',\n",
       "       'slightly critical', 'pro', 'slightly critical',\n",
       "       'slightly critical', 'pro', 'neutral', 'slightly critical', 'pro',\n",
       "       'neutral', 'slightly critical', 'pro', 'critical', 'neutral',\n",
       "       'pro', 'pro'], dtype='<U17')"
      ]
     },
     "execution_count": 13,
     "metadata": {},
     "output_type": "execute_result"
    },
    {
     "name": "stdout",
     "output_type": "stream",
     "text": [
      "time: 4.48 ms (started: 2023-03-21 17:01:51 -07:00)\n"
     ]
    }
   ],
   "source": [
    "establishment_bias_categories = np.array(\n",
    "    [\"critical\", \"slightly critical\", \"neutral\", \"slightly pro\", \"pro\"]\n",
    ")\n",
    "establishment_bias = establishment_bias_categories[establishment_code]\n",
    "establishment_bias"
   ]
  },
  {
   "cell_type": "code",
   "execution_count": 14,
   "id": "ccd114d3-dff5-4bee-867f-2ff669e5ba1d",
   "metadata": {},
   "outputs": [
    {
     "data": {
      "text/html": [
       "<div>\n",
       "<style scoped>\n",
       "    .dataframe tbody tr th:only-of-type {\n",
       "        vertical-align: middle;\n",
       "    }\n",
       "\n",
       "    .dataframe tbody tr th {\n",
       "        vertical-align: top;\n",
       "    }\n",
       "\n",
       "    .dataframe thead th {\n",
       "        text-align: right;\n",
       "    }\n",
       "</style>\n",
       "<table border=\"1\" class=\"dataframe\">\n",
       "  <thead>\n",
       "    <tr style=\"text-align: right;\">\n",
       "      <th></th>\n",
       "      <th>establishment_bias</th>\n",
       "      <th>political_bias</th>\n",
       "    </tr>\n",
       "    <tr>\n",
       "      <th>publication</th>\n",
       "      <th></th>\n",
       "      <th></th>\n",
       "    </tr>\n",
       "  </thead>\n",
       "  <tbody>\n",
       "    <tr>\n",
       "      <th>aljazeera</th>\n",
       "      <td>slightly critical</td>\n",
       "      <td>lean left</td>\n",
       "    </tr>\n",
       "    <tr>\n",
       "      <th>alternet</th>\n",
       "      <td>slightly critical</td>\n",
       "      <td>left</td>\n",
       "    </tr>\n",
       "    <tr>\n",
       "      <th>americanconservative</th>\n",
       "      <td>slightly critical</td>\n",
       "      <td>lean right</td>\n",
       "    </tr>\n",
       "    <tr>\n",
       "      <th>americanspectator</th>\n",
       "      <td>pro</td>\n",
       "      <td>right</td>\n",
       "    </tr>\n",
       "    <tr>\n",
       "      <th>americanthinker</th>\n",
       "      <td>pro</td>\n",
       "      <td>right</td>\n",
       "    </tr>\n",
       "    <tr>\n",
       "      <th>...</th>\n",
       "      <td>...</td>\n",
       "      <td>...</td>\n",
       "    </tr>\n",
       "    <tr>\n",
       "      <th>vice</th>\n",
       "      <td>pro</td>\n",
       "      <td>left</td>\n",
       "    </tr>\n",
       "    <tr>\n",
       "      <th>voltairenetwork</th>\n",
       "      <td>critical</td>\n",
       "      <td>center</td>\n",
       "    </tr>\n",
       "    <tr>\n",
       "      <th>vox</th>\n",
       "      <td>neutral</td>\n",
       "      <td>left</td>\n",
       "    </tr>\n",
       "    <tr>\n",
       "      <th>wapo</th>\n",
       "      <td>pro</td>\n",
       "      <td>lean left</td>\n",
       "    </tr>\n",
       "    <tr>\n",
       "      <th>wsj</th>\n",
       "      <td>pro</td>\n",
       "      <td>center</td>\n",
       "    </tr>\n",
       "  </tbody>\n",
       "</table>\n",
       "<p>83 rows × 2 columns</p>\n",
       "</div>"
      ],
      "text/plain": [
       "                     establishment_bias political_bias\n",
       "publication                                           \n",
       "aljazeera             slightly critical      lean left\n",
       "alternet              slightly critical           left\n",
       "americanconservative  slightly critical     lean right\n",
       "americanspectator                   pro          right\n",
       "americanthinker                     pro          right\n",
       "...                                 ...            ...\n",
       "vice                                pro           left\n",
       "voltairenetwork                critical         center\n",
       "vox                             neutral           left\n",
       "wapo                                pro      lean left\n",
       "wsj                                 pro         center\n",
       "\n",
       "[83 rows x 2 columns]"
      ]
     },
     "execution_count": 14,
     "metadata": {},
     "output_type": "execute_result"
    },
    {
     "name": "stdout",
     "output_type": "stream",
     "text": [
      "time: 17.8 ms (started: 2023-03-21 17:01:51 -07:00)\n"
     ]
    }
   ],
   "source": [
    "target = pd.DataFrame(\n",
    "    dict(\n",
    "        establishment_bias=pd.Categorical(\n",
    "            establishment_bias, categories=establishment_bias_categories\n",
    "        ),\n",
    "        political_bias=pd.Categorical(\n",
    "            political_bias, categories=political_bias_categories\n",
    "        ),\n",
    "    )\n",
    ")\n",
    "target.index = filtered_df.index\n",
    "target"
   ]
  },
  {
   "cell_type": "markdown",
   "id": "1c346913-0339-4c78-aebf-51dae045a7e5",
   "metadata": {},
   "source": [
    "Let's create a palette for the political and establishment bias. I will use 5-color palettes from [ColorBrewer](https://colorbrewer2.org/). Although outside of the USA it doesn't make a ton of sense for left-wing to be blue and right-wing to be red, to avoid being confusing compared to the paper, I will stick with that color scheme for the political leaning. For establishment bias I will use the purple-to-green palette going from critical to pro (with no meaning to those colors beyond trying not to be too reminiscient of red to blue)."
   ]
  },
  {
   "cell_type": "code",
   "execution_count": 15,
   "id": "6464e186-0557-4738-8ad9-9f2f0fbe531d",
   "metadata": {},
   "outputs": [
    {
     "name": "stdout",
     "output_type": "stream",
     "text": [
      "time: 3.6 ms (started: 2023-03-21 17:01:51 -07:00)\n"
     ]
    }
   ],
   "source": [
    "# The rdbu5 palette goes from red-to-blue, so we need to reverse it for the left-to-right categories\n",
    "rdbu5 = [\"#ca0020\", \"#f4a582\", \"#f7f7f7\", \"#92c5de\", \"#0571b0\"]\n",
    "rdbu5.reverse()\n",
    "prgn5 = [\"#7b3294\", \"#c2a5cf\", \"#f7f7f7\", \"#a6dba0\", \"#008837\"]\n",
    "\n",
    "media_bias_palette = dict(\n",
    "    establishment_bias=dict(zip(establishment_bias_categories, prgn5)),\n",
    "    political_bias=dict(zip(political_bias_categories, rdbu5)),\n",
    ")"
   ]
  },
  {
   "cell_type": "markdown",
   "id": "dedbfaf2-ef76-4ac7-b1b5-0e5c839e9d14",
   "metadata": {},
   "source": [
    "## UMAP result\n",
    "\n",
    "Here's an example of running UMAP on the data. Rather than use the raw counts, I'll use the [sklearn RobustScaler](https://scikit-learn.org/stable/modules/generated/sklearn.preprocessing.RobustScaler.html) to give each phrase roughly equal importance. I'm not saying this is a great idea."
   ]
  },
  {
   "cell_type": "code",
   "execution_count": 42,
   "id": "fa751821-fe14-424e-9d16-7ec351c765da",
   "metadata": {},
   "outputs": [
    {
     "data": {
      "text/html": [
       "<pre style=\"white-space:pre;overflow-x:auto;line-height:normal;font-family:Menlo,'DejaVu Sans Mono',consolas,'Courier New',monospace\"><span style=\"color: #7fbfbf; text-decoration-color: #7fbfbf\">[18:01:53] </span><span style=\"color: #000080; text-decoration-color: #000080\">INFO    </span> Running UMAP                                                                        <a href=\"file:///home/james/dev/drnb/src/drnb/embed/umap/umap.py\" target=\"_blank\"><span style=\"color: #7f7f7f; text-decoration-color: #7f7f7f\">umap.py</span></a><span style=\"color: #7f7f7f; text-decoration-color: #7f7f7f\">:</span><a href=\"file:///home/james/dev/drnb/src/drnb/embed/umap/umap.py#162\" target=\"_blank\"><span style=\"color: #7f7f7f; text-decoration-color: #7f7f7f\">162</span></a>\n",
       "</pre>\n"
      ],
      "text/plain": [
       "\u001b[2;36m[18:01:53]\u001b[0m\u001b[2;36m \u001b[0m\u001b[34mINFO    \u001b[0m Running UMAP                                                                        \u001b]8;id=38026;file:///home/james/dev/drnb/src/drnb/embed/umap/umap.py\u001b\\\u001b[2mumap.py\u001b[0m\u001b]8;;\u001b\\\u001b[2m:\u001b[0m\u001b]8;id=813974;file:///home/james/dev/drnb/src/drnb/embed/umap/umap.py#162\u001b\\\u001b[2m162\u001b[0m\u001b]8;;\u001b\\\n"
      ]
     },
     "metadata": {},
     "output_type": "display_data"
    },
    {
     "data": {
      "text/html": [
       "<pre style=\"white-space:pre;overflow-x:auto;line-height:normal;font-family:Menlo,'DejaVu Sans Mono',consolas,'Courier New',monospace\"><span style=\"color: #7fbfbf; text-decoration-color: #7fbfbf\">[18:01:56] </span><span style=\"color: #000080; text-decoration-color: #000080\">INFO    </span> Embedding completed                                                                 <a href=\"file:///home/james/dev/drnb/src/drnb/embed/umap/umap.py\" target=\"_blank\"><span style=\"color: #7f7f7f; text-decoration-color: #7f7f7f\">umap.py</span></a><span style=\"color: #7f7f7f; text-decoration-color: #7f7f7f\">:</span><a href=\"file:///home/james/dev/drnb/src/drnb/embed/umap/umap.py#167\" target=\"_blank\"><span style=\"color: #7f7f7f; text-decoration-color: #7f7f7f\">167</span></a>\n",
       "</pre>\n"
      ],
      "text/plain": [
       "\u001b[2;36m[18:01:56]\u001b[0m\u001b[2;36m \u001b[0m\u001b[34mINFO    \u001b[0m Embedding completed                                                                 \u001b]8;id=586983;file:///home/james/dev/drnb/src/drnb/embed/umap/umap.py\u001b\\\u001b[2mumap.py\u001b[0m\u001b]8;;\u001b\\\u001b[2m:\u001b[0m\u001b]8;id=675743;file:///home/james/dev/drnb/src/drnb/embed/umap/umap.py#167\u001b\\\u001b[2m167\u001b[0m\u001b]8;;\u001b\\\n"
      ]
     },
     "metadata": {},
     "output_type": "display_data"
    },
    {
     "name": "stdout",
     "output_type": "stream",
     "text": [
      "time: 2.94 s (started: 2023-03-21 18:01:53 -07:00)\n"
     ]
    }
   ],
   "source": [
    "from drnb.embed.umap.umap import Umap\n",
    "from sklearn.preprocessing import RobustScaler\n",
    "\n",
    "coords = Umap(params=dict(n_neighbors=5)).embed(\n",
    "    RobustScaler().fit_transform(filtered_df.to_numpy())\n",
    ")"
   ]
  },
  {
   "cell_type": "markdown",
   "id": "8c1dfba5-621d-4112-8168-b90fff60dc4e",
   "metadata": {},
   "source": [
    "And let's put some data together to give a bubble plot display a bit like what's in the paper."
   ]
  },
  {
   "cell_type": "code",
   "execution_count": 124,
   "id": "bd0d0ae9-925f-40bd-91a7-0c7215f81c3f",
   "metadata": {},
   "outputs": [
    {
     "name": "stdout",
     "output_type": "stream",
     "text": [
      "time: 3.6 ms (started: 2023-03-21 19:14:39 -07:00)\n"
     ]
    }
   ],
   "source": [
    "result_df = pd.DataFrame(\n",
    "    dict(\n",
    "        x=coords[:, 0],\n",
    "        y=coords[:, 1],\n",
    "        publication=filtered_df.index,\n",
    "        establishment_bias=target.establishment_bias.cat.as_ordered(),\n",
    "        political_bias=target.political_bias.cat.as_ordered(),\n",
    "    )\n",
    ")\n"
   ]
  },
  {
   "cell_type": "code",
   "execution_count": 133,
   "id": "4a2e232c-3e45-41fe-b469-cd6427f1a695",
   "metadata": {},
   "outputs": [
    {
     "data": {
      "text/plain": [
       "<matplotlib.legend.Legend at 0x7f5b3761e0e0>"
      ]
     },
     "execution_count": 133,
     "metadata": {},
     "output_type": "execute_result"
    },
    {
     "data": {
      "image/png": "[encoded data removed]",
      "text/plain": [
       "<Figure size 640x480 with 1 Axes>"
      ]
     },
     "metadata": {},
     "output_type": "display_data"
    },
    {
     "name": "stdout",
     "output_type": "stream",
     "text": [
      "time: 465 ms (started: 2023-03-21 19:17:30 -07:00)\n"
     ]
    }
   ],
   "source": [
    "import seaborn as sns\n",
    "import matplotlib.pyplot as plt\n",
    "\n",
    "sns.set_style(\"dark\")\n",
    "sns.scatterplot(\n",
    "    data=result_df,\n",
    "    x=\"x\",\n",
    "    y=\"y\",\n",
    "    hue=\"political_bias\",\n",
    "    size=\"establishment_bias\",\n",
    "    palette=rdbu5,\n",
    "    sizes=[(x + 5) ** 2 for x in range(0, 5)],\n",
    ")\n",
    "plt.legend(bbox_to_anchor=(1.02, 1), loc=\"upper left\", borderaxespad=0)"
   ]
  },
  {
   "cell_type": "markdown",
   "id": "8d8be0f5-02f7-4de0-bade-80e351492fe6",
   "metadata": {},
   "source": [
    "The layout isn't horrible, but I am sure some better scaling would give nicer results. Also, to see the actual names of the publication we should use something like plotly to put it in the tooltip. While plotly can do bubbleplots, mapping categorical values to sizes through the `express` API is a real pain."
   ]
  },
  {
   "cell_type": "code",
   "execution_count": 180,
   "id": "a46a96f4-3625-4d39-a438-817b62dee739",
   "metadata": {},
   "outputs": [
    {
     "data": {
      "application/vnd.plotly.v1+json": {
       "config": {
        "plotlyServerURL": "https://plot.ly"
       },
       "data": [
        {
         "customdata": [
          [
           "alternet"
          ],
          [
           "buzzfeed"
          ],
          [
           "canary"
          ],
          [
           "commondreams"
          ],
          [
           "counterpunch"
          ],
          [
           "dailykos"
          ],
          [
           "grayzone"
          ],
          [
           "huffingtonpost"
          ],
          [
           "intercept"
          ],
          [
           "jacobinmag"
          ],
          [
           "mintpress"
          ],
          [
           "motherjones"
          ],
          [
           "nytimes"
          ],
          [
           "offguardian"
          ],
          [
           "peoplesdaily"
          ],
          [
           "rawstory"
          ],
          [
           "reveal"
          ],
          [
           "shadowproof"
          ],
          [
           "slate"
          ],
          [
           "socialistalternative"
          ],
          [
           "socialistproject"
          ],
          [
           "truthdig"
          ],
          [
           "vice"
          ],
          [
           "vox"
          ]
         ],
         "hovertemplate": "political_bias=left<br>x=%{x}<br>y=%{y}<br>establishment_code=%{marker.size}<br>publication=%{customdata[0]}<extra></extra>",
         "legendgroup": "left",
         "marker": {
          "color": "#0571b0",
          "size": [
           2,
           5,
           1,
           2,
           2,
           2,
           2,
           4,
           2,
           2,
           2,
           2,
           5,
           1,
           1,
           1,
           2,
           2,
           4,
           2,
           2,
           2,
           5,
           3
          ],
          "sizemode": "area",
          "sizeref": 0.05,
          "symbol": "circle"
         },
         "mode": "markers",
         "name": "left",
         "orientation": "v",
         "showlegend": true,
         "type": "scatter",
         "x": [
          0.5391325950622559,
          1.143554925918579,
          -0.49782201647758484,
          0.2682836055755615,
          0.04521676525473595,
          0.3050667643547058,
          -0.9754186868667603,
          1.69023597240448,
          -0.24661332368850708,
          -1.8791509866714478,
          -2.0312538146972656,
          0.4881373345851898,
          3.031101703643799,
          -1.016877293586731,
          0.0033055772073566914,
          2.5397861003875732,
          0.25634029507637024,
          -0.18354670703411102,
          2.608673572540283,
          -0.43241432309150696,
          -0.3218155801296234,
          -0.4397802948951721,
          1.110088586807251,
          2.054990768432617
         ],
         "xaxis": "x",
         "y": [
          8.35862922668457,
          6.6419477462768555,
          8.287988662719727,
          9.26832103729248,
          9.471917152404785,
          9.071857452392578,
          7.913815498352051,
          5.831430435180664,
          8.867563247680664,
          9.3777437210083,
          9.127696990966797,
          8.085563659667969,
          7.388520240783691,
          8.3050537109375,
          7.37739372253418,
          7.421345233917236,
          6.556308746337891,
          8.548620223999023,
          7.158975124359131,
          6.781636714935303,
          8.105120658874512,
          9.312053680419922,
          6.263916492462158,
          5.818363189697266
         ],
         "yaxis": "y"
        },
        {
         "customdata": [
          [
           "aljazeera"
          ],
          [
           "atlantic"
          ],
          [
           "cbs"
          ],
          [
           "cnn"
          ],
          [
           "conversation"
          ],
          [
           "economist"
          ],
          [
           "guardian"
          ],
          [
           "independent"
          ],
          [
           "nbc"
          ],
          [
           "newyorker"
          ],
          [
           "opednews"
          ],
          [
           "propublica"
          ],
          [
           "time"
          ],
          [
           "verge"
          ],
          [
           "wapo"
          ]
         ],
         "hovertemplate": "political_bias=lean left<br>x=%{x}<br>y=%{y}<br>establishment_code=%{marker.size}<br>publication=%{customdata[0]}<extra></extra>",
         "legendgroup": "lean left",
         "marker": {
          "color": "#92c5de",
          "size": [
           2,
           4,
           5,
           5,
           3,
           5,
           5,
           3,
           4,
           2,
           2,
           3,
           5,
           3,
           5
          ],
          "sizemode": "area",
          "sizeref": 0.05,
          "symbol": "circle"
         },
         "mode": "markers",
         "name": "lean left",
         "orientation": "v",
         "showlegend": true,
         "type": "scatter",
         "x": [
          -2.1075973510742188,
          1.3050792217254639,
          2.5566413402557373,
          3.202441453933716,
          0.7543543577194214,
          0.9364275932312012,
          0.715914249420166,
          0.44417044520378113,
          3.635883092880249,
          0.17656035721302032,
          -1.1180477142333984,
          0.35574352741241455,
          1.4149478673934937,
          0.4770432114601135,
          3.709700345993042
         ],
         "xaxis": "x",
         "y": [
          8.712316513061523,
          7.93315315246582,
          6.633331775665283,
          7.14267635345459,
          8.355576515197754,
          7.362271785736084,
          8.702056884765625,
          7.647014617919922,
          7.570738315582275,
          7.75388765335083,
          8.43484115600586,
          7.148833274841309,
          6.221470832824707,
          5.829694747924805,
          7.503918170928955
         ],
         "yaxis": "y"
        },
        {
         "customdata": [
          [
           "ap"
          ],
          [
           "axios"
          ],
          [
           "bbc"
          ],
          [
           "businessinsider"
          ],
          [
           "cnbc"
          ],
          [
           "consortium"
          ],
          [
           "eff"
          ],
          [
           "fivethirtyeight"
          ],
          [
           "foreignaffairs"
          ],
          [
           "globalresearch"
          ],
          [
           "jpost"
          ],
          [
           "npr"
          ],
          [
           "observerny"
          ],
          [
           "pbs"
          ],
          [
           "psychologytoday"
          ],
          [
           "reuters"
          ],
          [
           "rt"
          ],
          [
           "snopes"
          ],
          [
           "techcrunch"
          ],
          [
           "usatoday"
          ],
          [
           "voltairenetwork"
          ],
          [
           "wsj"
          ]
         ],
         "hovertemplate": "political_bias=center<br>x=%{x}<br>y=%{y}<br>establishment_code=%{marker.size}<br>publication=%{customdata[0]}<extra></extra>",
         "legendgroup": "center",
         "marker": {
          "color": "#f7f7f7",
          "size": [
           5,
           4,
           5,
           4,
           5,
           1,
           2,
           4,
           5,
           1,
           1,
           5,
           2,
           5,
           4,
           5,
           1,
           4,
           2,
           5,
           1,
           5
          ],
          "sizemode": "area",
          "sizeref": 0.05,
          "symbol": "circle"
         },
         "mode": "markers",
         "name": "center",
         "orientation": "v",
         "showlegend": true,
         "type": "scatter",
         "x": [
          1.8864530324935913,
          -0.35273808240890503,
          1.041398286819458,
          -1.3611568212509155,
          -1.4394919872283936,
          -0.7523048520088196,
          0.3641243577003479,
          -0.6468278169631958,
          -0.010521055199205875,
          -1.1395251750946045,
          -0.33418604731559753,
          3.3399078845977783,
          -0.7465876936912537,
          1.1484178304672241,
          0.16285057365894318,
          -1.6080137491226196,
          -1.925962209701538,
          0.7741066813468933,
          -1.2917526960372925,
          3.563483715057373,
          -0.10566628724336624,
          -1.738344430923462
         ],
         "xaxis": "x",
         "y": [
          6.5425944328308105,
          7.094738483428955,
          6.341148376464844,
          6.602502822875977,
          6.75442361831665,
          9.042221069335938,
          5.957728385925293,
          6.89847993850708,
          6.827455520629883,
          8.829134941101074,
          6.499361991882324,
          7.351144313812256,
          6.279487133026123,
          6.936429977416992,
          6.418776035308838,
          7.74452018737793,
          8.187265396118164,
          6.811648368835449,
          6.7117600440979,
          7.378424167633057,
          6.730275630950928,
          7.187194347381592
         ],
         "yaxis": "y"
        },
        {
         "customdata": [
          [
           "americanconservative"
          ],
          [
           "fox"
          ],
          [
           "pjmedia"
          ]
         ],
         "hovertemplate": "political_bias=lean right<br>x=%{x}<br>y=%{y}<br>establishment_code=%{marker.size}<br>publication=%{customdata[0]}<extra></extra>",
         "legendgroup": "lean right",
         "marker": {
          "color": "#f4a582",
          "size": [
           2,
           4,
           4
          ],
          "sizemode": "area",
          "sizeref": 0.05,
          "symbol": "circle"
         },
         "mode": "markers",
         "name": "lean right",
         "orientation": "v",
         "showlegend": true,
         "type": "scatter",
         "x": [
          -1.5151751041412354,
          3.4664952754974365,
          2.639305830001831
         ],
         "xaxis": "x",
         "y": [
          8.988046646118164,
          8.221969604492188,
          9.080363273620605
         ],
         "yaxis": "y"
        },
        {
         "customdata": [
          [
           "americanspectator"
          ],
          [
           "americanthinker"
          ],
          [
           "antiwar"
          ],
          [
           "breitbart"
          ],
          [
           "dailycaller"
          ],
          [
           "dailymail"
          ],
          [
           "dailywire"
          ],
          [
           "federalist"
          ],
          [
           "freebeacon"
          ],
          [
           "infowars"
          ],
          [
           "lewrockwell"
          ],
          [
           "nationalreview"
          ],
          [
           "neweasternoutlook"
          ],
          [
           "nypost"
          ],
          [
           "redstate"
          ],
          [
           "spectator"
          ],
          [
           "strategicculture"
          ],
          [
           "townhall"
          ],
          [
           "veteranstoday"
          ]
         ],
         "hovertemplate": "political_bias=right<br>x=%{x}<br>y=%{y}<br>establishment_code=%{marker.size}<br>publication=%{customdata[0]}<extra></extra>",
         "legendgroup": "right",
         "marker": {
          "color": "#ca0020",
          "size": [
           5,
           5,
           1,
           3,
           4,
           5,
           3,
           4,
           5,
           2,
           2,
           5,
           2,
           5,
           4,
           5,
           2,
           3,
           2
          ],
          "sizemode": "area",
          "sizeref": 0.05,
          "symbol": "circle"
         },
         "mode": "markers",
         "name": "right",
         "orientation": "v",
         "showlegend": true,
         "type": "scatter",
         "x": [
          0.5666337013244629,
          1.5230218172073364,
          -2.0046772956848145,
          2.232468843460083,
          3.269221305847168,
          2.024412155151367,
          2.119037389755249,
          2.7659285068511963,
          -0.250819593667984,
          2.5818769931793213,
          -1.1512435674667358,
          3.1217846870422363,
          -1.207878828048706,
          1.9909847974777222,
          2.8292088508605957,
          2.4135563373565674,
          -1.0751079320907593,
          1.3838772773742676,
          -0.530778706073761
         ],
         "xaxis": "x",
         "y": [
          6.637434482574463,
          8.11711597442627,
          9.139738082885742,
          8.861624717712402,
          8.48890209197998,
          6.4761152267456055,
          8.219978332519531,
          8.919241905212402,
          6.479965686798096,
          8.642915725708008,
          9.305204391479492,
          8.736305236816406,
          8.834077835083008,
          6.740988731384277,
          8.613133430480957,
          8.784307479858398,
          9.262824058532715,
          7.366031646728516,
          7.665843486785889
         ],
         "yaxis": "y"
        }
       ],
       "layout": {
        "height": 500,
        "legend": {
         "itemsizing": "constant",
         "title": {
          "text": "political_bias"
         },
         "tracegroupgap": 0
        },
        "margin": {
         "t": 60
        },
        "template": {
         "data": {
          "bar": [
           {
            "error_x": {
             "color": "#2a3f5f"
            },
            "error_y": {
             "color": "#2a3f5f"
            },
            "marker": {
             "line": {
              "color": "#E5ECF6",
              "width": 0.5
             },
             "pattern": {
              "fillmode": "overlay",
              "size": 10,
              "solidity": 0.2
             }
            },
            "type": "bar"
           }
          ],
          "barpolar": [
           {
            "marker": {
             "line": {
              "color": "#E5ECF6",
              "width": 0.5
             },
             "pattern": {
              "fillmode": "overlay",
              "size": 10,
              "solidity": 0.2
             }
            },
            "type": "barpolar"
           }
          ],
          "carpet": [
           {
            "aaxis": {
             "endlinecolor": "#2a3f5f",
             "gridcolor": "white",
             "linecolor": "white",
             "minorgridcolor": "white",
             "startlinecolor": "#2a3f5f"
            },
            "baxis": {
             "endlinecolor": "#2a3f5f",
             "gridcolor": "white",
             "linecolor": "white",
             "minorgridcolor": "white",
             "startlinecolor": "#2a3f5f"
            },
            "type": "carpet"
           }
          ],
          "choropleth": [
           {
            "colorbar": {
             "outlinewidth": 0,
             "ticks": ""
            },
            "type": "choropleth"
           }
          ],
          "contour": [
           {
            "colorbar": {
             "outlinewidth": 0,
             "ticks": ""
            },
            "colorscale": [
             [
              0,
              "#0d0887"
             ],
             [
              0.1111111111111111,
              "#46039f"
             ],
             [
              0.2222222222222222,
              "#7201a8"
             ],
             [
              0.3333333333333333,
              "#9c179e"
             ],
             [
              0.4444444444444444,
              "#bd3786"
             ],
             [
              0.5555555555555556,
              "#d8576b"
             ],
             [
              0.6666666666666666,
              "#ed7953"
             ],
             [
              0.7777777777777778,
              "#fb9f3a"
             ],
             [
              0.8888888888888888,
              "#fdca26"
             ],
             [
              1,
              "#f0f921"
             ]
            ],
            "type": "contour"
           }
          ],
          "contourcarpet": [
           {
            "colorbar": {
             "outlinewidth": 0,
             "ticks": ""
            },
            "type": "contourcarpet"
           }
          ],
          "heatmap": [
           {
            "colorbar": {
             "outlinewidth": 0,
             "ticks": ""
            },
            "colorscale": [
             [
              0,
              "#0d0887"
             ],
             [
              0.1111111111111111,
              "#46039f"
             ],
             [
              0.2222222222222222,
              "#7201a8"
             ],
             [
              0.3333333333333333,
              "#9c179e"
             ],
             [
              0.4444444444444444,
              "#bd3786"
             ],
             [
              0.5555555555555556,
              "#d8576b"
             ],
             [
              0.6666666666666666,
              "#ed7953"
             ],
             [
              0.7777777777777778,
              "#fb9f3a"
             ],
             [
              0.8888888888888888,
              "#fdca26"
             ],
             [
              1,
              "#f0f921"
             ]
            ],
            "type": "heatmap"
           }
          ],
          "heatmapgl": [
           {
            "colorbar": {
             "outlinewidth": 0,
             "ticks": ""
            },
            "colorscale": [
             [
              0,
              "#0d0887"
             ],
             [
              0.1111111111111111,
              "#46039f"
             ],
             [
              0.2222222222222222,
              "#7201a8"
             ],
             [
              0.3333333333333333,
              "#9c179e"
             ],
             [
              0.4444444444444444,
              "#bd3786"
             ],
             [
              0.5555555555555556,
              "#d8576b"
             ],
             [
              0.6666666666666666,
              "#ed7953"
             ],
             [
              0.7777777777777778,
              "#fb9f3a"
             ],
             [
              0.8888888888888888,
              "#fdca26"
             ],
             [
              1,
              "#f0f921"
             ]
            ],
            "type": "heatmapgl"
           }
          ],
          "histogram": [
           {
            "marker": {
             "pattern": {
              "fillmode": "overlay",
              "size": 10,
              "solidity": 0.2
             }
            },
            "type": "histogram"
           }
          ],
          "histogram2d": [
           {
            "colorbar": {
             "outlinewidth": 0,
             "ticks": ""
            },
            "colorscale": [
             [
              0,
              "#0d0887"
             ],
             [
              0.1111111111111111,
              "#46039f"
             ],
             [
              0.2222222222222222,
              "#7201a8"
             ],
             [
              0.3333333333333333,
              "#9c179e"
             ],
             [
              0.4444444444444444,
              "#bd3786"
             ],
             [
              0.5555555555555556,
              "#d8576b"
             ],
             [
              0.6666666666666666,
              "#ed7953"
             ],
             [
              0.7777777777777778,
              "#fb9f3a"
             ],
             [
              0.8888888888888888,
              "#fdca26"
             ],
             [
              1,
              "#f0f921"
             ]
            ],
            "type": "histogram2d"
           }
          ],
          "histogram2dcontour": [
           {
            "colorbar": {
             "outlinewidth": 0,
             "ticks": ""
            },
            "colorscale": [
             [
              0,
              "#0d0887"
             ],
             [
              0.1111111111111111,
              "#46039f"
             ],
             [
              0.2222222222222222,
              "#7201a8"
             ],
             [
              0.3333333333333333,
              "#9c179e"
             ],
             [
              0.4444444444444444,
              "#bd3786"
             ],
             [
              0.5555555555555556,
              "#d8576b"
             ],
             [
              0.6666666666666666,
              "#ed7953"
             ],
             [
              0.7777777777777778,
              "#fb9f3a"
             ],
             [
              0.8888888888888888,
              "#fdca26"
             ],
             [
              1,
              "#f0f921"
             ]
            ],
            "type": "histogram2dcontour"
           }
          ],
          "mesh3d": [
           {
            "colorbar": {
             "outlinewidth": 0,
             "ticks": ""
            },
            "type": "mesh3d"
           }
          ],
          "parcoords": [
           {
            "line": {
             "colorbar": {
              "outlinewidth": 0,
              "ticks": ""
             }
            },
            "type": "parcoords"
           }
          ],
          "pie": [
           {
            "automargin": true,
            "type": "pie"
           }
          ],
          "scatter": [
           {
            "fillpattern": {
             "fillmode": "overlay",
             "size": 10,
             "solidity": 0.2
            },
            "type": "scatter"
           }
          ],
          "scatter3d": [
           {
            "line": {
             "colorbar": {
              "outlinewidth": 0,
              "ticks": ""
             }
            },
            "marker": {
             "colorbar": {
              "outlinewidth": 0,
              "ticks": ""
             }
            },
            "type": "scatter3d"
           }
          ],
          "scattercarpet": [
           {
            "marker": {
             "colorbar": {
              "outlinewidth": 0,
              "ticks": ""
             }
            },
            "type": "scattercarpet"
           }
          ],
          "scattergeo": [
           {
            "marker": {
             "colorbar": {
              "outlinewidth": 0,
              "ticks": ""
             }
            },
            "type": "scattergeo"
           }
          ],
          "scattergl": [
           {
            "marker": {
             "colorbar": {
              "outlinewidth": 0,
              "ticks": ""
             }
            },
            "type": "scattergl"
           }
          ],
          "scattermapbox": [
           {
            "marker": {
             "colorbar": {
              "outlinewidth": 0,
              "ticks": ""
             }
            },
            "type": "scattermapbox"
           }
          ],
          "scatterpolar": [
           {
            "marker": {
             "colorbar": {
              "outlinewidth": 0,
              "ticks": ""
             }
            },
            "type": "scatterpolar"
           }
          ],
          "scatterpolargl": [
           {
            "marker": {
             "colorbar": {
              "outlinewidth": 0,
              "ticks": ""
             }
            },
            "type": "scatterpolargl"
           }
          ],
          "scatterternary": [
           {
            "marker": {
             "colorbar": {
              "outlinewidth": 0,
              "ticks": ""
             }
            },
            "type": "scatterternary"
           }
          ],
          "surface": [
           {
            "colorbar": {
             "outlinewidth": 0,
             "ticks": ""
            },
            "colorscale": [
             [
              0,
              "#0d0887"
             ],
             [
              0.1111111111111111,
              "#46039f"
             ],
             [
              0.2222222222222222,
              "#7201a8"
             ],
             [
              0.3333333333333333,
              "#9c179e"
             ],
             [
              0.4444444444444444,
              "#bd3786"
             ],
             [
              0.5555555555555556,
              "#d8576b"
             ],
             [
              0.6666666666666666,
              "#ed7953"
             ],
             [
              0.7777777777777778,
              "#fb9f3a"
             ],
             [
              0.8888888888888888,
              "#fdca26"
             ],
             [
              1,
              "#f0f921"
             ]
            ],
            "type": "surface"
           }
          ],
          "table": [
           {
            "cells": {
             "fill": {
              "color": "#EBF0F8"
             },
             "line": {
              "color": "white"
             }
            },
            "header": {
             "fill": {
              "color": "#C8D4E3"
             },
             "line": {
              "color": "white"
             }
            },
            "type": "table"
           }
          ]
         },
         "layout": {
          "annotationdefaults": {
           "arrowcolor": "#2a3f5f",
           "arrowhead": 0,
           "arrowwidth": 1
          },
          "autotypenumbers": "strict",
          "coloraxis": {
           "colorbar": {
            "outlinewidth": 0,
            "ticks": ""
           }
          },
          "colorscale": {
           "diverging": [
            [
             0,
             "#8e0152"
            ],
            [
             0.1,
             "#c51b7d"
            ],
            [
             0.2,
             "#de77ae"
            ],
            [
             0.3,
             "#f1b6da"
            ],
            [
             0.4,
             "#fde0ef"
            ],
            [
             0.5,
             "#f7f7f7"
            ],
            [
             0.6,
             "#e6f5d0"
            ],
            [
             0.7,
             "#b8e186"
            ],
            [
             0.8,
             "#7fbc41"
            ],
            [
             0.9,
             "#4d9221"
            ],
            [
             1,
             "#276419"
            ]
           ],
           "sequential": [
            [
             0,
             "#0d0887"
            ],
            [
             0.1111111111111111,
             "#46039f"
            ],
            [
             0.2222222222222222,
             "#7201a8"
            ],
            [
             0.3333333333333333,
             "#9c179e"
            ],
            [
             0.4444444444444444,
             "#bd3786"
            ],
            [
             0.5555555555555556,
             "#d8576b"
            ],
            [
             0.6666666666666666,
             "#ed7953"
            ],
            [
             0.7777777777777778,
             "#fb9f3a"
            ],
            [
             0.8888888888888888,
             "#fdca26"
            ],
            [
             1,
             "#f0f921"
            ]
           ],
           "sequentialminus": [
            [
             0,
             "#0d0887"
            ],
            [
             0.1111111111111111,
             "#46039f"
            ],
            [
             0.2222222222222222,
             "#7201a8"
            ],
            [
             0.3333333333333333,
             "#9c179e"
            ],
            [
             0.4444444444444444,
             "#bd3786"
            ],
            [
             0.5555555555555556,
             "#d8576b"
            ],
            [
             0.6666666666666666,
             "#ed7953"
            ],
            [
             0.7777777777777778,
             "#fb9f3a"
            ],
            [
             0.8888888888888888,
             "#fdca26"
            ],
            [
             1,
             "#f0f921"
            ]
           ]
          },
          "colorway": [
           "#636efa",
           "#EF553B",
           "#00cc96",
           "#ab63fa",
           "#FFA15A",
           "#19d3f3",
           "#FF6692",
           "#B6E880",
           "#FF97FF",
           "#FECB52"
          ],
          "font": {
           "color": "#2a3f5f"
          },
          "geo": {
           "bgcolor": "white",
           "lakecolor": "white",
           "landcolor": "#E5ECF6",
           "showlakes": true,
           "showland": true,
           "subunitcolor": "white"
          },
          "hoverlabel": {
           "align": "left"
          },
          "hovermode": "closest",
          "mapbox": {
           "style": "light"
          },
          "paper_bgcolor": "white",
          "plot_bgcolor": "#E5ECF6",
          "polar": {
           "angularaxis": {
            "gridcolor": "white",
            "linecolor": "white",
            "ticks": ""
           },
           "bgcolor": "#E5ECF6",
           "radialaxis": {
            "gridcolor": "white",
            "linecolor": "white",
            "ticks": ""
           }
          },
          "scene": {
           "xaxis": {
            "backgroundcolor": "#E5ECF6",
            "gridcolor": "white",
            "gridwidth": 2,
            "linecolor": "white",
            "showbackground": true,
            "ticks": "",
            "zerolinecolor": "white"
           },
           "yaxis": {
            "backgroundcolor": "#E5ECF6",
            "gridcolor": "white",
            "gridwidth": 2,
            "linecolor": "white",
            "showbackground": true,
            "ticks": "",
            "zerolinecolor": "white"
           },
           "zaxis": {
            "backgroundcolor": "#E5ECF6",
            "gridcolor": "white",
            "gridwidth": 2,
            "linecolor": "white",
            "showbackground": true,
            "ticks": "",
            "zerolinecolor": "white"
           }
          },
          "shapedefaults": {
           "line": {
            "color": "#2a3f5f"
           }
          },
          "ternary": {
           "aaxis": {
            "gridcolor": "white",
            "linecolor": "white",
            "ticks": ""
           },
           "baxis": {
            "gridcolor": "white",
            "linecolor": "white",
            "ticks": ""
           },
           "bgcolor": "#E5ECF6",
           "caxis": {
            "gridcolor": "white",
            "linecolor": "white",
            "ticks": ""
           }
          },
          "title": {
           "x": 0.05
          },
          "xaxis": {
           "automargin": true,
           "gridcolor": "white",
           "linecolor": "white",
           "ticks": "",
           "title": {
            "standoff": 15
           },
           "zerolinecolor": "white",
           "zerolinewidth": 2
          },
          "yaxis": {
           "automargin": true,
           "gridcolor": "white",
           "linecolor": "white",
           "ticks": "",
           "title": {
            "standoff": 15
           },
           "zerolinecolor": "white",
           "zerolinewidth": 2
          }
         }
        },
        "width": 700,
        "xaxis": {
         "anchor": "y",
         "autorange": true,
         "domain": [
          0,
          1
         ],
         "range": [
          -2.5070249999240106,
          4.147879733833793
         ],
         "showgrid": false,
         "title": {
          "text": "x"
         },
         "type": "linear",
         "zeroline": false
        },
        "yaxis": {
         "anchor": "x",
         "autorange": true,
         "domain": [
          0,
          1
         ],
         "range": [
          5.536662928025196,
          9.740495333890632
         ],
         "showgrid": false,
         "title": {
          "text": "y"
         },
         "type": "linear"
        }
       }
      },
      "image/png": "[encoded data removed]",
      "text/html": [
       "<div>                            <div id=\"dc02c8d2-399c-4f48-bd19-10b8af871ab5\" class=\"plotly-graph-div\" style=\"height:500px; width:700px;\"></div>            <script type=\"text/javascript\">                require([\"plotly\"], function(Plotly) {                    window.PLOTLYENV=window.PLOTLYENV || {};                                    if (document.getElementById(\"dc02c8d2-399c-4f48-bd19-10b8af871ab5\")) {                    Plotly.newPlot(                        \"dc02c8d2-399c-4f48-bd19-10b8af871ab5\",                        [{\"customdata\":[[\"alternet\"],[\"buzzfeed\"],[\"canary\"],[\"commondreams\"],[\"counterpunch\"],[\"dailykos\"],[\"grayzone\"],[\"huffingtonpost\"],[\"intercept\"],[\"jacobinmag\"],[\"mintpress\"],[\"motherjones\"],[\"nytimes\"],[\"offguardian\"],[\"peoplesdaily\"],[\"rawstory\"],[\"reveal\"],[\"shadowproof\"],[\"slate\"],[\"socialistalternative\"],[\"socialistproject\"],[\"truthdig\"],[\"vice\"],[\"vox\"]],\"hovertemplate\":\"political_bias=left<br>x=%{x}<br>y=%{y}<br>establishment_code=%{marker.size}<br>publication=%{customdata[0]}<extra></extra>\",\"legendgroup\":\"left\",\"marker\":{\"color\":\"#0571b0\",\"size\":[2,5,1,2,2,2,2,4,2,2,2,2,5,1,1,1,2,2,4,2,2,2,5,3],\"sizemode\":\"area\",\"sizeref\":0.05,\"symbol\":\"circle\"},\"mode\":\"markers\",\"name\":\"left\",\"orientation\":\"v\",\"showlegend\":true,\"x\":[0.5391325950622559,1.143554925918579,-0.49782201647758484,0.2682836055755615,0.04521676525473595,0.3050667643547058,-0.9754186868667603,1.69023597240448,-0.24661332368850708,-1.8791509866714478,-2.0312538146972656,0.4881373345851898,3.031101703643799,-1.016877293586731,0.0033055772073566914,2.5397861003875732,0.25634029507637024,-0.18354670703411102,2.608673572540283,-0.43241432309150696,-0.3218155801296234,-0.4397802948951721,1.110088586807251,2.054990768432617],\"xaxis\":\"x\",\"y\":[8.35862922668457,6.6419477462768555,8.287988662719727,9.26832103729248,9.471917152404785,9.071857452392578,7.913815498352051,5.831430435180664,8.867563247680664,9.3777437210083,9.127696990966797,8.085563659667969,7.388520240783691,8.3050537109375,7.37739372253418,7.421345233917236,6.556308746337891,8.548620223999023,7.158975124359131,6.781636714935303,8.105120658874512,9.312053680419922,6.263916492462158,5.818363189697266],\"yaxis\":\"y\",\"type\":\"scatter\"},{\"customdata\":[[\"aljazeera\"],[\"atlantic\"],[\"cbs\"],[\"cnn\"],[\"conversation\"],[\"economist\"],[\"guardian\"],[\"independent\"],[\"nbc\"],[\"newyorker\"],[\"opednews\"],[\"propublica\"],[\"time\"],[\"verge\"],[\"wapo\"]],\"hovertemplate\":\"political_bias=lean left<br>x=%{x}<br>y=%{y}<br>establishment_code=%{marker.size}<br>publication=%{customdata[0]}<extra></extra>\",\"legendgroup\":\"lean left\",\"marker\":{\"color\":\"#92c5de\",\"size\":[2,4,5,5,3,5,5,3,4,2,2,3,5,3,5],\"sizemode\":\"area\",\"sizeref\":0.05,\"symbol\":\"circle\"},\"mode\":\"markers\",\"name\":\"lean left\",\"orientation\":\"v\",\"showlegend\":true,\"x\":[-2.1075973510742188,1.3050792217254639,2.5566413402557373,3.202441453933716,0.7543543577194214,0.9364275932312012,0.715914249420166,0.44417044520378113,3.635883092880249,0.17656035721302032,-1.1180477142333984,0.35574352741241455,1.4149478673934937,0.4770432114601135,3.709700345993042],\"xaxis\":\"x\",\"y\":[8.712316513061523,7.93315315246582,6.633331775665283,7.14267635345459,8.355576515197754,7.362271785736084,8.702056884765625,7.647014617919922,7.570738315582275,7.75388765335083,8.43484115600586,7.148833274841309,6.221470832824707,5.829694747924805,7.503918170928955],\"yaxis\":\"y\",\"type\":\"scatter\"},{\"customdata\":[[\"ap\"],[\"axios\"],[\"bbc\"],[\"businessinsider\"],[\"cnbc\"],[\"consortium\"],[\"eff\"],[\"fivethirtyeight\"],[\"foreignaffairs\"],[\"globalresearch\"],[\"jpost\"],[\"npr\"],[\"observerny\"],[\"pbs\"],[\"psychologytoday\"],[\"reuters\"],[\"rt\"],[\"snopes\"],[\"techcrunch\"],[\"usatoday\"],[\"voltairenetwork\"],[\"wsj\"]],\"hovertemplate\":\"political_bias=center<br>x=%{x}<br>y=%{y}<br>establishment_code=%{marker.size}<br>publication=%{customdata[0]}<extra></extra>\",\"legendgroup\":\"center\",\"marker\":{\"color\":\"#f7f7f7\",\"size\":[5,4,5,4,5,1,2,4,5,1,1,5,2,5,4,5,1,4,2,5,1,5],\"sizemode\":\"area\",\"sizeref\":0.05,\"symbol\":\"circle\"},\"mode\":\"markers\",\"name\":\"center\",\"orientation\":\"v\",\"showlegend\":true,\"x\":[1.8864530324935913,-0.35273808240890503,1.041398286819458,-1.3611568212509155,-1.4394919872283936,-0.7523048520088196,0.3641243577003479,-0.6468278169631958,-0.010521055199205875,-1.1395251750946045,-0.33418604731559753,3.3399078845977783,-0.7465876936912537,1.1484178304672241,0.16285057365894318,-1.6080137491226196,-1.925962209701538,0.7741066813468933,-1.2917526960372925,3.563483715057373,-0.10566628724336624,-1.738344430923462],\"xaxis\":\"x\",\"y\":[6.5425944328308105,7.094738483428955,6.341148376464844,6.602502822875977,6.75442361831665,9.042221069335938,5.957728385925293,6.89847993850708,6.827455520629883,8.829134941101074,6.499361991882324,7.351144313812256,6.279487133026123,6.936429977416992,6.418776035308838,7.74452018737793,8.187265396118164,6.811648368835449,6.7117600440979,7.378424167633057,6.730275630950928,7.187194347381592],\"yaxis\":\"y\",\"type\":\"scatter\"},{\"customdata\":[[\"americanconservative\"],[\"fox\"],[\"pjmedia\"]],\"hovertemplate\":\"political_bias=lean right<br>x=%{x}<br>y=%{y}<br>establishment_code=%{marker.size}<br>publication=%{customdata[0]}<extra></extra>\",\"legendgroup\":\"lean right\",\"marker\":{\"color\":\"#f4a582\",\"size\":[2,4,4],\"sizemode\":\"area\",\"sizeref\":0.05,\"symbol\":\"circle\"},\"mode\":\"markers\",\"name\":\"lean right\",\"orientation\":\"v\",\"showlegend\":true,\"x\":[-1.5151751041412354,3.4664952754974365,2.639305830001831],\"xaxis\":\"x\",\"y\":[8.988046646118164,8.221969604492188,9.080363273620605],\"yaxis\":\"y\",\"type\":\"scatter\"},{\"customdata\":[[\"americanspectator\"],[\"americanthinker\"],[\"antiwar\"],[\"breitbart\"],[\"dailycaller\"],[\"dailymail\"],[\"dailywire\"],[\"federalist\"],[\"freebeacon\"],[\"infowars\"],[\"lewrockwell\"],[\"nationalreview\"],[\"neweasternoutlook\"],[\"nypost\"],[\"redstate\"],[\"spectator\"],[\"strategicculture\"],[\"townhall\"],[\"veteranstoday\"]],\"hovertemplate\":\"political_bias=right<br>x=%{x}<br>y=%{y}<br>establishment_code=%{marker.size}<br>publication=%{customdata[0]}<extra></extra>\",\"legendgroup\":\"right\",\"marker\":{\"color\":\"#ca0020\",\"size\":[5,5,1,3,4,5,3,4,5,2,2,5,2,5,4,5,2,3,2],\"sizemode\":\"area\",\"sizeref\":0.05,\"symbol\":\"circle\"},\"mode\":\"markers\",\"name\":\"right\",\"orientation\":\"v\",\"showlegend\":true,\"x\":[0.5666337013244629,1.5230218172073364,-2.0046772956848145,2.232468843460083,3.269221305847168,2.024412155151367,2.119037389755249,2.7659285068511963,-0.250819593667984,2.5818769931793213,-1.1512435674667358,3.1217846870422363,-1.207878828048706,1.9909847974777222,2.8292088508605957,2.4135563373565674,-1.0751079320907593,1.3838772773742676,-0.530778706073761],\"xaxis\":\"x\",\"y\":[6.637434482574463,8.11711597442627,9.139738082885742,8.861624717712402,8.48890209197998,6.4761152267456055,8.219978332519531,8.919241905212402,6.479965686798096,8.642915725708008,9.305204391479492,8.736305236816406,8.834077835083008,6.740988731384277,8.613133430480957,8.784307479858398,9.262824058532715,7.366031646728516,7.665843486785889],\"yaxis\":\"y\",\"type\":\"scatter\"}],                        {\"template\":{\"data\":{\"histogram2dcontour\":[{\"type\":\"histogram2dcontour\",\"colorbar\":{\"outlinewidth\":0,\"ticks\":\"\"},\"colorscale\":[[0.0,\"#0d0887\"],[0.1111111111111111,\"#46039f\"],[0.2222222222222222,\"#7201a8\"],[0.3333333333333333,\"#9c179e\"],[0.4444444444444444,\"#bd3786\"],[0.5555555555555556,\"#d8576b\"],[0.6666666666666666,\"#ed7953\"],[0.7777777777777778,\"#fb9f3a\"],[0.8888888888888888,\"#fdca26\"],[1.0,\"#f0f921\"]]}],\"choropleth\":[{\"type\":\"choropleth\",\"colorbar\":{\"outlinewidth\":0,\"ticks\":\"\"}}],\"histogram2d\":[{\"type\":\"histogram2d\",\"colorbar\":{\"outlinewidth\":0,\"ticks\":\"\"},\"colorscale\":[[0.0,\"#0d0887\"],[0.1111111111111111,\"#46039f\"],[0.2222222222222222,\"#7201a8\"],[0.3333333333333333,\"#9c179e\"],[0.4444444444444444,\"#bd3786\"],[0.5555555555555556,\"#d8576b\"],[0.6666666666666666,\"#ed7953\"],[0.7777777777777778,\"#fb9f3a\"],[0.8888888888888888,\"#fdca26\"],[1.0,\"#f0f921\"]]}],\"heatmap\":[{\"type\":\"heatmap\",\"colorbar\":{\"outlinewidth\":0,\"ticks\":\"\"},\"colorscale\":[[0.0,\"#0d0887\"],[0.1111111111111111,\"#46039f\"],[0.2222222222222222,\"#7201a8\"],[0.3333333333333333,\"#9c179e\"],[0.4444444444444444,\"#bd3786\"],[0.5555555555555556,\"#d8576b\"],[0.6666666666666666,\"#ed7953\"],[0.7777777777777778,\"#fb9f3a\"],[0.8888888888888888,\"#fdca26\"],[1.0,\"#f0f921\"]]}],\"heatmapgl\":[{\"type\":\"heatmapgl\",\"colorbar\":{\"outlinewidth\":0,\"ticks\":\"\"},\"colorscale\":[[0.0,\"#0d0887\"],[0.1111111111111111,\"#46039f\"],[0.2222222222222222,\"#7201a8\"],[0.3333333333333333,\"#9c179e\"],[0.4444444444444444,\"#bd3786\"],[0.5555555555555556,\"#d8576b\"],[0.6666666666666666,\"#ed7953\"],[0.7777777777777778,\"#fb9f3a\"],[0.8888888888888888,\"#fdca26\"],[1.0,\"#f0f921\"]]}],\"contourcarpet\":[{\"type\":\"contourcarpet\",\"colorbar\":{\"outlinewidth\":0,\"ticks\":\"\"}}],\"contour\":[{\"type\":\"contour\",\"colorbar\":{\"outlinewidth\":0,\"ticks\":\"\"},\"colorscale\":[[0.0,\"#0d0887\"],[0.1111111111111111,\"#46039f\"],[0.2222222222222222,\"#7201a8\"],[0.3333333333333333,\"#9c179e\"],[0.4444444444444444,\"#bd3786\"],[0.5555555555555556,\"#d8576b\"],[0.6666666666666666,\"#ed7953\"],[0.7777777777777778,\"#fb9f3a\"],[0.8888888888888888,\"#fdca26\"],[1.0,\"#f0f921\"]]}],\"surface\":[{\"type\":\"surface\",\"colorbar\":{\"outlinewidth\":0,\"ticks\":\"\"},\"colorscale\":[[0.0,\"#0d0887\"],[0.1111111111111111,\"#46039f\"],[0.2222222222222222,\"#7201a8\"],[0.3333333333333333,\"#9c179e\"],[0.4444444444444444,\"#bd3786\"],[0.5555555555555556,\"#d8576b\"],[0.6666666666666666,\"#ed7953\"],[0.7777777777777778,\"#fb9f3a\"],[0.8888888888888888,\"#fdca26\"],[1.0,\"#f0f921\"]]}],\"mesh3d\":[{\"type\":\"mesh3d\",\"colorbar\":{\"outlinewidth\":0,\"ticks\":\"\"}}],\"scatter\":[{\"fillpattern\":{\"fillmode\":\"overlay\",\"size\":10,\"solidity\":0.2},\"type\":\"scatter\"}],\"parcoords\":[{\"type\":\"parcoords\",\"line\":{\"colorbar\":{\"outlinewidth\":0,\"ticks\":\"\"}}}],\"scatterpolargl\":[{\"type\":\"scatterpolargl\",\"marker\":{\"colorbar\":{\"outlinewidth\":0,\"ticks\":\"\"}}}],\"bar\":[{\"error_x\":{\"color\":\"#2a3f5f\"},\"error_y\":{\"color\":\"#2a3f5f\"},\"marker\":{\"line\":{\"color\":\"#E5ECF6\",\"width\":0.5},\"pattern\":{\"fillmode\":\"overlay\",\"size\":10,\"solidity\":0.2}},\"type\":\"bar\"}],\"scattergeo\":[{\"type\":\"scattergeo\",\"marker\":{\"colorbar\":{\"outlinewidth\":0,\"ticks\":\"\"}}}],\"scatterpolar\":[{\"type\":\"scatterpolar\",\"marker\":{\"colorbar\":{\"outlinewidth\":0,\"ticks\":\"\"}}}],\"histogram\":[{\"marker\":{\"pattern\":{\"fillmode\":\"overlay\",\"size\":10,\"solidity\":0.2}},\"type\":\"histogram\"}],\"scattergl\":[{\"type\":\"scattergl\",\"marker\":{\"colorbar\":{\"outlinewidth\":0,\"ticks\":\"\"}}}],\"scatter3d\":[{\"type\":\"scatter3d\",\"line\":{\"colorbar\":{\"outlinewidth\":0,\"ticks\":\"\"}},\"marker\":{\"colorbar\":{\"outlinewidth\":0,\"ticks\":\"\"}}}],\"scattermapbox\":[{\"type\":\"scattermapbox\",\"marker\":{\"colorbar\":{\"outlinewidth\":0,\"ticks\":\"\"}}}],\"scatterternary\":[{\"type\":\"scatterternary\",\"marker\":{\"colorbar\":{\"outlinewidth\":0,\"ticks\":\"\"}}}],\"scattercarpet\":[{\"type\":\"scattercarpet\",\"marker\":{\"colorbar\":{\"outlinewidth\":0,\"ticks\":\"\"}}}],\"carpet\":[{\"aaxis\":{\"endlinecolor\":\"#2a3f5f\",\"gridcolor\":\"white\",\"linecolor\":\"white\",\"minorgridcolor\":\"white\",\"startlinecolor\":\"#2a3f5f\"},\"baxis\":{\"endlinecolor\":\"#2a3f5f\",\"gridcolor\":\"white\",\"linecolor\":\"white\",\"minorgridcolor\":\"white\",\"startlinecolor\":\"#2a3f5f\"},\"type\":\"carpet\"}],\"table\":[{\"cells\":{\"fill\":{\"color\":\"#EBF0F8\"},\"line\":{\"color\":\"white\"}},\"header\":{\"fill\":{\"color\":\"#C8D4E3\"},\"line\":{\"color\":\"white\"}},\"type\":\"table\"}],\"barpolar\":[{\"marker\":{\"line\":{\"color\":\"#E5ECF6\",\"width\":0.5},\"pattern\":{\"fillmode\":\"overlay\",\"size\":10,\"solidity\":0.2}},\"type\":\"barpolar\"}],\"pie\":[{\"automargin\":true,\"type\":\"pie\"}]},\"layout\":{\"autotypenumbers\":\"strict\",\"colorway\":[\"#636efa\",\"#EF553B\",\"#00cc96\",\"#ab63fa\",\"#FFA15A\",\"#19d3f3\",\"#FF6692\",\"#B6E880\",\"#FF97FF\",\"#FECB52\"],\"font\":{\"color\":\"#2a3f5f\"},\"hovermode\":\"closest\",\"hoverlabel\":{\"align\":\"left\"},\"paper_bgcolor\":\"white\",\"plot_bgcolor\":\"#E5ECF6\",\"polar\":{\"bgcolor\":\"#E5ECF6\",\"angularaxis\":{\"gridcolor\":\"white\",\"linecolor\":\"white\",\"ticks\":\"\"},\"radialaxis\":{\"gridcolor\":\"white\",\"linecolor\":\"white\",\"ticks\":\"\"}},\"ternary\":{\"bgcolor\":\"#E5ECF6\",\"aaxis\":{\"gridcolor\":\"white\",\"linecolor\":\"white\",\"ticks\":\"\"},\"baxis\":{\"gridcolor\":\"white\",\"linecolor\":\"white\",\"ticks\":\"\"},\"caxis\":{\"gridcolor\":\"white\",\"linecolor\":\"white\",\"ticks\":\"\"}},\"coloraxis\":{\"colorbar\":{\"outlinewidth\":0,\"ticks\":\"\"}},\"colorscale\":{\"sequential\":[[0.0,\"#0d0887\"],[0.1111111111111111,\"#46039f\"],[0.2222222222222222,\"#7201a8\"],[0.3333333333333333,\"#9c179e\"],[0.4444444444444444,\"#bd3786\"],[0.5555555555555556,\"#d8576b\"],[0.6666666666666666,\"#ed7953\"],[0.7777777777777778,\"#fb9f3a\"],[0.8888888888888888,\"#fdca26\"],[1.0,\"#f0f921\"]],\"sequentialminus\":[[0.0,\"#0d0887\"],[0.1111111111111111,\"#46039f\"],[0.2222222222222222,\"#7201a8\"],[0.3333333333333333,\"#9c179e\"],[0.4444444444444444,\"#bd3786\"],[0.5555555555555556,\"#d8576b\"],[0.6666666666666666,\"#ed7953\"],[0.7777777777777778,\"#fb9f3a\"],[0.8888888888888888,\"#fdca26\"],[1.0,\"#f0f921\"]],\"diverging\":[[0,\"#8e0152\"],[0.1,\"#c51b7d\"],[0.2,\"#de77ae\"],[0.3,\"#f1b6da\"],[0.4,\"#fde0ef\"],[0.5,\"#f7f7f7\"],[0.6,\"#e6f5d0\"],[0.7,\"#b8e186\"],[0.8,\"#7fbc41\"],[0.9,\"#4d9221\"],[1,\"#276419\"]]},\"xaxis\":{\"gridcolor\":\"white\",\"linecolor\":\"white\",\"ticks\":\"\",\"title\":{\"standoff\":15},\"zerolinecolor\":\"white\",\"automargin\":true,\"zerolinewidth\":2},\"yaxis\":{\"gridcolor\":\"white\",\"linecolor\":\"white\",\"ticks\":\"\",\"title\":{\"standoff\":15},\"zerolinecolor\":\"white\",\"automargin\":true,\"zerolinewidth\":2},\"scene\":{\"xaxis\":{\"backgroundcolor\":\"#E5ECF6\",\"gridcolor\":\"white\",\"linecolor\":\"white\",\"showbackground\":true,\"ticks\":\"\",\"zerolinecolor\":\"white\",\"gridwidth\":2},\"yaxis\":{\"backgroundcolor\":\"#E5ECF6\",\"gridcolor\":\"white\",\"linecolor\":\"white\",\"showbackground\":true,\"ticks\":\"\",\"zerolinecolor\":\"white\",\"gridwidth\":2},\"zaxis\":{\"backgroundcolor\":\"#E5ECF6\",\"gridcolor\":\"white\",\"linecolor\":\"white\",\"showbackground\":true,\"ticks\":\"\",\"zerolinecolor\":\"white\",\"gridwidth\":2}},\"shapedefaults\":{\"line\":{\"color\":\"#2a3f5f\"}},\"annotationdefaults\":{\"arrowcolor\":\"#2a3f5f\",\"arrowhead\":0,\"arrowwidth\":1},\"geo\":{\"bgcolor\":\"white\",\"landcolor\":\"#E5ECF6\",\"subunitcolor\":\"white\",\"showland\":true,\"showlakes\":true,\"lakecolor\":\"white\"},\"title\":{\"x\":0.05},\"mapbox\":{\"style\":\"light\"}}},\"xaxis\":{\"anchor\":\"y\",\"domain\":[0.0,1.0],\"title\":{\"text\":\"x\"},\"showgrid\":false,\"zeroline\":false},\"yaxis\":{\"anchor\":\"x\",\"domain\":[0.0,1.0],\"title\":{\"text\":\"y\"},\"showgrid\":false},\"legend\":{\"title\":{\"text\":\"political_bias\"},\"tracegroupgap\":0,\"itemsizing\":\"constant\"},\"margin\":{\"t\":60},\"height\":500,\"width\":700},                        {\"responsive\": true}                    ).then(function(){\n",
       "                            \n",
       "var gd = document.getElementById('dc02c8d2-399c-4f48-bd19-10b8af871ab5');\n",
       "var x = new MutationObserver(function (mutations, observer) {{\n",
       "        var display = window.getComputedStyle(gd).display;\n",
       "        if (!display || display === 'none') {{\n",
       "            console.log([gd, 'removed!']);\n",
       "            Plotly.purge(gd);\n",
       "            observer.disconnect();\n",
       "        }}\n",
       "}});\n",
       "\n",
       "// Listen for the removal of the full notebook cells\n",
       "var notebookContainer = gd.closest('#notebook-container');\n",
       "if (notebookContainer) {{\n",
       "    x.observe(notebookContainer, {childList: true});\n",
       "}}\n",
       "\n",
       "// Listen for the clearing of the current output cell\n",
       "var outputEl = gd.closest('.output');\n",
       "if (outputEl) {{\n",
       "    x.observe(outputEl, {childList: true});\n",
       "}}\n",
       "\n",
       "                        })                };                });            </script>        </div>"
      ]
     },
     "metadata": {},
     "output_type": "display_data"
    },
    {
     "name": "stdout",
     "output_type": "stream",
     "text": [
      "time: 67.8 ms (started: 2023-03-21 19:50:28 -07:00)\n"
     ]
    }
   ],
   "source": [
    "import plotly.express as px\n",
    "\n",
    "result_df[\"establishment_code\"] = (\n",
    "    result_df[\"establishment_bias\"].cat.as_ordered().cat.codes.values + 1\n",
    ")\n",
    "\n",
    "fig = px.scatter(\n",
    "    result_df,\n",
    "    x=\"x\",\n",
    "    y=\"y\",\n",
    "    color=\"political_bias\",\n",
    "    size=\"establishment_code\",\n",
    "    hover_data=[\"publication\"],\n",
    "    color_discrete_map=media_bias_palette[\"political_bias\"],\n",
    "    width=700,\n",
    "    height=500,\n",
    "    size_max=10,\n",
    "    category_orders={\"political_bias\": political_bias_categories},\n",
    ")\n",
    "fig.update_xaxes(showgrid=False, zeroline=False).update_yaxes(showgrid=False)"
   ]
  },
  {
   "cell_type": "markdown",
   "id": "3e7295c4-f470-4af4-88a1-464bc7100b35",
   "metadata": {},
   "source": [
    "## Pipeline\n",
    "\n",
    "This isn't very good right now as I don't think the scaling has been handled correctly"
   ]
  },
  {
   "cell_type": "code",
   "execution_count": null,
   "id": "510e626b-e04b-4d92-a7ec-8cbcee75dc99",
   "metadata": {
    "collapsed": true,
    "jupyter": {
     "outputs_hidden": true
    },
    "tags": []
   },
   "outputs": [
    {
     "data": {
      "text/html": [
       "<pre style=\"white-space:pre;overflow-x:auto;line-height:normal;font-family:Menlo,'DejaVu Sans Mono',consolas,'Courier New',monospace\"><span style=\"color: #7fbfbf; text-decoration-color: #7fbfbf\">[17:25:37] </span><span style=\"color: #000080; text-decoration-color: #000080\">INFO    </span> Requesting one extra neighbor to account for self-neighbor                      <a href=\"file:///home/james/dev/drnb/src/drnb/neighbors/__init__.py\" target=\"_blank\"><span style=\"color: #7f7f7f; text-decoration-color: #7f7f7f\">__init__.py</span></a><span style=\"color: #7f7f7f; text-decoration-color: #7f7f7f\">:</span><a href=\"file:///home/james/dev/drnb/src/drnb/neighbors/__init__.py#560\" target=\"_blank\"><span style=\"color: #7f7f7f; text-decoration-color: #7f7f7f\">560</span></a>\n",
       "</pre>\n"
      ],
      "text/plain": [
       "\u001b[2;36m[17:25:37]\u001b[0m\u001b[2;36m \u001b[0m\u001b[34mINFO    \u001b[0m Requesting one extra neighbor to account for self-neighbor                      \u001b]8;id=709331;file:///home/james/dev/drnb/src/drnb/neighbors/__init__.py\u001b\\\u001b[2m__init__.py\u001b[0m\u001b]8;;\u001b\\\u001b[2m:\u001b[0m\u001b]8;id=835078;file:///home/james/dev/drnb/src/drnb/neighbors/__init__.py#560\u001b\\\u001b[2m560\u001b[0m\u001b]8;;\u001b\\\n"
      ]
     },
     "metadata": {},
     "output_type": "display_data"
    },
    {
     "data": {
      "text/html": [
       "<pre style=\"white-space:pre;overflow-x:auto;line-height:normal;font-family:Menlo,'DejaVu Sans Mono',consolas,'Courier New',monospace\"><span style=\"color: #7fbfbf; text-decoration-color: #7fbfbf\">           </span><span style=\"color: #000080; text-decoration-color: #000080\">INFO    </span> Initial data shape: <span style=\"font-weight: bold\">(</span><span style=\"color: #008080; text-decoration-color: #008080; font-weight: bold\">83</span>, <span style=\"color: #008080; text-decoration-color: #008080; font-weight: bold\">839</span><span style=\"font-weight: bold\">)</span>                                                    <a href=\"file:///home/james/dev/drnb/src/drnb/io/pipeline.py\" target=\"_blank\"><span style=\"color: #7f7f7f; text-decoration-color: #7f7f7f\">pipeline.py</span></a><span style=\"color: #7f7f7f; text-decoration-color: #7f7f7f\">:</span><a href=\"file:///home/james/dev/drnb/src/drnb/io/pipeline.py#75\" target=\"_blank\"><span style=\"color: #7f7f7f; text-decoration-color: #7f7f7f\">75</span></a>\n",
       "</pre>\n"
      ],
      "text/plain": [
       "\u001b[2;36m          \u001b[0m\u001b[2;36m \u001b[0m\u001b[34mINFO    \u001b[0m Initial data shape: \u001b[1m(\u001b[0m\u001b[1;36m83\u001b[0m, \u001b[1;36m839\u001b[0m\u001b[1m)\u001b[0m                                                    \u001b]8;id=317061;file:///home/james/dev/drnb/src/drnb/io/pipeline.py\u001b\\\u001b[2mpipeline.py\u001b[0m\u001b]8;;\u001b\\\u001b[2m:\u001b[0m\u001b]8;id=318897;file:///home/james/dev/drnb/src/drnb/io/pipeline.py#75\u001b\\\u001b[2m75\u001b[0m\u001b]8;;\u001b\\\n"
      ]
     },
     "metadata": {},
     "output_type": "display_data"
    },
    {
     "data": {
      "text/html": [
       "<pre style=\"white-space:pre;overflow-x:auto;line-height:normal;font-family:Menlo,'DejaVu Sans Mono',consolas,'Courier New',monospace\"><span style=\"color: #7fbfbf; text-decoration-color: #7fbfbf\">           </span><span style=\"color: #000080; text-decoration-color: #000080\">INFO    </span> Keeping all columns                                                            <a href=\"file:///home/james/dev/drnb/src/drnb/preprocess.py\" target=\"_blank\"><span style=\"color: #7f7f7f; text-decoration-color: #7f7f7f\">preprocess.py</span></a><span style=\"color: #7f7f7f; text-decoration-color: #7f7f7f\">:</span><a href=\"file:///home/james/dev/drnb/src/drnb/preprocess.py#67\" target=\"_blank\"><span style=\"color: #7f7f7f; text-decoration-color: #7f7f7f\">67</span></a>\n",
       "</pre>\n"
      ],
      "text/plain": [
       "\u001b[2;36m          \u001b[0m\u001b[2;36m \u001b[0m\u001b[34mINFO    \u001b[0m Keeping all columns                                                            \u001b]8;id=494380;file:///home/james/dev/drnb/src/drnb/preprocess.py\u001b\\\u001b[2mpreprocess.py\u001b[0m\u001b]8;;\u001b\\\u001b[2m:\u001b[0m\u001b]8;id=197050;file:///home/james/dev/drnb/src/drnb/preprocess.py#67\u001b\\\u001b[2m67\u001b[0m\u001b]8;;\u001b\\\n"
      ]
     },
     "metadata": {},
     "output_type": "display_data"
    },
    {
     "data": {
      "text/html": [
       "<pre style=\"white-space:pre;overflow-x:auto;line-height:normal;font-family:Menlo,'DejaVu Sans Mono',consolas,'Courier New',monospace\"><span style=\"color: #7fbfbf; text-decoration-color: #7fbfbf\">           </span><span style=\"color: #000080; text-decoration-color: #000080\">INFO    </span> Data shape after filtering columns: <span style=\"font-weight: bold\">(</span><span style=\"color: #008080; text-decoration-color: #008080; font-weight: bold\">83</span>, <span style=\"color: #008080; text-decoration-color: #008080; font-weight: bold\">839</span><span style=\"font-weight: bold\">)</span>                                   <a href=\"file:///home/james/dev/drnb/src/drnb/io/pipeline.py\" target=\"_blank\"><span style=\"color: #7f7f7f; text-decoration-color: #7f7f7f\">pipeline.py</span></a><span style=\"color: #7f7f7f; text-decoration-color: #7f7f7f\">:</span><a href=\"file:///home/james/dev/drnb/src/drnb/io/pipeline.py#146\" target=\"_blank\"><span style=\"color: #7f7f7f; text-decoration-color: #7f7f7f\">146</span></a>\n",
       "</pre>\n"
      ],
      "text/plain": [
       "\u001b[2;36m          \u001b[0m\u001b[2;36m \u001b[0m\u001b[34mINFO    \u001b[0m Data shape after filtering columns: \u001b[1m(\u001b[0m\u001b[1;36m83\u001b[0m, \u001b[1;36m839\u001b[0m\u001b[1m)\u001b[0m                                   \u001b]8;id=298255;file:///home/james/dev/drnb/src/drnb/io/pipeline.py\u001b\\\u001b[2mpipeline.py\u001b[0m\u001b]8;;\u001b\\\u001b[2m:\u001b[0m\u001b]8;id=712517;file:///home/james/dev/drnb/src/drnb/io/pipeline.py#146\u001b\\\u001b[2m146\u001b[0m\u001b]8;;\u001b\\\n"
      ]
     },
     "metadata": {},
     "output_type": "display_data"
    },
    {
     "data": {
      "text/html": [
       "<pre style=\"white-space:pre;overflow-x:auto;line-height:normal;font-family:Menlo,'DejaVu Sans Mono',consolas,'Courier New',monospace\"><span style=\"color: #7fbfbf; text-decoration-color: #7fbfbf\">           </span><span style=\"color: #000080; text-decoration-color: #000080\">INFO    </span> Removing rows with NAs                                                          <a href=\"file:///home/james/dev/drnb/src/drnb/io/pipeline.py\" target=\"_blank\"><span style=\"color: #7f7f7f; text-decoration-color: #7f7f7f\">pipeline.py</span></a><span style=\"color: #7f7f7f; text-decoration-color: #7f7f7f\">:</span><a href=\"file:///home/james/dev/drnb/src/drnb/io/pipeline.py#130\" target=\"_blank\"><span style=\"color: #7f7f7f; text-decoration-color: #7f7f7f\">130</span></a>\n",
       "</pre>\n"
      ],
      "text/plain": [
       "\u001b[2;36m          \u001b[0m\u001b[2;36m \u001b[0m\u001b[34mINFO    \u001b[0m Removing rows with NAs                                                          \u001b]8;id=5568;file:///home/james/dev/drnb/src/drnb/io/pipeline.py\u001b\\\u001b[2mpipeline.py\u001b[0m\u001b]8;;\u001b\\\u001b[2m:\u001b[0m\u001b]8;id=132479;file:///home/james/dev/drnb/src/drnb/io/pipeline.py#130\u001b\\\u001b[2m130\u001b[0m\u001b]8;;\u001b\\\n"
      ]
     },
     "metadata": {},
     "output_type": "display_data"
    },
    {
     "data": {
      "text/html": [
       "<pre style=\"white-space:pre;overflow-x:auto;line-height:normal;font-family:Menlo,'DejaVu Sans Mono',consolas,'Courier New',monospace\"><span style=\"color: #7fbfbf; text-decoration-color: #7fbfbf\">           </span><span style=\"color: #000080; text-decoration-color: #000080\">INFO    </span> Data shape after filtering NAs: <span style=\"font-weight: bold\">(</span><span style=\"color: #008080; text-decoration-color: #008080; font-weight: bold\">83</span>, <span style=\"color: #008080; text-decoration-color: #008080; font-weight: bold\">839</span><span style=\"font-weight: bold\">)</span>                                       <a href=\"file:///home/james/dev/drnb/src/drnb/io/pipeline.py\" target=\"_blank\"><span style=\"color: #7f7f7f; text-decoration-color: #7f7f7f\">pipeline.py</span></a><span style=\"color: #7f7f7f; text-decoration-color: #7f7f7f\">:</span><a href=\"file:///home/james/dev/drnb/src/drnb/io/pipeline.py#141\" target=\"_blank\"><span style=\"color: #7f7f7f; text-decoration-color: #7f7f7f\">141</span></a>\n",
       "</pre>\n"
      ],
      "text/plain": [
       "\u001b[2;36m          \u001b[0m\u001b[2;36m \u001b[0m\u001b[34mINFO    \u001b[0m Data shape after filtering NAs: \u001b[1m(\u001b[0m\u001b[1;36m83\u001b[0m, \u001b[1;36m839\u001b[0m\u001b[1m)\u001b[0m                                       \u001b]8;id=533425;file:///home/james/dev/drnb/src/drnb/io/pipeline.py\u001b\\\u001b[2mpipeline.py\u001b[0m\u001b]8;;\u001b\\\u001b[2m:\u001b[0m\u001b]8;id=631563;file:///home/james/dev/drnb/src/drnb/io/pipeline.py#141\u001b\\\u001b[2m141\u001b[0m\u001b]8;;\u001b\\\n"
      ]
     },
     "metadata": {},
     "output_type": "display_data"
    },
    {
     "data": {
      "text/html": [
       "<pre style=\"white-space:pre;overflow-x:auto;line-height:normal;font-family:Menlo,'DejaVu Sans Mono',consolas,'Courier New',monospace\"><span style=\"color: #7fbfbf; text-decoration-color: #7fbfbf\">           </span><span style=\"color: #000080; text-decoration-color: #000080\">INFO    </span> Checked for duplicates: found <span style=\"color: #008080; text-decoration-color: #008080; font-weight: bold\">0</span>                                                 <a href=\"file:///home/james/dev/drnb/src/drnb/io/pipeline.py\" target=\"_blank\"><span style=\"color: #7f7f7f; text-decoration-color: #7f7f7f\">pipeline.py</span></a><span style=\"color: #7f7f7f; text-decoration-color: #7f7f7f\">:</span><a href=\"file:///home/james/dev/drnb/src/drnb/io/pipeline.py#153\" target=\"_blank\"><span style=\"color: #7f7f7f; text-decoration-color: #7f7f7f\">153</span></a>\n",
       "</pre>\n"
      ],
      "text/plain": [
       "\u001b[2;36m          \u001b[0m\u001b[2;36m \u001b[0m\u001b[34mINFO    \u001b[0m Checked for duplicates: found \u001b[1;36m0\u001b[0m                                                 \u001b]8;id=768718;file:///home/james/dev/drnb/src/drnb/io/pipeline.py\u001b\\\u001b[2mpipeline.py\u001b[0m\u001b]8;;\u001b\\\u001b[2m:\u001b[0m\u001b]8;id=393706;file:///home/james/dev/drnb/src/drnb/io/pipeline.py#153\u001b\\\u001b[2m153\u001b[0m\u001b]8;;\u001b\\\n"
      ]
     },
     "metadata": {},
     "output_type": "display_data"
    },
    {
     "data": {
      "text/html": [
       "<pre style=\"white-space:pre;overflow-x:auto;line-height:normal;font-family:Menlo,'DejaVu Sans Mono',consolas,'Courier New',monospace\"><span style=\"color: #7fbfbf; text-decoration-color: #7fbfbf\">           </span><span style=\"color: #000080; text-decoration-color: #000080\">INFO    </span> Z-Scaling                                                                      <a href=\"file:///home/james/dev/drnb/src/drnb/preprocess.py\" target=\"_blank\"><span style=\"color: #7f7f7f; text-decoration-color: #7f7f7f\">preprocess.py</span></a><span style=\"color: #7f7f7f; text-decoration-color: #7f7f7f\">:</span><a href=\"file:///home/james/dev/drnb/src/drnb/preprocess.py#32\" target=\"_blank\"><span style=\"color: #7f7f7f; text-decoration-color: #7f7f7f\">32</span></a>\n",
       "</pre>\n"
      ],
      "text/plain": [
       "\u001b[2;36m          \u001b[0m\u001b[2;36m \u001b[0m\u001b[34mINFO    \u001b[0m Z-Scaling                                                                      \u001b]8;id=326202;file:///home/james/dev/drnb/src/drnb/preprocess.py\u001b\\\u001b[2mpreprocess.py\u001b[0m\u001b]8;;\u001b\\\u001b[2m:\u001b[0m\u001b]8;id=921984;file:///home/james/dev/drnb/src/drnb/preprocess.py#32\u001b\\\u001b[2m32\u001b[0m\u001b]8;;\u001b\\\n"
      ]
     },
     "metadata": {},
     "output_type": "display_data"
    },
    {
     "data": {
      "text/html": [
       "<pre style=\"white-space:pre;overflow-x:auto;line-height:normal;font-family:Menlo,'DejaVu Sans Mono',consolas,'Courier New',monospace\"><span style=\"color: #7fbfbf; text-decoration-color: #7fbfbf\">           </span><span style=\"color: #000080; text-decoration-color: #000080\">INFO    </span> Converting to numpy with <span style=\"font-weight: bold\">{</span><span style=\"color: #008000; text-decoration-color: #008000\">'dtype'</span>: <span style=\"color: #008000; text-decoration-color: #008000\">'float32'</span>, <span style=\"color: #008000; text-decoration-color: #008000\">'layout'</span>: <span style=\"color: #008000; text-decoration-color: #008000\">'c'</span><span style=\"font-weight: bold\">}</span>                    <a href=\"file:///home/james/dev/drnb/src/drnb/io/pipeline.py\" target=\"_blank\"><span style=\"color: #7f7f7f; text-decoration-color: #7f7f7f\">pipeline.py</span></a><span style=\"color: #7f7f7f; text-decoration-color: #7f7f7f\">:</span><a href=\"file:///home/james/dev/drnb/src/drnb/io/pipeline.py#158\" target=\"_blank\"><span style=\"color: #7f7f7f; text-decoration-color: #7f7f7f\">158</span></a>\n",
       "</pre>\n"
      ],
      "text/plain": [
       "\u001b[2;36m          \u001b[0m\u001b[2;36m \u001b[0m\u001b[34mINFO    \u001b[0m Converting to numpy with \u001b[1m{\u001b[0m\u001b[32m'dtype'\u001b[0m: \u001b[32m'float32'\u001b[0m, \u001b[32m'layout'\u001b[0m: \u001b[32m'c'\u001b[0m\u001b[1m}\u001b[0m                    \u001b]8;id=291386;file:///home/james/dev/drnb/src/drnb/io/pipeline.py\u001b\\\u001b[2mpipeline.py\u001b[0m\u001b]8;;\u001b\\\u001b[2m:\u001b[0m\u001b]8;id=883326;file:///home/james/dev/drnb/src/drnb/io/pipeline.py#158\u001b\\\u001b[2m158\u001b[0m\u001b]8;;\u001b\\\n"
      ]
     },
     "metadata": {},
     "output_type": "display_data"
    },
    {
     "data": {
      "text/html": [
       "<pre style=\"white-space:pre;overflow-x:auto;line-height:normal;font-family:Menlo,'DejaVu Sans Mono',consolas,'Courier New',monospace\"><span style=\"color: #7fbfbf; text-decoration-color: #7fbfbf\">           </span><span style=\"color: #000080; text-decoration-color: #000080\">INFO    </span> Writing data for mediabias                                                      <a href=\"file:///home/james/dev/drnb/src/drnb/io/pipeline.py\" target=\"_blank\"><span style=\"color: #7f7f7f; text-decoration-color: #7f7f7f\">pipeline.py</span></a><span style=\"color: #7f7f7f; text-decoration-color: #7f7f7f\">:</span><a href=\"file:///home/james/dev/drnb/src/drnb/io/pipeline.py#226\" target=\"_blank\"><span style=\"color: #7f7f7f; text-decoration-color: #7f7f7f\">226</span></a>\n",
       "</pre>\n"
      ],
      "text/plain": [
       "\u001b[2;36m          \u001b[0m\u001b[2;36m \u001b[0m\u001b[34mINFO    \u001b[0m Writing data for mediabias                                                      \u001b]8;id=858420;file:///home/james/dev/drnb/src/drnb/io/pipeline.py\u001b\\\u001b[2mpipeline.py\u001b[0m\u001b]8;;\u001b\\\u001b[2m:\u001b[0m\u001b]8;id=264545;file:///home/james/dev/drnb/src/drnb/io/pipeline.py#226\u001b\\\u001b[2m226\u001b[0m\u001b]8;;\u001b\\\n"
      ]
     },
     "metadata": {},
     "output_type": "display_data"
    },
    {
     "data": {
      "text/html": [
       "<pre style=\"white-space:pre;overflow-x:auto;line-height:normal;font-family:Menlo,'DejaVu Sans Mono',consolas,'Courier New',monospace\"><span style=\"color: #7fbfbf; text-decoration-color: #7fbfbf\">           </span><span style=\"color: #000080; text-decoration-color: #000080\">INFO    </span> Processing target with initial shape <span style=\"font-weight: bold\">(</span><span style=\"color: #008080; text-decoration-color: #008080; font-weight: bold\">83</span>, <span style=\"color: #008080; text-decoration-color: #008080; font-weight: bold\">2</span><span style=\"font-weight: bold\">)</span>                                    <a href=\"file:///home/james/dev/drnb/src/drnb/io/pipeline.py\" target=\"_blank\"><span style=\"color: #7f7f7f; text-decoration-color: #7f7f7f\">pipeline.py</span></a><span style=\"color: #7f7f7f; text-decoration-color: #7f7f7f\">:</span><a href=\"file:///home/james/dev/drnb/src/drnb/io/pipeline.py#197\" target=\"_blank\"><span style=\"color: #7f7f7f; text-decoration-color: #7f7f7f\">197</span></a>\n",
       "</pre>\n"
      ],
      "text/plain": [
       "\u001b[2;36m          \u001b[0m\u001b[2;36m \u001b[0m\u001b[34mINFO    \u001b[0m Processing target with initial shape \u001b[1m(\u001b[0m\u001b[1;36m83\u001b[0m, \u001b[1;36m2\u001b[0m\u001b[1m)\u001b[0m                                    \u001b]8;id=735339;file:///home/james/dev/drnb/src/drnb/io/pipeline.py\u001b\\\u001b[2mpipeline.py\u001b[0m\u001b]8;;\u001b\\\u001b[2m:\u001b[0m\u001b]8;id=485575;file:///home/james/dev/drnb/src/drnb/io/pipeline.py#197\u001b\\\u001b[2m197\u001b[0m\u001b]8;;\u001b\\\n"
      ]
     },
     "metadata": {},
     "output_type": "display_data"
    },
    {
     "data": {
      "text/html": [
       "<pre style=\"white-space:pre;overflow-x:auto;line-height:normal;font-family:Menlo,'DejaVu Sans Mono',consolas,'Courier New',monospace\"><span style=\"color: #7fbfbf; text-decoration-color: #7fbfbf\">           </span><span style=\"color: #000080; text-decoration-color: #000080\">INFO    </span> Keeping all columns                                                            <a href=\"file:///home/james/dev/drnb/src/drnb/preprocess.py\" target=\"_blank\"><span style=\"color: #7f7f7f; text-decoration-color: #7f7f7f\">preprocess.py</span></a><span style=\"color: #7f7f7f; text-decoration-color: #7f7f7f\">:</span><a href=\"file:///home/james/dev/drnb/src/drnb/preprocess.py#67\" target=\"_blank\"><span style=\"color: #7f7f7f; text-decoration-color: #7f7f7f\">67</span></a>\n",
       "</pre>\n"
      ],
      "text/plain": [
       "\u001b[2;36m          \u001b[0m\u001b[2;36m \u001b[0m\u001b[34mINFO    \u001b[0m Keeping all columns                                                            \u001b]8;id=84992;file:///home/james/dev/drnb/src/drnb/preprocess.py\u001b\\\u001b[2mpreprocess.py\u001b[0m\u001b]8;;\u001b\\\u001b[2m:\u001b[0m\u001b]8;id=410660;file:///home/james/dev/drnb/src/drnb/preprocess.py#67\u001b\\\u001b[2m67\u001b[0m\u001b]8;;\u001b\\\n"
      ]
     },
     "metadata": {},
     "output_type": "display_data"
    },
    {
     "data": {
      "text/html": [
       "<pre style=\"white-space:pre;overflow-x:auto;line-height:normal;font-family:Menlo,'DejaVu Sans Mono',consolas,'Courier New',monospace\"><span style=\"color: #7fbfbf; text-decoration-color: #7fbfbf\">           </span><span style=\"color: #000080; text-decoration-color: #000080\">INFO    </span> Writing target for mediabias                                                    <a href=\"file:///home/james/dev/drnb/src/drnb/io/pipeline.py\" target=\"_blank\"><span style=\"color: #7f7f7f; text-decoration-color: #7f7f7f\">pipeline.py</span></a><span style=\"color: #7f7f7f; text-decoration-color: #7f7f7f\">:</span><a href=\"file:///home/james/dev/drnb/src/drnb/io/pipeline.py#226\" target=\"_blank\"><span style=\"color: #7f7f7f; text-decoration-color: #7f7f7f\">226</span></a>\n",
       "</pre>\n"
      ],
      "text/plain": [
       "\u001b[2;36m          \u001b[0m\u001b[2;36m \u001b[0m\u001b[34mINFO    \u001b[0m Writing target for mediabias                                                    \u001b]8;id=933672;file:///home/james/dev/drnb/src/drnb/io/pipeline.py\u001b\\\u001b[2mpipeline.py\u001b[0m\u001b]8;;\u001b\\\u001b[2m:\u001b[0m\u001b]8;id=51950;file:///home/james/dev/drnb/src/drnb/io/pipeline.py#226\u001b\\\u001b[2m226\u001b[0m\u001b]8;;\u001b\\\n"
      ]
     },
     "metadata": {},
     "output_type": "display_data"
    },
    {
     "data": {
      "text/html": [
       "<pre style=\"white-space:pre;overflow-x:auto;line-height:normal;font-family:Menlo,'DejaVu Sans Mono',consolas,'Courier New',monospace\"><span style=\"color: #7fbfbf; text-decoration-color: #7fbfbf\">           </span><span style=\"color: #000080; text-decoration-color: #000080\">INFO    </span> Writing pkl format to data/mediabias-target-palette.pkl                         <a href=\"file:///home/james/dev/drnb/src/drnb/io/__init__.py\" target=\"_blank\"><span style=\"color: #7f7f7f; text-decoration-color: #7f7f7f\">__init__.py</span></a><span style=\"color: #7f7f7f; text-decoration-color: #7f7f7f\">:</span><a href=\"file:///home/james/dev/drnb/src/drnb/io/__init__.py#265\" target=\"_blank\"><span style=\"color: #7f7f7f; text-decoration-color: #7f7f7f\">265</span></a>\n",
       "</pre>\n"
      ],
      "text/plain": [
       "\u001b[2;36m          \u001b[0m\u001b[2;36m \u001b[0m\u001b[34mINFO    \u001b[0m Writing pkl format to data/mediabias-target-palette.pkl                         \u001b]8;id=362955;file:///home/james/dev/drnb/src/drnb/io/__init__.py\u001b\\\u001b[2m__init__.py\u001b[0m\u001b]8;;\u001b\\\u001b[2m:\u001b[0m\u001b]8;id=103237;file:///home/james/dev/drnb/src/drnb/io/__init__.py#265\u001b\\\u001b[2m265\u001b[0m\u001b]8;;\u001b\\\n"
      ]
     },
     "metadata": {},
     "output_type": "display_data"
    },
    {
     "data": {
      "text/html": [
       "<pre style=\"white-space:pre;overflow-x:auto;line-height:normal;font-family:Menlo,'DejaVu Sans Mono',consolas,'Courier New',monospace\"><span style=\"color: #7fbfbf; text-decoration-color: #7fbfbf\">           </span><span style=\"color: #000080; text-decoration-color: #000080\">INFO    </span> Calculating nearest neighbors                                                   <a href=\"file:///home/james/dev/drnb/src/drnb/io/pipeline.py\" target=\"_blank\"><span style=\"color: #7f7f7f; text-decoration-color: #7f7f7f\">pipeline.py</span></a><span style=\"color: #7f7f7f; text-decoration-color: #7f7f7f\">:</span><a href=\"file:///home/james/dev/drnb/src/drnb/io/pipeline.py#241\" target=\"_blank\"><span style=\"color: #7f7f7f; text-decoration-color: #7f7f7f\">241</span></a>\n",
       "</pre>\n"
      ],
      "text/plain": [
       "\u001b[2;36m          \u001b[0m\u001b[2;36m \u001b[0m\u001b[34mINFO    \u001b[0m Calculating nearest neighbors                                                   \u001b]8;id=206943;file:///home/james/dev/drnb/src/drnb/io/pipeline.py\u001b\\\u001b[2mpipeline.py\u001b[0m\u001b]8;;\u001b\\\u001b[2m:\u001b[0m\u001b]8;id=52499;file:///home/james/dev/drnb/src/drnb/io/pipeline.py#241\u001b\\\u001b[2m241\u001b[0m\u001b]8;;\u001b\\\n"
      ]
     },
     "metadata": {},
     "output_type": "display_data"
    },
    {
     "data": {
      "text/html": [
       "<pre style=\"white-space:pre;overflow-x:auto;line-height:normal;font-family:Menlo,'DejaVu Sans Mono',consolas,'Courier New',monospace\"><span style=\"color: #7fbfbf; text-decoration-color: #7fbfbf\">           </span><span style=\"color: #800000; text-decoration-color: #800000\">WARNING </span> <span style=\"color: #008080; text-decoration-color: #008080; font-weight: bold\">151</span> neighbors requested but only <span style=\"color: #008080; text-decoration-color: #008080; font-weight: bold\">83</span> items in the data                            <a href=\"file:///home/james/dev/drnb/src/drnb/neighbors/__init__.py\" target=\"_blank\"><span style=\"color: #7f7f7f; text-decoration-color: #7f7f7f\">__init__.py</span></a><span style=\"color: #7f7f7f; text-decoration-color: #7f7f7f\">:</span><a href=\"file:///home/james/dev/drnb/src/drnb/neighbors/__init__.py#68\" target=\"_blank\"><span style=\"color: #7f7f7f; text-decoration-color: #7f7f7f\">68</span></a>\n",
       "</pre>\n"
      ],
      "text/plain": [
       "\u001b[2;36m          \u001b[0m\u001b[2;36m \u001b[0m\u001b[31mWARNING \u001b[0m \u001b[1;36m151\u001b[0m neighbors requested but only \u001b[1;36m83\u001b[0m items in the data                            \u001b]8;id=743512;file:///home/james/dev/drnb/src/drnb/neighbors/__init__.py\u001b\\\u001b[2m__init__.py\u001b[0m\u001b]8;;\u001b\\\u001b[2m:\u001b[0m\u001b]8;id=86394;file:///home/james/dev/drnb/src/drnb/neighbors/__init__.py#68\u001b\\\u001b[2m68\u001b[0m\u001b]8;;\u001b\\\n"
      ]
     },
     "metadata": {},
     "output_type": "display_data"
    },
    {
     "data": {
      "text/html": [
       "<pre style=\"white-space:pre;overflow-x:auto;line-height:normal;font-family:Menlo,'DejaVu Sans Mono',consolas,'Courier New',monospace\"><span style=\"color: #7fbfbf; text-decoration-color: #7fbfbf\">           </span><span style=\"color: #000080; text-decoration-color: #000080\">INFO    </span> Using <span style=\"color: #008000; text-decoration-color: #008000\">'faiss'</span> to find nearest neighbors                                          <a href=\"file:///home/james/dev/drnb/src/drnb/neighbors/__init__.py\" target=\"_blank\"><span style=\"color: #7f7f7f; text-decoration-color: #7f7f7f\">__init__.py</span></a><span style=\"color: #7f7f7f; text-decoration-color: #7f7f7f\">:</span><a href=\"file:///home/james/dev/drnb/src/drnb/neighbors/__init__.py#81\" target=\"_blank\"><span style=\"color: #7f7f7f; text-decoration-color: #7f7f7f\">81</span></a>\n",
       "</pre>\n"
      ],
      "text/plain": [
       "\u001b[2;36m          \u001b[0m\u001b[2;36m \u001b[0m\u001b[34mINFO    \u001b[0m Using \u001b[32m'faiss'\u001b[0m to find nearest neighbors                                          \u001b]8;id=818296;file:///home/james/dev/drnb/src/drnb/neighbors/__init__.py\u001b\\\u001b[2m__init__.py\u001b[0m\u001b]8;;\u001b\\\u001b[2m:\u001b[0m\u001b]8;id=554979;file:///home/james/dev/drnb/src/drnb/neighbors/__init__.py#81\u001b\\\u001b[2m81\u001b[0m\u001b]8;;\u001b\\\n"
      ]
     },
     "metadata": {},
     "output_type": "display_data"
    },
    {
     "data": {
      "text/html": [
       "<pre style=\"white-space:pre;overflow-x:auto;line-height:normal;font-family:Menlo,'DejaVu Sans Mono',consolas,'Courier New',monospace\"><span style=\"color: #7fbfbf; text-decoration-color: #7fbfbf\">           </span><span style=\"color: #000080; text-decoration-color: #000080\">INFO    </span> Finding <span style=\"color: #008080; text-decoration-color: #008080; font-weight: bold\">83</span> neighbors using faiss with euclidean metric and params: <span style=\"font-weight: bold\">{}</span>            <a href=\"file:///home/james/dev/drnb/src/drnb/neighbors/__init__.py\" target=\"_blank\"><span style=\"color: #7f7f7f; text-decoration-color: #7f7f7f\">__init__.py</span></a><span style=\"color: #7f7f7f; text-decoration-color: #7f7f7f\">:</span><a href=\"file:///home/james/dev/drnb/src/drnb/neighbors/__init__.py#94\" target=\"_blank\"><span style=\"color: #7f7f7f; text-decoration-color: #7f7f7f\">94</span></a>\n",
       "</pre>\n"
      ],
      "text/plain": [
       "\u001b[2;36m          \u001b[0m\u001b[2;36m \u001b[0m\u001b[34mINFO    \u001b[0m Finding \u001b[1;36m83\u001b[0m neighbors using faiss with euclidean metric and params: \u001b[1m{\u001b[0m\u001b[1m}\u001b[0m            \u001b]8;id=48722;file:///home/james/dev/drnb/src/drnb/neighbors/__init__.py\u001b\\\u001b[2m__init__.py\u001b[0m\u001b]8;;\u001b\\\u001b[2m:\u001b[0m\u001b]8;id=959681;file:///home/james/dev/drnb/src/drnb/neighbors/__init__.py#94\u001b\\\u001b[2m94\u001b[0m\u001b]8;;\u001b\\\n"
      ]
     },
     "metadata": {},
     "output_type": "display_data"
    },
    {
     "data": {
      "text/html": [
       "<pre style=\"white-space:pre;overflow-x:auto;line-height:normal;font-family:Menlo,'DejaVu Sans Mono',consolas,'Courier New',monospace\"><span style=\"color: #7fbfbf; text-decoration-color: #7fbfbf\">[17:25:39] </span><span style=\"color: #000080; text-decoration-color: #000080\">INFO    </span> Writing numpy format to nn/mediabias.<span style=\"color: #008080; text-decoration-color: #008080; font-weight: bold\">16.</span>euclidean.exact.faiss.idx.npy           <a href=\"file:///home/james/dev/drnb/src/drnb/io/__init__.py\" target=\"_blank\"><span style=\"color: #7f7f7f; text-decoration-color: #7f7f7f\">__init__.py</span></a><span style=\"color: #7f7f7f; text-decoration-color: #7f7f7f\">:</span><a href=\"file:///home/james/dev/drnb/src/drnb/io/__init__.py#247\" target=\"_blank\"><span style=\"color: #7f7f7f; text-decoration-color: #7f7f7f\">247</span></a>\n",
       "</pre>\n"
      ],
      "text/plain": [
       "\u001b[2;36m[17:25:39]\u001b[0m\u001b[2;36m \u001b[0m\u001b[34mINFO    \u001b[0m Writing numpy format to nn/mediabias.\u001b[1;36m16.\u001b[0meuclidean.exact.faiss.idx.npy           \u001b]8;id=557055;file:///home/james/dev/drnb/src/drnb/io/__init__.py\u001b\\\u001b[2m__init__.py\u001b[0m\u001b]8;;\u001b\\\u001b[2m:\u001b[0m\u001b]8;id=868252;file:///home/james/dev/drnb/src/drnb/io/__init__.py#247\u001b\\\u001b[2m247\u001b[0m\u001b]8;;\u001b\\\n"
      ]
     },
     "metadata": {},
     "output_type": "display_data"
    },
    {
     "data": {
      "text/html": [
       "<pre style=\"white-space:pre;overflow-x:auto;line-height:normal;font-family:Menlo,'DejaVu Sans Mono',consolas,'Courier New',monospace\"><span style=\"color: #7fbfbf; text-decoration-color: #7fbfbf\">           </span><span style=\"color: #000080; text-decoration-color: #000080\">INFO    </span> Writing csv format to nn/mediabias.<span style=\"color: #008080; text-decoration-color: #008080; font-weight: bold\">16.</span>euclidean.exact.faiss.idx.csv             <a href=\"file:///home/james/dev/drnb/src/drnb/io/__init__.py\" target=\"_blank\"><span style=\"color: #7f7f7f; text-decoration-color: #7f7f7f\">__init__.py</span></a><span style=\"color: #7f7f7f; text-decoration-color: #7f7f7f\">:</span><a href=\"file:///home/james/dev/drnb/src/drnb/io/__init__.py#224\" target=\"_blank\"><span style=\"color: #7f7f7f; text-decoration-color: #7f7f7f\">224</span></a>\n",
       "</pre>\n"
      ],
      "text/plain": [
       "\u001b[2;36m          \u001b[0m\u001b[2;36m \u001b[0m\u001b[34mINFO    \u001b[0m Writing csv format to nn/mediabias.\u001b[1;36m16.\u001b[0meuclidean.exact.faiss.idx.csv             \u001b]8;id=634895;file:///home/james/dev/drnb/src/drnb/io/__init__.py\u001b\\\u001b[2m__init__.py\u001b[0m\u001b]8;;\u001b\\\u001b[2m:\u001b[0m\u001b]8;id=554670;file:///home/james/dev/drnb/src/drnb/io/__init__.py#224\u001b\\\u001b[2m224\u001b[0m\u001b]8;;\u001b\\\n"
      ]
     },
     "metadata": {},
     "output_type": "display_data"
    },
    {
     "data": {
      "text/html": [
       "<pre style=\"white-space:pre;overflow-x:auto;line-height:normal;font-family:Menlo,'DejaVu Sans Mono',consolas,'Courier New',monospace\"><span style=\"color: #7fbfbf; text-decoration-color: #7fbfbf\">           </span><span style=\"color: #000080; text-decoration-color: #000080\">INFO    </span> Writing numpy format to nn/mediabias.<span style=\"color: #008080; text-decoration-color: #008080; font-weight: bold\">16.</span>euclidean.exact.faiss.dist.npy          <a href=\"file:///home/james/dev/drnb/src/drnb/io/__init__.py\" target=\"_blank\"><span style=\"color: #7f7f7f; text-decoration-color: #7f7f7f\">__init__.py</span></a><span style=\"color: #7f7f7f; text-decoration-color: #7f7f7f\">:</span><a href=\"file:///home/james/dev/drnb/src/drnb/io/__init__.py#247\" target=\"_blank\"><span style=\"color: #7f7f7f; text-decoration-color: #7f7f7f\">247</span></a>\n",
       "</pre>\n"
      ],
      "text/plain": [
       "\u001b[2;36m          \u001b[0m\u001b[2;36m \u001b[0m\u001b[34mINFO    \u001b[0m Writing numpy format to nn/mediabias.\u001b[1;36m16.\u001b[0meuclidean.exact.faiss.dist.npy          \u001b]8;id=790687;file:///home/james/dev/drnb/src/drnb/io/__init__.py\u001b\\\u001b[2m__init__.py\u001b[0m\u001b]8;;\u001b\\\u001b[2m:\u001b[0m\u001b]8;id=471748;file:///home/james/dev/drnb/src/drnb/io/__init__.py#247\u001b\\\u001b[2m247\u001b[0m\u001b]8;;\u001b\\\n"
      ]
     },
     "metadata": {},
     "output_type": "display_data"
    },
    {
     "data": {
      "text/html": [
       "<pre style=\"white-space:pre;overflow-x:auto;line-height:normal;font-family:Menlo,'DejaVu Sans Mono',consolas,'Courier New',monospace\"><span style=\"color: #7fbfbf; text-decoration-color: #7fbfbf\">           </span><span style=\"color: #000080; text-decoration-color: #000080\">INFO    </span> Writing csv format to nn/mediabias.<span style=\"color: #008080; text-decoration-color: #008080; font-weight: bold\">16.</span>euclidean.exact.faiss.dist.csv            <a href=\"file:///home/james/dev/drnb/src/drnb/io/__init__.py\" target=\"_blank\"><span style=\"color: #7f7f7f; text-decoration-color: #7f7f7f\">__init__.py</span></a><span style=\"color: #7f7f7f; text-decoration-color: #7f7f7f\">:</span><a href=\"file:///home/james/dev/drnb/src/drnb/io/__init__.py#224\" target=\"_blank\"><span style=\"color: #7f7f7f; text-decoration-color: #7f7f7f\">224</span></a>\n",
       "</pre>\n"
      ],
      "text/plain": [
       "\u001b[2;36m          \u001b[0m\u001b[2;36m \u001b[0m\u001b[34mINFO    \u001b[0m Writing csv format to nn/mediabias.\u001b[1;36m16.\u001b[0meuclidean.exact.faiss.dist.csv            \u001b]8;id=965995;file:///home/james/dev/drnb/src/drnb/io/__init__.py\u001b\\\u001b[2m__init__.py\u001b[0m\u001b]8;;\u001b\\\u001b[2m:\u001b[0m\u001b]8;id=221686;file:///home/james/dev/drnb/src/drnb/io/__init__.py#224\u001b\\\u001b[2m224\u001b[0m\u001b]8;;\u001b\\\n"
      ]
     },
     "metadata": {},
     "output_type": "display_data"
    },
    {
     "data": {
      "text/html": [
       "<pre style=\"white-space:pre;overflow-x:auto;line-height:normal;font-family:Menlo,'DejaVu Sans Mono',consolas,'Courier New',monospace\"><span style=\"color: #7fbfbf; text-decoration-color: #7fbfbf\">           </span><span style=\"color: #000080; text-decoration-color: #000080\">INFO    </span> Writing numpy format to nn/mediabias.<span style=\"color: #008080; text-decoration-color: #008080; font-weight: bold\">51.</span>euclidean.exact.faiss.idx.npy           <a href=\"file:///home/james/dev/drnb/src/drnb/io/__init__.py\" target=\"_blank\"><span style=\"color: #7f7f7f; text-decoration-color: #7f7f7f\">__init__.py</span></a><span style=\"color: #7f7f7f; text-decoration-color: #7f7f7f\">:</span><a href=\"file:///home/james/dev/drnb/src/drnb/io/__init__.py#247\" target=\"_blank\"><span style=\"color: #7f7f7f; text-decoration-color: #7f7f7f\">247</span></a>\n",
       "</pre>\n"
      ],
      "text/plain": [
       "\u001b[2;36m          \u001b[0m\u001b[2;36m \u001b[0m\u001b[34mINFO    \u001b[0m Writing numpy format to nn/mediabias.\u001b[1;36m51.\u001b[0meuclidean.exact.faiss.idx.npy           \u001b]8;id=571349;file:///home/james/dev/drnb/src/drnb/io/__init__.py\u001b\\\u001b[2m__init__.py\u001b[0m\u001b]8;;\u001b\\\u001b[2m:\u001b[0m\u001b]8;id=120277;file:///home/james/dev/drnb/src/drnb/io/__init__.py#247\u001b\\\u001b[2m247\u001b[0m\u001b]8;;\u001b\\\n"
      ]
     },
     "metadata": {},
     "output_type": "display_data"
    },
    {
     "data": {
      "text/html": [
       "<pre style=\"white-space:pre;overflow-x:auto;line-height:normal;font-family:Menlo,'DejaVu Sans Mono',consolas,'Courier New',monospace\"><span style=\"color: #7fbfbf; text-decoration-color: #7fbfbf\">           </span><span style=\"color: #000080; text-decoration-color: #000080\">INFO    </span> Writing csv format to nn/mediabias.<span style=\"color: #008080; text-decoration-color: #008080; font-weight: bold\">51.</span>euclidean.exact.faiss.idx.csv             <a href=\"file:///home/james/dev/drnb/src/drnb/io/__init__.py\" target=\"_blank\"><span style=\"color: #7f7f7f; text-decoration-color: #7f7f7f\">__init__.py</span></a><span style=\"color: #7f7f7f; text-decoration-color: #7f7f7f\">:</span><a href=\"file:///home/james/dev/drnb/src/drnb/io/__init__.py#224\" target=\"_blank\"><span style=\"color: #7f7f7f; text-decoration-color: #7f7f7f\">224</span></a>\n",
       "</pre>\n"
      ],
      "text/plain": [
       "\u001b[2;36m          \u001b[0m\u001b[2;36m \u001b[0m\u001b[34mINFO    \u001b[0m Writing csv format to nn/mediabias.\u001b[1;36m51.\u001b[0meuclidean.exact.faiss.idx.csv             \u001b]8;id=296863;file:///home/james/dev/drnb/src/drnb/io/__init__.py\u001b\\\u001b[2m__init__.py\u001b[0m\u001b]8;;\u001b\\\u001b[2m:\u001b[0m\u001b]8;id=607867;file:///home/james/dev/drnb/src/drnb/io/__init__.py#224\u001b\\\u001b[2m224\u001b[0m\u001b]8;;\u001b\\\n"
      ]
     },
     "metadata": {},
     "output_type": "display_data"
    },
    {
     "data": {
      "text/html": [
       "<pre style=\"white-space:pre;overflow-x:auto;line-height:normal;font-family:Menlo,'DejaVu Sans Mono',consolas,'Courier New',monospace\"><span style=\"color: #7fbfbf; text-decoration-color: #7fbfbf\">           </span><span style=\"color: #000080; text-decoration-color: #000080\">INFO    </span> Writing numpy format to nn/mediabias.<span style=\"color: #008080; text-decoration-color: #008080; font-weight: bold\">51.</span>euclidean.exact.faiss.dist.npy          <a href=\"file:///home/james/dev/drnb/src/drnb/io/__init__.py\" target=\"_blank\"><span style=\"color: #7f7f7f; text-decoration-color: #7f7f7f\">__init__.py</span></a><span style=\"color: #7f7f7f; text-decoration-color: #7f7f7f\">:</span><a href=\"file:///home/james/dev/drnb/src/drnb/io/__init__.py#247\" target=\"_blank\"><span style=\"color: #7f7f7f; text-decoration-color: #7f7f7f\">247</span></a>\n",
       "</pre>\n"
      ],
      "text/plain": [
       "\u001b[2;36m          \u001b[0m\u001b[2;36m \u001b[0m\u001b[34mINFO    \u001b[0m Writing numpy format to nn/mediabias.\u001b[1;36m51.\u001b[0meuclidean.exact.faiss.dist.npy          \u001b]8;id=608389;file:///home/james/dev/drnb/src/drnb/io/__init__.py\u001b\\\u001b[2m__init__.py\u001b[0m\u001b]8;;\u001b\\\u001b[2m:\u001b[0m\u001b]8;id=883528;file:///home/james/dev/drnb/src/drnb/io/__init__.py#247\u001b\\\u001b[2m247\u001b[0m\u001b]8;;\u001b\\\n"
      ]
     },
     "metadata": {},
     "output_type": "display_data"
    },
    {
     "data": {
      "text/html": [
       "<pre style=\"white-space:pre;overflow-x:auto;line-height:normal;font-family:Menlo,'DejaVu Sans Mono',consolas,'Courier New',monospace\"><span style=\"color: #7fbfbf; text-decoration-color: #7fbfbf\">           </span><span style=\"color: #000080; text-decoration-color: #000080\">INFO    </span> Writing csv format to nn/mediabias.<span style=\"color: #008080; text-decoration-color: #008080; font-weight: bold\">51.</span>euclidean.exact.faiss.dist.csv            <a href=\"file:///home/james/dev/drnb/src/drnb/io/__init__.py\" target=\"_blank\"><span style=\"color: #7f7f7f; text-decoration-color: #7f7f7f\">__init__.py</span></a><span style=\"color: #7f7f7f; text-decoration-color: #7f7f7f\">:</span><a href=\"file:///home/james/dev/drnb/src/drnb/io/__init__.py#224\" target=\"_blank\"><span style=\"color: #7f7f7f; text-decoration-color: #7f7f7f\">224</span></a>\n",
       "</pre>\n"
      ],
      "text/plain": [
       "\u001b[2;36m          \u001b[0m\u001b[2;36m \u001b[0m\u001b[34mINFO    \u001b[0m Writing csv format to nn/mediabias.\u001b[1;36m51.\u001b[0meuclidean.exact.faiss.dist.csv            \u001b]8;id=443416;file:///home/james/dev/drnb/src/drnb/io/__init__.py\u001b\\\u001b[2m__init__.py\u001b[0m\u001b]8;;\u001b\\\u001b[2m:\u001b[0m\u001b]8;id=174444;file:///home/james/dev/drnb/src/drnb/io/__init__.py#224\u001b\\\u001b[2m224\u001b[0m\u001b]8;;\u001b\\\n"
      ]
     },
     "metadata": {},
     "output_type": "display_data"
    },
    {
     "data": {
      "text/html": [
       "<pre style=\"white-space:pre;overflow-x:auto;line-height:normal;font-family:Menlo,'DejaVu Sans Mono',consolas,'Courier New',monospace\"><span style=\"color: #7fbfbf; text-decoration-color: #7fbfbf\">           </span><span style=\"color: #000080; text-decoration-color: #000080\">INFO    </span> Writing numpy format to nn/mediabias.<span style=\"color: #008080; text-decoration-color: #008080; font-weight: bold\">151.</span>euclidean.exact.faiss.idx.npy          <a href=\"file:///home/james/dev/drnb/src/drnb/io/__init__.py\" target=\"_blank\"><span style=\"color: #7f7f7f; text-decoration-color: #7f7f7f\">__init__.py</span></a><span style=\"color: #7f7f7f; text-decoration-color: #7f7f7f\">:</span><a href=\"file:///home/james/dev/drnb/src/drnb/io/__init__.py#247\" target=\"_blank\"><span style=\"color: #7f7f7f; text-decoration-color: #7f7f7f\">247</span></a>\n",
       "</pre>\n"
      ],
      "text/plain": [
       "\u001b[2;36m          \u001b[0m\u001b[2;36m \u001b[0m\u001b[34mINFO    \u001b[0m Writing numpy format to nn/mediabias.\u001b[1;36m151.\u001b[0meuclidean.exact.faiss.idx.npy          \u001b]8;id=874328;file:///home/james/dev/drnb/src/drnb/io/__init__.py\u001b\\\u001b[2m__init__.py\u001b[0m\u001b]8;;\u001b\\\u001b[2m:\u001b[0m\u001b]8;id=970425;file:///home/james/dev/drnb/src/drnb/io/__init__.py#247\u001b\\\u001b[2m247\u001b[0m\u001b]8;;\u001b\\\n"
      ]
     },
     "metadata": {},
     "output_type": "display_data"
    },
    {
     "data": {
      "text/html": [
       "<pre style=\"white-space:pre;overflow-x:auto;line-height:normal;font-family:Menlo,'DejaVu Sans Mono',consolas,'Courier New',monospace\"><span style=\"color: #7fbfbf; text-decoration-color: #7fbfbf\">           </span><span style=\"color: #000080; text-decoration-color: #000080\">INFO    </span> Writing csv format to nn/mediabias.<span style=\"color: #008080; text-decoration-color: #008080; font-weight: bold\">151.</span>euclidean.exact.faiss.idx.csv            <a href=\"file:///home/james/dev/drnb/src/drnb/io/__init__.py\" target=\"_blank\"><span style=\"color: #7f7f7f; text-decoration-color: #7f7f7f\">__init__.py</span></a><span style=\"color: #7f7f7f; text-decoration-color: #7f7f7f\">:</span><a href=\"file:///home/james/dev/drnb/src/drnb/io/__init__.py#224\" target=\"_blank\"><span style=\"color: #7f7f7f; text-decoration-color: #7f7f7f\">224</span></a>\n",
       "</pre>\n"
      ],
      "text/plain": [
       "\u001b[2;36m          \u001b[0m\u001b[2;36m \u001b[0m\u001b[34mINFO    \u001b[0m Writing csv format to nn/mediabias.\u001b[1;36m151.\u001b[0meuclidean.exact.faiss.idx.csv            \u001b]8;id=826078;file:///home/james/dev/drnb/src/drnb/io/__init__.py\u001b\\\u001b[2m__init__.py\u001b[0m\u001b]8;;\u001b\\\u001b[2m:\u001b[0m\u001b]8;id=37234;file:///home/james/dev/drnb/src/drnb/io/__init__.py#224\u001b\\\u001b[2m224\u001b[0m\u001b]8;;\u001b\\\n"
      ]
     },
     "metadata": {},
     "output_type": "display_data"
    },
    {
     "data": {
      "text/html": [
       "<pre style=\"white-space:pre;overflow-x:auto;line-height:normal;font-family:Menlo,'DejaVu Sans Mono',consolas,'Courier New',monospace\"><span style=\"color: #7fbfbf; text-decoration-color: #7fbfbf\">           </span><span style=\"color: #000080; text-decoration-color: #000080\">INFO    </span> Writing numpy format to nn/mediabias.<span style=\"color: #008080; text-decoration-color: #008080; font-weight: bold\">151.</span>euclidean.exact.faiss.dist.npy         <a href=\"file:///home/james/dev/drnb/src/drnb/io/__init__.py\" target=\"_blank\"><span style=\"color: #7f7f7f; text-decoration-color: #7f7f7f\">__init__.py</span></a><span style=\"color: #7f7f7f; text-decoration-color: #7f7f7f\">:</span><a href=\"file:///home/james/dev/drnb/src/drnb/io/__init__.py#247\" target=\"_blank\"><span style=\"color: #7f7f7f; text-decoration-color: #7f7f7f\">247</span></a>\n",
       "</pre>\n"
      ],
      "text/plain": [
       "\u001b[2;36m          \u001b[0m\u001b[2;36m \u001b[0m\u001b[34mINFO    \u001b[0m Writing numpy format to nn/mediabias.\u001b[1;36m151.\u001b[0meuclidean.exact.faiss.dist.npy         \u001b]8;id=575054;file:///home/james/dev/drnb/src/drnb/io/__init__.py\u001b\\\u001b[2m__init__.py\u001b[0m\u001b]8;;\u001b\\\u001b[2m:\u001b[0m\u001b]8;id=830118;file:///home/james/dev/drnb/src/drnb/io/__init__.py#247\u001b\\\u001b[2m247\u001b[0m\u001b]8;;\u001b\\\n"
      ]
     },
     "metadata": {},
     "output_type": "display_data"
    },
    {
     "data": {
      "text/html": [
       "<pre style=\"white-space:pre;overflow-x:auto;line-height:normal;font-family:Menlo,'DejaVu Sans Mono',consolas,'Courier New',monospace\"><span style=\"color: #7fbfbf; text-decoration-color: #7fbfbf\">           </span><span style=\"color: #000080; text-decoration-color: #000080\">INFO    </span> Writing csv format to nn/mediabias.<span style=\"color: #008080; text-decoration-color: #008080; font-weight: bold\">151.</span>euclidean.exact.faiss.dist.csv           <a href=\"file:///home/james/dev/drnb/src/drnb/io/__init__.py\" target=\"_blank\"><span style=\"color: #7f7f7f; text-decoration-color: #7f7f7f\">__init__.py</span></a><span style=\"color: #7f7f7f; text-decoration-color: #7f7f7f\">:</span><a href=\"file:///home/james/dev/drnb/src/drnb/io/__init__.py#224\" target=\"_blank\"><span style=\"color: #7f7f7f; text-decoration-color: #7f7f7f\">224</span></a>\n",
       "</pre>\n"
      ],
      "text/plain": [
       "\u001b[2;36m          \u001b[0m\u001b[2;36m \u001b[0m\u001b[34mINFO    \u001b[0m Writing csv format to nn/mediabias.\u001b[1;36m151.\u001b[0meuclidean.exact.faiss.dist.csv           \u001b]8;id=10936;file:///home/james/dev/drnb/src/drnb/io/__init__.py\u001b\\\u001b[2m__init__.py\u001b[0m\u001b]8;;\u001b\\\u001b[2m:\u001b[0m\u001b]8;id=92897;file:///home/james/dev/drnb/src/drnb/io/__init__.py#224\u001b\\\u001b[2m224\u001b[0m\u001b]8;;\u001b\\\n"
      ]
     },
     "metadata": {},
     "output_type": "display_data"
    },
    {
     "data": {
      "text/html": [
       "<pre style=\"white-space:pre;overflow-x:auto;line-height:normal;font-family:Menlo,'DejaVu Sans Mono',consolas,'Courier New',monospace\"><span style=\"color: #7fbfbf; text-decoration-color: #7fbfbf\">           </span><span style=\"color: #000080; text-decoration-color: #000080\">INFO    </span> Calculating triplets                                                            <a href=\"file:///home/james/dev/drnb/src/drnb/io/pipeline.py\" target=\"_blank\"><span style=\"color: #7f7f7f; text-decoration-color: #7f7f7f\">pipeline.py</span></a><span style=\"color: #7f7f7f; text-decoration-color: #7f7f7f\">:</span><a href=\"file:///home/james/dev/drnb/src/drnb/io/pipeline.py#252\" target=\"_blank\"><span style=\"color: #7f7f7f; text-decoration-color: #7f7f7f\">252</span></a>\n",
       "</pre>\n"
      ],
      "text/plain": [
       "\u001b[2;36m          \u001b[0m\u001b[2;36m \u001b[0m\u001b[34mINFO    \u001b[0m Calculating triplets                                                            \u001b]8;id=214929;file:///home/james/dev/drnb/src/drnb/io/pipeline.py\u001b\\\u001b[2mpipeline.py\u001b[0m\u001b]8;;\u001b\\\u001b[2m:\u001b[0m\u001b]8;id=945228;file:///home/james/dev/drnb/src/drnb/io/pipeline.py#252\u001b\\\u001b[2m252\u001b[0m\u001b]8;;\u001b\\\n"
      ]
     },
     "metadata": {},
     "output_type": "display_data"
    },
    {
     "data": {
      "text/html": [
       "<pre style=\"white-space:pre;overflow-x:auto;line-height:normal;font-family:Menlo,'DejaVu Sans Mono',consolas,'Courier New',monospace\"><span style=\"color: #7fbfbf; text-decoration-color: #7fbfbf\">           </span><span style=\"color: #000080; text-decoration-color: #000080\">INFO    </span> Writing csv format to triplets/mediabias.<span style=\"color: #008080; text-decoration-color: #008080; font-weight: bold\">5.1337</span>.idx.csv                         <a href=\"file:///home/james/dev/drnb/src/drnb/io/__init__.py\" target=\"_blank\"><span style=\"color: #7f7f7f; text-decoration-color: #7f7f7f\">__init__.py</span></a><span style=\"color: #7f7f7f; text-decoration-color: #7f7f7f\">:</span><a href=\"file:///home/james/dev/drnb/src/drnb/io/__init__.py#224\" target=\"_blank\"><span style=\"color: #7f7f7f; text-decoration-color: #7f7f7f\">224</span></a>\n",
       "</pre>\n"
      ],
      "text/plain": [
       "\u001b[2;36m          \u001b[0m\u001b[2;36m \u001b[0m\u001b[34mINFO    \u001b[0m Writing csv format to triplets/mediabias.\u001b[1;36m5.1337\u001b[0m.idx.csv                         \u001b]8;id=774394;file:///home/james/dev/drnb/src/drnb/io/__init__.py\u001b\\\u001b[2m__init__.py\u001b[0m\u001b]8;;\u001b\\\u001b[2m:\u001b[0m\u001b]8;id=365771;file:///home/james/dev/drnb/src/drnb/io/__init__.py#224\u001b\\\u001b[2m224\u001b[0m\u001b]8;;\u001b\\\n"
      ]
     },
     "metadata": {},
     "output_type": "display_data"
    },
    {
     "data": {
      "text/html": [
       "<pre style=\"white-space:pre;overflow-x:auto;line-height:normal;font-family:Menlo,'DejaVu Sans Mono',consolas,'Courier New',monospace\"><span style=\"color: #7fbfbf; text-decoration-color: #7fbfbf\">           </span><span style=\"color: #000080; text-decoration-color: #000080\">INFO    </span> Writing csv format to triplets/mediabias.<span style=\"color: #008080; text-decoration-color: #008080; font-weight: bold\">5.1337</span>.euclidean.csv                   <a href=\"file:///home/james/dev/drnb/src/drnb/io/__init__.py\" target=\"_blank\"><span style=\"color: #7f7f7f; text-decoration-color: #7f7f7f\">__init__.py</span></a><span style=\"color: #7f7f7f; text-decoration-color: #7f7f7f\">:</span><a href=\"file:///home/james/dev/drnb/src/drnb/io/__init__.py#224\" target=\"_blank\"><span style=\"color: #7f7f7f; text-decoration-color: #7f7f7f\">224</span></a>\n",
       "</pre>\n"
      ],
      "text/plain": [
       "\u001b[2;36m          \u001b[0m\u001b[2;36m \u001b[0m\u001b[34mINFO    \u001b[0m Writing csv format to triplets/mediabias.\u001b[1;36m5.1337\u001b[0m.euclidean.csv                   \u001b]8;id=263187;file:///home/james/dev/drnb/src/drnb/io/__init__.py\u001b\\\u001b[2m__init__.py\u001b[0m\u001b]8;;\u001b\\\u001b[2m:\u001b[0m\u001b]8;id=535484;file:///home/james/dev/drnb/src/drnb/io/__init__.py#224\u001b\\\u001b[2m224\u001b[0m\u001b]8;;\u001b\\\n"
      ]
     },
     "metadata": {},
     "output_type": "display_data"
    },
    {
     "data": {
      "text/html": [
       "<pre style=\"white-space:pre;overflow-x:auto;line-height:normal;font-family:Menlo,'DejaVu Sans Mono',consolas,'Courier New',monospace\"><span style=\"color: #7fbfbf; text-decoration-color: #7fbfbf\">           </span><span style=\"color: #000080; text-decoration-color: #000080\">INFO    </span> Writing numpy format to triplets/mediabias.<span style=\"color: #008080; text-decoration-color: #008080; font-weight: bold\">5.1337</span>.idx.npy                       <a href=\"file:///home/james/dev/drnb/src/drnb/io/__init__.py\" target=\"_blank\"><span style=\"color: #7f7f7f; text-decoration-color: #7f7f7f\">__init__.py</span></a><span style=\"color: #7f7f7f; text-decoration-color: #7f7f7f\">:</span><a href=\"file:///home/james/dev/drnb/src/drnb/io/__init__.py#247\" target=\"_blank\"><span style=\"color: #7f7f7f; text-decoration-color: #7f7f7f\">247</span></a>\n",
       "</pre>\n"
      ],
      "text/plain": [
       "\u001b[2;36m          \u001b[0m\u001b[2;36m \u001b[0m\u001b[34mINFO    \u001b[0m Writing numpy format to triplets/mediabias.\u001b[1;36m5.1337\u001b[0m.idx.npy                       \u001b]8;id=390506;file:///home/james/dev/drnb/src/drnb/io/__init__.py\u001b\\\u001b[2m__init__.py\u001b[0m\u001b]8;;\u001b\\\u001b[2m:\u001b[0m\u001b]8;id=881415;file:///home/james/dev/drnb/src/drnb/io/__init__.py#247\u001b\\\u001b[2m247\u001b[0m\u001b]8;;\u001b\\\n"
      ]
     },
     "metadata": {},
     "output_type": "display_data"
    },
    {
     "data": {
      "text/html": [
       "<pre style=\"white-space:pre;overflow-x:auto;line-height:normal;font-family:Menlo,'DejaVu Sans Mono',consolas,'Courier New',monospace\"><span style=\"color: #7fbfbf; text-decoration-color: #7fbfbf\">           </span><span style=\"color: #000080; text-decoration-color: #000080\">INFO    </span> Writing numpy format to triplets/mediabias.<span style=\"color: #008080; text-decoration-color: #008080; font-weight: bold\">5.1337</span>.euclidean.npy                 <a href=\"file:///home/james/dev/drnb/src/drnb/io/__init__.py\" target=\"_blank\"><span style=\"color: #7f7f7f; text-decoration-color: #7f7f7f\">__init__.py</span></a><span style=\"color: #7f7f7f; text-decoration-color: #7f7f7f\">:</span><a href=\"file:///home/james/dev/drnb/src/drnb/io/__init__.py#247\" target=\"_blank\"><span style=\"color: #7f7f7f; text-decoration-color: #7f7f7f\">247</span></a>\n",
       "</pre>\n"
      ],
      "text/plain": [
       "\u001b[2;36m          \u001b[0m\u001b[2;36m \u001b[0m\u001b[34mINFO    \u001b[0m Writing numpy format to triplets/mediabias.\u001b[1;36m5.1337\u001b[0m.euclidean.npy                 \u001b]8;id=725119;file:///home/james/dev/drnb/src/drnb/io/__init__.py\u001b\\\u001b[2m__init__.py\u001b[0m\u001b]8;;\u001b\\\u001b[2m:\u001b[0m\u001b]8;id=834638;file:///home/james/dev/drnb/src/drnb/io/__init__.py#247\u001b\\\u001b[2m247\u001b[0m\u001b]8;;\u001b\\\n"
      ]
     },
     "metadata": {},
     "output_type": "display_data"
    },
    {
     "data": {
      "text/html": [
       "<pre style=\"white-space:pre;overflow-x:auto;line-height:normal;font-family:Menlo,'DejaVu Sans Mono',consolas,'Courier New',monospace\"><span style=\"color: #7fbfbf; text-decoration-color: #7fbfbf\">           </span><span style=\"color: #000080; text-decoration-color: #000080\">INFO    </span> Writing pipeline result for mediabias                                           <a href=\"file:///home/james/dev/drnb/src/drnb/io/pipeline.py\" target=\"_blank\"><span style=\"color: #7f7f7f; text-decoration-color: #7f7f7f\">pipeline.py</span></a><span style=\"color: #7f7f7f; text-decoration-color: #7f7f7f\">:</span><a href=\"file:///home/james/dev/drnb/src/drnb/io/pipeline.py#123\" target=\"_blank\"><span style=\"color: #7f7f7f; text-decoration-color: #7f7f7f\">123</span></a>\n",
       "</pre>\n"
      ],
      "text/plain": [
       "\u001b[2;36m          \u001b[0m\u001b[2;36m \u001b[0m\u001b[34mINFO    \u001b[0m Writing pipeline result for mediabias                                           \u001b]8;id=579661;file:///home/james/dev/drnb/src/drnb/io/pipeline.py\u001b\\\u001b[2mpipeline.py\u001b[0m\u001b]8;;\u001b\\\u001b[2m:\u001b[0m\u001b]8;id=373935;file:///home/james/dev/drnb/src/drnb/io/pipeline.py#123\u001b\\\u001b[2m123\u001b[0m\u001b]8;;\u001b\\\n"
      ]
     },
     "metadata": {},
     "output_type": "display_data"
    },
    {
     "name": "stdout",
     "output_type": "stream",
     "text": [
      "time: 2.14 s (started: 2023-03-21 17:25:37 -07:00)\n"
     ]
    }
   ],
   "source": [
    "from drnb.io.pipeline import create_default_pipeline\n",
    "\n",
    "_ = create_default_pipeline(check_for_duplicates=True, scale=\"z\").run(\n",
    "    \"mediabias\",\n",
    "    data=filtered_df,\n",
    "    target=target,\n",
    "    target_palette=media_bias_palette,\n",
    "    tags=[\"small\"],\n",
    "    url=\"https://doi.org/10.1371/journal.pone.0271947\",\n",
    "    verbose=True,\n",
    ")"
   ]
  }
 ],
 "metadata": {
  "kernelspec": {
   "display_name": "Python 3 (ipykernel)",
   "language": "python",
   "name": "python3"
  },
  "language_info": {
   "codemirror_mode": {
    "name": "ipython",
    "version": 3
   },
   "file_extension": ".py",
   "mimetype": "text/x-python",
   "name": "python",
   "nbconvert_exporter": "python",
   "pygments_lexer": "ipython3",
   "version": "3.10.7"
  }
 },
 "nbformat": 4,
 "nbformat_minor": 5
}
