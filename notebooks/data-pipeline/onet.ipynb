{
 "cells": [
  {
   "cell_type": "code",
   "execution_count": 1,
   "id": "49f0bc0e-6c9b-4c06-80a5-131104553cd2",
   "metadata": {},
   "outputs": [
    {
     "name": "stdout",
     "output_type": "stream",
     "text": [
      "time: 261 ms (started: 2023-02-05 20:23:22 -08:00)\n"
     ]
    }
   ],
   "source": [
    "%load_ext lab_black\n",
    "%load_ext autotime\n",
    "import pandas as pd\n",
    "import numpy as np"
   ]
  },
  {
   "cell_type": "markdown",
   "id": "10ab8410-1b1f-4566-b27d-9c76eac33a5c",
   "metadata": {},
   "source": [
    "The [O*NET Database](https://www.onetcenter.org/database.html) describes various jobs and the skills associated with them. Discovered from [a tweet by David Hood](https://twitter.com/Thoughtfulnz/status/1622029549310705664)."
   ]
  },
  {
   "cell_type": "code",
   "execution_count": 2,
   "id": "250ffcc1-f41e-48a9-ba41-9908c544cdde",
   "metadata": {},
   "outputs": [
    {
     "name": "stdout",
     "output_type": "stream",
     "text": [
      "time: 5.56 s (started: 2023-02-05 20:23:22 -08:00)\n"
     ]
    }
   ],
   "source": [
    "work_activities = pd.read_csv(\n",
    "    \"https://www.onetcenter.org/dl_files/database/db_27_1_text/Work%20Activities.txt\",\n",
    "    sep=\"\\t\",\n",
    ")"
   ]
  },
  {
   "cell_type": "code",
   "execution_count": 3,
   "id": "33dfb9fe-a23c-4561-9f3e-6852101e0703",
   "metadata": {},
   "outputs": [
    {
     "data": {
      "text/html": [
       "<div>\n",
       "<style scoped>\n",
       "    .dataframe tbody tr th:only-of-type {\n",
       "        vertical-align: middle;\n",
       "    }\n",
       "\n",
       "    .dataframe tbody tr th {\n",
       "        vertical-align: top;\n",
       "    }\n",
       "\n",
       "    .dataframe thead th {\n",
       "        text-align: right;\n",
       "    }\n",
       "</style>\n",
       "<table border=\"1\" class=\"dataframe\">\n",
       "  <thead>\n",
       "    <tr style=\"text-align: right;\">\n",
       "      <th></th>\n",
       "      <th>O*NET-SOC Code</th>\n",
       "      <th>Element ID</th>\n",
       "      <th>Element Name</th>\n",
       "      <th>Scale ID</th>\n",
       "      <th>Data Value</th>\n",
       "      <th>N</th>\n",
       "      <th>Standard Error</th>\n",
       "      <th>Lower CI Bound</th>\n",
       "      <th>Upper CI Bound</th>\n",
       "      <th>Recommend Suppress</th>\n",
       "      <th>Not Relevant</th>\n",
       "      <th>Date</th>\n",
       "      <th>Domain Source</th>\n",
       "    </tr>\n",
       "  </thead>\n",
       "  <tbody>\n",
       "    <tr>\n",
       "      <th>0</th>\n",
       "      <td>11-1011.00</td>\n",
       "      <td>4.A.1.a.1</td>\n",
       "      <td>Getting Information</td>\n",
       "      <td>IM</td>\n",
       "      <td>4.72</td>\n",
       "      <td>35.0</td>\n",
       "      <td>0.13</td>\n",
       "      <td>4.46</td>\n",
       "      <td>4.98</td>\n",
       "      <td>N</td>\n",
       "      <td>NaN</td>\n",
       "      <td>07/2014</td>\n",
       "      <td>Incumbent</td>\n",
       "    </tr>\n",
       "    <tr>\n",
       "      <th>1</th>\n",
       "      <td>11-1011.00</td>\n",
       "      <td>4.A.1.a.1</td>\n",
       "      <td>Getting Information</td>\n",
       "      <td>LV</td>\n",
       "      <td>5.35</td>\n",
       "      <td>35.0</td>\n",
       "      <td>0.23</td>\n",
       "      <td>4.89</td>\n",
       "      <td>5.81</td>\n",
       "      <td>N</td>\n",
       "      <td>N</td>\n",
       "      <td>07/2014</td>\n",
       "      <td>Incumbent</td>\n",
       "    </tr>\n",
       "    <tr>\n",
       "      <th>2</th>\n",
       "      <td>11-1011.00</td>\n",
       "      <td>4.A.1.a.2</td>\n",
       "      <td>Monitoring Processes, Materials, or Surroundings</td>\n",
       "      <td>IM</td>\n",
       "      <td>3.68</td>\n",
       "      <td>35.0</td>\n",
       "      <td>0.17</td>\n",
       "      <td>3.33</td>\n",
       "      <td>4.03</td>\n",
       "      <td>N</td>\n",
       "      <td>NaN</td>\n",
       "      <td>07/2014</td>\n",
       "      <td>Incumbent</td>\n",
       "    </tr>\n",
       "    <tr>\n",
       "      <th>3</th>\n",
       "      <td>11-1011.00</td>\n",
       "      <td>4.A.1.a.2</td>\n",
       "      <td>Monitoring Processes, Materials, or Surroundings</td>\n",
       "      <td>LV</td>\n",
       "      <td>4.76</td>\n",
       "      <td>34.0</td>\n",
       "      <td>0.27</td>\n",
       "      <td>4.22</td>\n",
       "      <td>5.30</td>\n",
       "      <td>N</td>\n",
       "      <td>N</td>\n",
       "      <td>07/2014</td>\n",
       "      <td>Incumbent</td>\n",
       "    </tr>\n",
       "    <tr>\n",
       "      <th>4</th>\n",
       "      <td>11-1011.00</td>\n",
       "      <td>4.A.1.b.1</td>\n",
       "      <td>Identifying Objects, Actions, and Events</td>\n",
       "      <td>IM</td>\n",
       "      <td>4.20</td>\n",
       "      <td>35.0</td>\n",
       "      <td>0.15</td>\n",
       "      <td>3.91</td>\n",
       "      <td>4.50</td>\n",
       "      <td>N</td>\n",
       "      <td>NaN</td>\n",
       "      <td>07/2014</td>\n",
       "      <td>Incumbent</td>\n",
       "    </tr>\n",
       "    <tr>\n",
       "      <th>...</th>\n",
       "      <td>...</td>\n",
       "      <td>...</td>\n",
       "      <td>...</td>\n",
       "      <td>...</td>\n",
       "      <td>...</td>\n",
       "      <td>...</td>\n",
       "      <td>...</td>\n",
       "      <td>...</td>\n",
       "      <td>...</td>\n",
       "      <td>...</td>\n",
       "      <td>...</td>\n",
       "      <td>...</td>\n",
       "      <td>...</td>\n",
       "    </tr>\n",
       "    <tr>\n",
       "      <th>71581</th>\n",
       "      <td>53-7121.00</td>\n",
       "      <td>4.A.4.c.1</td>\n",
       "      <td>Performing Administrative Activities</td>\n",
       "      <td>LV</td>\n",
       "      <td>2.27</td>\n",
       "      <td>27.0</td>\n",
       "      <td>0.32</td>\n",
       "      <td>1.61</td>\n",
       "      <td>2.92</td>\n",
       "      <td>N</td>\n",
       "      <td>N</td>\n",
       "      <td>08/2019</td>\n",
       "      <td>Incumbent</td>\n",
       "    </tr>\n",
       "    <tr>\n",
       "      <th>71582</th>\n",
       "      <td>53-7121.00</td>\n",
       "      <td>4.A.4.c.2</td>\n",
       "      <td>Staffing Organizational Units</td>\n",
       "      <td>IM</td>\n",
       "      <td>1.93</td>\n",
       "      <td>27.0</td>\n",
       "      <td>0.21</td>\n",
       "      <td>1.50</td>\n",
       "      <td>2.37</td>\n",
       "      <td>N</td>\n",
       "      <td>NaN</td>\n",
       "      <td>08/2019</td>\n",
       "      <td>Incumbent</td>\n",
       "    </tr>\n",
       "    <tr>\n",
       "      <th>71583</th>\n",
       "      <td>53-7121.00</td>\n",
       "      <td>4.A.4.c.2</td>\n",
       "      <td>Staffing Organizational Units</td>\n",
       "      <td>LV</td>\n",
       "      <td>1.60</td>\n",
       "      <td>27.0</td>\n",
       "      <td>0.30</td>\n",
       "      <td>0.99</td>\n",
       "      <td>2.21</td>\n",
       "      <td>N</td>\n",
       "      <td>N</td>\n",
       "      <td>08/2019</td>\n",
       "      <td>Incumbent</td>\n",
       "    </tr>\n",
       "    <tr>\n",
       "      <th>71584</th>\n",
       "      <td>53-7121.00</td>\n",
       "      <td>4.A.4.c.3</td>\n",
       "      <td>Monitoring and Controlling Resources</td>\n",
       "      <td>IM</td>\n",
       "      <td>2.56</td>\n",
       "      <td>27.0</td>\n",
       "      <td>0.26</td>\n",
       "      <td>2.03</td>\n",
       "      <td>3.09</td>\n",
       "      <td>N</td>\n",
       "      <td>NaN</td>\n",
       "      <td>08/2019</td>\n",
       "      <td>Incumbent</td>\n",
       "    </tr>\n",
       "    <tr>\n",
       "      <th>71585</th>\n",
       "      <td>53-7121.00</td>\n",
       "      <td>4.A.4.c.3</td>\n",
       "      <td>Monitoring and Controlling Resources</td>\n",
       "      <td>LV</td>\n",
       "      <td>2.64</td>\n",
       "      <td>27.0</td>\n",
       "      <td>0.34</td>\n",
       "      <td>1.96</td>\n",
       "      <td>3.33</td>\n",
       "      <td>N</td>\n",
       "      <td>N</td>\n",
       "      <td>08/2019</td>\n",
       "      <td>Incumbent</td>\n",
       "    </tr>\n",
       "  </tbody>\n",
       "</table>\n",
       "<p>71586 rows × 13 columns</p>\n",
       "</div>"
      ],
      "text/plain": [
       "      O*NET-SOC Code Element ID  \\\n",
       "0         11-1011.00  4.A.1.a.1   \n",
       "1         11-1011.00  4.A.1.a.1   \n",
       "2         11-1011.00  4.A.1.a.2   \n",
       "3         11-1011.00  4.A.1.a.2   \n",
       "4         11-1011.00  4.A.1.b.1   \n",
       "...              ...        ...   \n",
       "71581     53-7121.00  4.A.4.c.1   \n",
       "71582     53-7121.00  4.A.4.c.2   \n",
       "71583     53-7121.00  4.A.4.c.2   \n",
       "71584     53-7121.00  4.A.4.c.3   \n",
       "71585     53-7121.00  4.A.4.c.3   \n",
       "\n",
       "                                           Element Name Scale ID  Data Value  \\\n",
       "0                                   Getting Information       IM        4.72   \n",
       "1                                   Getting Information       LV        5.35   \n",
       "2      Monitoring Processes, Materials, or Surroundings       IM        3.68   \n",
       "3      Monitoring Processes, Materials, or Surroundings       LV        4.76   \n",
       "4              Identifying Objects, Actions, and Events       IM        4.20   \n",
       "...                                                 ...      ...         ...   \n",
       "71581              Performing Administrative Activities       LV        2.27   \n",
       "71582                     Staffing Organizational Units       IM        1.93   \n",
       "71583                     Staffing Organizational Units       LV        1.60   \n",
       "71584              Monitoring and Controlling Resources       IM        2.56   \n",
       "71585              Monitoring and Controlling Resources       LV        2.64   \n",
       "\n",
       "          N  Standard Error  Lower CI Bound  Upper CI Bound  \\\n",
       "0      35.0            0.13            4.46            4.98   \n",
       "1      35.0            0.23            4.89            5.81   \n",
       "2      35.0            0.17            3.33            4.03   \n",
       "3      34.0            0.27            4.22            5.30   \n",
       "4      35.0            0.15            3.91            4.50   \n",
       "...     ...             ...             ...             ...   \n",
       "71581  27.0            0.32            1.61            2.92   \n",
       "71582  27.0            0.21            1.50            2.37   \n",
       "71583  27.0            0.30            0.99            2.21   \n",
       "71584  27.0            0.26            2.03            3.09   \n",
       "71585  27.0            0.34            1.96            3.33   \n",
       "\n",
       "      Recommend Suppress Not Relevant     Date Domain Source  \n",
       "0                      N          NaN  07/2014     Incumbent  \n",
       "1                      N            N  07/2014     Incumbent  \n",
       "2                      N          NaN  07/2014     Incumbent  \n",
       "3                      N            N  07/2014     Incumbent  \n",
       "4                      N          NaN  07/2014     Incumbent  \n",
       "...                  ...          ...      ...           ...  \n",
       "71581                  N            N  08/2019     Incumbent  \n",
       "71582                  N          NaN  08/2019     Incumbent  \n",
       "71583                  N            N  08/2019     Incumbent  \n",
       "71584                  N          NaN  08/2019     Incumbent  \n",
       "71585                  N            N  08/2019     Incumbent  \n",
       "\n",
       "[71586 rows x 13 columns]"
      ]
     },
     "execution_count": 3,
     "metadata": {},
     "output_type": "execute_result"
    },
    {
     "name": "stdout",
     "output_type": "stream",
     "text": [
      "time: 22.8 ms (started: 2023-02-05 20:23:28 -08:00)\n"
     ]
    }
   ],
   "source": [
    "work_activities"
   ]
  },
  {
   "cell_type": "markdown",
   "id": "6f6d2685-9a66-4aa0-8ecb-65768c1f3056",
   "metadata": {},
   "source": [
    "The `O*NET-SOC Code` is the code for the occupation, the `Element Name` is the name of the work activity. The XLS version of the work activities file also contains the name of the occupation which is missing from the text file, but we don't need it right now.\n",
    "\n",
    "Each row of the `work_activities` dataframe contains information on the *importance* (`IM`) or the *level* (`LV`) of a given work activity for a given occupation. The importance of the activity is related to how often that activity is needed for the occupation, whereas the level indicates the degree of skill needed when employing that activity.\n",
    "\n",
    "For example, here's the first row of `work_activities`:"
   ]
  },
  {
   "cell_type": "code",
   "execution_count": 4,
   "id": "4c2565c6-ea5d-45fc-bf84-74cfc3a41876",
   "metadata": {},
   "outputs": [
    {
     "data": {
      "text/html": [
       "<div>\n",
       "<style scoped>\n",
       "    .dataframe tbody tr th:only-of-type {\n",
       "        vertical-align: middle;\n",
       "    }\n",
       "\n",
       "    .dataframe tbody tr th {\n",
       "        vertical-align: top;\n",
       "    }\n",
       "\n",
       "    .dataframe thead th {\n",
       "        text-align: right;\n",
       "    }\n",
       "</style>\n",
       "<table border=\"1\" class=\"dataframe\">\n",
       "  <thead>\n",
       "    <tr style=\"text-align: right;\">\n",
       "      <th></th>\n",
       "      <th>O*NET-SOC Code</th>\n",
       "      <th>Element Name</th>\n",
       "      <th>Scale ID</th>\n",
       "      <th>Data Value</th>\n",
       "    </tr>\n",
       "  </thead>\n",
       "  <tbody>\n",
       "    <tr>\n",
       "      <th>0</th>\n",
       "      <td>11-1011.00</td>\n",
       "      <td>Getting Information</td>\n",
       "      <td>IM</td>\n",
       "      <td>4.72</td>\n",
       "    </tr>\n",
       "  </tbody>\n",
       "</table>\n",
       "</div>"
      ],
      "text/plain": [
       "  O*NET-SOC Code         Element Name Scale ID  Data Value\n",
       "0     11-1011.00  Getting Information       IM        4.72"
      ]
     },
     "execution_count": 4,
     "metadata": {},
     "output_type": "execute_result"
    },
    {
     "name": "stdout",
     "output_type": "stream",
     "text": [
      "time: 8.38 ms (started: 2023-02-05 20:23:28 -08:00)\n"
     ]
    }
   ],
   "source": [
    "work_activities[[\"O*NET-SOC Code\", \"Element Name\", \"Scale ID\", \"Data Value\"]].iloc[\n",
    "    0:1, :\n",
    "]"
   ]
  },
  {
   "cell_type": "markdown",
   "id": "de315f24-d097-4723-ac47-b2e08d6aebb5",
   "metadata": {},
   "source": [
    "This says that for occupation `11-1011.00` (Chief Executives), the activity of \"Getting Information\" has an Importance of 4.72. The second row:"
   ]
  },
  {
   "cell_type": "code",
   "execution_count": 5,
   "id": "99918ad2-8118-4de0-b9b4-df3e1e713e99",
   "metadata": {},
   "outputs": [
    {
     "data": {
      "text/html": [
       "<div>\n",
       "<style scoped>\n",
       "    .dataframe tbody tr th:only-of-type {\n",
       "        vertical-align: middle;\n",
       "    }\n",
       "\n",
       "    .dataframe tbody tr th {\n",
       "        vertical-align: top;\n",
       "    }\n",
       "\n",
       "    .dataframe thead th {\n",
       "        text-align: right;\n",
       "    }\n",
       "</style>\n",
       "<table border=\"1\" class=\"dataframe\">\n",
       "  <thead>\n",
       "    <tr style=\"text-align: right;\">\n",
       "      <th></th>\n",
       "      <th>O*NET-SOC Code</th>\n",
       "      <th>Element Name</th>\n",
       "      <th>Scale ID</th>\n",
       "      <th>Data Value</th>\n",
       "    </tr>\n",
       "  </thead>\n",
       "  <tbody>\n",
       "    <tr>\n",
       "      <th>1</th>\n",
       "      <td>11-1011.00</td>\n",
       "      <td>Getting Information</td>\n",
       "      <td>LV</td>\n",
       "      <td>5.35</td>\n",
       "    </tr>\n",
       "  </tbody>\n",
       "</table>\n",
       "</div>"
      ],
      "text/plain": [
       "  O*NET-SOC Code         Element Name Scale ID  Data Value\n",
       "1     11-1011.00  Getting Information       LV        5.35"
      ]
     },
     "execution_count": 5,
     "metadata": {},
     "output_type": "execute_result"
    },
    {
     "name": "stdout",
     "output_type": "stream",
     "text": [
      "time: 16.7 ms (started: 2023-02-05 20:23:28 -08:00)\n"
     ]
    }
   ],
   "source": [
    "work_activities[[\"O*NET-SOC Code\", \"Element Name\", \"Scale ID\", \"Data Value\"]].iloc[\n",
    "    1:2, :\n",
    "]"
   ]
  },
  {
   "cell_type": "markdown",
   "id": "d745bba1-3142-4227-aaa0-b8d71c6ffc9f",
   "metadata": {},
   "source": [
    "says that the level of the skill needed is 5.35. You need to also be aware that the importance has a range of 1-5, and level has a range of 0-7. For more on this see <https://www.onetonline.org/help/online/scales>. There are some other descriptors relevant to the importance and level including sample size, confidence intervals, and a recommendation of whether to not use the value, but I am just going to include all the data.\n",
    "\n",
    "To get all the data for a given occupation into one row, we are going to need to `pivot` the data:"
   ]
  },
  {
   "cell_type": "code",
   "execution_count": 6,
   "id": "79b58d9d-e3d3-4454-94c5-23f44e0d51e1",
   "metadata": {},
   "outputs": [
    {
     "data": {
      "text/html": [
       "<div>\n",
       "<style scoped>\n",
       "    .dataframe tbody tr th:only-of-type {\n",
       "        vertical-align: middle;\n",
       "    }\n",
       "\n",
       "    .dataframe tbody tr th {\n",
       "        vertical-align: top;\n",
       "    }\n",
       "\n",
       "    .dataframe thead tr th {\n",
       "        text-align: left;\n",
       "    }\n",
       "\n",
       "    .dataframe thead tr:last-of-type th {\n",
       "        text-align: right;\n",
       "    }\n",
       "</style>\n",
       "<table border=\"1\" class=\"dataframe\">\n",
       "  <thead>\n",
       "    <tr>\n",
       "      <th>Element Name</th>\n",
       "      <th colspan=\"2\" halign=\"left\">Getting Information</th>\n",
       "      <th colspan=\"2\" halign=\"left\">Monitoring Processes, Materials, or Surroundings</th>\n",
       "      <th colspan=\"2\" halign=\"left\">Identifying Objects, Actions, and Events</th>\n",
       "      <th colspan=\"2\" halign=\"left\">Inspecting Equipment, Structures, or Materials</th>\n",
       "      <th colspan=\"2\" halign=\"left\">Estimating the Quantifiable Characteristics of Products, Events, or Information</th>\n",
       "      <th>...</th>\n",
       "      <th colspan=\"2\" halign=\"left\">Coaching and Developing Others</th>\n",
       "      <th colspan=\"2\" halign=\"left\">Providing Consultation and Advice to Others</th>\n",
       "      <th colspan=\"2\" halign=\"left\">Performing Administrative Activities</th>\n",
       "      <th colspan=\"2\" halign=\"left\">Staffing Organizational Units</th>\n",
       "      <th colspan=\"2\" halign=\"left\">Monitoring and Controlling Resources</th>\n",
       "    </tr>\n",
       "    <tr>\n",
       "      <th>Scale ID</th>\n",
       "      <th>IM</th>\n",
       "      <th>LV</th>\n",
       "      <th>IM</th>\n",
       "      <th>LV</th>\n",
       "      <th>IM</th>\n",
       "      <th>LV</th>\n",
       "      <th>IM</th>\n",
       "      <th>LV</th>\n",
       "      <th>IM</th>\n",
       "      <th>LV</th>\n",
       "      <th>...</th>\n",
       "      <th>IM</th>\n",
       "      <th>LV</th>\n",
       "      <th>IM</th>\n",
       "      <th>LV</th>\n",
       "      <th>IM</th>\n",
       "      <th>LV</th>\n",
       "      <th>IM</th>\n",
       "      <th>LV</th>\n",
       "      <th>IM</th>\n",
       "      <th>LV</th>\n",
       "    </tr>\n",
       "    <tr>\n",
       "      <th>O*NET-SOC Code</th>\n",
       "      <th></th>\n",
       "      <th></th>\n",
       "      <th></th>\n",
       "      <th></th>\n",
       "      <th></th>\n",
       "      <th></th>\n",
       "      <th></th>\n",
       "      <th></th>\n",
       "      <th></th>\n",
       "      <th></th>\n",
       "      <th></th>\n",
       "      <th></th>\n",
       "      <th></th>\n",
       "      <th></th>\n",
       "      <th></th>\n",
       "      <th></th>\n",
       "      <th></th>\n",
       "      <th></th>\n",
       "      <th></th>\n",
       "      <th></th>\n",
       "      <th></th>\n",
       "    </tr>\n",
       "  </thead>\n",
       "  <tbody>\n",
       "    <tr>\n",
       "      <th>11-1011.00</th>\n",
       "      <td>4.72</td>\n",
       "      <td>5.35</td>\n",
       "      <td>3.68</td>\n",
       "      <td>4.76</td>\n",
       "      <td>4.20</td>\n",
       "      <td>4.91</td>\n",
       "      <td>2.38</td>\n",
       "      <td>2.11</td>\n",
       "      <td>3.59</td>\n",
       "      <td>3.72</td>\n",
       "      <td>...</td>\n",
       "      <td>3.92</td>\n",
       "      <td>4.80</td>\n",
       "      <td>3.65</td>\n",
       "      <td>5.42</td>\n",
       "      <td>3.14</td>\n",
       "      <td>4.13</td>\n",
       "      <td>3.70</td>\n",
       "      <td>4.63</td>\n",
       "      <td>4.43</td>\n",
       "      <td>6.01</td>\n",
       "    </tr>\n",
       "    <tr>\n",
       "      <th>11-1011.03</th>\n",
       "      <td>4.78</td>\n",
       "      <td>5.37</td>\n",
       "      <td>3.48</td>\n",
       "      <td>4.07</td>\n",
       "      <td>3.85</td>\n",
       "      <td>4.54</td>\n",
       "      <td>2.11</td>\n",
       "      <td>2.37</td>\n",
       "      <td>3.54</td>\n",
       "      <td>4.35</td>\n",
       "      <td>...</td>\n",
       "      <td>3.93</td>\n",
       "      <td>4.78</td>\n",
       "      <td>3.93</td>\n",
       "      <td>5.30</td>\n",
       "      <td>3.30</td>\n",
       "      <td>3.89</td>\n",
       "      <td>3.26</td>\n",
       "      <td>4.26</td>\n",
       "      <td>3.88</td>\n",
       "      <td>4.81</td>\n",
       "    </tr>\n",
       "    <tr>\n",
       "      <th>11-1021.00</th>\n",
       "      <td>4.26</td>\n",
       "      <td>4.14</td>\n",
       "      <td>4.07</td>\n",
       "      <td>4.31</td>\n",
       "      <td>4.14</td>\n",
       "      <td>4.17</td>\n",
       "      <td>3.43</td>\n",
       "      <td>3.14</td>\n",
       "      <td>3.58</td>\n",
       "      <td>3.51</td>\n",
       "      <td>...</td>\n",
       "      <td>3.93</td>\n",
       "      <td>4.33</td>\n",
       "      <td>3.17</td>\n",
       "      <td>4.80</td>\n",
       "      <td>3.49</td>\n",
       "      <td>3.25</td>\n",
       "      <td>3.46</td>\n",
       "      <td>3.97</td>\n",
       "      <td>3.81</td>\n",
       "      <td>4.57</td>\n",
       "    </tr>\n",
       "    <tr>\n",
       "      <th>11-2011.00</th>\n",
       "      <td>4.32</td>\n",
       "      <td>4.67</td>\n",
       "      <td>2.78</td>\n",
       "      <td>3.08</td>\n",
       "      <td>3.60</td>\n",
       "      <td>3.88</td>\n",
       "      <td>1.77</td>\n",
       "      <td>1.08</td>\n",
       "      <td>2.79</td>\n",
       "      <td>2.58</td>\n",
       "      <td>...</td>\n",
       "      <td>2.62</td>\n",
       "      <td>3.28</td>\n",
       "      <td>2.31</td>\n",
       "      <td>2.52</td>\n",
       "      <td>3.11</td>\n",
       "      <td>3.65</td>\n",
       "      <td>2.29</td>\n",
       "      <td>2.31</td>\n",
       "      <td>2.52</td>\n",
       "      <td>3.08</td>\n",
       "    </tr>\n",
       "    <tr>\n",
       "      <th>11-2021.00</th>\n",
       "      <td>4.33</td>\n",
       "      <td>4.98</td>\n",
       "      <td>3.27</td>\n",
       "      <td>3.62</td>\n",
       "      <td>4.24</td>\n",
       "      <td>4.56</td>\n",
       "      <td>1.45</td>\n",
       "      <td>0.72</td>\n",
       "      <td>3.59</td>\n",
       "      <td>3.04</td>\n",
       "      <td>...</td>\n",
       "      <td>3.36</td>\n",
       "      <td>3.74</td>\n",
       "      <td>3.18</td>\n",
       "      <td>4.34</td>\n",
       "      <td>2.59</td>\n",
       "      <td>2.95</td>\n",
       "      <td>2.25</td>\n",
       "      <td>2.18</td>\n",
       "      <td>3.18</td>\n",
       "      <td>3.85</td>\n",
       "    </tr>\n",
       "    <tr>\n",
       "      <th>...</th>\n",
       "      <td>...</td>\n",
       "      <td>...</td>\n",
       "      <td>...</td>\n",
       "      <td>...</td>\n",
       "      <td>...</td>\n",
       "      <td>...</td>\n",
       "      <td>...</td>\n",
       "      <td>...</td>\n",
       "      <td>...</td>\n",
       "      <td>...</td>\n",
       "      <td>...</td>\n",
       "      <td>...</td>\n",
       "      <td>...</td>\n",
       "      <td>...</td>\n",
       "      <td>...</td>\n",
       "      <td>...</td>\n",
       "      <td>...</td>\n",
       "      <td>...</td>\n",
       "      <td>...</td>\n",
       "      <td>...</td>\n",
       "      <td>...</td>\n",
       "    </tr>\n",
       "    <tr>\n",
       "      <th>53-7071.00</th>\n",
       "      <td>4.38</td>\n",
       "      <td>3.87</td>\n",
       "      <td>4.23</td>\n",
       "      <td>4.96</td>\n",
       "      <td>4.34</td>\n",
       "      <td>4.58</td>\n",
       "      <td>4.18</td>\n",
       "      <td>4.30</td>\n",
       "      <td>3.36</td>\n",
       "      <td>2.92</td>\n",
       "      <td>...</td>\n",
       "      <td>2.98</td>\n",
       "      <td>2.76</td>\n",
       "      <td>2.42</td>\n",
       "      <td>1.97</td>\n",
       "      <td>2.75</td>\n",
       "      <td>1.96</td>\n",
       "      <td>1.84</td>\n",
       "      <td>0.70</td>\n",
       "      <td>2.99</td>\n",
       "      <td>3.11</td>\n",
       "    </tr>\n",
       "    <tr>\n",
       "      <th>53-7072.00</th>\n",
       "      <td>4.23</td>\n",
       "      <td>3.66</td>\n",
       "      <td>4.47</td>\n",
       "      <td>4.75</td>\n",
       "      <td>4.61</td>\n",
       "      <td>4.62</td>\n",
       "      <td>4.90</td>\n",
       "      <td>4.69</td>\n",
       "      <td>3.91</td>\n",
       "      <td>3.14</td>\n",
       "      <td>...</td>\n",
       "      <td>2.86</td>\n",
       "      <td>2.69</td>\n",
       "      <td>2.78</td>\n",
       "      <td>2.87</td>\n",
       "      <td>2.52</td>\n",
       "      <td>1.92</td>\n",
       "      <td>2.18</td>\n",
       "      <td>2.06</td>\n",
       "      <td>3.02</td>\n",
       "      <td>2.64</td>\n",
       "    </tr>\n",
       "    <tr>\n",
       "      <th>53-7073.00</th>\n",
       "      <td>3.54</td>\n",
       "      <td>3.45</td>\n",
       "      <td>4.11</td>\n",
       "      <td>4.50</td>\n",
       "      <td>4.06</td>\n",
       "      <td>3.98</td>\n",
       "      <td>4.34</td>\n",
       "      <td>4.21</td>\n",
       "      <td>3.69</td>\n",
       "      <td>3.32</td>\n",
       "      <td>...</td>\n",
       "      <td>3.16</td>\n",
       "      <td>3.31</td>\n",
       "      <td>2.81</td>\n",
       "      <td>2.82</td>\n",
       "      <td>2.53</td>\n",
       "      <td>2.49</td>\n",
       "      <td>1.94</td>\n",
       "      <td>1.66</td>\n",
       "      <td>3.19</td>\n",
       "      <td>2.93</td>\n",
       "    </tr>\n",
       "    <tr>\n",
       "      <th>53-7081.00</th>\n",
       "      <td>3.28</td>\n",
       "      <td>2.41</td>\n",
       "      <td>3.87</td>\n",
       "      <td>3.93</td>\n",
       "      <td>4.24</td>\n",
       "      <td>3.58</td>\n",
       "      <td>4.60</td>\n",
       "      <td>4.01</td>\n",
       "      <td>2.71</td>\n",
       "      <td>2.53</td>\n",
       "      <td>...</td>\n",
       "      <td>2.46</td>\n",
       "      <td>1.96</td>\n",
       "      <td>2.42</td>\n",
       "      <td>2.39</td>\n",
       "      <td>1.89</td>\n",
       "      <td>1.64</td>\n",
       "      <td>1.61</td>\n",
       "      <td>0.79</td>\n",
       "      <td>1.82</td>\n",
       "      <td>1.00</td>\n",
       "    </tr>\n",
       "    <tr>\n",
       "      <th>53-7121.00</th>\n",
       "      <td>4.40</td>\n",
       "      <td>4.00</td>\n",
       "      <td>4.62</td>\n",
       "      <td>5.37</td>\n",
       "      <td>3.99</td>\n",
       "      <td>4.48</td>\n",
       "      <td>4.56</td>\n",
       "      <td>4.74</td>\n",
       "      <td>3.79</td>\n",
       "      <td>4.16</td>\n",
       "      <td>...</td>\n",
       "      <td>3.07</td>\n",
       "      <td>3.28</td>\n",
       "      <td>2.72</td>\n",
       "      <td>2.40</td>\n",
       "      <td>2.54</td>\n",
       "      <td>2.27</td>\n",
       "      <td>1.93</td>\n",
       "      <td>1.60</td>\n",
       "      <td>2.56</td>\n",
       "      <td>2.64</td>\n",
       "    </tr>\n",
       "  </tbody>\n",
       "</table>\n",
       "<p>873 rows × 82 columns</p>\n",
       "</div>"
      ],
      "text/plain": [
       "Element Name   Getting Information        \\\n",
       "Scale ID                        IM    LV   \n",
       "O*NET-SOC Code                             \n",
       "11-1011.00                    4.72  5.35   \n",
       "11-1011.03                    4.78  5.37   \n",
       "11-1021.00                    4.26  4.14   \n",
       "11-2011.00                    4.32  4.67   \n",
       "11-2021.00                    4.33  4.98   \n",
       "...                            ...   ...   \n",
       "53-7071.00                    4.38  3.87   \n",
       "53-7072.00                    4.23  3.66   \n",
       "53-7073.00                    3.54  3.45   \n",
       "53-7081.00                    3.28  2.41   \n",
       "53-7121.00                    4.40  4.00   \n",
       "\n",
       "Element Name   Monitoring Processes, Materials, or Surroundings        \\\n",
       "Scale ID                                                     IM    LV   \n",
       "O*NET-SOC Code                                                          \n",
       "11-1011.00                                                 3.68  4.76   \n",
       "11-1011.03                                                 3.48  4.07   \n",
       "11-1021.00                                                 4.07  4.31   \n",
       "11-2011.00                                                 2.78  3.08   \n",
       "11-2021.00                                                 3.27  3.62   \n",
       "...                                                         ...   ...   \n",
       "53-7071.00                                                 4.23  4.96   \n",
       "53-7072.00                                                 4.47  4.75   \n",
       "53-7073.00                                                 4.11  4.50   \n",
       "53-7081.00                                                 3.87  3.93   \n",
       "53-7121.00                                                 4.62  5.37   \n",
       "\n",
       "Element Name   Identifying Objects, Actions, and Events        \\\n",
       "Scale ID                                             IM    LV   \n",
       "O*NET-SOC Code                                                  \n",
       "11-1011.00                                         4.20  4.91   \n",
       "11-1011.03                                         3.85  4.54   \n",
       "11-1021.00                                         4.14  4.17   \n",
       "11-2011.00                                         3.60  3.88   \n",
       "11-2021.00                                         4.24  4.56   \n",
       "...                                                 ...   ...   \n",
       "53-7071.00                                         4.34  4.58   \n",
       "53-7072.00                                         4.61  4.62   \n",
       "53-7073.00                                         4.06  3.98   \n",
       "53-7081.00                                         4.24  3.58   \n",
       "53-7121.00                                         3.99  4.48   \n",
       "\n",
       "Element Name   Inspecting Equipment, Structures, or Materials        \\\n",
       "Scale ID                                                   IM    LV   \n",
       "O*NET-SOC Code                                                        \n",
       "11-1011.00                                               2.38  2.11   \n",
       "11-1011.03                                               2.11  2.37   \n",
       "11-1021.00                                               3.43  3.14   \n",
       "11-2011.00                                               1.77  1.08   \n",
       "11-2021.00                                               1.45  0.72   \n",
       "...                                                       ...   ...   \n",
       "53-7071.00                                               4.18  4.30   \n",
       "53-7072.00                                               4.90  4.69   \n",
       "53-7073.00                                               4.34  4.21   \n",
       "53-7081.00                                               4.60  4.01   \n",
       "53-7121.00                                               4.56  4.74   \n",
       "\n",
       "Element Name   Estimating the Quantifiable Characteristics of Products, Events, or Information  \\\n",
       "Scale ID                                                                                    IM   \n",
       "O*NET-SOC Code                                                                                   \n",
       "11-1011.00                                                   3.59                                \n",
       "11-1011.03                                                   3.54                                \n",
       "11-1021.00                                                   3.58                                \n",
       "11-2011.00                                                   2.79                                \n",
       "11-2021.00                                                   3.59                                \n",
       "...                                                           ...                                \n",
       "53-7071.00                                                   3.36                                \n",
       "53-7072.00                                                   3.91                                \n",
       "53-7073.00                                                   3.69                                \n",
       "53-7081.00                                                   2.71                                \n",
       "53-7121.00                                                   3.79                                \n",
       "\n",
       "Element Name          ... Coaching and Developing Others        \\\n",
       "Scale ID          LV  ...                             IM    LV   \n",
       "O*NET-SOC Code        ...                                        \n",
       "11-1011.00      3.72  ...                           3.92  4.80   \n",
       "11-1011.03      4.35  ...                           3.93  4.78   \n",
       "11-1021.00      3.51  ...                           3.93  4.33   \n",
       "11-2011.00      2.58  ...                           2.62  3.28   \n",
       "11-2021.00      3.04  ...                           3.36  3.74   \n",
       "...              ...  ...                            ...   ...   \n",
       "53-7071.00      2.92  ...                           2.98  2.76   \n",
       "53-7072.00      3.14  ...                           2.86  2.69   \n",
       "53-7073.00      3.32  ...                           3.16  3.31   \n",
       "53-7081.00      2.53  ...                           2.46  1.96   \n",
       "53-7121.00      4.16  ...                           3.07  3.28   \n",
       "\n",
       "Element Name   Providing Consultation and Advice to Others        \\\n",
       "Scale ID                                                IM    LV   \n",
       "O*NET-SOC Code                                                     \n",
       "11-1011.00                                            3.65  5.42   \n",
       "11-1011.03                                            3.93  5.30   \n",
       "11-1021.00                                            3.17  4.80   \n",
       "11-2011.00                                            2.31  2.52   \n",
       "11-2021.00                                            3.18  4.34   \n",
       "...                                                    ...   ...   \n",
       "53-7071.00                                            2.42  1.97   \n",
       "53-7072.00                                            2.78  2.87   \n",
       "53-7073.00                                            2.81  2.82   \n",
       "53-7081.00                                            2.42  2.39   \n",
       "53-7121.00                                            2.72  2.40   \n",
       "\n",
       "Element Name   Performing Administrative Activities        \\\n",
       "Scale ID                                         IM    LV   \n",
       "O*NET-SOC Code                                              \n",
       "11-1011.00                                     3.14  4.13   \n",
       "11-1011.03                                     3.30  3.89   \n",
       "11-1021.00                                     3.49  3.25   \n",
       "11-2011.00                                     3.11  3.65   \n",
       "11-2021.00                                     2.59  2.95   \n",
       "...                                             ...   ...   \n",
       "53-7071.00                                     2.75  1.96   \n",
       "53-7072.00                                     2.52  1.92   \n",
       "53-7073.00                                     2.53  2.49   \n",
       "53-7081.00                                     1.89  1.64   \n",
       "53-7121.00                                     2.54  2.27   \n",
       "\n",
       "Element Name   Staffing Organizational Units        \\\n",
       "Scale ID                                  IM    LV   \n",
       "O*NET-SOC Code                                       \n",
       "11-1011.00                              3.70  4.63   \n",
       "11-1011.03                              3.26  4.26   \n",
       "11-1021.00                              3.46  3.97   \n",
       "11-2011.00                              2.29  2.31   \n",
       "11-2021.00                              2.25  2.18   \n",
       "...                                      ...   ...   \n",
       "53-7071.00                              1.84  0.70   \n",
       "53-7072.00                              2.18  2.06   \n",
       "53-7073.00                              1.94  1.66   \n",
       "53-7081.00                              1.61  0.79   \n",
       "53-7121.00                              1.93  1.60   \n",
       "\n",
       "Element Name   Monitoring and Controlling Resources        \n",
       "Scale ID                                         IM    LV  \n",
       "O*NET-SOC Code                                             \n",
       "11-1011.00                                     4.43  6.01  \n",
       "11-1011.03                                     3.88  4.81  \n",
       "11-1021.00                                     3.81  4.57  \n",
       "11-2011.00                                     2.52  3.08  \n",
       "11-2021.00                                     3.18  3.85  \n",
       "...                                             ...   ...  \n",
       "53-7071.00                                     2.99  3.11  \n",
       "53-7072.00                                     3.02  2.64  \n",
       "53-7073.00                                     3.19  2.93  \n",
       "53-7081.00                                     1.82  1.00  \n",
       "53-7121.00                                     2.56  2.64  \n",
       "\n",
       "[873 rows x 82 columns]"
      ]
     },
     "execution_count": 6,
     "metadata": {},
     "output_type": "execute_result"
    },
    {
     "name": "stdout",
     "output_type": "stream",
     "text": [
      "time: 57.9 ms (started: 2023-02-05 20:23:28 -08:00)\n"
     ]
    }
   ],
   "source": [
    "data = work_activities[\n",
    "    [\"O*NET-SOC Code\", \"Element Name\", \"Scale ID\", \"Data Value\"]\n",
    "].pivot(\n",
    "    index=\"O*NET-SOC Code\", columns=[\"Element Name\", \"Scale ID\"], values=\"Data Value\"\n",
    ")\n",
    "data"
   ]
  },
  {
   "cell_type": "markdown",
   "id": "33786798-9b54-4a88-9de4-9f434b2ae03e",
   "metadata": {},
   "source": [
    "The result of that `pivot` is a multi-level index, so I am going to flatten it by merging the activity name (e.g. `Getting Information`) with either the `LV` or `IM` name to give e.g. `Getting Information LV`:"
   ]
  },
  {
   "cell_type": "code",
   "execution_count": 7,
   "id": "4267272e-981c-46d7-8824-0c8ec2d0e041",
   "metadata": {},
   "outputs": [
    {
     "data": {
      "text/html": [
       "<div>\n",
       "<style scoped>\n",
       "    .dataframe tbody tr th:only-of-type {\n",
       "        vertical-align: middle;\n",
       "    }\n",
       "\n",
       "    .dataframe tbody tr th {\n",
       "        vertical-align: top;\n",
       "    }\n",
       "\n",
       "    .dataframe thead th {\n",
       "        text-align: right;\n",
       "    }\n",
       "</style>\n",
       "<table border=\"1\" class=\"dataframe\">\n",
       "  <thead>\n",
       "    <tr style=\"text-align: right;\">\n",
       "      <th></th>\n",
       "      <th>Getting Information IM</th>\n",
       "      <th>Getting Information LV</th>\n",
       "      <th>Monitoring Processes, Materials, or Surroundings IM</th>\n",
       "      <th>Monitoring Processes, Materials, or Surroundings LV</th>\n",
       "      <th>Identifying Objects, Actions, and Events IM</th>\n",
       "      <th>Identifying Objects, Actions, and Events LV</th>\n",
       "      <th>Inspecting Equipment, Structures, or Materials IM</th>\n",
       "      <th>Inspecting Equipment, Structures, or Materials LV</th>\n",
       "      <th>Estimating the Quantifiable Characteristics of Products, Events, or Information IM</th>\n",
       "      <th>Estimating the Quantifiable Characteristics of Products, Events, or Information LV</th>\n",
       "      <th>...</th>\n",
       "      <th>Coaching and Developing Others IM</th>\n",
       "      <th>Coaching and Developing Others LV</th>\n",
       "      <th>Providing Consultation and Advice to Others IM</th>\n",
       "      <th>Providing Consultation and Advice to Others LV</th>\n",
       "      <th>Performing Administrative Activities IM</th>\n",
       "      <th>Performing Administrative Activities LV</th>\n",
       "      <th>Staffing Organizational Units IM</th>\n",
       "      <th>Staffing Organizational Units LV</th>\n",
       "      <th>Monitoring and Controlling Resources IM</th>\n",
       "      <th>Monitoring and Controlling Resources LV</th>\n",
       "    </tr>\n",
       "    <tr>\n",
       "      <th>O*NET-SOC Code</th>\n",
       "      <th></th>\n",
       "      <th></th>\n",
       "      <th></th>\n",
       "      <th></th>\n",
       "      <th></th>\n",
       "      <th></th>\n",
       "      <th></th>\n",
       "      <th></th>\n",
       "      <th></th>\n",
       "      <th></th>\n",
       "      <th></th>\n",
       "      <th></th>\n",
       "      <th></th>\n",
       "      <th></th>\n",
       "      <th></th>\n",
       "      <th></th>\n",
       "      <th></th>\n",
       "      <th></th>\n",
       "      <th></th>\n",
       "      <th></th>\n",
       "      <th></th>\n",
       "    </tr>\n",
       "  </thead>\n",
       "  <tbody>\n",
       "    <tr>\n",
       "      <th>11-1011.00</th>\n",
       "      <td>4.72</td>\n",
       "      <td>5.35</td>\n",
       "      <td>3.68</td>\n",
       "      <td>4.76</td>\n",
       "      <td>4.20</td>\n",
       "      <td>4.91</td>\n",
       "      <td>2.38</td>\n",
       "      <td>2.11</td>\n",
       "      <td>3.59</td>\n",
       "      <td>3.72</td>\n",
       "      <td>...</td>\n",
       "      <td>3.92</td>\n",
       "      <td>4.80</td>\n",
       "      <td>3.65</td>\n",
       "      <td>5.42</td>\n",
       "      <td>3.14</td>\n",
       "      <td>4.13</td>\n",
       "      <td>3.70</td>\n",
       "      <td>4.63</td>\n",
       "      <td>4.43</td>\n",
       "      <td>6.01</td>\n",
       "    </tr>\n",
       "    <tr>\n",
       "      <th>11-1011.03</th>\n",
       "      <td>4.78</td>\n",
       "      <td>5.37</td>\n",
       "      <td>3.48</td>\n",
       "      <td>4.07</td>\n",
       "      <td>3.85</td>\n",
       "      <td>4.54</td>\n",
       "      <td>2.11</td>\n",
       "      <td>2.37</td>\n",
       "      <td>3.54</td>\n",
       "      <td>4.35</td>\n",
       "      <td>...</td>\n",
       "      <td>3.93</td>\n",
       "      <td>4.78</td>\n",
       "      <td>3.93</td>\n",
       "      <td>5.30</td>\n",
       "      <td>3.30</td>\n",
       "      <td>3.89</td>\n",
       "      <td>3.26</td>\n",
       "      <td>4.26</td>\n",
       "      <td>3.88</td>\n",
       "      <td>4.81</td>\n",
       "    </tr>\n",
       "    <tr>\n",
       "      <th>11-1021.00</th>\n",
       "      <td>4.26</td>\n",
       "      <td>4.14</td>\n",
       "      <td>4.07</td>\n",
       "      <td>4.31</td>\n",
       "      <td>4.14</td>\n",
       "      <td>4.17</td>\n",
       "      <td>3.43</td>\n",
       "      <td>3.14</td>\n",
       "      <td>3.58</td>\n",
       "      <td>3.51</td>\n",
       "      <td>...</td>\n",
       "      <td>3.93</td>\n",
       "      <td>4.33</td>\n",
       "      <td>3.17</td>\n",
       "      <td>4.80</td>\n",
       "      <td>3.49</td>\n",
       "      <td>3.25</td>\n",
       "      <td>3.46</td>\n",
       "      <td>3.97</td>\n",
       "      <td>3.81</td>\n",
       "      <td>4.57</td>\n",
       "    </tr>\n",
       "    <tr>\n",
       "      <th>11-2011.00</th>\n",
       "      <td>4.32</td>\n",
       "      <td>4.67</td>\n",
       "      <td>2.78</td>\n",
       "      <td>3.08</td>\n",
       "      <td>3.60</td>\n",
       "      <td>3.88</td>\n",
       "      <td>1.77</td>\n",
       "      <td>1.08</td>\n",
       "      <td>2.79</td>\n",
       "      <td>2.58</td>\n",
       "      <td>...</td>\n",
       "      <td>2.62</td>\n",
       "      <td>3.28</td>\n",
       "      <td>2.31</td>\n",
       "      <td>2.52</td>\n",
       "      <td>3.11</td>\n",
       "      <td>3.65</td>\n",
       "      <td>2.29</td>\n",
       "      <td>2.31</td>\n",
       "      <td>2.52</td>\n",
       "      <td>3.08</td>\n",
       "    </tr>\n",
       "    <tr>\n",
       "      <th>11-2021.00</th>\n",
       "      <td>4.33</td>\n",
       "      <td>4.98</td>\n",
       "      <td>3.27</td>\n",
       "      <td>3.62</td>\n",
       "      <td>4.24</td>\n",
       "      <td>4.56</td>\n",
       "      <td>1.45</td>\n",
       "      <td>0.72</td>\n",
       "      <td>3.59</td>\n",
       "      <td>3.04</td>\n",
       "      <td>...</td>\n",
       "      <td>3.36</td>\n",
       "      <td>3.74</td>\n",
       "      <td>3.18</td>\n",
       "      <td>4.34</td>\n",
       "      <td>2.59</td>\n",
       "      <td>2.95</td>\n",
       "      <td>2.25</td>\n",
       "      <td>2.18</td>\n",
       "      <td>3.18</td>\n",
       "      <td>3.85</td>\n",
       "    </tr>\n",
       "    <tr>\n",
       "      <th>...</th>\n",
       "      <td>...</td>\n",
       "      <td>...</td>\n",
       "      <td>...</td>\n",
       "      <td>...</td>\n",
       "      <td>...</td>\n",
       "      <td>...</td>\n",
       "      <td>...</td>\n",
       "      <td>...</td>\n",
       "      <td>...</td>\n",
       "      <td>...</td>\n",
       "      <td>...</td>\n",
       "      <td>...</td>\n",
       "      <td>...</td>\n",
       "      <td>...</td>\n",
       "      <td>...</td>\n",
       "      <td>...</td>\n",
       "      <td>...</td>\n",
       "      <td>...</td>\n",
       "      <td>...</td>\n",
       "      <td>...</td>\n",
       "      <td>...</td>\n",
       "    </tr>\n",
       "    <tr>\n",
       "      <th>53-7071.00</th>\n",
       "      <td>4.38</td>\n",
       "      <td>3.87</td>\n",
       "      <td>4.23</td>\n",
       "      <td>4.96</td>\n",
       "      <td>4.34</td>\n",
       "      <td>4.58</td>\n",
       "      <td>4.18</td>\n",
       "      <td>4.30</td>\n",
       "      <td>3.36</td>\n",
       "      <td>2.92</td>\n",
       "      <td>...</td>\n",
       "      <td>2.98</td>\n",
       "      <td>2.76</td>\n",
       "      <td>2.42</td>\n",
       "      <td>1.97</td>\n",
       "      <td>2.75</td>\n",
       "      <td>1.96</td>\n",
       "      <td>1.84</td>\n",
       "      <td>0.70</td>\n",
       "      <td>2.99</td>\n",
       "      <td>3.11</td>\n",
       "    </tr>\n",
       "    <tr>\n",
       "      <th>53-7072.00</th>\n",
       "      <td>4.23</td>\n",
       "      <td>3.66</td>\n",
       "      <td>4.47</td>\n",
       "      <td>4.75</td>\n",
       "      <td>4.61</td>\n",
       "      <td>4.62</td>\n",
       "      <td>4.90</td>\n",
       "      <td>4.69</td>\n",
       "      <td>3.91</td>\n",
       "      <td>3.14</td>\n",
       "      <td>...</td>\n",
       "      <td>2.86</td>\n",
       "      <td>2.69</td>\n",
       "      <td>2.78</td>\n",
       "      <td>2.87</td>\n",
       "      <td>2.52</td>\n",
       "      <td>1.92</td>\n",
       "      <td>2.18</td>\n",
       "      <td>2.06</td>\n",
       "      <td>3.02</td>\n",
       "      <td>2.64</td>\n",
       "    </tr>\n",
       "    <tr>\n",
       "      <th>53-7073.00</th>\n",
       "      <td>3.54</td>\n",
       "      <td>3.45</td>\n",
       "      <td>4.11</td>\n",
       "      <td>4.50</td>\n",
       "      <td>4.06</td>\n",
       "      <td>3.98</td>\n",
       "      <td>4.34</td>\n",
       "      <td>4.21</td>\n",
       "      <td>3.69</td>\n",
       "      <td>3.32</td>\n",
       "      <td>...</td>\n",
       "      <td>3.16</td>\n",
       "      <td>3.31</td>\n",
       "      <td>2.81</td>\n",
       "      <td>2.82</td>\n",
       "      <td>2.53</td>\n",
       "      <td>2.49</td>\n",
       "      <td>1.94</td>\n",
       "      <td>1.66</td>\n",
       "      <td>3.19</td>\n",
       "      <td>2.93</td>\n",
       "    </tr>\n",
       "    <tr>\n",
       "      <th>53-7081.00</th>\n",
       "      <td>3.28</td>\n",
       "      <td>2.41</td>\n",
       "      <td>3.87</td>\n",
       "      <td>3.93</td>\n",
       "      <td>4.24</td>\n",
       "      <td>3.58</td>\n",
       "      <td>4.60</td>\n",
       "      <td>4.01</td>\n",
       "      <td>2.71</td>\n",
       "      <td>2.53</td>\n",
       "      <td>...</td>\n",
       "      <td>2.46</td>\n",
       "      <td>1.96</td>\n",
       "      <td>2.42</td>\n",
       "      <td>2.39</td>\n",
       "      <td>1.89</td>\n",
       "      <td>1.64</td>\n",
       "      <td>1.61</td>\n",
       "      <td>0.79</td>\n",
       "      <td>1.82</td>\n",
       "      <td>1.00</td>\n",
       "    </tr>\n",
       "    <tr>\n",
       "      <th>53-7121.00</th>\n",
       "      <td>4.40</td>\n",
       "      <td>4.00</td>\n",
       "      <td>4.62</td>\n",
       "      <td>5.37</td>\n",
       "      <td>3.99</td>\n",
       "      <td>4.48</td>\n",
       "      <td>4.56</td>\n",
       "      <td>4.74</td>\n",
       "      <td>3.79</td>\n",
       "      <td>4.16</td>\n",
       "      <td>...</td>\n",
       "      <td>3.07</td>\n",
       "      <td>3.28</td>\n",
       "      <td>2.72</td>\n",
       "      <td>2.40</td>\n",
       "      <td>2.54</td>\n",
       "      <td>2.27</td>\n",
       "      <td>1.93</td>\n",
       "      <td>1.60</td>\n",
       "      <td>2.56</td>\n",
       "      <td>2.64</td>\n",
       "    </tr>\n",
       "  </tbody>\n",
       "</table>\n",
       "<p>873 rows × 82 columns</p>\n",
       "</div>"
      ],
      "text/plain": [
       "                Getting Information IM  Getting Information LV  \\\n",
       "O*NET-SOC Code                                                   \n",
       "11-1011.00                        4.72                    5.35   \n",
       "11-1011.03                        4.78                    5.37   \n",
       "11-1021.00                        4.26                    4.14   \n",
       "11-2011.00                        4.32                    4.67   \n",
       "11-2021.00                        4.33                    4.98   \n",
       "...                                ...                     ...   \n",
       "53-7071.00                        4.38                    3.87   \n",
       "53-7072.00                        4.23                    3.66   \n",
       "53-7073.00                        3.54                    3.45   \n",
       "53-7081.00                        3.28                    2.41   \n",
       "53-7121.00                        4.40                    4.00   \n",
       "\n",
       "                Monitoring Processes, Materials, or Surroundings IM  \\\n",
       "O*NET-SOC Code                                                        \n",
       "11-1011.00                                                   3.68     \n",
       "11-1011.03                                                   3.48     \n",
       "11-1021.00                                                   4.07     \n",
       "11-2011.00                                                   2.78     \n",
       "11-2021.00                                                   3.27     \n",
       "...                                                           ...     \n",
       "53-7071.00                                                   4.23     \n",
       "53-7072.00                                                   4.47     \n",
       "53-7073.00                                                   4.11     \n",
       "53-7081.00                                                   3.87     \n",
       "53-7121.00                                                   4.62     \n",
       "\n",
       "                Monitoring Processes, Materials, or Surroundings LV  \\\n",
       "O*NET-SOC Code                                                        \n",
       "11-1011.00                                                   4.76     \n",
       "11-1011.03                                                   4.07     \n",
       "11-1021.00                                                   4.31     \n",
       "11-2011.00                                                   3.08     \n",
       "11-2021.00                                                   3.62     \n",
       "...                                                           ...     \n",
       "53-7071.00                                                   4.96     \n",
       "53-7072.00                                                   4.75     \n",
       "53-7073.00                                                   4.50     \n",
       "53-7081.00                                                   3.93     \n",
       "53-7121.00                                                   5.37     \n",
       "\n",
       "                Identifying Objects, Actions, and Events IM  \\\n",
       "O*NET-SOC Code                                                \n",
       "11-1011.00                                             4.20   \n",
       "11-1011.03                                             3.85   \n",
       "11-1021.00                                             4.14   \n",
       "11-2011.00                                             3.60   \n",
       "11-2021.00                                             4.24   \n",
       "...                                                     ...   \n",
       "53-7071.00                                             4.34   \n",
       "53-7072.00                                             4.61   \n",
       "53-7073.00                                             4.06   \n",
       "53-7081.00                                             4.24   \n",
       "53-7121.00                                             3.99   \n",
       "\n",
       "                Identifying Objects, Actions, and Events LV  \\\n",
       "O*NET-SOC Code                                                \n",
       "11-1011.00                                             4.91   \n",
       "11-1011.03                                             4.54   \n",
       "11-1021.00                                             4.17   \n",
       "11-2011.00                                             3.88   \n",
       "11-2021.00                                             4.56   \n",
       "...                                                     ...   \n",
       "53-7071.00                                             4.58   \n",
       "53-7072.00                                             4.62   \n",
       "53-7073.00                                             3.98   \n",
       "53-7081.00                                             3.58   \n",
       "53-7121.00                                             4.48   \n",
       "\n",
       "                Inspecting Equipment, Structures, or Materials IM  \\\n",
       "O*NET-SOC Code                                                      \n",
       "11-1011.00                                                   2.38   \n",
       "11-1011.03                                                   2.11   \n",
       "11-1021.00                                                   3.43   \n",
       "11-2011.00                                                   1.77   \n",
       "11-2021.00                                                   1.45   \n",
       "...                                                           ...   \n",
       "53-7071.00                                                   4.18   \n",
       "53-7072.00                                                   4.90   \n",
       "53-7073.00                                                   4.34   \n",
       "53-7081.00                                                   4.60   \n",
       "53-7121.00                                                   4.56   \n",
       "\n",
       "                Inspecting Equipment, Structures, or Materials LV  \\\n",
       "O*NET-SOC Code                                                      \n",
       "11-1011.00                                                   2.11   \n",
       "11-1011.03                                                   2.37   \n",
       "11-1021.00                                                   3.14   \n",
       "11-2011.00                                                   1.08   \n",
       "11-2021.00                                                   0.72   \n",
       "...                                                           ...   \n",
       "53-7071.00                                                   4.30   \n",
       "53-7072.00                                                   4.69   \n",
       "53-7073.00                                                   4.21   \n",
       "53-7081.00                                                   4.01   \n",
       "53-7121.00                                                   4.74   \n",
       "\n",
       "                Estimating the Quantifiable Characteristics of Products, Events, or Information IM  \\\n",
       "O*NET-SOC Code                                                                                       \n",
       "11-1011.00                                                   3.59                                    \n",
       "11-1011.03                                                   3.54                                    \n",
       "11-1021.00                                                   3.58                                    \n",
       "11-2011.00                                                   2.79                                    \n",
       "11-2021.00                                                   3.59                                    \n",
       "...                                                           ...                                    \n",
       "53-7071.00                                                   3.36                                    \n",
       "53-7072.00                                                   3.91                                    \n",
       "53-7073.00                                                   3.69                                    \n",
       "53-7081.00                                                   2.71                                    \n",
       "53-7121.00                                                   3.79                                    \n",
       "\n",
       "                Estimating the Quantifiable Characteristics of Products, Events, or Information LV  \\\n",
       "O*NET-SOC Code                                                                                       \n",
       "11-1011.00                                                   3.72                                    \n",
       "11-1011.03                                                   4.35                                    \n",
       "11-1021.00                                                   3.51                                    \n",
       "11-2011.00                                                   2.58                                    \n",
       "11-2021.00                                                   3.04                                    \n",
       "...                                                           ...                                    \n",
       "53-7071.00                                                   2.92                                    \n",
       "53-7072.00                                                   3.14                                    \n",
       "53-7073.00                                                   3.32                                    \n",
       "53-7081.00                                                   2.53                                    \n",
       "53-7121.00                                                   4.16                                    \n",
       "\n",
       "                ...  Coaching and Developing Others IM  \\\n",
       "O*NET-SOC Code  ...                                      \n",
       "11-1011.00      ...                               3.92   \n",
       "11-1011.03      ...                               3.93   \n",
       "11-1021.00      ...                               3.93   \n",
       "11-2011.00      ...                               2.62   \n",
       "11-2021.00      ...                               3.36   \n",
       "...             ...                                ...   \n",
       "53-7071.00      ...                               2.98   \n",
       "53-7072.00      ...                               2.86   \n",
       "53-7073.00      ...                               3.16   \n",
       "53-7081.00      ...                               2.46   \n",
       "53-7121.00      ...                               3.07   \n",
       "\n",
       "                Coaching and Developing Others LV  \\\n",
       "O*NET-SOC Code                                      \n",
       "11-1011.00                                   4.80   \n",
       "11-1011.03                                   4.78   \n",
       "11-1021.00                                   4.33   \n",
       "11-2011.00                                   3.28   \n",
       "11-2021.00                                   3.74   \n",
       "...                                           ...   \n",
       "53-7071.00                                   2.76   \n",
       "53-7072.00                                   2.69   \n",
       "53-7073.00                                   3.31   \n",
       "53-7081.00                                   1.96   \n",
       "53-7121.00                                   3.28   \n",
       "\n",
       "                Providing Consultation and Advice to Others IM  \\\n",
       "O*NET-SOC Code                                                   \n",
       "11-1011.00                                                3.65   \n",
       "11-1011.03                                                3.93   \n",
       "11-1021.00                                                3.17   \n",
       "11-2011.00                                                2.31   \n",
       "11-2021.00                                                3.18   \n",
       "...                                                        ...   \n",
       "53-7071.00                                                2.42   \n",
       "53-7072.00                                                2.78   \n",
       "53-7073.00                                                2.81   \n",
       "53-7081.00                                                2.42   \n",
       "53-7121.00                                                2.72   \n",
       "\n",
       "                Providing Consultation and Advice to Others LV  \\\n",
       "O*NET-SOC Code                                                   \n",
       "11-1011.00                                                5.42   \n",
       "11-1011.03                                                5.30   \n",
       "11-1021.00                                                4.80   \n",
       "11-2011.00                                                2.52   \n",
       "11-2021.00                                                4.34   \n",
       "...                                                        ...   \n",
       "53-7071.00                                                1.97   \n",
       "53-7072.00                                                2.87   \n",
       "53-7073.00                                                2.82   \n",
       "53-7081.00                                                2.39   \n",
       "53-7121.00                                                2.40   \n",
       "\n",
       "                Performing Administrative Activities IM  \\\n",
       "O*NET-SOC Code                                            \n",
       "11-1011.00                                         3.14   \n",
       "11-1011.03                                         3.30   \n",
       "11-1021.00                                         3.49   \n",
       "11-2011.00                                         3.11   \n",
       "11-2021.00                                         2.59   \n",
       "...                                                 ...   \n",
       "53-7071.00                                         2.75   \n",
       "53-7072.00                                         2.52   \n",
       "53-7073.00                                         2.53   \n",
       "53-7081.00                                         1.89   \n",
       "53-7121.00                                         2.54   \n",
       "\n",
       "                Performing Administrative Activities LV  \\\n",
       "O*NET-SOC Code                                            \n",
       "11-1011.00                                         4.13   \n",
       "11-1011.03                                         3.89   \n",
       "11-1021.00                                         3.25   \n",
       "11-2011.00                                         3.65   \n",
       "11-2021.00                                         2.95   \n",
       "...                                                 ...   \n",
       "53-7071.00                                         1.96   \n",
       "53-7072.00                                         1.92   \n",
       "53-7073.00                                         2.49   \n",
       "53-7081.00                                         1.64   \n",
       "53-7121.00                                         2.27   \n",
       "\n",
       "                Staffing Organizational Units IM  \\\n",
       "O*NET-SOC Code                                     \n",
       "11-1011.00                                  3.70   \n",
       "11-1011.03                                  3.26   \n",
       "11-1021.00                                  3.46   \n",
       "11-2011.00                                  2.29   \n",
       "11-2021.00                                  2.25   \n",
       "...                                          ...   \n",
       "53-7071.00                                  1.84   \n",
       "53-7072.00                                  2.18   \n",
       "53-7073.00                                  1.94   \n",
       "53-7081.00                                  1.61   \n",
       "53-7121.00                                  1.93   \n",
       "\n",
       "                Staffing Organizational Units LV  \\\n",
       "O*NET-SOC Code                                     \n",
       "11-1011.00                                  4.63   \n",
       "11-1011.03                                  4.26   \n",
       "11-1021.00                                  3.97   \n",
       "11-2011.00                                  2.31   \n",
       "11-2021.00                                  2.18   \n",
       "...                                          ...   \n",
       "53-7071.00                                  0.70   \n",
       "53-7072.00                                  2.06   \n",
       "53-7073.00                                  1.66   \n",
       "53-7081.00                                  0.79   \n",
       "53-7121.00                                  1.60   \n",
       "\n",
       "                Monitoring and Controlling Resources IM  \\\n",
       "O*NET-SOC Code                                            \n",
       "11-1011.00                                         4.43   \n",
       "11-1011.03                                         3.88   \n",
       "11-1021.00                                         3.81   \n",
       "11-2011.00                                         2.52   \n",
       "11-2021.00                                         3.18   \n",
       "...                                                 ...   \n",
       "53-7071.00                                         2.99   \n",
       "53-7072.00                                         3.02   \n",
       "53-7073.00                                         3.19   \n",
       "53-7081.00                                         1.82   \n",
       "53-7121.00                                         2.56   \n",
       "\n",
       "                Monitoring and Controlling Resources LV  \n",
       "O*NET-SOC Code                                           \n",
       "11-1011.00                                         6.01  \n",
       "11-1011.03                                         4.81  \n",
       "11-1021.00                                         4.57  \n",
       "11-2011.00                                         3.08  \n",
       "11-2021.00                                         3.85  \n",
       "...                                                 ...  \n",
       "53-7071.00                                         3.11  \n",
       "53-7072.00                                         2.64  \n",
       "53-7073.00                                         2.93  \n",
       "53-7081.00                                         1.00  \n",
       "53-7121.00                                         2.64  \n",
       "\n",
       "[873 rows x 82 columns]"
      ]
     },
     "execution_count": 7,
     "metadata": {},
     "output_type": "execute_result"
    },
    {
     "name": "stdout",
     "output_type": "stream",
     "text": [
      "time: 22.9 ms (started: 2023-02-05 20:23:28 -08:00)\n"
     ]
    }
   ],
   "source": [
    "data.columns = [\" \".join(col) for col in data.columns]\n",
    "data"
   ]
  },
  {
   "cell_type": "markdown",
   "id": "46466000-07e3-4baf-9a1c-407a3613a9c1",
   "metadata": {},
   "source": [
    "The occupation title represented by the `O*NET-SOC Code` can be found in a separate text file, which we will grab now:"
   ]
  },
  {
   "cell_type": "code",
   "execution_count": 8,
   "id": "a9c4706c-d314-4fcf-9c8b-292411ab5862",
   "metadata": {},
   "outputs": [
    {
     "data": {
      "text/html": [
       "<div>\n",
       "<style scoped>\n",
       "    .dataframe tbody tr th:only-of-type {\n",
       "        vertical-align: middle;\n",
       "    }\n",
       "\n",
       "    .dataframe tbody tr th {\n",
       "        vertical-align: top;\n",
       "    }\n",
       "\n",
       "    .dataframe thead th {\n",
       "        text-align: right;\n",
       "    }\n",
       "</style>\n",
       "<table border=\"1\" class=\"dataframe\">\n",
       "  <thead>\n",
       "    <tr style=\"text-align: right;\">\n",
       "      <th></th>\n",
       "      <th>Title</th>\n",
       "      <th>Description</th>\n",
       "    </tr>\n",
       "    <tr>\n",
       "      <th>O*NET-SOC Code</th>\n",
       "      <th></th>\n",
       "      <th></th>\n",
       "    </tr>\n",
       "  </thead>\n",
       "  <tbody>\n",
       "    <tr>\n",
       "      <th>11-1011.00</th>\n",
       "      <td>Chief Executives</td>\n",
       "      <td>Determine and formulate policies and provide o...</td>\n",
       "    </tr>\n",
       "    <tr>\n",
       "      <th>11-1011.03</th>\n",
       "      <td>Chief Sustainability Officers</td>\n",
       "      <td>Communicate and coordinate with management, sh...</td>\n",
       "    </tr>\n",
       "    <tr>\n",
       "      <th>11-1021.00</th>\n",
       "      <td>General and Operations Managers</td>\n",
       "      <td>Plan, direct, or coordinate the operations of ...</td>\n",
       "    </tr>\n",
       "    <tr>\n",
       "      <th>11-1031.00</th>\n",
       "      <td>Legislators</td>\n",
       "      <td>Develop, introduce, or enact laws and statutes...</td>\n",
       "    </tr>\n",
       "    <tr>\n",
       "      <th>11-2011.00</th>\n",
       "      <td>Advertising and Promotions Managers</td>\n",
       "      <td>Plan, direct, or coordinate advertising polici...</td>\n",
       "    </tr>\n",
       "    <tr>\n",
       "      <th>...</th>\n",
       "      <td>...</td>\n",
       "      <td>...</td>\n",
       "    </tr>\n",
       "    <tr>\n",
       "      <th>55-3014.00</th>\n",
       "      <td>Artillery and Missile Crew Members</td>\n",
       "      <td>Target, fire, and maintain weapons used to des...</td>\n",
       "    </tr>\n",
       "    <tr>\n",
       "      <th>55-3015.00</th>\n",
       "      <td>Command and Control Center Specialists</td>\n",
       "      <td>Operate and monitor communications, detection,...</td>\n",
       "    </tr>\n",
       "    <tr>\n",
       "      <th>55-3016.00</th>\n",
       "      <td>Infantry</td>\n",
       "      <td>Operate weapons and equipment in ground combat...</td>\n",
       "    </tr>\n",
       "    <tr>\n",
       "      <th>55-3018.00</th>\n",
       "      <td>Special Forces</td>\n",
       "      <td>Implement unconventional operations by air, la...</td>\n",
       "    </tr>\n",
       "    <tr>\n",
       "      <th>55-3019.00</th>\n",
       "      <td>Military Enlisted Tactical Operations and Air/...</td>\n",
       "      <td>All military enlisted tactical operations and ...</td>\n",
       "    </tr>\n",
       "  </tbody>\n",
       "</table>\n",
       "<p>1016 rows × 2 columns</p>\n",
       "</div>"
      ],
      "text/plain": [
       "                                                            Title  \\\n",
       "O*NET-SOC Code                                                      \n",
       "11-1011.00                                       Chief Executives   \n",
       "11-1011.03                          Chief Sustainability Officers   \n",
       "11-1021.00                        General and Operations Managers   \n",
       "11-1031.00                                            Legislators   \n",
       "11-2011.00                    Advertising and Promotions Managers   \n",
       "...                                                           ...   \n",
       "55-3014.00                     Artillery and Missile Crew Members   \n",
       "55-3015.00                 Command and Control Center Specialists   \n",
       "55-3016.00                                               Infantry   \n",
       "55-3018.00                                         Special Forces   \n",
       "55-3019.00      Military Enlisted Tactical Operations and Air/...   \n",
       "\n",
       "                                                      Description  \n",
       "O*NET-SOC Code                                                     \n",
       "11-1011.00      Determine and formulate policies and provide o...  \n",
       "11-1011.03      Communicate and coordinate with management, sh...  \n",
       "11-1021.00      Plan, direct, or coordinate the operations of ...  \n",
       "11-1031.00      Develop, introduce, or enact laws and statutes...  \n",
       "11-2011.00      Plan, direct, or coordinate advertising polici...  \n",
       "...                                                           ...  \n",
       "55-3014.00      Target, fire, and maintain weapons used to des...  \n",
       "55-3015.00      Operate and monitor communications, detection,...  \n",
       "55-3016.00      Operate weapons and equipment in ground combat...  \n",
       "55-3018.00      Implement unconventional operations by air, la...  \n",
       "55-3019.00      All military enlisted tactical operations and ...  \n",
       "\n",
       "[1016 rows x 2 columns]"
      ]
     },
     "execution_count": 8,
     "metadata": {},
     "output_type": "execute_result"
    },
    {
     "name": "stdout",
     "output_type": "stream",
     "text": [
      "time: 507 ms (started: 2023-02-05 20:23:28 -08:00)\n"
     ]
    }
   ],
   "source": [
    "occupation_data = pd.read_csv(\n",
    "    \"https://www.onetcenter.org/dl_files/database/db_27_1_text/Occupation%20Data.txt\",\n",
    "    sep=\"\\t\",\n",
    ")\n",
    "occupation_data = occupation_data.set_index(\"O*NET-SOC Code\")\n",
    "occupation_data"
   ]
  },
  {
   "cell_type": "markdown",
   "id": "8eb2e43f-a7fa-42a3-853a-c6954934baf1",
   "metadata": {},
   "source": [
    "There are also other taxonomic details present in the code, which represents a hierarchy. For exact details of what goes into the 2019 `O*NET-SOC Code` see <https://www.onetcenter.org/taxonomy/2019/structure.html>. Apart from wanting the specific occupation encoded by the full code, I will also extract the \"major\" group (represented by the first two numbers of the code before the dash), and the \"minor\" groups, which are indicated by the two digits after the dash (in combination with the major group). It represents a hierarchy of all the different job titles. For example, `11-1011.00`, the `Chief Executives`, are part of the `11` major group (Management Occupations) and the `10` minor group (Top Executives)."
   ]
  },
  {
   "cell_type": "code",
   "execution_count": 9,
   "id": "ae0e1856-35c2-4498-bc0b-a7fcc4364cbc",
   "metadata": {},
   "outputs": [
    {
     "name": "stdout",
     "output_type": "stream",
     "text": [
      "time: 23.6 ms (started: 2023-02-05 20:23:28 -08:00)\n"
     ]
    }
   ],
   "source": [
    "major_group_codes = {\n",
    "    \"11\": \"Management Occupations\",\n",
    "    \"13\": \"Business and Financial Operations Occupations\",\n",
    "    \"15\": \"Computer and Mathematical Occupations\",\n",
    "    \"17\": \"Architecture and Engineering Occupations\",\n",
    "    \"19\": \"Life, Physical, and Social Science Occupations\",\n",
    "    \"21\": \"Community and Social Service Occupations\",\n",
    "    \"23\": \"Legal Occupations\",\n",
    "    \"25\": \"Educational Instruction and Library Occupations\",\n",
    "    \"27\": \"Arts, Design, Entertainment, Sports, and Media Occupations\",\n",
    "    \"29\": \"Healthcare Practitioners and Technical Occupations\",\n",
    "    \"31\": \"Healthcare Support Occupations\",\n",
    "    \"33\": \"Protective Service Occupations\",\n",
    "    \"35\": \"Food Preparation and Serving Related Occupations\",\n",
    "    \"37\": \"Building and Grounds Cleaning and Maintenance Occupations\",\n",
    "    \"39\": \"Personal Care and Service Occupations\",\n",
    "    \"41\": \"Sales and Related Occupations\",\n",
    "    \"43\": \"Office and Administrative Support Occupations\",\n",
    "    \"45\": \"Farming, Fishing, and Forestry Occupations\",\n",
    "    \"47\": \"Construction and Extraction Occupations\",\n",
    "    \"49\": \"Installation, Maintenance, and Repair Occupations\",\n",
    "    \"51\": \"Production Occupations\",\n",
    "    \"53\": \"Transportation and Material Moving Occupations\",\n",
    "    \"55\": \"Military Specific Occupations\",\n",
    "}\n",
    "minor_group_codes = {\n",
    "    \"11-10\": \"Top Executives\",\n",
    "    \"11-20\": \"Advertising, Marketing, Promotions, Public Relations, and Sales Managers\",\n",
    "    \"11-30\": \"Operations Specialties Managers\",\n",
    "    \"11-90\": \"Other Management Occupations\",\n",
    "    \"13-10\": \"Business Operations Specialists\",\n",
    "    \"13-20\": \"Financial Specialists\",\n",
    "    \"15-12\": \"Computer Occupations\",\n",
    "    \"15-20\": \"Mathematical Science Occupations\",\n",
    "    \"17-10\": \"Architects, Surveyors, and Cartographers\",\n",
    "    \"17-20\": \"Engineers\",\n",
    "    \"17-30\": \"Drafters, Engineering Technicians, and Mapping Technicians\",\n",
    "    \"19-10\": \"Life Scientists\",\n",
    "    \"19-20\": \"Physical Scientists\",\n",
    "    \"19-30\": \"Social Scientists and Related Workers\",\n",
    "    \"19-40\": \"Life, Physical, and Social Science Technicians\",\n",
    "    \"19-50\": \"Occupational Health and Safety Specialists and Technicians\",\n",
    "    \"21-10\": \"Counselors, Social Workers, and Other Community and Social Service Specialists\",\n",
    "    \"21-20\": \"Religious Workers\",\n",
    "    \"23-10\": \"Lawyers, Judges, and Related Workers\",\n",
    "    \"23-20\": \"Legal Support Workers\",\n",
    "    \"25-10\": \"Postsecondary Teachers\",\n",
    "    \"25-20\": \"Preschool, Elementary, Middle, Secondary, and Special Education Teachers\",\n",
    "    \"25-30\": \"Other Teachers and Instructors\",\n",
    "    \"25-40\": \"Librarians, Curators, and Archivists\",\n",
    "    \"25-90\": \"Other Educational Instruction and Library Occupations\",\n",
    "    \"27-10\": \"Art and Design Workers\",\n",
    "    \"27-20\": \"Entertainers and Performers, Sports and Related Workers\",\n",
    "    \"27-30\": \"Media and Communication Workers\",\n",
    "    \"27-40\": \"Media and Communication Equipment Workers\",\n",
    "    \"29-10\": \"Healthcare Diagnosing or Treating Practitioners\",\n",
    "    \"29-20\": \"Health Technologists and Technicians\",\n",
    "    \"29-90\": \"Other Healthcare Practitioners and Technical Occupations\",\n",
    "    \"31-11\": \"Home Health and Personal Care Aides; and Nursing Assistants, Orderlies, and Psychiatric Aides\",\n",
    "    \"31-20\": \"Occupational Therapy and Physical Therapist Assistants and Aides\",\n",
    "    \"31-90\": \"Other Healthcare Support Occupations\",\n",
    "    \"33-10\": \"Supervisors of Protective Service Workers\",\n",
    "    \"33-20\": \"Firefighting and Prevention Workers\",\n",
    "    \"33-30\": \"Law Enforcement Workers\",\n",
    "    \"33-90\": \"Other Protective Service Workers\",\n",
    "    \"35-10\": \"Supervisors of Food Preparation and Serving Workers\",\n",
    "    \"35-20\": \"Cooks and Food Preparation Workers\",\n",
    "    \"35-30\": \"Food and Beverage Serving Workers\",\n",
    "    \"35-90\": \"Other Food Preparation and Serving Related Workers\",\n",
    "    \"37-10\": \"Supervisors of Building and Grounds Cleaning and Maintenance Workers\",\n",
    "    \"37-20\": \"Building Cleaning and Pest Control Workers\",\n",
    "    \"37-30\": \"Grounds Maintenance Workers\",\n",
    "    \"39-10\": \"Supervisors of Personal Care and Service Workers\",\n",
    "    \"39-20\": \"Animal Care and Service Workers\",\n",
    "    \"39-30\": \"Entertainment Attendants and Related Workers\",\n",
    "    \"39-40\": \"Funeral Service Workers\",\n",
    "    \"39-50\": \"Personal Appearance Workers\",\n",
    "    \"39-60\": \"Baggage Porters, Bellhops, and Concierges\",\n",
    "    \"39-70\": \"Tour and Travel Guides\",\n",
    "    \"39-90\": \"Other Personal Care and Service Workers\",\n",
    "    \"41-10\": \"Supervisors of Sales Workers\",\n",
    "    \"41-20\": \"Retail Sales Workers\",\n",
    "    \"41-30\": \"Sales Representatives, Services\",\n",
    "    \"41-40\": \"Sales Representatives, Wholesale and Manufacturing\",\n",
    "    \"41-90\": \"Other Sales and Related Workers\",\n",
    "    \"43-10\": \"Supervisors of Office and Administrative Support Workers\",\n",
    "    \"43-20\": \"Communications Equipment Operators\",\n",
    "    \"43-30\": \"Financial Clerks\",\n",
    "    \"43-40\": \"Information and Record Clerks\",\n",
    "    \"43-50\": \"Material Recording, Scheduling, Dispatching, and Distributing Workers\",\n",
    "    \"43-60\": \"Secretaries and Administrative Assistants\",\n",
    "    \"43-90\": \"Other Office and Administrative Support Workers\",\n",
    "    \"45-10\": \"Supervisors of Farming, Fishing, and Forestry Workers\",\n",
    "    \"45-20\": \"Agricultural Workers\",\n",
    "    \"45-30\": \"Fishing and Hunting Workers\",\n",
    "    \"45-40\": \"Forest, Conservation, and Logging Workers\",\n",
    "    \"47-10\": \"Supervisors of Construction and Extraction Workers\",\n",
    "    \"47-20\": \"Construction Trades Workers\",\n",
    "    \"47-30\": \"Helpers, Construction Trades\",\n",
    "    \"47-40\": \"Other Construction and Related Workers\",\n",
    "    \"47-50\": \"Extraction Workers\",\n",
    "    \"49-10\": \"Supervisors of Installation, Maintenance, and Repair Workers\",\n",
    "    \"49-20\": \"Electrical and Electronic Equipment Mechanics, Installers, and Repairers\",\n",
    "    \"49-30\": \"Vehicle and Mobile Equipment Mechanics, Installers, and Repairers\",\n",
    "    \"49-90\": \"Other Installation, Maintenance, and Repair Occupations\",\n",
    "    \"51-10\": \"Supervisors of Production Workers\",\n",
    "    \"51-20\": \"Assemblers and Fabricators\",\n",
    "    \"51-30\": \"Food Processing Workers\",\n",
    "    \"51-40\": \"Metal Workers and Plastic Workers\",\n",
    "    \"51-51\": \"Printing Workers\",\n",
    "    \"51-60\": \"Textile, Apparel, and Furnishings Workers\",\n",
    "    \"51-70\": \"Woodworkers\",\n",
    "    \"51-80\": \"Plant and System Operators\",\n",
    "    \"51-90\": \"Other Production Occupations\",\n",
    "    \"53-10\": \"Supervisors of Transportation and Material Moving Workers\",\n",
    "    \"53-20\": \"Air Transportation Workers\",\n",
    "    \"53-30\": \"Motor Vehicle Operators\",\n",
    "    \"53-40\": \"Rail Transportation Workers\",\n",
    "    \"53-50\": \"Water Transportation Workers\",\n",
    "    \"53-60\": \"Other Transportation Workers\",\n",
    "    \"53-70\": \"Material Moving Workers\",\n",
    "    \"55-10\": \"Military Officer Special and Tactical Operations Leaders\",\n",
    "    \"55-20\": \"First-Line Enlisted Military Supervisors\",\n",
    "    \"55-30\": \"Military Enlisted Tactical Operations and Air/Weapons Specialists and Crew Members\",\n",
    "}"
   ]
  },
  {
   "cell_type": "markdown",
   "id": "5a1e5a52-35f1-490b-a9c6-92268bfd894a",
   "metadata": {},
   "source": [
    "Either I don't understand how the minor groups are calculated or not all occupations have a minor group, e.g. `11-3111.00` refers to `Compensation and Benefits Managers` but there isn't a `11-31` minor group. So we'll just set those to `None`:"
   ]
  },
  {
   "cell_type": "code",
   "execution_count": 10,
   "id": "16226480-0880-4d77-9c1c-70b1e5cc7236",
   "metadata": {},
   "outputs": [
    {
     "name": "stdout",
     "output_type": "stream",
     "text": [
      "time: 3.19 ms (started: 2023-02-05 20:23:28 -08:00)\n"
     ]
    }
   ],
   "source": [
    "occupation_data[\"Minor Group\"] = occupation_data.index.to_series().apply(\n",
    "    lambda x: minor_group_codes.get(x[:5], \"None\")\n",
    ")"
   ]
  },
  {
   "cell_type": "code",
   "execution_count": 11,
   "id": "a4ee4419-6446-4512-a4c0-60682f7a23cd",
   "metadata": {},
   "outputs": [
    {
     "name": "stdout",
     "output_type": "stream",
     "text": [
      "time: 4.99 ms (started: 2023-02-05 20:23:28 -08:00)\n"
     ]
    }
   ],
   "source": [
    "occupation_data[\"Major Group\"] = occupation_data.index.to_series().apply(\n",
    "    lambda x: major_group_codes[x[:2]]\n",
    ")"
   ]
  },
  {
   "cell_type": "markdown",
   "id": "9c478f5e-e16b-4c8c-a346-2f316c3db992",
   "metadata": {},
   "source": [
    "## Pipeline"
   ]
  },
  {
   "cell_type": "code",
   "execution_count": 12,
   "id": "860d35dd-ac9d-4130-8c0a-8ab7ba9632ac",
   "metadata": {},
   "outputs": [
    {
     "data": {
      "text/html": [
       "<pre style=\"white-space:pre;overflow-x:auto;line-height:normal;font-family:Menlo,'DejaVu Sans Mono',consolas,'Courier New',monospace\"><span style=\"color: #7fbfbf; text-decoration-color: #7fbfbf\">[20:23:32] </span><span style=\"color: #000080; text-decoration-color: #000080\">INFO    </span> Requesting one extra neighbor to account for self-neighbor                      <a href=\"file:///home/james/dev/drnb/src/drnb/neighbors/__init__.py\" target=\"_blank\"><span style=\"color: #7f7f7f; text-decoration-color: #7f7f7f\">__init__.py</span></a><span style=\"color: #7f7f7f; text-decoration-color: #7f7f7f\">:</span><a href=\"file:///home/james/dev/drnb/src/drnb/neighbors/__init__.py#560\" target=\"_blank\"><span style=\"color: #7f7f7f; text-decoration-color: #7f7f7f\">560</span></a>\n",
       "</pre>\n"
      ],
      "text/plain": [
       "\u001b[2;36m[20:23:32]\u001b[0m\u001b[2;36m \u001b[0m\u001b[34mINFO    \u001b[0m Requesting one extra neighbor to account for self-neighbor                      \u001b]8;id=377091;file:///home/james/dev/drnb/src/drnb/neighbors/__init__.py\u001b\\\u001b[2m__init__.py\u001b[0m\u001b]8;;\u001b\\\u001b[2m:\u001b[0m\u001b]8;id=639782;file:///home/james/dev/drnb/src/drnb/neighbors/__init__.py#560\u001b\\\u001b[2m560\u001b[0m\u001b]8;;\u001b\\\n"
      ]
     },
     "metadata": {},
     "output_type": "display_data"
    },
    {
     "data": {
      "text/html": [
       "<pre style=\"white-space:pre;overflow-x:auto;line-height:normal;font-family:Menlo,'DejaVu Sans Mono',consolas,'Courier New',monospace\"><span style=\"color: #7fbfbf; text-decoration-color: #7fbfbf\">           </span><span style=\"color: #000080; text-decoration-color: #000080\">INFO    </span> Initial data shape: <span style=\"font-weight: bold\">(</span><span style=\"color: #008080; text-decoration-color: #008080; font-weight: bold\">873</span>, <span style=\"color: #008080; text-decoration-color: #008080; font-weight: bold\">82</span><span style=\"font-weight: bold\">)</span>                                                    <a href=\"file:///home/james/dev/drnb/src/drnb/io/pipeline.py\" target=\"_blank\"><span style=\"color: #7f7f7f; text-decoration-color: #7f7f7f\">pipeline.py</span></a><span style=\"color: #7f7f7f; text-decoration-color: #7f7f7f\">:</span><a href=\"file:///home/james/dev/drnb/src/drnb/io/pipeline.py#75\" target=\"_blank\"><span style=\"color: #7f7f7f; text-decoration-color: #7f7f7f\">75</span></a>\n",
       "</pre>\n"
      ],
      "text/plain": [
       "\u001b[2;36m          \u001b[0m\u001b[2;36m \u001b[0m\u001b[34mINFO    \u001b[0m Initial data shape: \u001b[1m(\u001b[0m\u001b[1;36m873\u001b[0m, \u001b[1;36m82\u001b[0m\u001b[1m)\u001b[0m                                                    \u001b]8;id=654380;file:///home/james/dev/drnb/src/drnb/io/pipeline.py\u001b\\\u001b[2mpipeline.py\u001b[0m\u001b]8;;\u001b\\\u001b[2m:\u001b[0m\u001b]8;id=52225;file:///home/james/dev/drnb/src/drnb/io/pipeline.py#75\u001b\\\u001b[2m75\u001b[0m\u001b]8;;\u001b\\\n"
      ]
     },
     "metadata": {},
     "output_type": "display_data"
    },
    {
     "data": {
      "text/html": [
       "<pre style=\"white-space:pre;overflow-x:auto;line-height:normal;font-family:Menlo,'DejaVu Sans Mono',consolas,'Courier New',monospace\"><span style=\"color: #7fbfbf; text-decoration-color: #7fbfbf\">           </span><span style=\"color: #000080; text-decoration-color: #000080\">INFO    </span> Keeping all columns                                                            <a href=\"file:///home/james/dev/drnb/src/drnb/preprocess.py\" target=\"_blank\"><span style=\"color: #7f7f7f; text-decoration-color: #7f7f7f\">preprocess.py</span></a><span style=\"color: #7f7f7f; text-decoration-color: #7f7f7f\">:</span><a href=\"file:///home/james/dev/drnb/src/drnb/preprocess.py#67\" target=\"_blank\"><span style=\"color: #7f7f7f; text-decoration-color: #7f7f7f\">67</span></a>\n",
       "</pre>\n"
      ],
      "text/plain": [
       "\u001b[2;36m          \u001b[0m\u001b[2;36m \u001b[0m\u001b[34mINFO    \u001b[0m Keeping all columns                                                            \u001b]8;id=20146;file:///home/james/dev/drnb/src/drnb/preprocess.py\u001b\\\u001b[2mpreprocess.py\u001b[0m\u001b]8;;\u001b\\\u001b[2m:\u001b[0m\u001b]8;id=122987;file:///home/james/dev/drnb/src/drnb/preprocess.py#67\u001b\\\u001b[2m67\u001b[0m\u001b]8;;\u001b\\\n"
      ]
     },
     "metadata": {},
     "output_type": "display_data"
    },
    {
     "data": {
      "text/html": [
       "<pre style=\"white-space:pre;overflow-x:auto;line-height:normal;font-family:Menlo,'DejaVu Sans Mono',consolas,'Courier New',monospace\"><span style=\"color: #7fbfbf; text-decoration-color: #7fbfbf\">           </span><span style=\"color: #000080; text-decoration-color: #000080\">INFO    </span> Data shape after filtering columns: <span style=\"font-weight: bold\">(</span><span style=\"color: #008080; text-decoration-color: #008080; font-weight: bold\">873</span>, <span style=\"color: #008080; text-decoration-color: #008080; font-weight: bold\">82</span><span style=\"font-weight: bold\">)</span>                                   <a href=\"file:///home/james/dev/drnb/src/drnb/io/pipeline.py\" target=\"_blank\"><span style=\"color: #7f7f7f; text-decoration-color: #7f7f7f\">pipeline.py</span></a><span style=\"color: #7f7f7f; text-decoration-color: #7f7f7f\">:</span><a href=\"file:///home/james/dev/drnb/src/drnb/io/pipeline.py#146\" target=\"_blank\"><span style=\"color: #7f7f7f; text-decoration-color: #7f7f7f\">146</span></a>\n",
       "</pre>\n"
      ],
      "text/plain": [
       "\u001b[2;36m          \u001b[0m\u001b[2;36m \u001b[0m\u001b[34mINFO    \u001b[0m Data shape after filtering columns: \u001b[1m(\u001b[0m\u001b[1;36m873\u001b[0m, \u001b[1;36m82\u001b[0m\u001b[1m)\u001b[0m                                   \u001b]8;id=736677;file:///home/james/dev/drnb/src/drnb/io/pipeline.py\u001b\\\u001b[2mpipeline.py\u001b[0m\u001b]8;;\u001b\\\u001b[2m:\u001b[0m\u001b]8;id=233242;file:///home/james/dev/drnb/src/drnb/io/pipeline.py#146\u001b\\\u001b[2m146\u001b[0m\u001b]8;;\u001b\\\n"
      ]
     },
     "metadata": {},
     "output_type": "display_data"
    },
    {
     "data": {
      "text/html": [
       "<pre style=\"white-space:pre;overflow-x:auto;line-height:normal;font-family:Menlo,'DejaVu Sans Mono',consolas,'Courier New',monospace\"><span style=\"color: #7fbfbf; text-decoration-color: #7fbfbf\">           </span><span style=\"color: #000080; text-decoration-color: #000080\">INFO    </span> Removing rows with NAs                                                          <a href=\"file:///home/james/dev/drnb/src/drnb/io/pipeline.py\" target=\"_blank\"><span style=\"color: #7f7f7f; text-decoration-color: #7f7f7f\">pipeline.py</span></a><span style=\"color: #7f7f7f; text-decoration-color: #7f7f7f\">:</span><a href=\"file:///home/james/dev/drnb/src/drnb/io/pipeline.py#130\" target=\"_blank\"><span style=\"color: #7f7f7f; text-decoration-color: #7f7f7f\">130</span></a>\n",
       "</pre>\n"
      ],
      "text/plain": [
       "\u001b[2;36m          \u001b[0m\u001b[2;36m \u001b[0m\u001b[34mINFO    \u001b[0m Removing rows with NAs                                                          \u001b]8;id=535896;file:///home/james/dev/drnb/src/drnb/io/pipeline.py\u001b\\\u001b[2mpipeline.py\u001b[0m\u001b]8;;\u001b\\\u001b[2m:\u001b[0m\u001b]8;id=571583;file:///home/james/dev/drnb/src/drnb/io/pipeline.py#130\u001b\\\u001b[2m130\u001b[0m\u001b]8;;\u001b\\\n"
      ]
     },
     "metadata": {},
     "output_type": "display_data"
    },
    {
     "data": {
      "text/html": [
       "<pre style=\"white-space:pre;overflow-x:auto;line-height:normal;font-family:Menlo,'DejaVu Sans Mono',consolas,'Courier New',monospace\"><span style=\"color: #7fbfbf; text-decoration-color: #7fbfbf\">           </span><span style=\"color: #000080; text-decoration-color: #000080\">INFO    </span> Data shape after filtering NAs: <span style=\"font-weight: bold\">(</span><span style=\"color: #008080; text-decoration-color: #008080; font-weight: bold\">873</span>, <span style=\"color: #008080; text-decoration-color: #008080; font-weight: bold\">82</span><span style=\"font-weight: bold\">)</span>                                       <a href=\"file:///home/james/dev/drnb/src/drnb/io/pipeline.py\" target=\"_blank\"><span style=\"color: #7f7f7f; text-decoration-color: #7f7f7f\">pipeline.py</span></a><span style=\"color: #7f7f7f; text-decoration-color: #7f7f7f\">:</span><a href=\"file:///home/james/dev/drnb/src/drnb/io/pipeline.py#141\" target=\"_blank\"><span style=\"color: #7f7f7f; text-decoration-color: #7f7f7f\">141</span></a>\n",
       "</pre>\n"
      ],
      "text/plain": [
       "\u001b[2;36m          \u001b[0m\u001b[2;36m \u001b[0m\u001b[34mINFO    \u001b[0m Data shape after filtering NAs: \u001b[1m(\u001b[0m\u001b[1;36m873\u001b[0m, \u001b[1;36m82\u001b[0m\u001b[1m)\u001b[0m                                       \u001b]8;id=22807;file:///home/james/dev/drnb/src/drnb/io/pipeline.py\u001b\\\u001b[2mpipeline.py\u001b[0m\u001b]8;;\u001b\\\u001b[2m:\u001b[0m\u001b]8;id=699701;file:///home/james/dev/drnb/src/drnb/io/pipeline.py#141\u001b\\\u001b[2m141\u001b[0m\u001b]8;;\u001b\\\n"
      ]
     },
     "metadata": {},
     "output_type": "display_data"
    },
    {
     "data": {
      "text/html": [
       "<pre style=\"white-space:pre;overflow-x:auto;line-height:normal;font-family:Menlo,'DejaVu Sans Mono',consolas,'Courier New',monospace\"><span style=\"color: #7fbfbf; text-decoration-color: #7fbfbf\">           </span><span style=\"color: #000080; text-decoration-color: #000080\">INFO    </span> Checked for duplicates: found <span style=\"color: #008080; text-decoration-color: #008080; font-weight: bold\">0</span>                                                 <a href=\"file:///home/james/dev/drnb/src/drnb/io/pipeline.py\" target=\"_blank\"><span style=\"color: #7f7f7f; text-decoration-color: #7f7f7f\">pipeline.py</span></a><span style=\"color: #7f7f7f; text-decoration-color: #7f7f7f\">:</span><a href=\"file:///home/james/dev/drnb/src/drnb/io/pipeline.py#153\" target=\"_blank\"><span style=\"color: #7f7f7f; text-decoration-color: #7f7f7f\">153</span></a>\n",
       "</pre>\n"
      ],
      "text/plain": [
       "\u001b[2;36m          \u001b[0m\u001b[2;36m \u001b[0m\u001b[34mINFO    \u001b[0m Checked for duplicates: found \u001b[1;36m0\u001b[0m                                                 \u001b]8;id=550234;file:///home/james/dev/drnb/src/drnb/io/pipeline.py\u001b\\\u001b[2mpipeline.py\u001b[0m\u001b]8;;\u001b\\\u001b[2m:\u001b[0m\u001b]8;id=241258;file:///home/james/dev/drnb/src/drnb/io/pipeline.py#153\u001b\\\u001b[2m153\u001b[0m\u001b]8;;\u001b\\\n"
      ]
     },
     "metadata": {},
     "output_type": "display_data"
    },
    {
     "data": {
      "text/html": [
       "<pre style=\"white-space:pre;overflow-x:auto;line-height:normal;font-family:Menlo,'DejaVu Sans Mono',consolas,'Courier New',monospace\"><span style=\"color: #7fbfbf; text-decoration-color: #7fbfbf\">           </span><span style=\"color: #000080; text-decoration-color: #000080\">INFO    </span> Z-Scaling                                                                      <a href=\"file:///home/james/dev/drnb/src/drnb/preprocess.py\" target=\"_blank\"><span style=\"color: #7f7f7f; text-decoration-color: #7f7f7f\">preprocess.py</span></a><span style=\"color: #7f7f7f; text-decoration-color: #7f7f7f\">:</span><a href=\"file:///home/james/dev/drnb/src/drnb/preprocess.py#32\" target=\"_blank\"><span style=\"color: #7f7f7f; text-decoration-color: #7f7f7f\">32</span></a>\n",
       "</pre>\n"
      ],
      "text/plain": [
       "\u001b[2;36m          \u001b[0m\u001b[2;36m \u001b[0m\u001b[34mINFO    \u001b[0m Z-Scaling                                                                      \u001b]8;id=230566;file:///home/james/dev/drnb/src/drnb/preprocess.py\u001b\\\u001b[2mpreprocess.py\u001b[0m\u001b]8;;\u001b\\\u001b[2m:\u001b[0m\u001b]8;id=853048;file:///home/james/dev/drnb/src/drnb/preprocess.py#32\u001b\\\u001b[2m32\u001b[0m\u001b]8;;\u001b\\\n"
      ]
     },
     "metadata": {},
     "output_type": "display_data"
    },
    {
     "data": {
      "text/html": [
       "<pre style=\"white-space:pre;overflow-x:auto;line-height:normal;font-family:Menlo,'DejaVu Sans Mono',consolas,'Courier New',monospace\"><span style=\"color: #7fbfbf; text-decoration-color: #7fbfbf\">           </span><span style=\"color: #000080; text-decoration-color: #000080\">INFO    </span> Converting to numpy with <span style=\"font-weight: bold\">{</span><span style=\"color: #008000; text-decoration-color: #008000\">'dtype'</span>: <span style=\"color: #008000; text-decoration-color: #008000\">'float32'</span>, <span style=\"color: #008000; text-decoration-color: #008000\">'layout'</span>: <span style=\"color: #008000; text-decoration-color: #008000\">'c'</span><span style=\"font-weight: bold\">}</span>                    <a href=\"file:///home/james/dev/drnb/src/drnb/io/pipeline.py\" target=\"_blank\"><span style=\"color: #7f7f7f; text-decoration-color: #7f7f7f\">pipeline.py</span></a><span style=\"color: #7f7f7f; text-decoration-color: #7f7f7f\">:</span><a href=\"file:///home/james/dev/drnb/src/drnb/io/pipeline.py#158\" target=\"_blank\"><span style=\"color: #7f7f7f; text-decoration-color: #7f7f7f\">158</span></a>\n",
       "</pre>\n"
      ],
      "text/plain": [
       "\u001b[2;36m          \u001b[0m\u001b[2;36m \u001b[0m\u001b[34mINFO    \u001b[0m Converting to numpy with \u001b[1m{\u001b[0m\u001b[32m'dtype'\u001b[0m: \u001b[32m'float32'\u001b[0m, \u001b[32m'layout'\u001b[0m: \u001b[32m'c'\u001b[0m\u001b[1m}\u001b[0m                    \u001b]8;id=84731;file:///home/james/dev/drnb/src/drnb/io/pipeline.py\u001b\\\u001b[2mpipeline.py\u001b[0m\u001b]8;;\u001b\\\u001b[2m:\u001b[0m\u001b]8;id=997998;file:///home/james/dev/drnb/src/drnb/io/pipeline.py#158\u001b\\\u001b[2m158\u001b[0m\u001b]8;;\u001b\\\n"
      ]
     },
     "metadata": {},
     "output_type": "display_data"
    },
    {
     "data": {
      "text/html": [
       "<pre style=\"white-space:pre;overflow-x:auto;line-height:normal;font-family:Menlo,'DejaVu Sans Mono',consolas,'Courier New',monospace\"><span style=\"color: #7fbfbf; text-decoration-color: #7fbfbf\">           </span><span style=\"color: #000080; text-decoration-color: #000080\">INFO    </span> Writing data for onet271                                                        <a href=\"file:///home/james/dev/drnb/src/drnb/io/pipeline.py\" target=\"_blank\"><span style=\"color: #7f7f7f; text-decoration-color: #7f7f7f\">pipeline.py</span></a><span style=\"color: #7f7f7f; text-decoration-color: #7f7f7f\">:</span><a href=\"file:///home/james/dev/drnb/src/drnb/io/pipeline.py#226\" target=\"_blank\"><span style=\"color: #7f7f7f; text-decoration-color: #7f7f7f\">226</span></a>\n",
       "</pre>\n"
      ],
      "text/plain": [
       "\u001b[2;36m          \u001b[0m\u001b[2;36m \u001b[0m\u001b[34mINFO    \u001b[0m Writing data for onet271                                                        \u001b]8;id=164455;file:///home/james/dev/drnb/src/drnb/io/pipeline.py\u001b\\\u001b[2mpipeline.py\u001b[0m\u001b]8;;\u001b\\\u001b[2m:\u001b[0m\u001b]8;id=418447;file:///home/james/dev/drnb/src/drnb/io/pipeline.py#226\u001b\\\u001b[2m226\u001b[0m\u001b]8;;\u001b\\\n"
      ]
     },
     "metadata": {},
     "output_type": "display_data"
    },
    {
     "data": {
      "text/html": [
       "<pre style=\"white-space:pre;overflow-x:auto;line-height:normal;font-family:Menlo,'DejaVu Sans Mono',consolas,'Courier New',monospace\"><span style=\"color: #7fbfbf; text-decoration-color: #7fbfbf\">           </span><span style=\"color: #000080; text-decoration-color: #000080\">INFO    </span> Processing target with initial shape <span style=\"font-weight: bold\">(</span><span style=\"color: #008080; text-decoration-color: #008080; font-weight: bold\">1016</span>, <span style=\"color: #008080; text-decoration-color: #008080; font-weight: bold\">4</span><span style=\"font-weight: bold\">)</span>                                  <a href=\"file:///home/james/dev/drnb/src/drnb/io/pipeline.py\" target=\"_blank\"><span style=\"color: #7f7f7f; text-decoration-color: #7f7f7f\">pipeline.py</span></a><span style=\"color: #7f7f7f; text-decoration-color: #7f7f7f\">:</span><a href=\"file:///home/james/dev/drnb/src/drnb/io/pipeline.py#197\" target=\"_blank\"><span style=\"color: #7f7f7f; text-decoration-color: #7f7f7f\">197</span></a>\n",
       "</pre>\n"
      ],
      "text/plain": [
       "\u001b[2;36m          \u001b[0m\u001b[2;36m \u001b[0m\u001b[34mINFO    \u001b[0m Processing target with initial shape \u001b[1m(\u001b[0m\u001b[1;36m1016\u001b[0m, \u001b[1;36m4\u001b[0m\u001b[1m)\u001b[0m                                  \u001b]8;id=366115;file:///home/james/dev/drnb/src/drnb/io/pipeline.py\u001b\\\u001b[2mpipeline.py\u001b[0m\u001b]8;;\u001b\\\u001b[2m:\u001b[0m\u001b]8;id=242700;file:///home/james/dev/drnb/src/drnb/io/pipeline.py#197\u001b\\\u001b[2m197\u001b[0m\u001b]8;;\u001b\\\n"
      ]
     },
     "metadata": {},
     "output_type": "display_data"
    },
    {
     "data": {
      "text/html": [
       "<pre style=\"white-space:pre;overflow-x:auto;line-height:normal;font-family:Menlo,'DejaVu Sans Mono',consolas,'Courier New',monospace\"><span style=\"color: #7fbfbf; text-decoration-color: #7fbfbf\">           </span><span style=\"color: #000080; text-decoration-color: #000080\">INFO    </span> Keeping all columns                                                            <a href=\"file:///home/james/dev/drnb/src/drnb/preprocess.py\" target=\"_blank\"><span style=\"color: #7f7f7f; text-decoration-color: #7f7f7f\">preprocess.py</span></a><span style=\"color: #7f7f7f; text-decoration-color: #7f7f7f\">:</span><a href=\"file:///home/james/dev/drnb/src/drnb/preprocess.py#67\" target=\"_blank\"><span style=\"color: #7f7f7f; text-decoration-color: #7f7f7f\">67</span></a>\n",
       "</pre>\n"
      ],
      "text/plain": [
       "\u001b[2;36m          \u001b[0m\u001b[2;36m \u001b[0m\u001b[34mINFO    \u001b[0m Keeping all columns                                                            \u001b]8;id=653995;file:///home/james/dev/drnb/src/drnb/preprocess.py\u001b\\\u001b[2mpreprocess.py\u001b[0m\u001b]8;;\u001b\\\u001b[2m:\u001b[0m\u001b]8;id=711724;file:///home/james/dev/drnb/src/drnb/preprocess.py#67\u001b\\\u001b[2m67\u001b[0m\u001b]8;;\u001b\\\n"
      ]
     },
     "metadata": {},
     "output_type": "display_data"
    },
    {
     "data": {
      "text/html": [
       "<pre style=\"white-space:pre;overflow-x:auto;line-height:normal;font-family:Menlo,'DejaVu Sans Mono',consolas,'Courier New',monospace\"><span style=\"color: #7fbfbf; text-decoration-color: #7fbfbf\">           </span><span style=\"color: #000080; text-decoration-color: #000080\">INFO    </span> Writing target for onet271                                                      <a href=\"file:///home/james/dev/drnb/src/drnb/io/pipeline.py\" target=\"_blank\"><span style=\"color: #7f7f7f; text-decoration-color: #7f7f7f\">pipeline.py</span></a><span style=\"color: #7f7f7f; text-decoration-color: #7f7f7f\">:</span><a href=\"file:///home/james/dev/drnb/src/drnb/io/pipeline.py#226\" target=\"_blank\"><span style=\"color: #7f7f7f; text-decoration-color: #7f7f7f\">226</span></a>\n",
       "</pre>\n"
      ],
      "text/plain": [
       "\u001b[2;36m          \u001b[0m\u001b[2;36m \u001b[0m\u001b[34mINFO    \u001b[0m Writing target for onet271                                                      \u001b]8;id=646062;file:///home/james/dev/drnb/src/drnb/io/pipeline.py\u001b\\\u001b[2mpipeline.py\u001b[0m\u001b]8;;\u001b\\\u001b[2m:\u001b[0m\u001b]8;id=353578;file:///home/james/dev/drnb/src/drnb/io/pipeline.py#226\u001b\\\u001b[2m226\u001b[0m\u001b]8;;\u001b\\\n"
      ]
     },
     "metadata": {},
     "output_type": "display_data"
    },
    {
     "data": {
      "text/html": [
       "<pre style=\"white-space:pre;overflow-x:auto;line-height:normal;font-family:Menlo,'DejaVu Sans Mono',consolas,'Courier New',monospace\"><span style=\"color: #7fbfbf; text-decoration-color: #7fbfbf\">           </span><span style=\"color: #000080; text-decoration-color: #000080\">INFO    </span> Calculating nearest neighbors                                                   <a href=\"file:///home/james/dev/drnb/src/drnb/io/pipeline.py\" target=\"_blank\"><span style=\"color: #7f7f7f; text-decoration-color: #7f7f7f\">pipeline.py</span></a><span style=\"color: #7f7f7f; text-decoration-color: #7f7f7f\">:</span><a href=\"file:///home/james/dev/drnb/src/drnb/io/pipeline.py#241\" target=\"_blank\"><span style=\"color: #7f7f7f; text-decoration-color: #7f7f7f\">241</span></a>\n",
       "</pre>\n"
      ],
      "text/plain": [
       "\u001b[2;36m          \u001b[0m\u001b[2;36m \u001b[0m\u001b[34mINFO    \u001b[0m Calculating nearest neighbors                                                   \u001b]8;id=56273;file:///home/james/dev/drnb/src/drnb/io/pipeline.py\u001b\\\u001b[2mpipeline.py\u001b[0m\u001b]8;;\u001b\\\u001b[2m:\u001b[0m\u001b]8;id=704581;file:///home/james/dev/drnb/src/drnb/io/pipeline.py#241\u001b\\\u001b[2m241\u001b[0m\u001b]8;;\u001b\\\n"
      ]
     },
     "metadata": {},
     "output_type": "display_data"
    },
    {
     "data": {
      "text/html": [
       "<pre style=\"white-space:pre;overflow-x:auto;line-height:normal;font-family:Menlo,'DejaVu Sans Mono',consolas,'Courier New',monospace\"><span style=\"color: #7fbfbf; text-decoration-color: #7fbfbf\">           </span><span style=\"color: #000080; text-decoration-color: #000080\">INFO    </span> Loading faiss with AVX2 support.                                                   <a href=\"file:///home/james/dev/drnb/venv/lib/python3.10/site-packages/faiss/loader.py\" target=\"_blank\"><span style=\"color: #7f7f7f; text-decoration-color: #7f7f7f\">loader.py</span></a><span style=\"color: #7f7f7f; text-decoration-color: #7f7f7f\">:</span><a href=\"file:///home/james/dev/drnb/venv/lib/python3.10/site-packages/faiss/loader.py#54\" target=\"_blank\"><span style=\"color: #7f7f7f; text-decoration-color: #7f7f7f\">54</span></a>\n",
       "</pre>\n"
      ],
      "text/plain": [
       "\u001b[2;36m          \u001b[0m\u001b[2;36m \u001b[0m\u001b[34mINFO    \u001b[0m Loading faiss with AVX2 support.                                                   \u001b]8;id=88306;file:///home/james/dev/drnb/venv/lib/python3.10/site-packages/faiss/loader.py\u001b\\\u001b[2mloader.py\u001b[0m\u001b]8;;\u001b\\\u001b[2m:\u001b[0m\u001b]8;id=576633;file:///home/james/dev/drnb/venv/lib/python3.10/site-packages/faiss/loader.py#54\u001b\\\u001b[2m54\u001b[0m\u001b]8;;\u001b\\\n"
      ]
     },
     "metadata": {},
     "output_type": "display_data"
    },
    {
     "data": {
      "text/html": [
       "<pre style=\"white-space:pre;overflow-x:auto;line-height:normal;font-family:Menlo,'DejaVu Sans Mono',consolas,'Courier New',monospace\"><span style=\"color: #7fbfbf; text-decoration-color: #7fbfbf\">           </span><span style=\"color: #000080; text-decoration-color: #000080\">INFO    </span> Could not load library with AVX2 support due to:                                   <a href=\"file:///home/james/dev/drnb/venv/lib/python3.10/site-packages/faiss/loader.py\" target=\"_blank\"><span style=\"color: #7f7f7f; text-decoration-color: #7f7f7f\">loader.py</span></a><span style=\"color: #7f7f7f; text-decoration-color: #7f7f7f\">:</span><a href=\"file:///home/james/dev/drnb/venv/lib/python3.10/site-packages/faiss/loader.py#58\" target=\"_blank\"><span style=\"color: #7f7f7f; text-decoration-color: #7f7f7f\">58</span></a>\n",
       "<span style=\"color: #7fbfbf; text-decoration-color: #7fbfbf\">           </span>         <span style=\"color: #800080; text-decoration-color: #800080; font-weight: bold\">ModuleNotFoundError</span><span style=\"font-weight: bold\">(</span><span style=\"color: #008000; text-decoration-color: #008000\">\"No module named 'faiss.swigfaiss_avx2'\"</span><span style=\"font-weight: bold\">)</span>                      <span style=\"color: #7f7f7f; text-decoration-color: #7f7f7f\">            </span>\n",
       "</pre>\n"
      ],
      "text/plain": [
       "\u001b[2;36m          \u001b[0m\u001b[2;36m \u001b[0m\u001b[34mINFO    \u001b[0m Could not load library with AVX2 support due to:                                   \u001b]8;id=392429;file:///home/james/dev/drnb/venv/lib/python3.10/site-packages/faiss/loader.py\u001b\\\u001b[2mloader.py\u001b[0m\u001b]8;;\u001b\\\u001b[2m:\u001b[0m\u001b]8;id=519293;file:///home/james/dev/drnb/venv/lib/python3.10/site-packages/faiss/loader.py#58\u001b\\\u001b[2m58\u001b[0m\u001b]8;;\u001b\\\n",
       "\u001b[2;36m           \u001b[0m         \u001b[1;35mModuleNotFoundError\u001b[0m\u001b[1m(\u001b[0m\u001b[32m\"No module named 'faiss.swigfaiss_avx2'\"\u001b[0m\u001b[1m)\u001b[0m                      \u001b[2m            \u001b[0m\n"
      ]
     },
     "metadata": {},
     "output_type": "display_data"
    },
    {
     "data": {
      "text/html": [
       "<pre style=\"white-space:pre;overflow-x:auto;line-height:normal;font-family:Menlo,'DejaVu Sans Mono',consolas,'Courier New',monospace\"><span style=\"color: #7fbfbf; text-decoration-color: #7fbfbf\">           </span><span style=\"color: #000080; text-decoration-color: #000080\">INFO    </span> Loading faiss.                                                                     <a href=\"file:///home/james/dev/drnb/venv/lib/python3.10/site-packages/faiss/loader.py\" target=\"_blank\"><span style=\"color: #7f7f7f; text-decoration-color: #7f7f7f\">loader.py</span></a><span style=\"color: #7f7f7f; text-decoration-color: #7f7f7f\">:</span><a href=\"file:///home/james/dev/drnb/venv/lib/python3.10/site-packages/faiss/loader.py#64\" target=\"_blank\"><span style=\"color: #7f7f7f; text-decoration-color: #7f7f7f\">64</span></a>\n",
       "</pre>\n"
      ],
      "text/plain": [
       "\u001b[2;36m          \u001b[0m\u001b[2;36m \u001b[0m\u001b[34mINFO    \u001b[0m Loading faiss.                                                                     \u001b]8;id=425485;file:///home/james/dev/drnb/venv/lib/python3.10/site-packages/faiss/loader.py\u001b\\\u001b[2mloader.py\u001b[0m\u001b]8;;\u001b\\\u001b[2m:\u001b[0m\u001b]8;id=107681;file:///home/james/dev/drnb/venv/lib/python3.10/site-packages/faiss/loader.py#64\u001b\\\u001b[2m64\u001b[0m\u001b]8;;\u001b\\\n"
      ]
     },
     "metadata": {},
     "output_type": "display_data"
    },
    {
     "data": {
      "text/html": [
       "<pre style=\"white-space:pre;overflow-x:auto;line-height:normal;font-family:Menlo,'DejaVu Sans Mono',consolas,'Courier New',monospace\"><span style=\"color: #7fbfbf; text-decoration-color: #7fbfbf\">           </span><span style=\"color: #000080; text-decoration-color: #000080\">INFO    </span> Successfully loaded faiss.                                                         <a href=\"file:///home/james/dev/drnb/venv/lib/python3.10/site-packages/faiss/loader.py\" target=\"_blank\"><span style=\"color: #7f7f7f; text-decoration-color: #7f7f7f\">loader.py</span></a><span style=\"color: #7f7f7f; text-decoration-color: #7f7f7f\">:</span><a href=\"file:///home/james/dev/drnb/venv/lib/python3.10/site-packages/faiss/loader.py#66\" target=\"_blank\"><span style=\"color: #7f7f7f; text-decoration-color: #7f7f7f\">66</span></a>\n",
       "</pre>\n"
      ],
      "text/plain": [
       "\u001b[2;36m          \u001b[0m\u001b[2;36m \u001b[0m\u001b[34mINFO    \u001b[0m Successfully loaded faiss.                                                         \u001b]8;id=781473;file:///home/james/dev/drnb/venv/lib/python3.10/site-packages/faiss/loader.py\u001b\\\u001b[2mloader.py\u001b[0m\u001b]8;;\u001b\\\u001b[2m:\u001b[0m\u001b]8;id=493531;file:///home/james/dev/drnb/venv/lib/python3.10/site-packages/faiss/loader.py#66\u001b\\\u001b[2m66\u001b[0m\u001b]8;;\u001b\\\n"
      ]
     },
     "metadata": {},
     "output_type": "display_data"
    },
    {
     "data": {
      "text/html": [
       "<pre style=\"white-space:pre;overflow-x:auto;line-height:normal;font-family:Menlo,'DejaVu Sans Mono',consolas,'Courier New',monospace\"><span style=\"color: #7fbfbf; text-decoration-color: #7fbfbf\">           </span><span style=\"color: #000080; text-decoration-color: #000080\">INFO    </span> Using <span style=\"color: #008000; text-decoration-color: #008000\">'faiss'</span> to find nearest neighbors                                          <a href=\"file:///home/james/dev/drnb/src/drnb/neighbors/__init__.py\" target=\"_blank\"><span style=\"color: #7f7f7f; text-decoration-color: #7f7f7f\">__init__.py</span></a><span style=\"color: #7f7f7f; text-decoration-color: #7f7f7f\">:</span><a href=\"file:///home/james/dev/drnb/src/drnb/neighbors/__init__.py#81\" target=\"_blank\"><span style=\"color: #7f7f7f; text-decoration-color: #7f7f7f\">81</span></a>\n",
       "</pre>\n"
      ],
      "text/plain": [
       "\u001b[2;36m          \u001b[0m\u001b[2;36m \u001b[0m\u001b[34mINFO    \u001b[0m Using \u001b[32m'faiss'\u001b[0m to find nearest neighbors                                          \u001b]8;id=709898;file:///home/james/dev/drnb/src/drnb/neighbors/__init__.py\u001b\\\u001b[2m__init__.py\u001b[0m\u001b]8;;\u001b\\\u001b[2m:\u001b[0m\u001b]8;id=559046;file:///home/james/dev/drnb/src/drnb/neighbors/__init__.py#81\u001b\\\u001b[2m81\u001b[0m\u001b]8;;\u001b\\\n"
      ]
     },
     "metadata": {},
     "output_type": "display_data"
    },
    {
     "data": {
      "text/html": [
       "<pre style=\"white-space:pre;overflow-x:auto;line-height:normal;font-family:Menlo,'DejaVu Sans Mono',consolas,'Courier New',monospace\"><span style=\"color: #7fbfbf; text-decoration-color: #7fbfbf\">           </span><span style=\"color: #000080; text-decoration-color: #000080\">INFO    </span> Finding <span style=\"color: #008080; text-decoration-color: #008080; font-weight: bold\">151</span> neighbors using faiss with euclidean metric and params: <span style=\"font-weight: bold\">{}</span>           <a href=\"file:///home/james/dev/drnb/src/drnb/neighbors/__init__.py\" target=\"_blank\"><span style=\"color: #7f7f7f; text-decoration-color: #7f7f7f\">__init__.py</span></a><span style=\"color: #7f7f7f; text-decoration-color: #7f7f7f\">:</span><a href=\"file:///home/james/dev/drnb/src/drnb/neighbors/__init__.py#94\" target=\"_blank\"><span style=\"color: #7f7f7f; text-decoration-color: #7f7f7f\">94</span></a>\n",
       "</pre>\n"
      ],
      "text/plain": [
       "\u001b[2;36m          \u001b[0m\u001b[2;36m \u001b[0m\u001b[34mINFO    \u001b[0m Finding \u001b[1;36m151\u001b[0m neighbors using faiss with euclidean metric and params: \u001b[1m{\u001b[0m\u001b[1m}\u001b[0m           \u001b]8;id=777643;file:///home/james/dev/drnb/src/drnb/neighbors/__init__.py\u001b\\\u001b[2m__init__.py\u001b[0m\u001b]8;;\u001b\\\u001b[2m:\u001b[0m\u001b]8;id=896937;file:///home/james/dev/drnb/src/drnb/neighbors/__init__.py#94\u001b\\\u001b[2m94\u001b[0m\u001b]8;;\u001b\\\n"
      ]
     },
     "metadata": {},
     "output_type": "display_data"
    },
    {
     "data": {
      "text/html": [
       "<pre style=\"white-space:pre;overflow-x:auto;line-height:normal;font-family:Menlo,'DejaVu Sans Mono',consolas,'Courier New',monospace\"><span style=\"color: #7fbfbf; text-decoration-color: #7fbfbf\">[20:23:33] </span><span style=\"color: #000080; text-decoration-color: #000080\">INFO    </span> Writing numpy format to nn/onet271.<span style=\"color: #008080; text-decoration-color: #008080; font-weight: bold\">16.</span>euclidean.exact.faiss.idx.npy             <a href=\"file:///home/james/dev/drnb/src/drnb/io/__init__.py\" target=\"_blank\"><span style=\"color: #7f7f7f; text-decoration-color: #7f7f7f\">__init__.py</span></a><span style=\"color: #7f7f7f; text-decoration-color: #7f7f7f\">:</span><a href=\"file:///home/james/dev/drnb/src/drnb/io/__init__.py#247\" target=\"_blank\"><span style=\"color: #7f7f7f; text-decoration-color: #7f7f7f\">247</span></a>\n",
       "</pre>\n"
      ],
      "text/plain": [
       "\u001b[2;36m[20:23:33]\u001b[0m\u001b[2;36m \u001b[0m\u001b[34mINFO    \u001b[0m Writing numpy format to nn/onet271.\u001b[1;36m16.\u001b[0meuclidean.exact.faiss.idx.npy             \u001b]8;id=807383;file:///home/james/dev/drnb/src/drnb/io/__init__.py\u001b\\\u001b[2m__init__.py\u001b[0m\u001b]8;;\u001b\\\u001b[2m:\u001b[0m\u001b]8;id=675928;file:///home/james/dev/drnb/src/drnb/io/__init__.py#247\u001b\\\u001b[2m247\u001b[0m\u001b]8;;\u001b\\\n"
      ]
     },
     "metadata": {},
     "output_type": "display_data"
    },
    {
     "data": {
      "text/html": [
       "<pre style=\"white-space:pre;overflow-x:auto;line-height:normal;font-family:Menlo,'DejaVu Sans Mono',consolas,'Courier New',monospace\"><span style=\"color: #7fbfbf; text-decoration-color: #7fbfbf\">           </span><span style=\"color: #000080; text-decoration-color: #000080\">INFO    </span> Writing csv format to nn/onet271.<span style=\"color: #008080; text-decoration-color: #008080; font-weight: bold\">16.</span>euclidean.exact.faiss.idx.csv               <a href=\"file:///home/james/dev/drnb/src/drnb/io/__init__.py\" target=\"_blank\"><span style=\"color: #7f7f7f; text-decoration-color: #7f7f7f\">__init__.py</span></a><span style=\"color: #7f7f7f; text-decoration-color: #7f7f7f\">:</span><a href=\"file:///home/james/dev/drnb/src/drnb/io/__init__.py#224\" target=\"_blank\"><span style=\"color: #7f7f7f; text-decoration-color: #7f7f7f\">224</span></a>\n",
       "</pre>\n"
      ],
      "text/plain": [
       "\u001b[2;36m          \u001b[0m\u001b[2;36m \u001b[0m\u001b[34mINFO    \u001b[0m Writing csv format to nn/onet271.\u001b[1;36m16.\u001b[0meuclidean.exact.faiss.idx.csv               \u001b]8;id=22701;file:///home/james/dev/drnb/src/drnb/io/__init__.py\u001b\\\u001b[2m__init__.py\u001b[0m\u001b]8;;\u001b\\\u001b[2m:\u001b[0m\u001b]8;id=872815;file:///home/james/dev/drnb/src/drnb/io/__init__.py#224\u001b\\\u001b[2m224\u001b[0m\u001b]8;;\u001b\\\n"
      ]
     },
     "metadata": {},
     "output_type": "display_data"
    },
    {
     "data": {
      "text/html": [
       "<pre style=\"white-space:pre;overflow-x:auto;line-height:normal;font-family:Menlo,'DejaVu Sans Mono',consolas,'Courier New',monospace\"><span style=\"color: #7fbfbf; text-decoration-color: #7fbfbf\">           </span><span style=\"color: #000080; text-decoration-color: #000080\">INFO    </span> Writing numpy format to nn/onet271.<span style=\"color: #008080; text-decoration-color: #008080; font-weight: bold\">16.</span>euclidean.exact.faiss.dist.npy            <a href=\"file:///home/james/dev/drnb/src/drnb/io/__init__.py\" target=\"_blank\"><span style=\"color: #7f7f7f; text-decoration-color: #7f7f7f\">__init__.py</span></a><span style=\"color: #7f7f7f; text-decoration-color: #7f7f7f\">:</span><a href=\"file:///home/james/dev/drnb/src/drnb/io/__init__.py#247\" target=\"_blank\"><span style=\"color: #7f7f7f; text-decoration-color: #7f7f7f\">247</span></a>\n",
       "</pre>\n"
      ],
      "text/plain": [
       "\u001b[2;36m          \u001b[0m\u001b[2;36m \u001b[0m\u001b[34mINFO    \u001b[0m Writing numpy format to nn/onet271.\u001b[1;36m16.\u001b[0meuclidean.exact.faiss.dist.npy            \u001b]8;id=956136;file:///home/james/dev/drnb/src/drnb/io/__init__.py\u001b\\\u001b[2m__init__.py\u001b[0m\u001b]8;;\u001b\\\u001b[2m:\u001b[0m\u001b]8;id=470596;file:///home/james/dev/drnb/src/drnb/io/__init__.py#247\u001b\\\u001b[2m247\u001b[0m\u001b]8;;\u001b\\\n"
      ]
     },
     "metadata": {},
     "output_type": "display_data"
    },
    {
     "data": {
      "text/html": [
       "<pre style=\"white-space:pre;overflow-x:auto;line-height:normal;font-family:Menlo,'DejaVu Sans Mono',consolas,'Courier New',monospace\"><span style=\"color: #7fbfbf; text-decoration-color: #7fbfbf\">           </span><span style=\"color: #000080; text-decoration-color: #000080\">INFO    </span> Writing csv format to nn/onet271.<span style=\"color: #008080; text-decoration-color: #008080; font-weight: bold\">16.</span>euclidean.exact.faiss.dist.csv              <a href=\"file:///home/james/dev/drnb/src/drnb/io/__init__.py\" target=\"_blank\"><span style=\"color: #7f7f7f; text-decoration-color: #7f7f7f\">__init__.py</span></a><span style=\"color: #7f7f7f; text-decoration-color: #7f7f7f\">:</span><a href=\"file:///home/james/dev/drnb/src/drnb/io/__init__.py#224\" target=\"_blank\"><span style=\"color: #7f7f7f; text-decoration-color: #7f7f7f\">224</span></a>\n",
       "</pre>\n"
      ],
      "text/plain": [
       "\u001b[2;36m          \u001b[0m\u001b[2;36m \u001b[0m\u001b[34mINFO    \u001b[0m Writing csv format to nn/onet271.\u001b[1;36m16.\u001b[0meuclidean.exact.faiss.dist.csv              \u001b]8;id=156879;file:///home/james/dev/drnb/src/drnb/io/__init__.py\u001b\\\u001b[2m__init__.py\u001b[0m\u001b]8;;\u001b\\\u001b[2m:\u001b[0m\u001b]8;id=466484;file:///home/james/dev/drnb/src/drnb/io/__init__.py#224\u001b\\\u001b[2m224\u001b[0m\u001b]8;;\u001b\\\n"
      ]
     },
     "metadata": {},
     "output_type": "display_data"
    },
    {
     "data": {
      "text/html": [
       "<pre style=\"white-space:pre;overflow-x:auto;line-height:normal;font-family:Menlo,'DejaVu Sans Mono',consolas,'Courier New',monospace\"><span style=\"color: #7fbfbf; text-decoration-color: #7fbfbf\">           </span><span style=\"color: #000080; text-decoration-color: #000080\">INFO    </span> Writing numpy format to nn/onet271.<span style=\"color: #008080; text-decoration-color: #008080; font-weight: bold\">51.</span>euclidean.exact.faiss.idx.npy             <a href=\"file:///home/james/dev/drnb/src/drnb/io/__init__.py\" target=\"_blank\"><span style=\"color: #7f7f7f; text-decoration-color: #7f7f7f\">__init__.py</span></a><span style=\"color: #7f7f7f; text-decoration-color: #7f7f7f\">:</span><a href=\"file:///home/james/dev/drnb/src/drnb/io/__init__.py#247\" target=\"_blank\"><span style=\"color: #7f7f7f; text-decoration-color: #7f7f7f\">247</span></a>\n",
       "</pre>\n"
      ],
      "text/plain": [
       "\u001b[2;36m          \u001b[0m\u001b[2;36m \u001b[0m\u001b[34mINFO    \u001b[0m Writing numpy format to nn/onet271.\u001b[1;36m51.\u001b[0meuclidean.exact.faiss.idx.npy             \u001b]8;id=14609;file:///home/james/dev/drnb/src/drnb/io/__init__.py\u001b\\\u001b[2m__init__.py\u001b[0m\u001b]8;;\u001b\\\u001b[2m:\u001b[0m\u001b]8;id=167484;file:///home/james/dev/drnb/src/drnb/io/__init__.py#247\u001b\\\u001b[2m247\u001b[0m\u001b]8;;\u001b\\\n"
      ]
     },
     "metadata": {},
     "output_type": "display_data"
    },
    {
     "data": {
      "text/html": [
       "<pre style=\"white-space:pre;overflow-x:auto;line-height:normal;font-family:Menlo,'DejaVu Sans Mono',consolas,'Courier New',monospace\"><span style=\"color: #7fbfbf; text-decoration-color: #7fbfbf\">           </span><span style=\"color: #000080; text-decoration-color: #000080\">INFO    </span> Writing csv format to nn/onet271.<span style=\"color: #008080; text-decoration-color: #008080; font-weight: bold\">51.</span>euclidean.exact.faiss.idx.csv               <a href=\"file:///home/james/dev/drnb/src/drnb/io/__init__.py\" target=\"_blank\"><span style=\"color: #7f7f7f; text-decoration-color: #7f7f7f\">__init__.py</span></a><span style=\"color: #7f7f7f; text-decoration-color: #7f7f7f\">:</span><a href=\"file:///home/james/dev/drnb/src/drnb/io/__init__.py#224\" target=\"_blank\"><span style=\"color: #7f7f7f; text-decoration-color: #7f7f7f\">224</span></a>\n",
       "</pre>\n"
      ],
      "text/plain": [
       "\u001b[2;36m          \u001b[0m\u001b[2;36m \u001b[0m\u001b[34mINFO    \u001b[0m Writing csv format to nn/onet271.\u001b[1;36m51.\u001b[0meuclidean.exact.faiss.idx.csv               \u001b]8;id=168454;file:///home/james/dev/drnb/src/drnb/io/__init__.py\u001b\\\u001b[2m__init__.py\u001b[0m\u001b]8;;\u001b\\\u001b[2m:\u001b[0m\u001b]8;id=448894;file:///home/james/dev/drnb/src/drnb/io/__init__.py#224\u001b\\\u001b[2m224\u001b[0m\u001b]8;;\u001b\\\n"
      ]
     },
     "metadata": {},
     "output_type": "display_data"
    },
    {
     "data": {
      "text/html": [
       "<pre style=\"white-space:pre;overflow-x:auto;line-height:normal;font-family:Menlo,'DejaVu Sans Mono',consolas,'Courier New',monospace\"><span style=\"color: #7fbfbf; text-decoration-color: #7fbfbf\">           </span><span style=\"color: #000080; text-decoration-color: #000080\">INFO    </span> Writing numpy format to nn/onet271.<span style=\"color: #008080; text-decoration-color: #008080; font-weight: bold\">51.</span>euclidean.exact.faiss.dist.npy            <a href=\"file:///home/james/dev/drnb/src/drnb/io/__init__.py\" target=\"_blank\"><span style=\"color: #7f7f7f; text-decoration-color: #7f7f7f\">__init__.py</span></a><span style=\"color: #7f7f7f; text-decoration-color: #7f7f7f\">:</span><a href=\"file:///home/james/dev/drnb/src/drnb/io/__init__.py#247\" target=\"_blank\"><span style=\"color: #7f7f7f; text-decoration-color: #7f7f7f\">247</span></a>\n",
       "</pre>\n"
      ],
      "text/plain": [
       "\u001b[2;36m          \u001b[0m\u001b[2;36m \u001b[0m\u001b[34mINFO    \u001b[0m Writing numpy format to nn/onet271.\u001b[1;36m51.\u001b[0meuclidean.exact.faiss.dist.npy            \u001b]8;id=15224;file:///home/james/dev/drnb/src/drnb/io/__init__.py\u001b\\\u001b[2m__init__.py\u001b[0m\u001b]8;;\u001b\\\u001b[2m:\u001b[0m\u001b]8;id=79861;file:///home/james/dev/drnb/src/drnb/io/__init__.py#247\u001b\\\u001b[2m247\u001b[0m\u001b]8;;\u001b\\\n"
      ]
     },
     "metadata": {},
     "output_type": "display_data"
    },
    {
     "data": {
      "text/html": [
       "<pre style=\"white-space:pre;overflow-x:auto;line-height:normal;font-family:Menlo,'DejaVu Sans Mono',consolas,'Courier New',monospace\"><span style=\"color: #7fbfbf; text-decoration-color: #7fbfbf\">           </span><span style=\"color: #000080; text-decoration-color: #000080\">INFO    </span> Writing csv format to nn/onet271.<span style=\"color: #008080; text-decoration-color: #008080; font-weight: bold\">51.</span>euclidean.exact.faiss.dist.csv              <a href=\"file:///home/james/dev/drnb/src/drnb/io/__init__.py\" target=\"_blank\"><span style=\"color: #7f7f7f; text-decoration-color: #7f7f7f\">__init__.py</span></a><span style=\"color: #7f7f7f; text-decoration-color: #7f7f7f\">:</span><a href=\"file:///home/james/dev/drnb/src/drnb/io/__init__.py#224\" target=\"_blank\"><span style=\"color: #7f7f7f; text-decoration-color: #7f7f7f\">224</span></a>\n",
       "</pre>\n"
      ],
      "text/plain": [
       "\u001b[2;36m          \u001b[0m\u001b[2;36m \u001b[0m\u001b[34mINFO    \u001b[0m Writing csv format to nn/onet271.\u001b[1;36m51.\u001b[0meuclidean.exact.faiss.dist.csv              \u001b]8;id=844722;file:///home/james/dev/drnb/src/drnb/io/__init__.py\u001b\\\u001b[2m__init__.py\u001b[0m\u001b]8;;\u001b\\\u001b[2m:\u001b[0m\u001b]8;id=148526;file:///home/james/dev/drnb/src/drnb/io/__init__.py#224\u001b\\\u001b[2m224\u001b[0m\u001b]8;;\u001b\\\n"
      ]
     },
     "metadata": {},
     "output_type": "display_data"
    },
    {
     "data": {
      "text/html": [
       "<pre style=\"white-space:pre;overflow-x:auto;line-height:normal;font-family:Menlo,'DejaVu Sans Mono',consolas,'Courier New',monospace\"><span style=\"color: #7fbfbf; text-decoration-color: #7fbfbf\">           </span><span style=\"color: #000080; text-decoration-color: #000080\">INFO    </span> Writing numpy format to nn/onet271.<span style=\"color: #008080; text-decoration-color: #008080; font-weight: bold\">151.</span>euclidean.exact.faiss.idx.npy            <a href=\"file:///home/james/dev/drnb/src/drnb/io/__init__.py\" target=\"_blank\"><span style=\"color: #7f7f7f; text-decoration-color: #7f7f7f\">__init__.py</span></a><span style=\"color: #7f7f7f; text-decoration-color: #7f7f7f\">:</span><a href=\"file:///home/james/dev/drnb/src/drnb/io/__init__.py#247\" target=\"_blank\"><span style=\"color: #7f7f7f; text-decoration-color: #7f7f7f\">247</span></a>\n",
       "</pre>\n"
      ],
      "text/plain": [
       "\u001b[2;36m          \u001b[0m\u001b[2;36m \u001b[0m\u001b[34mINFO    \u001b[0m Writing numpy format to nn/onet271.\u001b[1;36m151.\u001b[0meuclidean.exact.faiss.idx.npy            \u001b]8;id=81795;file:///home/james/dev/drnb/src/drnb/io/__init__.py\u001b\\\u001b[2m__init__.py\u001b[0m\u001b]8;;\u001b\\\u001b[2m:\u001b[0m\u001b]8;id=477091;file:///home/james/dev/drnb/src/drnb/io/__init__.py#247\u001b\\\u001b[2m247\u001b[0m\u001b]8;;\u001b\\\n"
      ]
     },
     "metadata": {},
     "output_type": "display_data"
    },
    {
     "data": {
      "text/html": [
       "<pre style=\"white-space:pre;overflow-x:auto;line-height:normal;font-family:Menlo,'DejaVu Sans Mono',consolas,'Courier New',monospace\"><span style=\"color: #7fbfbf; text-decoration-color: #7fbfbf\">           </span><span style=\"color: #000080; text-decoration-color: #000080\">INFO    </span> Writing csv format to nn/onet271.<span style=\"color: #008080; text-decoration-color: #008080; font-weight: bold\">151.</span>euclidean.exact.faiss.idx.csv              <a href=\"file:///home/james/dev/drnb/src/drnb/io/__init__.py\" target=\"_blank\"><span style=\"color: #7f7f7f; text-decoration-color: #7f7f7f\">__init__.py</span></a><span style=\"color: #7f7f7f; text-decoration-color: #7f7f7f\">:</span><a href=\"file:///home/james/dev/drnb/src/drnb/io/__init__.py#224\" target=\"_blank\"><span style=\"color: #7f7f7f; text-decoration-color: #7f7f7f\">224</span></a>\n",
       "</pre>\n"
      ],
      "text/plain": [
       "\u001b[2;36m          \u001b[0m\u001b[2;36m \u001b[0m\u001b[34mINFO    \u001b[0m Writing csv format to nn/onet271.\u001b[1;36m151.\u001b[0meuclidean.exact.faiss.idx.csv              \u001b]8;id=555086;file:///home/james/dev/drnb/src/drnb/io/__init__.py\u001b\\\u001b[2m__init__.py\u001b[0m\u001b]8;;\u001b\\\u001b[2m:\u001b[0m\u001b]8;id=236007;file:///home/james/dev/drnb/src/drnb/io/__init__.py#224\u001b\\\u001b[2m224\u001b[0m\u001b]8;;\u001b\\\n"
      ]
     },
     "metadata": {},
     "output_type": "display_data"
    },
    {
     "data": {
      "text/html": [
       "<pre style=\"white-space:pre;overflow-x:auto;line-height:normal;font-family:Menlo,'DejaVu Sans Mono',consolas,'Courier New',monospace\"><span style=\"color: #7fbfbf; text-decoration-color: #7fbfbf\">[20:23:34] </span><span style=\"color: #000080; text-decoration-color: #000080\">INFO    </span> Writing numpy format to nn/onet271.<span style=\"color: #008080; text-decoration-color: #008080; font-weight: bold\">151.</span>euclidean.exact.faiss.dist.npy           <a href=\"file:///home/james/dev/drnb/src/drnb/io/__init__.py\" target=\"_blank\"><span style=\"color: #7f7f7f; text-decoration-color: #7f7f7f\">__init__.py</span></a><span style=\"color: #7f7f7f; text-decoration-color: #7f7f7f\">:</span><a href=\"file:///home/james/dev/drnb/src/drnb/io/__init__.py#247\" target=\"_blank\"><span style=\"color: #7f7f7f; text-decoration-color: #7f7f7f\">247</span></a>\n",
       "</pre>\n"
      ],
      "text/plain": [
       "\u001b[2;36m[20:23:34]\u001b[0m\u001b[2;36m \u001b[0m\u001b[34mINFO    \u001b[0m Writing numpy format to nn/onet271.\u001b[1;36m151.\u001b[0meuclidean.exact.faiss.dist.npy           \u001b]8;id=169745;file:///home/james/dev/drnb/src/drnb/io/__init__.py\u001b\\\u001b[2m__init__.py\u001b[0m\u001b]8;;\u001b\\\u001b[2m:\u001b[0m\u001b]8;id=811838;file:///home/james/dev/drnb/src/drnb/io/__init__.py#247\u001b\\\u001b[2m247\u001b[0m\u001b]8;;\u001b\\\n"
      ]
     },
     "metadata": {},
     "output_type": "display_data"
    },
    {
     "data": {
      "text/html": [
       "<pre style=\"white-space:pre;overflow-x:auto;line-height:normal;font-family:Menlo,'DejaVu Sans Mono',consolas,'Courier New',monospace\"><span style=\"color: #7fbfbf; text-decoration-color: #7fbfbf\">           </span><span style=\"color: #000080; text-decoration-color: #000080\">INFO    </span> Writing csv format to nn/onet271.<span style=\"color: #008080; text-decoration-color: #008080; font-weight: bold\">151.</span>euclidean.exact.faiss.dist.csv             <a href=\"file:///home/james/dev/drnb/src/drnb/io/__init__.py\" target=\"_blank\"><span style=\"color: #7f7f7f; text-decoration-color: #7f7f7f\">__init__.py</span></a><span style=\"color: #7f7f7f; text-decoration-color: #7f7f7f\">:</span><a href=\"file:///home/james/dev/drnb/src/drnb/io/__init__.py#224\" target=\"_blank\"><span style=\"color: #7f7f7f; text-decoration-color: #7f7f7f\">224</span></a>\n",
       "</pre>\n"
      ],
      "text/plain": [
       "\u001b[2;36m          \u001b[0m\u001b[2;36m \u001b[0m\u001b[34mINFO    \u001b[0m Writing csv format to nn/onet271.\u001b[1;36m151.\u001b[0meuclidean.exact.faiss.dist.csv             \u001b]8;id=60647;file:///home/james/dev/drnb/src/drnb/io/__init__.py\u001b\\\u001b[2m__init__.py\u001b[0m\u001b]8;;\u001b\\\u001b[2m:\u001b[0m\u001b]8;id=397103;file:///home/james/dev/drnb/src/drnb/io/__init__.py#224\u001b\\\u001b[2m224\u001b[0m\u001b]8;;\u001b\\\n"
      ]
     },
     "metadata": {},
     "output_type": "display_data"
    },
    {
     "data": {
      "text/html": [
       "<pre style=\"white-space:pre;overflow-x:auto;line-height:normal;font-family:Menlo,'DejaVu Sans Mono',consolas,'Courier New',monospace\"><span style=\"color: #7fbfbf; text-decoration-color: #7fbfbf\">           </span><span style=\"color: #000080; text-decoration-color: #000080\">INFO    </span> Calculating triplets                                                            <a href=\"file:///home/james/dev/drnb/src/drnb/io/pipeline.py\" target=\"_blank\"><span style=\"color: #7f7f7f; text-decoration-color: #7f7f7f\">pipeline.py</span></a><span style=\"color: #7f7f7f; text-decoration-color: #7f7f7f\">:</span><a href=\"file:///home/james/dev/drnb/src/drnb/io/pipeline.py#252\" target=\"_blank\"><span style=\"color: #7f7f7f; text-decoration-color: #7f7f7f\">252</span></a>\n",
       "</pre>\n"
      ],
      "text/plain": [
       "\u001b[2;36m          \u001b[0m\u001b[2;36m \u001b[0m\u001b[34mINFO    \u001b[0m Calculating triplets                                                            \u001b]8;id=31872;file:///home/james/dev/drnb/src/drnb/io/pipeline.py\u001b\\\u001b[2mpipeline.py\u001b[0m\u001b]8;;\u001b\\\u001b[2m:\u001b[0m\u001b]8;id=362035;file:///home/james/dev/drnb/src/drnb/io/pipeline.py#252\u001b\\\u001b[2m252\u001b[0m\u001b]8;;\u001b\\\n"
      ]
     },
     "metadata": {},
     "output_type": "display_data"
    },
    {
     "data": {
      "text/html": [
       "<pre style=\"white-space:pre;overflow-x:auto;line-height:normal;font-family:Menlo,'DejaVu Sans Mono',consolas,'Courier New',monospace\"><span style=\"color: #7fbfbf; text-decoration-color: #7fbfbf\">           </span><span style=\"color: #000080; text-decoration-color: #000080\">INFO    </span> Writing csv format to triplets/onet271.<span style=\"color: #008080; text-decoration-color: #008080; font-weight: bold\">5.1337</span>.idx.csv                           <a href=\"file:///home/james/dev/drnb/src/drnb/io/__init__.py\" target=\"_blank\"><span style=\"color: #7f7f7f; text-decoration-color: #7f7f7f\">__init__.py</span></a><span style=\"color: #7f7f7f; text-decoration-color: #7f7f7f\">:</span><a href=\"file:///home/james/dev/drnb/src/drnb/io/__init__.py#224\" target=\"_blank\"><span style=\"color: #7f7f7f; text-decoration-color: #7f7f7f\">224</span></a>\n",
       "</pre>\n"
      ],
      "text/plain": [
       "\u001b[2;36m          \u001b[0m\u001b[2;36m \u001b[0m\u001b[34mINFO    \u001b[0m Writing csv format to triplets/onet271.\u001b[1;36m5.1337\u001b[0m.idx.csv                           \u001b]8;id=563090;file:///home/james/dev/drnb/src/drnb/io/__init__.py\u001b\\\u001b[2m__init__.py\u001b[0m\u001b]8;;\u001b\\\u001b[2m:\u001b[0m\u001b]8;id=169046;file:///home/james/dev/drnb/src/drnb/io/__init__.py#224\u001b\\\u001b[2m224\u001b[0m\u001b]8;;\u001b\\\n"
      ]
     },
     "metadata": {},
     "output_type": "display_data"
    },
    {
     "data": {
      "text/html": [
       "<pre style=\"white-space:pre;overflow-x:auto;line-height:normal;font-family:Menlo,'DejaVu Sans Mono',consolas,'Courier New',monospace\"><span style=\"color: #7fbfbf; text-decoration-color: #7fbfbf\">[20:23:35] </span><span style=\"color: #000080; text-decoration-color: #000080\">INFO    </span> Writing csv format to triplets/onet271.<span style=\"color: #008080; text-decoration-color: #008080; font-weight: bold\">5.1337</span>.euclidean.csv                     <a href=\"file:///home/james/dev/drnb/src/drnb/io/__init__.py\" target=\"_blank\"><span style=\"color: #7f7f7f; text-decoration-color: #7f7f7f\">__init__.py</span></a><span style=\"color: #7f7f7f; text-decoration-color: #7f7f7f\">:</span><a href=\"file:///home/james/dev/drnb/src/drnb/io/__init__.py#224\" target=\"_blank\"><span style=\"color: #7f7f7f; text-decoration-color: #7f7f7f\">224</span></a>\n",
       "</pre>\n"
      ],
      "text/plain": [
       "\u001b[2;36m[20:23:35]\u001b[0m\u001b[2;36m \u001b[0m\u001b[34mINFO    \u001b[0m Writing csv format to triplets/onet271.\u001b[1;36m5.1337\u001b[0m.euclidean.csv                     \u001b]8;id=909877;file:///home/james/dev/drnb/src/drnb/io/__init__.py\u001b\\\u001b[2m__init__.py\u001b[0m\u001b]8;;\u001b\\\u001b[2m:\u001b[0m\u001b]8;id=287404;file:///home/james/dev/drnb/src/drnb/io/__init__.py#224\u001b\\\u001b[2m224\u001b[0m\u001b]8;;\u001b\\\n"
      ]
     },
     "metadata": {},
     "output_type": "display_data"
    },
    {
     "data": {
      "text/html": [
       "<pre style=\"white-space:pre;overflow-x:auto;line-height:normal;font-family:Menlo,'DejaVu Sans Mono',consolas,'Courier New',monospace\"><span style=\"color: #7fbfbf; text-decoration-color: #7fbfbf\">           </span><span style=\"color: #000080; text-decoration-color: #000080\">INFO    </span> Writing numpy format to triplets/onet271.<span style=\"color: #008080; text-decoration-color: #008080; font-weight: bold\">5.1337</span>.idx.npy                         <a href=\"file:///home/james/dev/drnb/src/drnb/io/__init__.py\" target=\"_blank\"><span style=\"color: #7f7f7f; text-decoration-color: #7f7f7f\">__init__.py</span></a><span style=\"color: #7f7f7f; text-decoration-color: #7f7f7f\">:</span><a href=\"file:///home/james/dev/drnb/src/drnb/io/__init__.py#247\" target=\"_blank\"><span style=\"color: #7f7f7f; text-decoration-color: #7f7f7f\">247</span></a>\n",
       "</pre>\n"
      ],
      "text/plain": [
       "\u001b[2;36m          \u001b[0m\u001b[2;36m \u001b[0m\u001b[34mINFO    \u001b[0m Writing numpy format to triplets/onet271.\u001b[1;36m5.1337\u001b[0m.idx.npy                         \u001b]8;id=885067;file:///home/james/dev/drnb/src/drnb/io/__init__.py\u001b\\\u001b[2m__init__.py\u001b[0m\u001b]8;;\u001b\\\u001b[2m:\u001b[0m\u001b]8;id=518371;file:///home/james/dev/drnb/src/drnb/io/__init__.py#247\u001b\\\u001b[2m247\u001b[0m\u001b]8;;\u001b\\\n"
      ]
     },
     "metadata": {},
     "output_type": "display_data"
    },
    {
     "data": {
      "text/html": [
       "<pre style=\"white-space:pre;overflow-x:auto;line-height:normal;font-family:Menlo,'DejaVu Sans Mono',consolas,'Courier New',monospace\"><span style=\"color: #7fbfbf; text-decoration-color: #7fbfbf\">           </span><span style=\"color: #000080; text-decoration-color: #000080\">INFO    </span> Writing numpy format to triplets/onet271.<span style=\"color: #008080; text-decoration-color: #008080; font-weight: bold\">5.1337</span>.euclidean.npy                   <a href=\"file:///home/james/dev/drnb/src/drnb/io/__init__.py\" target=\"_blank\"><span style=\"color: #7f7f7f; text-decoration-color: #7f7f7f\">__init__.py</span></a><span style=\"color: #7f7f7f; text-decoration-color: #7f7f7f\">:</span><a href=\"file:///home/james/dev/drnb/src/drnb/io/__init__.py#247\" target=\"_blank\"><span style=\"color: #7f7f7f; text-decoration-color: #7f7f7f\">247</span></a>\n",
       "</pre>\n"
      ],
      "text/plain": [
       "\u001b[2;36m          \u001b[0m\u001b[2;36m \u001b[0m\u001b[34mINFO    \u001b[0m Writing numpy format to triplets/onet271.\u001b[1;36m5.1337\u001b[0m.euclidean.npy                   \u001b]8;id=869188;file:///home/james/dev/drnb/src/drnb/io/__init__.py\u001b\\\u001b[2m__init__.py\u001b[0m\u001b]8;;\u001b\\\u001b[2m:\u001b[0m\u001b]8;id=76636;file:///home/james/dev/drnb/src/drnb/io/__init__.py#247\u001b\\\u001b[2m247\u001b[0m\u001b]8;;\u001b\\\n"
      ]
     },
     "metadata": {},
     "output_type": "display_data"
    },
    {
     "data": {
      "text/html": [
       "<pre style=\"white-space:pre;overflow-x:auto;line-height:normal;font-family:Menlo,'DejaVu Sans Mono',consolas,'Courier New',monospace\"><span style=\"color: #7fbfbf; text-decoration-color: #7fbfbf\">           </span><span style=\"color: #000080; text-decoration-color: #000080\">INFO    </span> Writing pipeline result for onet271                                             <a href=\"file:///home/james/dev/drnb/src/drnb/io/pipeline.py\" target=\"_blank\"><span style=\"color: #7f7f7f; text-decoration-color: #7f7f7f\">pipeline.py</span></a><span style=\"color: #7f7f7f; text-decoration-color: #7f7f7f\">:</span><a href=\"file:///home/james/dev/drnb/src/drnb/io/pipeline.py#123\" target=\"_blank\"><span style=\"color: #7f7f7f; text-decoration-color: #7f7f7f\">123</span></a>\n",
       "</pre>\n"
      ],
      "text/plain": [
       "\u001b[2;36m          \u001b[0m\u001b[2;36m \u001b[0m\u001b[34mINFO    \u001b[0m Writing pipeline result for onet271                                             \u001b]8;id=239264;file:///home/james/dev/drnb/src/drnb/io/pipeline.py\u001b\\\u001b[2mpipeline.py\u001b[0m\u001b]8;;\u001b\\\u001b[2m:\u001b[0m\u001b]8;id=696013;file:///home/james/dev/drnb/src/drnb/io/pipeline.py#123\u001b\\\u001b[2m123\u001b[0m\u001b]8;;\u001b\\\n"
      ]
     },
     "metadata": {},
     "output_type": "display_data"
    },
    {
     "name": "stdout",
     "output_type": "stream",
     "text": [
      "time: 6.25 s (started: 2023-02-05 20:23:28 -08:00)\n"
     ]
    }
   ],
   "source": [
    "from drnb.io.pipeline import create_default_pipeline\n",
    "\n",
    "data_pipe = create_default_pipeline(\n",
    "    check_for_duplicates=True,\n",
    "    scale=\"z\",\n",
    ")\n",
    "\n",
    "data_result = data_pipe.run(\n",
    "    \"onet271\",\n",
    "    data=data,\n",
    "    target=occupation_data,\n",
    "    url=\"https://www.onetcenter.org/database.html\",\n",
    "    tags=[\"small\", \"lowdim\"],\n",
    "    verbose=True,\n",
    ")"
   ]
  },
  {
   "cell_type": "code",
   "execution_count": 13,
   "id": "668490ee-6e14-425e-9bdb-4b6289897269",
   "metadata": {},
   "outputs": [
    {
     "data": {
      "image/png": "[encoded data removed]",
      "text/plain": [
       "<Figure size 1000x800 with 1 Axes>"
      ]
     },
     "metadata": {},
     "output_type": "display_data"
    },
    {
     "data": {
      "text/plain": [
       "[EvalResult(eval_type='RTE', label='rte-5-euclidean', value=0.7878579610538373, info={'metric': 'euclidean', 'ntpp': 5}),\n",
       " EvalResult(eval_type='RPC', label='rpc-5-euclidean', value=0.744689299533876, info={'metric': 'euclidean', 'ntpp': 5}),\n",
       " EvalResult(eval_type='NNP', label='nnp-15-noself-euclidean', value=0.46597938144329903, info={'metric': 'euclidean', 'n_neighbors': 15}),\n",
       " EvalResult(eval_type='NNP', label='nnp-50-noself-euclidean', value=0.5228865979381444, info={'metric': 'euclidean', 'n_neighbors': 50}),\n",
       " EvalResult(eval_type='NNP', label='nnp-150-noself-euclidean', value=0.6216953035509737, info={'metric': 'euclidean', 'n_neighbors': 150})]"
      ]
     },
     "execution_count": 13,
     "metadata": {},
     "output_type": "execute_result"
    },
    {
     "name": "stdout",
     "output_type": "stream",
     "text": [
      "time: 8.36 s (started: 2023-02-05 20:23:35 -08:00)\n"
     ]
    }
   ],
   "source": [
    "import drnb.embed.pipeline as pl\n",
    "\n",
    "pl.standard_eval(\n",
    "    method=\"umap\", dataset=\"onet271\", extra_plot=dict(legend=\"force\", figsize=(10, 8))\n",
    ")"
   ]
  },
  {
   "cell_type": "code",
   "execution_count": null,
   "id": "4bcad938-353e-4ac3-8ea3-dbeeae736b13",
   "metadata": {},
   "outputs": [],
   "source": []
  }
 ],
 "metadata": {
  "kernelspec": {
   "display_name": "Python 3 (ipykernel)",
   "language": "python",
   "name": "python3"
  },
  "language_info": {
   "codemirror_mode": {
    "name": "ipython",
    "version": 3
   },
   "file_extension": ".py",
   "mimetype": "text/x-python",
   "name": "python",
   "nbconvert_exporter": "python",
   "pygments_lexer": "ipython3",
   "version": "3.10.7"
  }
 },
 "nbformat": 4,
 "nbformat_minor": 5
}
