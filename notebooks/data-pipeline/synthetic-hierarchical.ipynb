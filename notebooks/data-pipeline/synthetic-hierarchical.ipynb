{
 "cells": [
  {
   "cell_type": "markdown",
   "metadata": {},
   "source": [
    "# Synthetic Hierarchical Dataset\n",
    "\n",
    "A hierarchical cluster dataset, which is discussed in the\n",
    "[PaCMAP paper](https://jmlr.org/papers/v22/20-1061.html), but which I couldn't find code for in the\n",
    "[PaCMAP repo](https://github.com/YingfanWang/PaCMAP/). It must be out there somewhere because it is\n",
    "also described at <https://sites.duke.edu/dimensionreduction/>:\n",
    "\n",
    "> The next dataset is the “synthetic hierarchical” dataset. This dataset is particularly difficult \n",
    "for DR methods. It consists of 5  “macro clusters” that each have 5 “meso clusters,” and each of \n",
    "the meso subclusters has 5 “micro clusters.” Thus, there are 5x5x5 =  125 micro clusters total. We\n",
    "colored each point based on its true macro clusters, shading each meso cluster.\n",
    "\n",
    "So there is even colors described for the clusters. Seems that given the clear description of its \n",
    "creation in Appendix B of the paper, it should be possible to recreate it:\n",
    "\n",
    "## Appendix B. A Synthetic Hierarchical Dataset\n",
    "\n",
    "In this section, we briefly describe a numerical experiment that was carried out to test the \n",
    "robustness of the various DR algorithms to hierarchical datasets. To this end, we created a \n",
    "synthetic hierarchical dataset that consists of one hundred and twenty five clusters, each \n",
    "including 500 observations. The data generation process was as follows:\n",
    "\n",
    "1. We sampled five macro cluster centers from a 50-dimensional multivariate normal distribution \n",
    "with zero mean ($0_{50}$) and a covariance matrix that is equal to the identity matrix multiplied \n",
    "by 10000 (i.e., 10000 × $1_{50}$).\n",
    "2. We then sampled five meso cluster centers for each of the macro clusters (5 × 5 =25 in total) \n",
    "using a 50-dimensional multivariate normal distribution whose mean values are the macro cluster \n",
    "centers and whose covariance matrices are equal to the identity matrix multiplied by 1000 (i.e., \n",
    "1000 × $1_{50}$).\n",
    "3. We then sampled five micro cluster centers for each of the meso clusters (25 × 5 =125 in total) \n",
    "using a 50-dimensional multivariate normal distribution whose mean values are the meso cluster \n",
    "centers and whose covariance matrices are equal to the identity matrix multiplied by 100 (i.e., \n",
    "100 × $1_{50}$).\n",
    "4. Finally, for each of the one hundred and twenty five micro cluster centers, we sampled five \n",
    "hundred observations from a 50-dimensional multivariate normal distribution whose mean values are \n",
    "the micro cluster centers and whose covariance matrices are equal to 10 × $1_{50}$.\n",
    "\n"
   ]
  },
  {
   "cell_type": "code",
   "execution_count": 1,
   "metadata": {},
   "outputs": [
    {
     "name": "stdout",
     "output_type": "stream",
     "text": [
      "Data shape: (62500, 50)\n",
      "Target DataFrame shape: (62500, 3)\n"
     ]
    },
    {
     "data": {
      "text/html": [
       "<div>\n",
       "<style scoped>\n",
       "    .dataframe tbody tr th:only-of-type {\n",
       "        vertical-align: middle;\n",
       "    }\n",
       "\n",
       "    .dataframe tbody tr th {\n",
       "        vertical-align: top;\n",
       "    }\n",
       "\n",
       "    .dataframe thead th {\n",
       "        text-align: right;\n",
       "    }\n",
       "</style>\n",
       "<table border=\"1\" class=\"dataframe\">\n",
       "  <thead>\n",
       "    <tr style=\"text-align: right;\">\n",
       "      <th></th>\n",
       "      <th>macro_label</th>\n",
       "      <th>meso_label</th>\n",
       "      <th>micro_label</th>\n",
       "    </tr>\n",
       "  </thead>\n",
       "  <tbody>\n",
       "    <tr>\n",
       "      <th>0</th>\n",
       "      <td>0</td>\n",
       "      <td>0_0</td>\n",
       "      <td>0_0_0</td>\n",
       "    </tr>\n",
       "    <tr>\n",
       "      <th>1</th>\n",
       "      <td>0</td>\n",
       "      <td>0_0</td>\n",
       "      <td>0_0_0</td>\n",
       "    </tr>\n",
       "    <tr>\n",
       "      <th>2</th>\n",
       "      <td>0</td>\n",
       "      <td>0_0</td>\n",
       "      <td>0_0_0</td>\n",
       "    </tr>\n",
       "    <tr>\n",
       "      <th>3</th>\n",
       "      <td>0</td>\n",
       "      <td>0_0</td>\n",
       "      <td>0_0_0</td>\n",
       "    </tr>\n",
       "    <tr>\n",
       "      <th>4</th>\n",
       "      <td>0</td>\n",
       "      <td>0_0</td>\n",
       "      <td>0_0_0</td>\n",
       "    </tr>\n",
       "    <tr>\n",
       "      <th>...</th>\n",
       "      <td>...</td>\n",
       "      <td>...</td>\n",
       "      <td>...</td>\n",
       "    </tr>\n",
       "    <tr>\n",
       "      <th>62495</th>\n",
       "      <td>4</td>\n",
       "      <td>4_4</td>\n",
       "      <td>4_4_4</td>\n",
       "    </tr>\n",
       "    <tr>\n",
       "      <th>62496</th>\n",
       "      <td>4</td>\n",
       "      <td>4_4</td>\n",
       "      <td>4_4_4</td>\n",
       "    </tr>\n",
       "    <tr>\n",
       "      <th>62497</th>\n",
       "      <td>4</td>\n",
       "      <td>4_4</td>\n",
       "      <td>4_4_4</td>\n",
       "    </tr>\n",
       "    <tr>\n",
       "      <th>62498</th>\n",
       "      <td>4</td>\n",
       "      <td>4_4</td>\n",
       "      <td>4_4_4</td>\n",
       "    </tr>\n",
       "    <tr>\n",
       "      <th>62499</th>\n",
       "      <td>4</td>\n",
       "      <td>4_4</td>\n",
       "      <td>4_4_4</td>\n",
       "    </tr>\n",
       "  </tbody>\n",
       "</table>\n",
       "<p>62500 rows × 3 columns</p>\n",
       "</div>"
      ],
      "text/plain": [
       "      macro_label meso_label micro_label\n",
       "0               0        0_0       0_0_0\n",
       "1               0        0_0       0_0_0\n",
       "2               0        0_0       0_0_0\n",
       "3               0        0_0       0_0_0\n",
       "4               0        0_0       0_0_0\n",
       "...           ...        ...         ...\n",
       "62495           4        4_4       4_4_4\n",
       "62496           4        4_4       4_4_4\n",
       "62497           4        4_4       4_4_4\n",
       "62498           4        4_4       4_4_4\n",
       "62499           4        4_4       4_4_4\n",
       "\n",
       "[62500 rows x 3 columns]"
      ]
     },
     "execution_count": 1,
     "metadata": {},
     "output_type": "execute_result"
    }
   ],
   "source": [
    "from typing import Tuple\n",
    "\n",
    "import numpy as np\n",
    "import pandas as pd\n",
    "\n",
    "\n",
    "def generate_synthetic_hierarchical_data(\n",
    "    seed: int | None = None,\n",
    ") -> Tuple[np.ndarray, np.ndarray, np.ndarray, np.ndarray]:\n",
    "    if seed is not None:\n",
    "        np.random.seed(seed)\n",
    "\n",
    "    # Step 1: Sample 5 macro cluster centers\n",
    "    macro_cluster_centers = np.random.multivariate_normal(\n",
    "        mean=np.zeros(50), cov=10000 * np.eye(50), size=5\n",
    "    )\n",
    "\n",
    "    all_data = []\n",
    "    macro_labels = []\n",
    "    meso_labels = []\n",
    "    micro_labels = []  # New micro labels\n",
    "\n",
    "    # Step 2: Sample 5 meso cluster centers for each macro cluster\n",
    "    for macro_idx, macro_center in enumerate(macro_cluster_centers):\n",
    "        meso_cluster_centers = np.random.multivariate_normal(\n",
    "            mean=macro_center, cov=1000 * np.eye(50), size=5\n",
    "        )\n",
    "\n",
    "        # Step 3: Sample 5 micro cluster centers for each meso cluster\n",
    "        for meso_idx, meso_center in enumerate(meso_cluster_centers):\n",
    "            micro_cluster_centers = np.random.multivariate_normal(\n",
    "                mean=meso_center, cov=100 * np.eye(50), size=5\n",
    "            )\n",
    "\n",
    "            # Step 4: Sample 500 observations for each micro cluster\n",
    "            for micro_idx, micro_center in enumerate(micro_cluster_centers):\n",
    "                observations = np.random.multivariate_normal(\n",
    "                    mean=micro_center, cov=10 * np.eye(50), size=500\n",
    "                )\n",
    "                all_data.append(observations)\n",
    "                macro_labels.append(np.full(500, str(macro_idx)))\n",
    "                meso_labels.append(np.full(500, f\"{macro_idx}_{meso_idx}\"))\n",
    "                micro_labels.append(np.full(500, f\"{macro_idx}_{meso_idx}_{micro_idx}\"))\n",
    "\n",
    "    all_data = np.vstack(all_data)\n",
    "    macro_labels = np.concatenate(macro_labels)\n",
    "    meso_labels = np.concatenate(meso_labels)\n",
    "    micro_labels = np.concatenate(micro_labels)\n",
    "\n",
    "    return (\n",
    "        all_data,\n",
    "        macro_labels,\n",
    "        meso_labels,\n",
    "        micro_labels,\n",
    "    )\n",
    "\n",
    "\n",
    "data, macro_labels, meso_labels, micro_labels = generate_synthetic_hierarchical_data(\n",
    "    seed=42\n",
    ")\n",
    "\n",
    "\n",
    "target_df = pd.DataFrame(\n",
    "    {\n",
    "        \"macro_label\": macro_labels,\n",
    "        \"meso_label\": meso_labels,\n",
    "        \"micro_label\": micro_labels,\n",
    "    }\n",
    ")\n",
    "print(\"Data shape:\", data.shape)\n",
    "print(\"Target DataFrame shape:\", target_df.shape)\n",
    "target_df"
   ]
  },
  {
   "cell_type": "markdown",
   "metadata": {},
   "source": [
    "For generating one color per cluster, `glasbey` is the tool for the job. However, for the meso \n",
    "clusters, we want variations on a single hue, and it would make sense for the base hue to the hue \n",
    "of the macro cluster. Seems a bit tricky, but `glasbey` has exactly what we need, courtesy of \n",
    "[block palettes](https://glasbey.readthedocs.io/en/latest/creating_block_palettes.html).\n",
    "\n",
    "My initial plan was to create a 5 blocks of 5 palettes, and use the first color in the palette as \n",
    "the macro cluster color. It turns out the first colors are a little too dark for my tastes when\n",
    "used on their own so we actually use the middle color of each\n",
    "palette.\n",
    "\n",
    "Also it then turned out from a closer reading of Appendix B, that we actually need unique colors for\n",
    "each microcluster. So that's 125 colors!"
   ]
  },
  {
   "cell_type": "code",
   "execution_count": 2,
   "metadata": {},
   "outputs": [
    {
     "data": {
      "text/plain": [
       "{'macro_label': {'0': '#d53244',\n",
       "  '1': '#347cf9',\n",
       "  '2': '#2c8706',\n",
       "  '3': '#d142ef',\n",
       "  '4': '#7c7876'},\n",
       " 'meso_label': {'0_0': '#6c0016',\n",
       "  '0_1': '#a3002c',\n",
       "  '0_2': '#d53244',\n",
       "  '0_3': '#ed6c5c',\n",
       "  '0_4': '#fb9f72',\n",
       "  '1_0': '#0a00c1',\n",
       "  '1_1': '#1646e9',\n",
       "  '1_2': '#347cf9',\n",
       "  '1_3': '#6aa9f3',\n",
       "  '1_4': '#9dd1f5',\n",
       "  '2_0': '#003600',\n",
       "  '2_1': '#006000',\n",
       "  '2_2': '#2c8706',\n",
       "  '2_3': '#60ad16',\n",
       "  '2_4': '#95d524',\n",
       "  '3_0': '#6a0e81',\n",
       "  '3_1': '#9f20bb',\n",
       "  '3_2': '#d142ef',\n",
       "  '3_3': '#f583ff',\n",
       "  '3_4': '#ffbfff',\n",
       "  '4_0': '#343034',\n",
       "  '4_1': '#585458',\n",
       "  '4_2': '#7c7876',\n",
       "  '4_3': '#a79d8b',\n",
       "  '4_4': '#d5c59b'},\n",
       " 'micro_label': {'0_0_0': '#56000c',\n",
       "  '0_0_1': '#600010',\n",
       "  '0_0_2': '#6c0016',\n",
       "  '0_0_3': '#76001a',\n",
       "  '0_0_4': '#810020',\n",
       "  '0_1_0': '#8d0024',\n",
       "  '0_1_1': '#990028',\n",
       "  '0_1_2': '#a3002c',\n",
       "  '0_1_3': '#af0030',\n",
       "  '0_1_4': '#b90c36',\n",
       "  '0_2_0': '#c31a3a',\n",
       "  '0_2_1': '#cd243e',\n",
       "  '0_2_2': '#d53244',\n",
       "  '0_2_3': '#db4048',\n",
       "  '0_2_4': '#e14c4e',\n",
       "  '0_3_0': '#e55652',\n",
       "  '0_3_1': '#e96258',\n",
       "  '0_3_2': '#ed6c5c',\n",
       "  '0_3_3': '#f17862',\n",
       "  '0_3_4': '#f37e64',\n",
       "  '0_4_0': '#f78b6a',\n",
       "  '0_4_1': '#f9956e',\n",
       "  '0_4_2': '#fb9f72',\n",
       "  '0_4_3': '#fda978',\n",
       "  '0_4_4': '#fdb37c',\n",
       "  '1_0_0': '#02009b',\n",
       "  '1_0_1': '#0400af',\n",
       "  '1_0_2': '#0a00c1',\n",
       "  '1_0_3': '#1000d3',\n",
       "  '1_0_4': '#161cd9',\n",
       "  '1_1_0': '#182add',\n",
       "  '1_1_1': '#163ae3',\n",
       "  '1_1_2': '#1646e9',\n",
       "  '1_1_3': '#1e52f1',\n",
       "  '1_1_4': '#1e5cf7',\n",
       "  '1_2_0': '#2266fd',\n",
       "  '1_2_1': '#2a70fd',\n",
       "  '1_2_2': '#347cf9',\n",
       "  '1_2_3': '#4087f7',\n",
       "  '1_2_4': '#488df5',\n",
       "  '1_3_0': '#5497f3',\n",
       "  '1_3_1': '#5e9ff3',\n",
       "  '1_3_2': '#6aa9f3',\n",
       "  '1_3_3': '#74b1f1',\n",
       "  '1_3_4': '#7eb9f3',\n",
       "  '1_4_0': '#89c1f3',\n",
       "  '1_4_1': '#93c9f3',\n",
       "  '1_4_2': '#9dd1f5',\n",
       "  '1_4_3': '#a7d9f7',\n",
       "  '1_4_4': '#afe1f9',\n",
       "  '2_0_0': '#002c00',\n",
       "  '2_0_1': '#003000',\n",
       "  '2_0_2': '#003600',\n",
       "  '2_0_3': '#004000',\n",
       "  '2_0_4': '#004800',\n",
       "  '2_1_0': '#005000',\n",
       "  '2_1_1': '#005a00',\n",
       "  '2_1_2': '#006000',\n",
       "  '2_1_3': '#006a00',\n",
       "  '2_1_4': '#007000',\n",
       "  '2_2_0': '#0e7a02',\n",
       "  '2_2_1': '#1e7e02',\n",
       "  '2_2_2': '#2c8706',\n",
       "  '2_2_3': '#388f08',\n",
       "  '2_2_4': '#42970c',\n",
       "  '2_3_0': '#4c9f10',\n",
       "  '2_3_1': '#54a512',\n",
       "  '2_3_2': '#60ad16',\n",
       "  '2_3_3': '#68b318',\n",
       "  '2_3_4': '#74bb1a',\n",
       "  '2_4_0': '#7cc31e',\n",
       "  '2_4_1': '#89cb20',\n",
       "  '2_4_2': '#95d524',\n",
       "  '2_4_3': '#9fdd26',\n",
       "  '2_4_4': '#ade72a',\n",
       "  '3_0_0': '#540666',\n",
       "  '3_0_1': '#600a74',\n",
       "  '3_0_2': '#6a0e81',\n",
       "  '3_0_3': '#76108d',\n",
       "  '3_0_4': '#811499',\n",
       "  '3_1_0': '#8b16a5',\n",
       "  '3_1_1': '#951aaf',\n",
       "  '3_1_2': '#9f20bb',\n",
       "  '3_1_3': '#a726c3',\n",
       "  '3_1_4': '#b32ad1',\n",
       "  '3_2_0': '#bb32d9',\n",
       "  '3_2_1': '#c738e5',\n",
       "  '3_2_2': '#d142ef',\n",
       "  '3_2_3': '#db4cf9',\n",
       "  '3_2_4': '#e358ff',\n",
       "  '3_3_0': '#e968ff',\n",
       "  '3_3_1': '#ef76ff',\n",
       "  '3_3_2': '#f583ff',\n",
       "  '3_3_3': '#f991ff',\n",
       "  '3_3_4': '#fb9dff',\n",
       "  '3_4_0': '#fda9ff',\n",
       "  '3_4_1': '#ffb5ff',\n",
       "  '3_4_2': '#ffbfff',\n",
       "  '3_4_3': '#ffcbff',\n",
       "  '3_4_4': '#ffd3ff',\n",
       "  '4_0_0': '#2a2426',\n",
       "  '4_0_1': '#2e2a2c',\n",
       "  '4_0_2': '#343034',\n",
       "  '4_0_3': '#3c383c',\n",
       "  '4_0_4': '#403e42',\n",
       "  '4_1_0': '#48464a',\n",
       "  '4_1_1': '#4e4c50',\n",
       "  '4_1_2': '#585458',\n",
       "  '4_1_3': '#605c60',\n",
       "  '4_1_4': '#666264',\n",
       "  '4_2_0': '#6e6a6c',\n",
       "  '4_2_1': '#767272',\n",
       "  '4_2_2': '#7c7876',\n",
       "  '4_2_3': '#87817c',\n",
       "  '4_2_4': '#8f8981',\n",
       "  '4_3_0': '#978f85',\n",
       "  '4_3_1': '#9f9789',\n",
       "  '4_3_2': '#a79d8b',\n",
       "  '4_3_3': '#afa591',\n",
       "  '4_3_4': '#b9ad93',\n",
       "  '4_4_0': '#c1b395',\n",
       "  '4_4_1': '#cbbd99',\n",
       "  '4_4_2': '#d5c59b',\n",
       "  '4_4_3': '#e1cf9f',\n",
       "  '4_4_4': '#ebd7a1'}}"
      ]
     },
     "execution_count": 2,
     "metadata": {},
     "output_type": "execute_result"
    }
   ],
   "source": [
    "import glasbey\n",
    "\n",
    "# Generate synthetic data and labels (including micro labels)\n",
    "all_data, macro_labels, meso_labels, micro_labels = (\n",
    "    generate_synthetic_hierarchical_data(seed=123)\n",
    ")\n",
    "\n",
    "# Convert labels to pandas DataFrame for easier handling\n",
    "target_df = pd.DataFrame(\n",
    "    {\n",
    "        \"macro_label\": macro_labels,\n",
    "        \"meso_label\": meso_labels,\n",
    "        \"micro_label\": micro_labels,\n",
    "    }\n",
    ")\n",
    "\n",
    "# Extract unique labels for each level\n",
    "unique_macro_labels = target_df[\"macro_label\"].unique()\n",
    "unique_meso_labels = target_df[\"meso_label\"].unique()\n",
    "unique_micro_labels = target_df[\"micro_label\"].unique()\n",
    "\n",
    "# Define block sizes (25 micro clusters per macro cluster)\n",
    "block_sizes = [25 for _ in unique_macro_labels]  # [25, 25, 25, 25, 25]\n",
    "\n",
    "# Generate a palette of 125 unique colors with swatches for each macro cluster\n",
    "# Had to increase `grid_size` to 128 to accommodate 125 unique colors\n",
    "block_palette = glasbey.create_block_palette(block_sizes, grid_size=128)\n",
    "\n",
    "# Initialize dictionaries to hold colors for macro, meso, and micro clusters\n",
    "macro_label_color_map = {}\n",
    "meso_label_color_map = {}\n",
    "micro_label_color_map = {}\n",
    "color_index = 0\n",
    "\n",
    "# Step 1: Assign unique colors to micro clusters\n",
    "for i, micro_label in enumerate(unique_micro_labels):\n",
    "    micro_label_color_map[micro_label] = block_palette[i]\n",
    "\n",
    "# Step 2: Assign colors to meso clusters (middle micro cluster color)\n",
    "for meso_label in unique_meso_labels:\n",
    "    # Get the 5 micro clusters under this meso cluster\n",
    "    micro_labels_for_meso = [\n",
    "        label for label in unique_micro_labels if label.startswith(meso_label)\n",
    "    ]\n",
    "    # Assign the middle micro cluster's color to the meso cluster\n",
    "    middle_micro_label = micro_labels_for_meso[len(micro_labels_for_meso) // 2]\n",
    "    meso_label_color_map[meso_label] = micro_label_color_map[middle_micro_label]\n",
    "\n",
    "# Step 3: Assign colors to macro clusters (middle meso cluster color)\n",
    "for macro_label in unique_macro_labels:\n",
    "    # Get the 5 meso clusters under this macro cluster\n",
    "    meso_labels_for_macro = [\n",
    "        label for label in unique_meso_labels if label.startswith(macro_label)\n",
    "    ]\n",
    "    # Assign the middle meso cluster's color to the macro cluster\n",
    "    middle_meso_label = meso_labels_for_macro[len(meso_labels_for_macro) // 2]\n",
    "    macro_label_color_map[macro_label] = meso_label_color_map[middle_meso_label]\n",
    "\n",
    "# Combine all color mappings\n",
    "color_map = {\n",
    "    \"macro_label\": macro_label_color_map,\n",
    "    \"meso_label\": meso_label_color_map,\n",
    "    \"micro_label\": micro_label_color_map,\n",
    "}\n",
    "\n",
    "color_map\n"
   ]
  },
  {
   "cell_type": "markdown",
   "metadata": {},
   "source": [
    "Here's what `glasbey` came up with:"
   ]
  },
  {
   "cell_type": "code",
   "execution_count": 3,
   "metadata": {},
   "outputs": [
    {
     "data": {
      "image/png": "[encoded data removed]",
      "text/plain": [
       "<Figure size 12500x100 with 1 Axes>"
      ]
     },
     "metadata": {},
     "output_type": "display_data"
    }
   ],
   "source": [
    "import seaborn as sns\n",
    "\n",
    "sns.palplot(block_palette)\n"
   ]
  },
  {
   "cell_type": "markdown",
   "metadata": {},
   "source": [
    "Make sure that we got 125 unique colors:"
   ]
  },
  {
   "cell_type": "code",
   "execution_count": 4,
   "metadata": {},
   "outputs": [
    {
     "data": {
      "text/plain": [
       "125"
      ]
     },
     "execution_count": 4,
     "metadata": {},
     "output_type": "execute_result"
    }
   ],
   "source": [
    "len(set(color_map[\"micro_label\"].values()))"
   ]
  },
  {
   "cell_type": "markdown",
   "metadata": {},
   "source": [
    "Save all of that:"
   ]
  },
  {
   "cell_type": "code",
   "execution_count": 6,
   "metadata": {},
   "outputs": [
    {
     "data": {
      "text/html": [
       "<pre style=\"white-space:pre;overflow-x:auto;line-height:normal;font-family:Menlo,'DejaVu Sans Mono',consolas,'Courier New',monospace;margin-bottom:0px;margin-top:0px\"><span style=\"color: #7fbfbf; text-decoration-color: #7fbfbf\">[23:29:11] </span><span style=\"color: #000080; text-decoration-color: #000080\">INFO    </span> Requesting one extra neighbor to account for self-neighbor       <a href=\"file:///home/james/dev/drnb3/src/drnb/neighbors/__init__.py\" target=\"_blank\"><span style=\"color: #7f7f7f; text-decoration-color: #7f7f7f\">__init__.py</span></a><span style=\"color: #7f7f7f; text-decoration-color: #7f7f7f\">:</span><a href=\"file:///home/james/dev/drnb3/src/drnb/neighbors/__init__.py#623\" target=\"_blank\"><span style=\"color: #7f7f7f; text-decoration-color: #7f7f7f\">623</span></a>\n",
       "</pre>\n"
      ],
      "text/plain": [
       "\u001b[2;36m[23:29:11]\u001b[0m\u001b[2;36m \u001b[0m\u001b[34mINFO    \u001b[0m Requesting one extra neighbor to account for self-neighbor       \u001b]8;id=588592;file:///home/james/dev/drnb3/src/drnb/neighbors/__init__.py\u001b\\\u001b[2m__init__.py\u001b[0m\u001b]8;;\u001b\\\u001b[2m:\u001b[0m\u001b]8;id=831602;file:///home/james/dev/drnb3/src/drnb/neighbors/__init__.py#623\u001b\\\u001b[2m623\u001b[0m\u001b]8;;\u001b\\\n"
      ]
     },
     "metadata": {},
     "output_type": "display_data"
    },
    {
     "data": {
      "text/html": [
       "<pre style=\"white-space:pre;overflow-x:auto;line-height:normal;font-family:Menlo,'DejaVu Sans Mono',consolas,'Courier New',monospace;margin-bottom:0px;margin-top:0px\"><span style=\"color: #7fbfbf; text-decoration-color: #7fbfbf\">           </span><span style=\"color: #000080; text-decoration-color: #000080\">INFO    </span> Initial data shape: <span style=\"font-weight: bold\">(</span><span style=\"color: #008080; text-decoration-color: #008080; font-weight: bold\">62500</span>, <span style=\"color: #008080; text-decoration-color: #008080; font-weight: bold\">50</span><span style=\"font-weight: bold\">)</span>                                   <a href=\"file:///home/james/dev/drnb3/src/drnb/io/pipeline.py\" target=\"_blank\"><span style=\"color: #7f7f7f; text-decoration-color: #7f7f7f\">pipeline.py</span></a><span style=\"color: #7f7f7f; text-decoration-color: #7f7f7f\">:</span><a href=\"file:///home/james/dev/drnb3/src/drnb/io/pipeline.py#83\" target=\"_blank\"><span style=\"color: #7f7f7f; text-decoration-color: #7f7f7f\">83</span></a>\n",
       "</pre>\n"
      ],
      "text/plain": [
       "\u001b[2;36m          \u001b[0m\u001b[2;36m \u001b[0m\u001b[34mINFO    \u001b[0m Initial data shape: \u001b[1m(\u001b[0m\u001b[1;36m62500\u001b[0m, \u001b[1;36m50\u001b[0m\u001b[1m)\u001b[0m                                   \u001b]8;id=201711;file:///home/james/dev/drnb3/src/drnb/io/pipeline.py\u001b\\\u001b[2mpipeline.py\u001b[0m\u001b]8;;\u001b\\\u001b[2m:\u001b[0m\u001b]8;id=30322;file:///home/james/dev/drnb3/src/drnb/io/pipeline.py#83\u001b\\\u001b[2m83\u001b[0m\u001b]8;;\u001b\\\n"
      ]
     },
     "metadata": {},
     "output_type": "display_data"
    },
    {
     "data": {
      "text/html": [
       "<pre style=\"white-space:pre;overflow-x:auto;line-height:normal;font-family:Menlo,'DejaVu Sans Mono',consolas,'Courier New',monospace;margin-bottom:0px;margin-top:0px\"><span style=\"color: #7fbfbf; text-decoration-color: #7fbfbf\">           </span><span style=\"color: #000080; text-decoration-color: #000080\">INFO    </span> Keeping all columns                                             <a href=\"file:///home/james/dev/drnb3/src/drnb/preprocess.py\" target=\"_blank\"><span style=\"color: #7f7f7f; text-decoration-color: #7f7f7f\">preprocess.py</span></a><span style=\"color: #7f7f7f; text-decoration-color: #7f7f7f\">:</span><a href=\"file:///home/james/dev/drnb3/src/drnb/preprocess.py#90\" target=\"_blank\"><span style=\"color: #7f7f7f; text-decoration-color: #7f7f7f\">90</span></a>\n",
       "</pre>\n"
      ],
      "text/plain": [
       "\u001b[2;36m          \u001b[0m\u001b[2;36m \u001b[0m\u001b[34mINFO    \u001b[0m Keeping all columns                                             \u001b]8;id=105610;file:///home/james/dev/drnb3/src/drnb/preprocess.py\u001b\\\u001b[2mpreprocess.py\u001b[0m\u001b]8;;\u001b\\\u001b[2m:\u001b[0m\u001b]8;id=978396;file:///home/james/dev/drnb3/src/drnb/preprocess.py#90\u001b\\\u001b[2m90\u001b[0m\u001b]8;;\u001b\\\n"
      ]
     },
     "metadata": {},
     "output_type": "display_data"
    },
    {
     "data": {
      "text/html": [
       "<pre style=\"white-space:pre;overflow-x:auto;line-height:normal;font-family:Menlo,'DejaVu Sans Mono',consolas,'Courier New',monospace;margin-bottom:0px;margin-top:0px\"><span style=\"color: #7fbfbf; text-decoration-color: #7fbfbf\">           </span><span style=\"color: #000080; text-decoration-color: #000080\">INFO    </span> Data shape after filtering columns: <span style=\"font-weight: bold\">(</span><span style=\"color: #008080; text-decoration-color: #008080; font-weight: bold\">62500</span>, <span style=\"color: #008080; text-decoration-color: #008080; font-weight: bold\">50</span><span style=\"font-weight: bold\">)</span>                  <a href=\"file:///home/james/dev/drnb3/src/drnb/io/pipeline.py\" target=\"_blank\"><span style=\"color: #7f7f7f; text-decoration-color: #7f7f7f\">pipeline.py</span></a><span style=\"color: #7f7f7f; text-decoration-color: #7f7f7f\">:</span><a href=\"file:///home/james/dev/drnb3/src/drnb/io/pipeline.py#164\" target=\"_blank\"><span style=\"color: #7f7f7f; text-decoration-color: #7f7f7f\">164</span></a>\n",
       "</pre>\n"
      ],
      "text/plain": [
       "\u001b[2;36m          \u001b[0m\u001b[2;36m \u001b[0m\u001b[34mINFO    \u001b[0m Data shape after filtering columns: \u001b[1m(\u001b[0m\u001b[1;36m62500\u001b[0m, \u001b[1;36m50\u001b[0m\u001b[1m)\u001b[0m                  \u001b]8;id=993888;file:///home/james/dev/drnb3/src/drnb/io/pipeline.py\u001b\\\u001b[2mpipeline.py\u001b[0m\u001b]8;;\u001b\\\u001b[2m:\u001b[0m\u001b]8;id=572966;file:///home/james/dev/drnb3/src/drnb/io/pipeline.py#164\u001b\\\u001b[2m164\u001b[0m\u001b]8;;\u001b\\\n"
      ]
     },
     "metadata": {},
     "output_type": "display_data"
    },
    {
     "data": {
      "text/html": [
       "<pre style=\"white-space:pre;overflow-x:auto;line-height:normal;font-family:Menlo,'DejaVu Sans Mono',consolas,'Courier New',monospace;margin-bottom:0px;margin-top:0px\"><span style=\"color: #7fbfbf; text-decoration-color: #7fbfbf\">           </span><span style=\"color: #000080; text-decoration-color: #000080\">INFO    </span> Removing rows with NAs                                           <a href=\"file:///home/james/dev/drnb3/src/drnb/io/pipeline.py\" target=\"_blank\"><span style=\"color: #7f7f7f; text-decoration-color: #7f7f7f\">pipeline.py</span></a><span style=\"color: #7f7f7f; text-decoration-color: #7f7f7f\">:</span><a href=\"file:///home/james/dev/drnb3/src/drnb/io/pipeline.py#145\" target=\"_blank\"><span style=\"color: #7f7f7f; text-decoration-color: #7f7f7f\">145</span></a>\n",
       "</pre>\n"
      ],
      "text/plain": [
       "\u001b[2;36m          \u001b[0m\u001b[2;36m \u001b[0m\u001b[34mINFO    \u001b[0m Removing rows with NAs                                           \u001b]8;id=958797;file:///home/james/dev/drnb3/src/drnb/io/pipeline.py\u001b\\\u001b[2mpipeline.py\u001b[0m\u001b]8;;\u001b\\\u001b[2m:\u001b[0m\u001b]8;id=453805;file:///home/james/dev/drnb3/src/drnb/io/pipeline.py#145\u001b\\\u001b[2m145\u001b[0m\u001b]8;;\u001b\\\n"
      ]
     },
     "metadata": {},
     "output_type": "display_data"
    },
    {
     "data": {
      "text/html": [
       "<pre style=\"white-space:pre;overflow-x:auto;line-height:normal;font-family:Menlo,'DejaVu Sans Mono',consolas,'Courier New',monospace;margin-bottom:0px;margin-top:0px\"><span style=\"color: #7fbfbf; text-decoration-color: #7fbfbf\">           </span><span style=\"color: #000080; text-decoration-color: #000080\">INFO    </span> Data shape after filtering NAs: <span style=\"font-weight: bold\">(</span><span style=\"color: #008080; text-decoration-color: #008080; font-weight: bold\">62500</span>, <span style=\"color: #008080; text-decoration-color: #008080; font-weight: bold\">50</span><span style=\"font-weight: bold\">)</span>                      <a href=\"file:///home/james/dev/drnb3/src/drnb/io/pipeline.py\" target=\"_blank\"><span style=\"color: #7f7f7f; text-decoration-color: #7f7f7f\">pipeline.py</span></a><span style=\"color: #7f7f7f; text-decoration-color: #7f7f7f\">:</span><a href=\"file:///home/james/dev/drnb3/src/drnb/io/pipeline.py#156\" target=\"_blank\"><span style=\"color: #7f7f7f; text-decoration-color: #7f7f7f\">156</span></a>\n",
       "</pre>\n"
      ],
      "text/plain": [
       "\u001b[2;36m          \u001b[0m\u001b[2;36m \u001b[0m\u001b[34mINFO    \u001b[0m Data shape after filtering NAs: \u001b[1m(\u001b[0m\u001b[1;36m62500\u001b[0m, \u001b[1;36m50\u001b[0m\u001b[1m)\u001b[0m                      \u001b]8;id=382523;file:///home/james/dev/drnb3/src/drnb/io/pipeline.py\u001b\\\u001b[2mpipeline.py\u001b[0m\u001b]8;;\u001b\\\u001b[2m:\u001b[0m\u001b]8;id=645933;file:///home/james/dev/drnb3/src/drnb/io/pipeline.py#156\u001b\\\u001b[2m156\u001b[0m\u001b]8;;\u001b\\\n"
      ]
     },
     "metadata": {},
     "output_type": "display_data"
    },
    {
     "data": {
      "text/html": [
       "<pre style=\"white-space:pre;overflow-x:auto;line-height:normal;font-family:Menlo,'DejaVu Sans Mono',consolas,'Courier New',monospace;margin-bottom:0px;margin-top:0px\"><span style=\"color: #7fbfbf; text-decoration-color: #7fbfbf\">           </span><span style=\"color: #000080; text-decoration-color: #000080\">INFO    </span> Checked for duplicates: found <span style=\"color: #008080; text-decoration-color: #008080; font-weight: bold\">0</span>                                  <a href=\"file:///home/james/dev/drnb3/src/drnb/io/pipeline.py\" target=\"_blank\"><span style=\"color: #7f7f7f; text-decoration-color: #7f7f7f\">pipeline.py</span></a><span style=\"color: #7f7f7f; text-decoration-color: #7f7f7f\">:</span><a href=\"file:///home/james/dev/drnb3/src/drnb/io/pipeline.py#172\" target=\"_blank\"><span style=\"color: #7f7f7f; text-decoration-color: #7f7f7f\">172</span></a>\n",
       "</pre>\n"
      ],
      "text/plain": [
       "\u001b[2;36m          \u001b[0m\u001b[2;36m \u001b[0m\u001b[34mINFO    \u001b[0m Checked for duplicates: found \u001b[1;36m0\u001b[0m                                  \u001b]8;id=526082;file:///home/james/dev/drnb3/src/drnb/io/pipeline.py\u001b\\\u001b[2mpipeline.py\u001b[0m\u001b]8;;\u001b\\\u001b[2m:\u001b[0m\u001b]8;id=337614;file:///home/james/dev/drnb3/src/drnb/io/pipeline.py#172\u001b\\\u001b[2m172\u001b[0m\u001b]8;;\u001b\\\n"
      ]
     },
     "metadata": {},
     "output_type": "display_data"
    },
    {
     "data": {
      "text/html": [
       "<pre style=\"white-space:pre;overflow-x:auto;line-height:normal;font-family:Menlo,'DejaVu Sans Mono',consolas,'Courier New',monospace;margin-bottom:0px;margin-top:0px\"><span style=\"color: #7fbfbf; text-decoration-color: #7fbfbf\">           </span><span style=\"color: #000080; text-decoration-color: #000080\">INFO    </span> Converting to numpy with <span style=\"font-weight: bold\">{</span><span style=\"color: #008000; text-decoration-color: #008000\">'dtype'</span>: <span style=\"color: #008000; text-decoration-color: #008000\">'float32'</span>, <span style=\"color: #008000; text-decoration-color: #008000\">'layout'</span>: <span style=\"color: #008000; text-decoration-color: #008000\">'c'</span><span style=\"font-weight: bold\">}</span>     <a href=\"file:///home/james/dev/drnb3/src/drnb/io/pipeline.py\" target=\"_blank\"><span style=\"color: #7f7f7f; text-decoration-color: #7f7f7f\">pipeline.py</span></a><span style=\"color: #7f7f7f; text-decoration-color: #7f7f7f\">:</span><a href=\"file:///home/james/dev/drnb3/src/drnb/io/pipeline.py#187\" target=\"_blank\"><span style=\"color: #7f7f7f; text-decoration-color: #7f7f7f\">187</span></a>\n",
       "</pre>\n"
      ],
      "text/plain": [
       "\u001b[2;36m          \u001b[0m\u001b[2;36m \u001b[0m\u001b[34mINFO    \u001b[0m Converting to numpy with \u001b[1m{\u001b[0m\u001b[32m'dtype'\u001b[0m: \u001b[32m'float32'\u001b[0m, \u001b[32m'layout'\u001b[0m: \u001b[32m'c'\u001b[0m\u001b[1m}\u001b[0m     \u001b]8;id=564107;file:///home/james/dev/drnb3/src/drnb/io/pipeline.py\u001b\\\u001b[2mpipeline.py\u001b[0m\u001b]8;;\u001b\\\u001b[2m:\u001b[0m\u001b]8;id=886978;file:///home/james/dev/drnb3/src/drnb/io/pipeline.py#187\u001b\\\u001b[2m187\u001b[0m\u001b]8;;\u001b\\\n"
      ]
     },
     "metadata": {},
     "output_type": "display_data"
    },
    {
     "data": {
      "text/html": [
       "<pre style=\"white-space:pre;overflow-x:auto;line-height:normal;font-family:Menlo,'DejaVu Sans Mono',consolas,'Courier New',monospace;margin-bottom:0px;margin-top:0px\"><span style=\"color: #7fbfbf; text-decoration-color: #7fbfbf\">           </span><span style=\"color: #000080; text-decoration-color: #000080\">INFO    </span> Writing data for synthetic-hierarchical                          <a href=\"file:///home/james/dev/drnb3/src/drnb/io/pipeline.py\" target=\"_blank\"><span style=\"color: #7f7f7f; text-decoration-color: #7f7f7f\">pipeline.py</span></a><span style=\"color: #7f7f7f; text-decoration-color: #7f7f7f\">:</span><a href=\"file:///home/james/dev/drnb3/src/drnb/io/pipeline.py#298\" target=\"_blank\"><span style=\"color: #7f7f7f; text-decoration-color: #7f7f7f\">298</span></a>\n",
       "</pre>\n"
      ],
      "text/plain": [
       "\u001b[2;36m          \u001b[0m\u001b[2;36m \u001b[0m\u001b[34mINFO    \u001b[0m Writing data for synthetic-hierarchical                          \u001b]8;id=312487;file:///home/james/dev/drnb3/src/drnb/io/pipeline.py\u001b\\\u001b[2mpipeline.py\u001b[0m\u001b]8;;\u001b\\\u001b[2m:\u001b[0m\u001b]8;id=154081;file:///home/james/dev/drnb3/src/drnb/io/pipeline.py#298\u001b\\\u001b[2m298\u001b[0m\u001b]8;;\u001b\\\n"
      ]
     },
     "metadata": {},
     "output_type": "display_data"
    },
    {
     "data": {
      "text/html": [
       "<pre style=\"white-space:pre;overflow-x:auto;line-height:normal;font-family:Menlo,'DejaVu Sans Mono',consolas,'Courier New',monospace;margin-bottom:0px;margin-top:0px\"><span style=\"color: #7fbfbf; text-decoration-color: #7fbfbf\">[23:29:16] </span><span style=\"color: #000080; text-decoration-color: #000080\">INFO    </span> Processing target with initial shape <span style=\"font-weight: bold\">(</span><span style=\"color: #008080; text-decoration-color: #008080; font-weight: bold\">62500</span>, <span style=\"color: #008080; text-decoration-color: #008080; font-weight: bold\">3</span><span style=\"font-weight: bold\">)</span>                  <a href=\"file:///home/james/dev/drnb3/src/drnb/io/pipeline.py\" target=\"_blank\"><span style=\"color: #7f7f7f; text-decoration-color: #7f7f7f\">pipeline.py</span></a><span style=\"color: #7f7f7f; text-decoration-color: #7f7f7f\">:</span><a href=\"file:///home/james/dev/drnb3/src/drnb/io/pipeline.py#243\" target=\"_blank\"><span style=\"color: #7f7f7f; text-decoration-color: #7f7f7f\">243</span></a>\n",
       "</pre>\n"
      ],
      "text/plain": [
       "\u001b[2;36m[23:29:16]\u001b[0m\u001b[2;36m \u001b[0m\u001b[34mINFO    \u001b[0m Processing target with initial shape \u001b[1m(\u001b[0m\u001b[1;36m62500\u001b[0m, \u001b[1;36m3\u001b[0m\u001b[1m)\u001b[0m                  \u001b]8;id=603065;file:///home/james/dev/drnb3/src/drnb/io/pipeline.py\u001b\\\u001b[2mpipeline.py\u001b[0m\u001b]8;;\u001b\\\u001b[2m:\u001b[0m\u001b]8;id=214078;file:///home/james/dev/drnb3/src/drnb/io/pipeline.py#243\u001b\\\u001b[2m243\u001b[0m\u001b]8;;\u001b\\\n"
      ]
     },
     "metadata": {},
     "output_type": "display_data"
    },
    {
     "data": {
      "text/html": [
       "<pre style=\"white-space:pre;overflow-x:auto;line-height:normal;font-family:Menlo,'DejaVu Sans Mono',consolas,'Courier New',monospace;margin-bottom:0px;margin-top:0px\"><span style=\"color: #7fbfbf; text-decoration-color: #7fbfbf\">           </span><span style=\"color: #000080; text-decoration-color: #000080\">INFO    </span> Keeping all columns                                             <a href=\"file:///home/james/dev/drnb3/src/drnb/preprocess.py\" target=\"_blank\"><span style=\"color: #7f7f7f; text-decoration-color: #7f7f7f\">preprocess.py</span></a><span style=\"color: #7f7f7f; text-decoration-color: #7f7f7f\">:</span><a href=\"file:///home/james/dev/drnb3/src/drnb/preprocess.py#90\" target=\"_blank\"><span style=\"color: #7f7f7f; text-decoration-color: #7f7f7f\">90</span></a>\n",
       "</pre>\n"
      ],
      "text/plain": [
       "\u001b[2;36m          \u001b[0m\u001b[2;36m \u001b[0m\u001b[34mINFO    \u001b[0m Keeping all columns                                             \u001b]8;id=499144;file:///home/james/dev/drnb3/src/drnb/preprocess.py\u001b\\\u001b[2mpreprocess.py\u001b[0m\u001b]8;;\u001b\\\u001b[2m:\u001b[0m\u001b]8;id=577715;file:///home/james/dev/drnb3/src/drnb/preprocess.py#90\u001b\\\u001b[2m90\u001b[0m\u001b]8;;\u001b\\\n"
      ]
     },
     "metadata": {},
     "output_type": "display_data"
    },
    {
     "data": {
      "text/html": [
       "<pre style=\"white-space:pre;overflow-x:auto;line-height:normal;font-family:Menlo,'DejaVu Sans Mono',consolas,'Courier New',monospace;margin-bottom:0px;margin-top:0px\"><span style=\"color: #7fbfbf; text-decoration-color: #7fbfbf\">           </span><span style=\"color: #000080; text-decoration-color: #000080\">INFO    </span> Writing target for synthetic-hierarchical                        <a href=\"file:///home/james/dev/drnb3/src/drnb/io/pipeline.py\" target=\"_blank\"><span style=\"color: #7f7f7f; text-decoration-color: #7f7f7f\">pipeline.py</span></a><span style=\"color: #7f7f7f; text-decoration-color: #7f7f7f\">:</span><a href=\"file:///home/james/dev/drnb3/src/drnb/io/pipeline.py#298\" target=\"_blank\"><span style=\"color: #7f7f7f; text-decoration-color: #7f7f7f\">298</span></a>\n",
       "</pre>\n"
      ],
      "text/plain": [
       "\u001b[2;36m          \u001b[0m\u001b[2;36m \u001b[0m\u001b[34mINFO    \u001b[0m Writing target for synthetic-hierarchical                        \u001b]8;id=820622;file:///home/james/dev/drnb3/src/drnb/io/pipeline.py\u001b\\\u001b[2mpipeline.py\u001b[0m\u001b]8;;\u001b\\\u001b[2m:\u001b[0m\u001b]8;id=214002;file:///home/james/dev/drnb3/src/drnb/io/pipeline.py#298\u001b\\\u001b[2m298\u001b[0m\u001b]8;;\u001b\\\n"
      ]
     },
     "metadata": {},
     "output_type": "display_data"
    },
    {
     "data": {
      "text/html": [
       "<pre style=\"white-space:pre;overflow-x:auto;line-height:normal;font-family:Menlo,'DejaVu Sans Mono',consolas,'Courier New',monospace;margin-bottom:0px;margin-top:0px\"><span style=\"color: #7fbfbf; text-decoration-color: #7fbfbf\">           </span><span style=\"color: #000080; text-decoration-color: #000080\">INFO    </span> Writing pkl format to                                            <a href=\"file:///home/james/dev/drnb3/src/drnb/io/__init__.py\" target=\"_blank\"><span style=\"color: #7f7f7f; text-decoration-color: #7f7f7f\">__init__.py</span></a><span style=\"color: #7f7f7f; text-decoration-color: #7f7f7f\">:</span><a href=\"file:///home/james/dev/drnb3/src/drnb/io/__init__.py#458\" target=\"_blank\"><span style=\"color: #7f7f7f; text-decoration-color: #7f7f7f\">458</span></a>\n",
       "<span style=\"color: #7fbfbf; text-decoration-color: #7fbfbf\">           </span>         data/synthetic-hierarchical-target-palette.pkl                   <span style=\"color: #7f7f7f; text-decoration-color: #7f7f7f\">               </span>\n",
       "</pre>\n"
      ],
      "text/plain": [
       "\u001b[2;36m          \u001b[0m\u001b[2;36m \u001b[0m\u001b[34mINFO    \u001b[0m Writing pkl format to                                            \u001b]8;id=639359;file:///home/james/dev/drnb3/src/drnb/io/__init__.py\u001b\\\u001b[2m__init__.py\u001b[0m\u001b]8;;\u001b\\\u001b[2m:\u001b[0m\u001b]8;id=50585;file:///home/james/dev/drnb3/src/drnb/io/__init__.py#458\u001b\\\u001b[2m458\u001b[0m\u001b]8;;\u001b\\\n",
       "\u001b[2;36m           \u001b[0m         data/synthetic-hierarchical-target-palette.pkl                   \u001b[2m               \u001b[0m\n"
      ]
     },
     "metadata": {},
     "output_type": "display_data"
    },
    {
     "data": {
      "text/html": [
       "<pre style=\"white-space:pre;overflow-x:auto;line-height:normal;font-family:Menlo,'DejaVu Sans Mono',consolas,'Courier New',monospace;margin-bottom:0px;margin-top:0px\"><span style=\"color: #7fbfbf; text-decoration-color: #7fbfbf\">           </span><span style=\"color: #000080; text-decoration-color: #000080\">INFO    </span> Calculating nearest neighbors                                    <a href=\"file:///home/james/dev/drnb3/src/drnb/io/pipeline.py\" target=\"_blank\"><span style=\"color: #7f7f7f; text-decoration-color: #7f7f7f\">pipeline.py</span></a><span style=\"color: #7f7f7f; text-decoration-color: #7f7f7f\">:</span><a href=\"file:///home/james/dev/drnb3/src/drnb/io/pipeline.py#317\" target=\"_blank\"><span style=\"color: #7f7f7f; text-decoration-color: #7f7f7f\">317</span></a>\n",
       "</pre>\n"
      ],
      "text/plain": [
       "\u001b[2;36m          \u001b[0m\u001b[2;36m \u001b[0m\u001b[34mINFO    \u001b[0m Calculating nearest neighbors                                    \u001b]8;id=200102;file:///home/james/dev/drnb3/src/drnb/io/pipeline.py\u001b\\\u001b[2mpipeline.py\u001b[0m\u001b]8;;\u001b\\\u001b[2m:\u001b[0m\u001b]8;id=710606;file:///home/james/dev/drnb3/src/drnb/io/pipeline.py#317\u001b\\\u001b[2m317\u001b[0m\u001b]8;;\u001b\\\n"
      ]
     },
     "metadata": {},
     "output_type": "display_data"
    },
    {
     "data": {
      "text/html": [
       "<pre style=\"white-space:pre;overflow-x:auto;line-height:normal;font-family:Menlo,'DejaVu Sans Mono',consolas,'Courier New',monospace;margin-bottom:0px;margin-top:0px\"><span style=\"color: #7fbfbf; text-decoration-color: #7fbfbf\">           </span><span style=\"color: #000080; text-decoration-color: #000080\">INFO    </span> Loading faiss with AVX2 support.                                   <a href=\"file:///home/james/dev/drnb3/.venv/lib/python3.12/site-packages/faiss-1.9.0-py3.12.egg/faiss/loader.py\" target=\"_blank\"><span style=\"color: #7f7f7f; text-decoration-color: #7f7f7f\">loader.py</span></a><span style=\"color: #7f7f7f; text-decoration-color: #7f7f7f\">:</span><a href=\"file:///home/james/dev/drnb3/.venv/lib/python3.12/site-packages/faiss-1.9.0-py3.12.egg/faiss/loader.py#110\" target=\"_blank\"><span style=\"color: #7f7f7f; text-decoration-color: #7f7f7f\">110</span></a>\n",
       "</pre>\n"
      ],
      "text/plain": [
       "\u001b[2;36m          \u001b[0m\u001b[2;36m \u001b[0m\u001b[34mINFO    \u001b[0m Loading faiss with AVX2 support.                                   \u001b]8;id=73472;file:///home/james/dev/drnb3/.venv/lib/python3.12/site-packages/faiss-1.9.0-py3.12.egg/faiss/loader.py\u001b\\\u001b[2mloader.py\u001b[0m\u001b]8;;\u001b\\\u001b[2m:\u001b[0m\u001b]8;id=233866;file:///home/james/dev/drnb3/.venv/lib/python3.12/site-packages/faiss-1.9.0-py3.12.egg/faiss/loader.py#110\u001b\\\u001b[2m110\u001b[0m\u001b]8;;\u001b\\\n"
      ]
     },
     "metadata": {},
     "output_type": "display_data"
    },
    {
     "data": {
      "text/html": [
       "<pre style=\"white-space:pre;overflow-x:auto;line-height:normal;font-family:Menlo,'DejaVu Sans Mono',consolas,'Courier New',monospace;margin-bottom:0px;margin-top:0px\"><span style=\"color: #7fbfbf; text-decoration-color: #7fbfbf\">           </span><span style=\"color: #000080; text-decoration-color: #000080\">INFO    </span> Successfully loaded faiss with AVX2 support.                       <a href=\"file:///home/james/dev/drnb3/.venv/lib/python3.12/site-packages/faiss-1.9.0-py3.12.egg/faiss/loader.py\" target=\"_blank\"><span style=\"color: #7f7f7f; text-decoration-color: #7f7f7f\">loader.py</span></a><span style=\"color: #7f7f7f; text-decoration-color: #7f7f7f\">:</span><a href=\"file:///home/james/dev/drnb3/.venv/lib/python3.12/site-packages/faiss-1.9.0-py3.12.egg/faiss/loader.py#112\" target=\"_blank\"><span style=\"color: #7f7f7f; text-decoration-color: #7f7f7f\">112</span></a>\n",
       "</pre>\n"
      ],
      "text/plain": [
       "\u001b[2;36m          \u001b[0m\u001b[2;36m \u001b[0m\u001b[34mINFO    \u001b[0m Successfully loaded faiss with AVX2 support.                       \u001b]8;id=450406;file:///home/james/dev/drnb3/.venv/lib/python3.12/site-packages/faiss-1.9.0-py3.12.egg/faiss/loader.py\u001b\\\u001b[2mloader.py\u001b[0m\u001b]8;;\u001b\\\u001b[2m:\u001b[0m\u001b]8;id=525294;file:///home/james/dev/drnb3/.venv/lib/python3.12/site-packages/faiss-1.9.0-py3.12.egg/faiss/loader.py#112\u001b\\\u001b[2m112\u001b[0m\u001b]8;;\u001b\\\n"
      ]
     },
     "metadata": {},
     "output_type": "display_data"
    },
    {
     "data": {
      "text/html": [
       "<pre style=\"white-space:pre;overflow-x:auto;line-height:normal;font-family:Menlo,'DejaVu Sans Mono',consolas,'Courier New',monospace;margin-bottom:0px;margin-top:0px\"><span style=\"color: #7fbfbf; text-decoration-color: #7fbfbf\">           </span><span style=\"color: #000080; text-decoration-color: #000080\">INFO    </span> Using <span style=\"color: #008000; text-decoration-color: #008000\">'faiss'</span> to find nearest neighbors                           <a href=\"file:///home/james/dev/drnb3/src/drnb/neighbors/__init__.py\" target=\"_blank\"><span style=\"color: #7f7f7f; text-decoration-color: #7f7f7f\">__init__.py</span></a><span style=\"color: #7f7f7f; text-decoration-color: #7f7f7f\">:</span><a href=\"file:///home/james/dev/drnb3/src/drnb/neighbors/__init__.py#90\" target=\"_blank\"><span style=\"color: #7f7f7f; text-decoration-color: #7f7f7f\">90</span></a>\n",
       "</pre>\n"
      ],
      "text/plain": [
       "\u001b[2;36m          \u001b[0m\u001b[2;36m \u001b[0m\u001b[34mINFO    \u001b[0m Using \u001b[32m'faiss'\u001b[0m to find nearest neighbors                           \u001b]8;id=851827;file:///home/james/dev/drnb3/src/drnb/neighbors/__init__.py\u001b\\\u001b[2m__init__.py\u001b[0m\u001b]8;;\u001b\\\u001b[2m:\u001b[0m\u001b]8;id=712344;file:///home/james/dev/drnb3/src/drnb/neighbors/__init__.py#90\u001b\\\u001b[2m90\u001b[0m\u001b]8;;\u001b\\\n"
      ]
     },
     "metadata": {},
     "output_type": "display_data"
    },
    {
     "data": {
      "text/html": [
       "<pre style=\"white-space:pre;overflow-x:auto;line-height:normal;font-family:Menlo,'DejaVu Sans Mono',consolas,'Courier New',monospace;margin-bottom:0px;margin-top:0px\"><span style=\"color: #7fbfbf; text-decoration-color: #7fbfbf\">           </span><span style=\"color: #000080; text-decoration-color: #000080\">INFO    </span> Finding <span style=\"color: #008080; text-decoration-color: #008080; font-weight: bold\">151</span> neighbors using faiss with euclidean metric and      <a href=\"file:///home/james/dev/drnb3/src/drnb/neighbors/__init__.py\" target=\"_blank\"><span style=\"color: #7f7f7f; text-decoration-color: #7f7f7f\">__init__.py</span></a><span style=\"color: #7f7f7f; text-decoration-color: #7f7f7f\">:</span><a href=\"file:///home/james/dev/drnb3/src/drnb/neighbors/__init__.py#103\" target=\"_blank\"><span style=\"color: #7f7f7f; text-decoration-color: #7f7f7f\">103</span></a>\n",
       "<span style=\"color: #7fbfbf; text-decoration-color: #7fbfbf\">           </span>         params: <span style=\"font-weight: bold\">{}</span>                                                       <span style=\"color: #7f7f7f; text-decoration-color: #7f7f7f\">               </span>\n",
       "</pre>\n"
      ],
      "text/plain": [
       "\u001b[2;36m          \u001b[0m\u001b[2;36m \u001b[0m\u001b[34mINFO    \u001b[0m Finding \u001b[1;36m151\u001b[0m neighbors using faiss with euclidean metric and      \u001b]8;id=368294;file:///home/james/dev/drnb3/src/drnb/neighbors/__init__.py\u001b\\\u001b[2m__init__.py\u001b[0m\u001b]8;;\u001b\\\u001b[2m:\u001b[0m\u001b]8;id=806643;file:///home/james/dev/drnb3/src/drnb/neighbors/__init__.py#103\u001b\\\u001b[2m103\u001b[0m\u001b]8;;\u001b\\\n",
       "\u001b[2;36m           \u001b[0m         params: \u001b[1m{\u001b[0m\u001b[1m}\u001b[0m                                                       \u001b[2m               \u001b[0m\n"
      ]
     },
     "metadata": {},
     "output_type": "display_data"
    },
    {
     "data": {
      "text/html": [
       "<pre style=\"white-space:pre;overflow-x:auto;line-height:normal;font-family:Menlo,'DejaVu Sans Mono',consolas,'Courier New',monospace;margin-bottom:0px;margin-top:0px\"><span style=\"color: #7fbfbf; text-decoration-color: #7fbfbf\">[23:29:18] </span><span style=\"color: #000080; text-decoration-color: #000080\">INFO    </span> Writing numpy format to                                          <a href=\"file:///home/james/dev/drnb3/src/drnb/io/__init__.py\" target=\"_blank\"><span style=\"color: #7f7f7f; text-decoration-color: #7f7f7f\">__init__.py</span></a><span style=\"color: #7f7f7f; text-decoration-color: #7f7f7f\">:</span><a href=\"file:///home/james/dev/drnb3/src/drnb/io/__init__.py#430\" target=\"_blank\"><span style=\"color: #7f7f7f; text-decoration-color: #7f7f7f\">430</span></a>\n",
       "<span style=\"color: #7fbfbf; text-decoration-color: #7fbfbf\">           </span>         nn/synthetic-hierarchical.<span style=\"color: #008080; text-decoration-color: #008080; font-weight: bold\">16.</span>euclidean.exact.faiss.idx.npy       <span style=\"color: #7f7f7f; text-decoration-color: #7f7f7f\">               </span>\n",
       "</pre>\n"
      ],
      "text/plain": [
       "\u001b[2;36m[23:29:18]\u001b[0m\u001b[2;36m \u001b[0m\u001b[34mINFO    \u001b[0m Writing numpy format to                                          \u001b]8;id=178451;file:///home/james/dev/drnb3/src/drnb/io/__init__.py\u001b\\\u001b[2m__init__.py\u001b[0m\u001b]8;;\u001b\\\u001b[2m:\u001b[0m\u001b]8;id=257835;file:///home/james/dev/drnb3/src/drnb/io/__init__.py#430\u001b\\\u001b[2m430\u001b[0m\u001b]8;;\u001b\\\n",
       "\u001b[2;36m           \u001b[0m         nn/synthetic-hierarchical.\u001b[1;36m16.\u001b[0meuclidean.exact.faiss.idx.npy       \u001b[2m               \u001b[0m\n"
      ]
     },
     "metadata": {},
     "output_type": "display_data"
    },
    {
     "data": {
      "text/html": [
       "<pre style=\"white-space:pre;overflow-x:auto;line-height:normal;font-family:Menlo,'DejaVu Sans Mono',consolas,'Courier New',monospace;margin-bottom:0px;margin-top:0px\"><span style=\"color: #7fbfbf; text-decoration-color: #7fbfbf\">[23:29:21] </span><span style=\"color: #000080; text-decoration-color: #000080\">INFO    </span> Writing csv format to                                            <a href=\"file:///home/james/dev/drnb3/src/drnb/io/__init__.py\" target=\"_blank\"><span style=\"color: #7f7f7f; text-decoration-color: #7f7f7f\">__init__.py</span></a><span style=\"color: #7f7f7f; text-decoration-color: #7f7f7f\">:</span><a href=\"file:///home/james/dev/drnb3/src/drnb/io/__init__.py#402\" target=\"_blank\"><span style=\"color: #7f7f7f; text-decoration-color: #7f7f7f\">402</span></a>\n",
       "<span style=\"color: #7fbfbf; text-decoration-color: #7fbfbf\">           </span>         nn/synthetic-hierarchical.<span style=\"color: #008080; text-decoration-color: #008080; font-weight: bold\">16.</span>euclidean.exact.faiss.idx.csv       <span style=\"color: #7f7f7f; text-decoration-color: #7f7f7f\">               </span>\n",
       "</pre>\n"
      ],
      "text/plain": [
       "\u001b[2;36m[23:29:21]\u001b[0m\u001b[2;36m \u001b[0m\u001b[34mINFO    \u001b[0m Writing csv format to                                            \u001b]8;id=652247;file:///home/james/dev/drnb3/src/drnb/io/__init__.py\u001b\\\u001b[2m__init__.py\u001b[0m\u001b]8;;\u001b\\\u001b[2m:\u001b[0m\u001b]8;id=475972;file:///home/james/dev/drnb3/src/drnb/io/__init__.py#402\u001b\\\u001b[2m402\u001b[0m\u001b]8;;\u001b\\\n",
       "\u001b[2;36m           \u001b[0m         nn/synthetic-hierarchical.\u001b[1;36m16.\u001b[0meuclidean.exact.faiss.idx.csv       \u001b[2m               \u001b[0m\n"
      ]
     },
     "metadata": {},
     "output_type": "display_data"
    },
    {
     "data": {
      "text/html": [
       "<pre style=\"white-space:pre;overflow-x:auto;line-height:normal;font-family:Menlo,'DejaVu Sans Mono',consolas,'Courier New',monospace;margin-bottom:0px;margin-top:0px\"><span style=\"color: #7fbfbf; text-decoration-color: #7fbfbf\">[23:29:23] </span><span style=\"color: #000080; text-decoration-color: #000080\">INFO    </span> Writing numpy format to                                          <a href=\"file:///home/james/dev/drnb3/src/drnb/io/__init__.py\" target=\"_blank\"><span style=\"color: #7f7f7f; text-decoration-color: #7f7f7f\">__init__.py</span></a><span style=\"color: #7f7f7f; text-decoration-color: #7f7f7f\">:</span><a href=\"file:///home/james/dev/drnb3/src/drnb/io/__init__.py#430\" target=\"_blank\"><span style=\"color: #7f7f7f; text-decoration-color: #7f7f7f\">430</span></a>\n",
       "<span style=\"color: #7fbfbf; text-decoration-color: #7fbfbf\">           </span>         nn/synthetic-hierarchical.<span style=\"color: #008080; text-decoration-color: #008080; font-weight: bold\">16.</span>euclidean.exact.faiss.dist.npy      <span style=\"color: #7f7f7f; text-decoration-color: #7f7f7f\">               </span>\n",
       "</pre>\n"
      ],
      "text/plain": [
       "\u001b[2;36m[23:29:23]\u001b[0m\u001b[2;36m \u001b[0m\u001b[34mINFO    \u001b[0m Writing numpy format to                                          \u001b]8;id=271091;file:///home/james/dev/drnb3/src/drnb/io/__init__.py\u001b\\\u001b[2m__init__.py\u001b[0m\u001b]8;;\u001b\\\u001b[2m:\u001b[0m\u001b]8;id=846183;file:///home/james/dev/drnb3/src/drnb/io/__init__.py#430\u001b\\\u001b[2m430\u001b[0m\u001b]8;;\u001b\\\n",
       "\u001b[2;36m           \u001b[0m         nn/synthetic-hierarchical.\u001b[1;36m16.\u001b[0meuclidean.exact.faiss.dist.npy      \u001b[2m               \u001b[0m\n"
      ]
     },
     "metadata": {},
     "output_type": "display_data"
    },
    {
     "data": {
      "text/html": [
       "<pre style=\"white-space:pre;overflow-x:auto;line-height:normal;font-family:Menlo,'DejaVu Sans Mono',consolas,'Courier New',monospace;margin-bottom:0px;margin-top:0px\"><span style=\"color: #7fbfbf; text-decoration-color: #7fbfbf\">[23:29:24] </span><span style=\"color: #000080; text-decoration-color: #000080\">INFO    </span> Writing csv format to                                            <a href=\"file:///home/james/dev/drnb3/src/drnb/io/__init__.py\" target=\"_blank\"><span style=\"color: #7f7f7f; text-decoration-color: #7f7f7f\">__init__.py</span></a><span style=\"color: #7f7f7f; text-decoration-color: #7f7f7f\">:</span><a href=\"file:///home/james/dev/drnb3/src/drnb/io/__init__.py#402\" target=\"_blank\"><span style=\"color: #7f7f7f; text-decoration-color: #7f7f7f\">402</span></a>\n",
       "<span style=\"color: #7fbfbf; text-decoration-color: #7fbfbf\">           </span>         nn/synthetic-hierarchical.<span style=\"color: #008080; text-decoration-color: #008080; font-weight: bold\">16.</span>euclidean.exact.faiss.dist.csv      <span style=\"color: #7f7f7f; text-decoration-color: #7f7f7f\">               </span>\n",
       "</pre>\n"
      ],
      "text/plain": [
       "\u001b[2;36m[23:29:24]\u001b[0m\u001b[2;36m \u001b[0m\u001b[34mINFO    \u001b[0m Writing csv format to                                            \u001b]8;id=372676;file:///home/james/dev/drnb3/src/drnb/io/__init__.py\u001b\\\u001b[2m__init__.py\u001b[0m\u001b]8;;\u001b\\\u001b[2m:\u001b[0m\u001b]8;id=398091;file:///home/james/dev/drnb3/src/drnb/io/__init__.py#402\u001b\\\u001b[2m402\u001b[0m\u001b]8;;\u001b\\\n",
       "\u001b[2;36m           \u001b[0m         nn/synthetic-hierarchical.\u001b[1;36m16.\u001b[0meuclidean.exact.faiss.dist.csv      \u001b[2m               \u001b[0m\n"
      ]
     },
     "metadata": {},
     "output_type": "display_data"
    },
    {
     "data": {
      "text/html": [
       "<pre style=\"white-space:pre;overflow-x:auto;line-height:normal;font-family:Menlo,'DejaVu Sans Mono',consolas,'Courier New',monospace;margin-bottom:0px;margin-top:0px\"><span style=\"color: #7fbfbf; text-decoration-color: #7fbfbf\">[23:29:25] </span><span style=\"color: #000080; text-decoration-color: #000080\">INFO    </span> Writing numpy format to                                          <a href=\"file:///home/james/dev/drnb3/src/drnb/io/__init__.py\" target=\"_blank\"><span style=\"color: #7f7f7f; text-decoration-color: #7f7f7f\">__init__.py</span></a><span style=\"color: #7f7f7f; text-decoration-color: #7f7f7f\">:</span><a href=\"file:///home/james/dev/drnb3/src/drnb/io/__init__.py#430\" target=\"_blank\"><span style=\"color: #7f7f7f; text-decoration-color: #7f7f7f\">430</span></a>\n",
       "<span style=\"color: #7fbfbf; text-decoration-color: #7fbfbf\">           </span>         nn/synthetic-hierarchical.<span style=\"color: #008080; text-decoration-color: #008080; font-weight: bold\">51.</span>euclidean.exact.faiss.idx.npy       <span style=\"color: #7f7f7f; text-decoration-color: #7f7f7f\">               </span>\n",
       "</pre>\n"
      ],
      "text/plain": [
       "\u001b[2;36m[23:29:25]\u001b[0m\u001b[2;36m \u001b[0m\u001b[34mINFO    \u001b[0m Writing numpy format to                                          \u001b]8;id=302183;file:///home/james/dev/drnb3/src/drnb/io/__init__.py\u001b\\\u001b[2m__init__.py\u001b[0m\u001b]8;;\u001b\\\u001b[2m:\u001b[0m\u001b]8;id=778779;file:///home/james/dev/drnb3/src/drnb/io/__init__.py#430\u001b\\\u001b[2m430\u001b[0m\u001b]8;;\u001b\\\n",
       "\u001b[2;36m           \u001b[0m         nn/synthetic-hierarchical.\u001b[1;36m51.\u001b[0meuclidean.exact.faiss.idx.npy       \u001b[2m               \u001b[0m\n"
      ]
     },
     "metadata": {},
     "output_type": "display_data"
    },
    {
     "data": {
      "text/html": [
       "<pre style=\"white-space:pre;overflow-x:auto;line-height:normal;font-family:Menlo,'DejaVu Sans Mono',consolas,'Courier New',monospace;margin-bottom:0px;margin-top:0px\"><span style=\"color: #7fbfbf; text-decoration-color: #7fbfbf\">[23:29:33] </span><span style=\"color: #000080; text-decoration-color: #000080\">INFO    </span> Writing csv format to                                            <a href=\"file:///home/james/dev/drnb3/src/drnb/io/__init__.py\" target=\"_blank\"><span style=\"color: #7f7f7f; text-decoration-color: #7f7f7f\">__init__.py</span></a><span style=\"color: #7f7f7f; text-decoration-color: #7f7f7f\">:</span><a href=\"file:///home/james/dev/drnb3/src/drnb/io/__init__.py#402\" target=\"_blank\"><span style=\"color: #7f7f7f; text-decoration-color: #7f7f7f\">402</span></a>\n",
       "<span style=\"color: #7fbfbf; text-decoration-color: #7fbfbf\">           </span>         nn/synthetic-hierarchical.<span style=\"color: #008080; text-decoration-color: #008080; font-weight: bold\">51.</span>euclidean.exact.faiss.idx.csv       <span style=\"color: #7f7f7f; text-decoration-color: #7f7f7f\">               </span>\n",
       "</pre>\n"
      ],
      "text/plain": [
       "\u001b[2;36m[23:29:33]\u001b[0m\u001b[2;36m \u001b[0m\u001b[34mINFO    \u001b[0m Writing csv format to                                            \u001b]8;id=124043;file:///home/james/dev/drnb3/src/drnb/io/__init__.py\u001b\\\u001b[2m__init__.py\u001b[0m\u001b]8;;\u001b\\\u001b[2m:\u001b[0m\u001b]8;id=819176;file:///home/james/dev/drnb3/src/drnb/io/__init__.py#402\u001b\\\u001b[2m402\u001b[0m\u001b]8;;\u001b\\\n",
       "\u001b[2;36m           \u001b[0m         nn/synthetic-hierarchical.\u001b[1;36m51.\u001b[0meuclidean.exact.faiss.idx.csv       \u001b[2m               \u001b[0m\n"
      ]
     },
     "metadata": {},
     "output_type": "display_data"
    },
    {
     "data": {
      "text/html": [
       "<pre style=\"white-space:pre;overflow-x:auto;line-height:normal;font-family:Menlo,'DejaVu Sans Mono',consolas,'Courier New',monospace;margin-bottom:0px;margin-top:0px\"><span style=\"color: #7fbfbf; text-decoration-color: #7fbfbf\">[23:29:37] </span><span style=\"color: #000080; text-decoration-color: #000080\">INFO    </span> Writing numpy format to                                          <a href=\"file:///home/james/dev/drnb3/src/drnb/io/__init__.py\" target=\"_blank\"><span style=\"color: #7f7f7f; text-decoration-color: #7f7f7f\">__init__.py</span></a><span style=\"color: #7f7f7f; text-decoration-color: #7f7f7f\">:</span><a href=\"file:///home/james/dev/drnb3/src/drnb/io/__init__.py#430\" target=\"_blank\"><span style=\"color: #7f7f7f; text-decoration-color: #7f7f7f\">430</span></a>\n",
       "<span style=\"color: #7fbfbf; text-decoration-color: #7fbfbf\">           </span>         nn/synthetic-hierarchical.<span style=\"color: #008080; text-decoration-color: #008080; font-weight: bold\">51.</span>euclidean.exact.faiss.dist.npy      <span style=\"color: #7f7f7f; text-decoration-color: #7f7f7f\">               </span>\n",
       "</pre>\n"
      ],
      "text/plain": [
       "\u001b[2;36m[23:29:37]\u001b[0m\u001b[2;36m \u001b[0m\u001b[34mINFO    \u001b[0m Writing numpy format to                                          \u001b]8;id=455898;file:///home/james/dev/drnb3/src/drnb/io/__init__.py\u001b\\\u001b[2m__init__.py\u001b[0m\u001b]8;;\u001b\\\u001b[2m:\u001b[0m\u001b]8;id=535946;file:///home/james/dev/drnb3/src/drnb/io/__init__.py#430\u001b\\\u001b[2m430\u001b[0m\u001b]8;;\u001b\\\n",
       "\u001b[2;36m           \u001b[0m         nn/synthetic-hierarchical.\u001b[1;36m51.\u001b[0meuclidean.exact.faiss.dist.npy      \u001b[2m               \u001b[0m\n"
      ]
     },
     "metadata": {},
     "output_type": "display_data"
    },
    {
     "data": {
      "text/html": [
       "<pre style=\"white-space:pre;overflow-x:auto;line-height:normal;font-family:Menlo,'DejaVu Sans Mono',consolas,'Courier New',monospace;margin-bottom:0px;margin-top:0px\"><span style=\"color: #7fbfbf; text-decoration-color: #7fbfbf\">[23:29:41] </span><span style=\"color: #000080; text-decoration-color: #000080\">INFO    </span> Writing csv format to                                            <a href=\"file:///home/james/dev/drnb3/src/drnb/io/__init__.py\" target=\"_blank\"><span style=\"color: #7f7f7f; text-decoration-color: #7f7f7f\">__init__.py</span></a><span style=\"color: #7f7f7f; text-decoration-color: #7f7f7f\">:</span><a href=\"file:///home/james/dev/drnb3/src/drnb/io/__init__.py#402\" target=\"_blank\"><span style=\"color: #7f7f7f; text-decoration-color: #7f7f7f\">402</span></a>\n",
       "<span style=\"color: #7fbfbf; text-decoration-color: #7fbfbf\">           </span>         nn/synthetic-hierarchical.<span style=\"color: #008080; text-decoration-color: #008080; font-weight: bold\">51.</span>euclidean.exact.faiss.dist.csv      <span style=\"color: #7f7f7f; text-decoration-color: #7f7f7f\">               </span>\n",
       "</pre>\n"
      ],
      "text/plain": [
       "\u001b[2;36m[23:29:41]\u001b[0m\u001b[2;36m \u001b[0m\u001b[34mINFO    \u001b[0m Writing csv format to                                            \u001b]8;id=35375;file:///home/james/dev/drnb3/src/drnb/io/__init__.py\u001b\\\u001b[2m__init__.py\u001b[0m\u001b]8;;\u001b\\\u001b[2m:\u001b[0m\u001b]8;id=967672;file:///home/james/dev/drnb3/src/drnb/io/__init__.py#402\u001b\\\u001b[2m402\u001b[0m\u001b]8;;\u001b\\\n",
       "\u001b[2;36m           \u001b[0m         nn/synthetic-hierarchical.\u001b[1;36m51.\u001b[0meuclidean.exact.faiss.dist.csv      \u001b[2m               \u001b[0m\n"
      ]
     },
     "metadata": {},
     "output_type": "display_data"
    },
    {
     "data": {
      "text/html": [
       "<pre style=\"white-space:pre;overflow-x:auto;line-height:normal;font-family:Menlo,'DejaVu Sans Mono',consolas,'Courier New',monospace;margin-bottom:0px;margin-top:0px\"><span style=\"color: #7fbfbf; text-decoration-color: #7fbfbf\">[23:29:45] </span><span style=\"color: #000080; text-decoration-color: #000080\">INFO    </span> Writing numpy format to                                          <a href=\"file:///home/james/dev/drnb3/src/drnb/io/__init__.py\" target=\"_blank\"><span style=\"color: #7f7f7f; text-decoration-color: #7f7f7f\">__init__.py</span></a><span style=\"color: #7f7f7f; text-decoration-color: #7f7f7f\">:</span><a href=\"file:///home/james/dev/drnb3/src/drnb/io/__init__.py#430\" target=\"_blank\"><span style=\"color: #7f7f7f; text-decoration-color: #7f7f7f\">430</span></a>\n",
       "<span style=\"color: #7fbfbf; text-decoration-color: #7fbfbf\">           </span>         nn/synthetic-hierarchical.<span style=\"color: #008080; text-decoration-color: #008080; font-weight: bold\">151.</span>euclidean.exact.faiss.idx.npy      <span style=\"color: #7f7f7f; text-decoration-color: #7f7f7f\">               </span>\n",
       "</pre>\n"
      ],
      "text/plain": [
       "\u001b[2;36m[23:29:45]\u001b[0m\u001b[2;36m \u001b[0m\u001b[34mINFO    \u001b[0m Writing numpy format to                                          \u001b]8;id=323632;file:///home/james/dev/drnb3/src/drnb/io/__init__.py\u001b\\\u001b[2m__init__.py\u001b[0m\u001b]8;;\u001b\\\u001b[2m:\u001b[0m\u001b]8;id=620792;file:///home/james/dev/drnb3/src/drnb/io/__init__.py#430\u001b\\\u001b[2m430\u001b[0m\u001b]8;;\u001b\\\n",
       "\u001b[2;36m           \u001b[0m         nn/synthetic-hierarchical.\u001b[1;36m151.\u001b[0meuclidean.exact.faiss.idx.npy      \u001b[2m               \u001b[0m\n"
      ]
     },
     "metadata": {},
     "output_type": "display_data"
    },
    {
     "data": {
      "text/html": [
       "<pre style=\"white-space:pre;overflow-x:auto;line-height:normal;font-family:Menlo,'DejaVu Sans Mono',consolas,'Courier New',monospace;margin-bottom:0px;margin-top:0px\"><span style=\"color: #7fbfbf; text-decoration-color: #7fbfbf\">[23:29:46] </span><span style=\"color: #000080; text-decoration-color: #000080\">INFO    </span> Writing csv format to                                            <a href=\"file:///home/james/dev/drnb3/src/drnb/io/__init__.py\" target=\"_blank\"><span style=\"color: #7f7f7f; text-decoration-color: #7f7f7f\">__init__.py</span></a><span style=\"color: #7f7f7f; text-decoration-color: #7f7f7f\">:</span><a href=\"file:///home/james/dev/drnb3/src/drnb/io/__init__.py#402\" target=\"_blank\"><span style=\"color: #7f7f7f; text-decoration-color: #7f7f7f\">402</span></a>\n",
       "<span style=\"color: #7fbfbf; text-decoration-color: #7fbfbf\">           </span>         nn/synthetic-hierarchical.<span style=\"color: #008080; text-decoration-color: #008080; font-weight: bold\">151.</span>euclidean.exact.faiss.idx.csv      <span style=\"color: #7f7f7f; text-decoration-color: #7f7f7f\">               </span>\n",
       "</pre>\n"
      ],
      "text/plain": [
       "\u001b[2;36m[23:29:46]\u001b[0m\u001b[2;36m \u001b[0m\u001b[34mINFO    \u001b[0m Writing csv format to                                            \u001b]8;id=606825;file:///home/james/dev/drnb3/src/drnb/io/__init__.py\u001b\\\u001b[2m__init__.py\u001b[0m\u001b]8;;\u001b\\\u001b[2m:\u001b[0m\u001b]8;id=950272;file:///home/james/dev/drnb3/src/drnb/io/__init__.py#402\u001b\\\u001b[2m402\u001b[0m\u001b]8;;\u001b\\\n",
       "\u001b[2;36m           \u001b[0m         nn/synthetic-hierarchical.\u001b[1;36m151.\u001b[0meuclidean.exact.faiss.idx.csv      \u001b[2m               \u001b[0m\n"
      ]
     },
     "metadata": {},
     "output_type": "display_data"
    },
    {
     "data": {
      "text/html": [
       "<pre style=\"white-space:pre;overflow-x:auto;line-height:normal;font-family:Menlo,'DejaVu Sans Mono',consolas,'Courier New',monospace;margin-bottom:0px;margin-top:0px\"><span style=\"color: #7fbfbf; text-decoration-color: #7fbfbf\">[23:29:55] </span><span style=\"color: #000080; text-decoration-color: #000080\">INFO    </span> Writing numpy format to                                          <a href=\"file:///home/james/dev/drnb3/src/drnb/io/__init__.py\" target=\"_blank\"><span style=\"color: #7f7f7f; text-decoration-color: #7f7f7f\">__init__.py</span></a><span style=\"color: #7f7f7f; text-decoration-color: #7f7f7f\">:</span><a href=\"file:///home/james/dev/drnb3/src/drnb/io/__init__.py#430\" target=\"_blank\"><span style=\"color: #7f7f7f; text-decoration-color: #7f7f7f\">430</span></a>\n",
       "<span style=\"color: #7fbfbf; text-decoration-color: #7fbfbf\">           </span>         nn/synthetic-hierarchical.<span style=\"color: #008080; text-decoration-color: #008080; font-weight: bold\">151.</span>euclidean.exact.faiss.dist.npy     <span style=\"color: #7f7f7f; text-decoration-color: #7f7f7f\">               </span>\n",
       "</pre>\n"
      ],
      "text/plain": [
       "\u001b[2;36m[23:29:55]\u001b[0m\u001b[2;36m \u001b[0m\u001b[34mINFO    \u001b[0m Writing numpy format to                                          \u001b]8;id=123228;file:///home/james/dev/drnb3/src/drnb/io/__init__.py\u001b\\\u001b[2m__init__.py\u001b[0m\u001b]8;;\u001b\\\u001b[2m:\u001b[0m\u001b]8;id=91997;file:///home/james/dev/drnb3/src/drnb/io/__init__.py#430\u001b\\\u001b[2m430\u001b[0m\u001b]8;;\u001b\\\n",
       "\u001b[2;36m           \u001b[0m         nn/synthetic-hierarchical.\u001b[1;36m151.\u001b[0meuclidean.exact.faiss.dist.npy     \u001b[2m               \u001b[0m\n"
      ]
     },
     "metadata": {},
     "output_type": "display_data"
    },
    {
     "data": {
      "text/html": [
       "<pre style=\"white-space:pre;overflow-x:auto;line-height:normal;font-family:Menlo,'DejaVu Sans Mono',consolas,'Courier New',monospace;margin-bottom:0px;margin-top:0px\"><span style=\"color: #7fbfbf; text-decoration-color: #7fbfbf\">           </span><span style=\"color: #000080; text-decoration-color: #000080\">INFO    </span> Writing csv format to                                            <a href=\"file:///home/james/dev/drnb3/src/drnb/io/__init__.py\" target=\"_blank\"><span style=\"color: #7f7f7f; text-decoration-color: #7f7f7f\">__init__.py</span></a><span style=\"color: #7f7f7f; text-decoration-color: #7f7f7f\">:</span><a href=\"file:///home/james/dev/drnb3/src/drnb/io/__init__.py#402\" target=\"_blank\"><span style=\"color: #7f7f7f; text-decoration-color: #7f7f7f\">402</span></a>\n",
       "<span style=\"color: #7fbfbf; text-decoration-color: #7fbfbf\">           </span>         nn/synthetic-hierarchical.<span style=\"color: #008080; text-decoration-color: #008080; font-weight: bold\">151.</span>euclidean.exact.faiss.dist.csv     <span style=\"color: #7f7f7f; text-decoration-color: #7f7f7f\">               </span>\n",
       "</pre>\n"
      ],
      "text/plain": [
       "\u001b[2;36m          \u001b[0m\u001b[2;36m \u001b[0m\u001b[34mINFO    \u001b[0m Writing csv format to                                            \u001b]8;id=243110;file:///home/james/dev/drnb3/src/drnb/io/__init__.py\u001b\\\u001b[2m__init__.py\u001b[0m\u001b]8;;\u001b\\\u001b[2m:\u001b[0m\u001b]8;id=921556;file:///home/james/dev/drnb3/src/drnb/io/__init__.py#402\u001b\\\u001b[2m402\u001b[0m\u001b]8;;\u001b\\\n",
       "\u001b[2;36m           \u001b[0m         nn/synthetic-hierarchical.\u001b[1;36m151.\u001b[0meuclidean.exact.faiss.dist.csv     \u001b[2m               \u001b[0m\n"
      ]
     },
     "metadata": {},
     "output_type": "display_data"
    },
    {
     "data": {
      "text/html": [
       "<pre style=\"white-space:pre;overflow-x:auto;line-height:normal;font-family:Menlo,'DejaVu Sans Mono',consolas,'Courier New',monospace;margin-bottom:0px;margin-top:0px\"><span style=\"color: #7fbfbf; text-decoration-color: #7fbfbf\">[23:30:07] </span><span style=\"color: #000080; text-decoration-color: #000080\">INFO    </span> Calculating triplets                                             <a href=\"file:///home/james/dev/drnb3/src/drnb/io/pipeline.py\" target=\"_blank\"><span style=\"color: #7f7f7f; text-decoration-color: #7f7f7f\">pipeline.py</span></a><span style=\"color: #7f7f7f; text-decoration-color: #7f7f7f\">:</span><a href=\"file:///home/james/dev/drnb3/src/drnb/io/pipeline.py#331\" target=\"_blank\"><span style=\"color: #7f7f7f; text-decoration-color: #7f7f7f\">331</span></a>\n",
       "</pre>\n"
      ],
      "text/plain": [
       "\u001b[2;36m[23:30:07]\u001b[0m\u001b[2;36m \u001b[0m\u001b[34mINFO    \u001b[0m Calculating triplets                                             \u001b]8;id=470938;file:///home/james/dev/drnb3/src/drnb/io/pipeline.py\u001b\\\u001b[2mpipeline.py\u001b[0m\u001b]8;;\u001b\\\u001b[2m:\u001b[0m\u001b]8;id=866696;file:///home/james/dev/drnb3/src/drnb/io/pipeline.py#331\u001b\\\u001b[2m331\u001b[0m\u001b]8;;\u001b\\\n"
      ]
     },
     "metadata": {},
     "output_type": "display_data"
    },
    {
     "data": {
      "text/html": [
       "<pre style=\"white-space:pre;overflow-x:auto;line-height:normal;font-family:Menlo,'DejaVu Sans Mono',consolas,'Courier New',monospace;margin-bottom:0px;margin-top:0px\"><span style=\"color: #7fbfbf; text-decoration-color: #7fbfbf\">[23:30:08] </span><span style=\"color: #000080; text-decoration-color: #000080\">INFO    </span> Writing csv format to                                            <a href=\"file:///home/james/dev/drnb3/src/drnb/io/__init__.py\" target=\"_blank\"><span style=\"color: #7f7f7f; text-decoration-color: #7f7f7f\">__init__.py</span></a><span style=\"color: #7f7f7f; text-decoration-color: #7f7f7f\">:</span><a href=\"file:///home/james/dev/drnb3/src/drnb/io/__init__.py#402\" target=\"_blank\"><span style=\"color: #7f7f7f; text-decoration-color: #7f7f7f\">402</span></a>\n",
       "<span style=\"color: #7fbfbf; text-decoration-color: #7fbfbf\">           </span>         triplets/synthetic-hierarchical.<span style=\"color: #008080; text-decoration-color: #008080; font-weight: bold\">5.1337</span>.idx.csv                   <span style=\"color: #7f7f7f; text-decoration-color: #7f7f7f\">               </span>\n",
       "</pre>\n"
      ],
      "text/plain": [
       "\u001b[2;36m[23:30:08]\u001b[0m\u001b[2;36m \u001b[0m\u001b[34mINFO    \u001b[0m Writing csv format to                                            \u001b]8;id=228753;file:///home/james/dev/drnb3/src/drnb/io/__init__.py\u001b\\\u001b[2m__init__.py\u001b[0m\u001b]8;;\u001b\\\u001b[2m:\u001b[0m\u001b]8;id=340253;file:///home/james/dev/drnb3/src/drnb/io/__init__.py#402\u001b\\\u001b[2m402\u001b[0m\u001b]8;;\u001b\\\n",
       "\u001b[2;36m           \u001b[0m         triplets/synthetic-hierarchical.\u001b[1;36m5.1337\u001b[0m.idx.csv                   \u001b[2m               \u001b[0m\n"
      ]
     },
     "metadata": {},
     "output_type": "display_data"
    },
    {
     "data": {
      "text/html": [
       "<pre style=\"white-space:pre;overflow-x:auto;line-height:normal;font-family:Menlo,'DejaVu Sans Mono',consolas,'Courier New',monospace;margin-bottom:0px;margin-top:0px\"><span style=\"color: #7fbfbf; text-decoration-color: #7fbfbf\">[23:30:10] </span><span style=\"color: #000080; text-decoration-color: #000080\">INFO    </span> Writing csv format to                                            <a href=\"file:///home/james/dev/drnb3/src/drnb/io/__init__.py\" target=\"_blank\"><span style=\"color: #7f7f7f; text-decoration-color: #7f7f7f\">__init__.py</span></a><span style=\"color: #7f7f7f; text-decoration-color: #7f7f7f\">:</span><a href=\"file:///home/james/dev/drnb3/src/drnb/io/__init__.py#402\" target=\"_blank\"><span style=\"color: #7f7f7f; text-decoration-color: #7f7f7f\">402</span></a>\n",
       "<span style=\"color: #7fbfbf; text-decoration-color: #7fbfbf\">           </span>         triplets/synthetic-hierarchical.<span style=\"color: #008080; text-decoration-color: #008080; font-weight: bold\">5.1337</span>.euclidean.csv             <span style=\"color: #7f7f7f; text-decoration-color: #7f7f7f\">               </span>\n",
       "</pre>\n"
      ],
      "text/plain": [
       "\u001b[2;36m[23:30:10]\u001b[0m\u001b[2;36m \u001b[0m\u001b[34mINFO    \u001b[0m Writing csv format to                                            \u001b]8;id=546470;file:///home/james/dev/drnb3/src/drnb/io/__init__.py\u001b\\\u001b[2m__init__.py\u001b[0m\u001b]8;;\u001b\\\u001b[2m:\u001b[0m\u001b]8;id=808135;file:///home/james/dev/drnb3/src/drnb/io/__init__.py#402\u001b\\\u001b[2m402\u001b[0m\u001b]8;;\u001b\\\n",
       "\u001b[2;36m           \u001b[0m         triplets/synthetic-hierarchical.\u001b[1;36m5.1337\u001b[0m.euclidean.csv             \u001b[2m               \u001b[0m\n"
      ]
     },
     "metadata": {},
     "output_type": "display_data"
    },
    {
     "data": {
      "text/html": [
       "<pre style=\"white-space:pre;overflow-x:auto;line-height:normal;font-family:Menlo,'DejaVu Sans Mono',consolas,'Courier New',monospace;margin-bottom:0px;margin-top:0px\"><span style=\"color: #7fbfbf; text-decoration-color: #7fbfbf\">[23:30:12] </span><span style=\"color: #000080; text-decoration-color: #000080\">INFO    </span> Writing numpy format to                                          <a href=\"file:///home/james/dev/drnb3/src/drnb/io/__init__.py\" target=\"_blank\"><span style=\"color: #7f7f7f; text-decoration-color: #7f7f7f\">__init__.py</span></a><span style=\"color: #7f7f7f; text-decoration-color: #7f7f7f\">:</span><a href=\"file:///home/james/dev/drnb3/src/drnb/io/__init__.py#430\" target=\"_blank\"><span style=\"color: #7f7f7f; text-decoration-color: #7f7f7f\">430</span></a>\n",
       "<span style=\"color: #7fbfbf; text-decoration-color: #7fbfbf\">           </span>         triplets/synthetic-hierarchical.<span style=\"color: #008080; text-decoration-color: #008080; font-weight: bold\">5.1337</span>.idx.npy                   <span style=\"color: #7f7f7f; text-decoration-color: #7f7f7f\">               </span>\n",
       "</pre>\n"
      ],
      "text/plain": [
       "\u001b[2;36m[23:30:12]\u001b[0m\u001b[2;36m \u001b[0m\u001b[34mINFO    \u001b[0m Writing numpy format to                                          \u001b]8;id=533515;file:///home/james/dev/drnb3/src/drnb/io/__init__.py\u001b\\\u001b[2m__init__.py\u001b[0m\u001b]8;;\u001b\\\u001b[2m:\u001b[0m\u001b]8;id=76039;file:///home/james/dev/drnb3/src/drnb/io/__init__.py#430\u001b\\\u001b[2m430\u001b[0m\u001b]8;;\u001b\\\n",
       "\u001b[2;36m           \u001b[0m         triplets/synthetic-hierarchical.\u001b[1;36m5.1337\u001b[0m.idx.npy                   \u001b[2m               \u001b[0m\n"
      ]
     },
     "metadata": {},
     "output_type": "display_data"
    },
    {
     "data": {
      "text/html": [
       "<pre style=\"white-space:pre;overflow-x:auto;line-height:normal;font-family:Menlo,'DejaVu Sans Mono',consolas,'Courier New',monospace;margin-bottom:0px;margin-top:0px\"><span style=\"color: #7fbfbf; text-decoration-color: #7fbfbf\">           </span><span style=\"color: #000080; text-decoration-color: #000080\">INFO    </span> Writing numpy format to                                          <a href=\"file:///home/james/dev/drnb3/src/drnb/io/__init__.py\" target=\"_blank\"><span style=\"color: #7f7f7f; text-decoration-color: #7f7f7f\">__init__.py</span></a><span style=\"color: #7f7f7f; text-decoration-color: #7f7f7f\">:</span><a href=\"file:///home/james/dev/drnb3/src/drnb/io/__init__.py#430\" target=\"_blank\"><span style=\"color: #7f7f7f; text-decoration-color: #7f7f7f\">430</span></a>\n",
       "<span style=\"color: #7fbfbf; text-decoration-color: #7fbfbf\">           </span>         triplets/synthetic-hierarchical.<span style=\"color: #008080; text-decoration-color: #008080; font-weight: bold\">5.1337</span>.euclidean.npy             <span style=\"color: #7f7f7f; text-decoration-color: #7f7f7f\">               </span>\n",
       "</pre>\n"
      ],
      "text/plain": [
       "\u001b[2;36m          \u001b[0m\u001b[2;36m \u001b[0m\u001b[34mINFO    \u001b[0m Writing numpy format to                                          \u001b]8;id=250749;file:///home/james/dev/drnb3/src/drnb/io/__init__.py\u001b\\\u001b[2m__init__.py\u001b[0m\u001b]8;;\u001b\\\u001b[2m:\u001b[0m\u001b]8;id=754324;file:///home/james/dev/drnb3/src/drnb/io/__init__.py#430\u001b\\\u001b[2m430\u001b[0m\u001b]8;;\u001b\\\n",
       "\u001b[2;36m           \u001b[0m         triplets/synthetic-hierarchical.\u001b[1;36m5.1337\u001b[0m.euclidean.npy             \u001b[2m               \u001b[0m\n"
      ]
     },
     "metadata": {},
     "output_type": "display_data"
    },
    {
     "data": {
      "text/html": [
       "<pre style=\"white-space:pre;overflow-x:auto;line-height:normal;font-family:Menlo,'DejaVu Sans Mono',consolas,'Courier New',monospace;margin-bottom:0px;margin-top:0px\"><span style=\"color: #7fbfbf; text-decoration-color: #7fbfbf\">           </span><span style=\"color: #000080; text-decoration-color: #000080\">INFO    </span> Writing pipeline result for synthetic-hierarchical               <a href=\"file:///home/james/dev/drnb3/src/drnb/io/pipeline.py\" target=\"_blank\"><span style=\"color: #7f7f7f; text-decoration-color: #7f7f7f\">pipeline.py</span></a><span style=\"color: #7f7f7f; text-decoration-color: #7f7f7f\">:</span><a href=\"file:///home/james/dev/drnb3/src/drnb/io/pipeline.py#134\" target=\"_blank\"><span style=\"color: #7f7f7f; text-decoration-color: #7f7f7f\">134</span></a>\n",
       "</pre>\n"
      ],
      "text/plain": [
       "\u001b[2;36m          \u001b[0m\u001b[2;36m \u001b[0m\u001b[34mINFO    \u001b[0m Writing pipeline result for synthetic-hierarchical               \u001b]8;id=301209;file:///home/james/dev/drnb3/src/drnb/io/pipeline.py\u001b\\\u001b[2mpipeline.py\u001b[0m\u001b]8;;\u001b\\\u001b[2m:\u001b[0m\u001b]8;id=704803;file:///home/james/dev/drnb3/src/drnb/io/pipeline.py#134\u001b\\\u001b[2m134\u001b[0m\u001b]8;;\u001b\\\n"
      ]
     },
     "metadata": {},
     "output_type": "display_data"
    }
   ],
   "source": [
    "from drnb.io.pipeline import create_default_pipeline\n",
    "\n",
    "data_result = create_default_pipeline(check_for_duplicates=True).run(\n",
    "    \"synthetic-hierarchical\",\n",
    "    data=data,\n",
    "    target=target_df,\n",
    "    target_palette=color_map,\n",
    "    tags=[\"synthetic\", \"lowdim\"],\n",
    "    url=\"https://jmlr.org/papers/v22/20-1061.html\",\n",
    "    verbose=True,\n",
    ")"
   ]
  },
  {
   "cell_type": "markdown",
   "metadata": {},
   "source": [
    "Let's quickly test how the colors look. Based on the Duke page, PCA does a good enough job of \n",
    "separating the clusters, and it's fast, so let's use that:"
   ]
  },
  {
   "cell_type": "code",
   "execution_count": 7,
   "metadata": {},
   "outputs": [
    {
     "data": {
      "image/png": "[encoded data removed]",
      "text/plain": [
       "<Figure size 600x400 with 1 Axes>"
      ]
     },
     "metadata": {},
     "output_type": "display_data"
    },
    {
     "data": {
      "text/plain": [
       "[EvalResult(eval_type='RTE', label='rte-5-euclidean', value=np.float64(0.8927776000000001), info={'metric': 'euclidean', 'ntpp': 5}),\n",
       " EvalResult(eval_type='RPC', label='rpc-5-euclidean', value=np.float32(0.90670156), info={'metric': 'euclidean', 'ntpp': 5}),\n",
       " EvalResult(eval_type='NNP', label='nnp-15-noself-euclidean', value=np.float64(0.03470826666666667), info={'metric': 'euclidean', 'n_neighbors': 15}),\n",
       " EvalResult(eval_type='NNP', label='nnp-50-noself-euclidean', value=np.float64(0.1004864), info={'metric': 'euclidean', 'n_neighbors': 50}),\n",
       " EvalResult(eval_type='NNP', label='nnp-150-noself-euclidean', value=np.float64(0.2534666666666667), info={'metric': 'euclidean', 'n_neighbors': 150})]"
      ]
     },
     "execution_count": 7,
     "metadata": {},
     "output_type": "execute_result"
    }
   ],
   "source": [
    "import drnb.embed.pipeline as pl\n",
    "\n",
    "pl.standard_eval(\n",
    "    method=\"pca\",\n",
    "    dataset=\"synthetic-hierarchical\",\n",
    ")"
   ]
  },
  {
   "cell_type": "markdown",
   "metadata": {},
   "source": [
    "Looks close enough to the \"real\" results to me."
   ]
  }
 ],
 "metadata": {
  "kernelspec": {
   "display_name": ".venv",
   "language": "python",
   "name": "python3"
  },
  "language_info": {
   "codemirror_mode": {
    "name": "ipython",
    "version": 3
   },
   "file_extension": ".py",
   "mimetype": "text/x-python",
   "name": "python",
   "nbconvert_exporter": "python",
   "pygments_lexer": "ipython3",
   "version": "3.12.8"
  }
 },
 "nbformat": 4,
 "nbformat_minor": 2
}
