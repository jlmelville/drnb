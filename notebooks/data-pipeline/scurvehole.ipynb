{
 "cells": [
  {
   "cell_type": "code",
   "execution_count": 1,
   "id": "4abea9b8-2294-4b51-9111-5db07b845110",
   "metadata": {},
   "outputs": [
    {
     "name": "stdout",
     "output_type": "stream",
     "text": [
      "time: 240 ms (started: 2022-09-12 17:49:21 -07:00)\n"
     ]
    }
   ],
   "source": [
    "%load_ext lab_black\n",
    "%load_ext autotime\n",
    "import pandas as pd\n",
    "import numpy as np"
   ]
  },
  {
   "cell_type": "markdown",
   "id": "f1cdbdac-bd90-4951-a5c3-23bbea5d0075",
   "metadata": {},
   "source": [
    "A 3D S-curve with a hole data set, used to validate the [PaCMAP method](https://arxiv.org/abs/2012.04456). The function below is taken from the [data_prep function at the PaCMAP github repo](https://github.com/YingfanWang/PaCMAP/blob/d34bfdd644c1dd68e8181c926ff34e98b53b0453/experiments/run_experiments.py):"
   ]
  },
  {
   "cell_type": "code",
   "execution_count": 3,
   "id": "b663f56f-d875-4176-8841-22f4a6b6c2d6",
   "metadata": {},
   "outputs": [
    {
     "name": "stdout",
     "output_type": "stream",
     "text": [
      "time: 388 ms (started: 2022-09-12 17:52:09 -07:00)\n"
     ]
    }
   ],
   "source": [
    "from sklearn.datasets import make_swiss_roll, make_s_curve\n",
    "\n",
    "\n",
    "def make_scurvehole():\n",
    "    X, labels = make_s_curve(n_samples=10000, random_state=20200202)\n",
    "    anchor = np.array([0, 1, 0])\n",
    "    indices = np.sum(np.square(X - anchor), axis=1) > 0.3\n",
    "    X, labels = X[indices], labels[indices]\n",
    "    return X, labels"
   ]
  },
  {
   "cell_type": "code",
   "execution_count": 6,
   "id": "2e341658-89fd-4d38-9f0c-517419ba5652",
   "metadata": {},
   "outputs": [
    {
     "data": {
      "text/plain": [
       "(array([[ 0.29630642,  0.69668633,  1.95509293],\n",
       "        [ 0.42420331,  0.51052323,  1.90556698],\n",
       "        [ 0.99639638,  0.86050764,  1.08481893],\n",
       "        ...,\n",
       "        [ 0.78023631,  0.19581041, -1.62548485],\n",
       "        [-0.13674143,  1.02601064, -1.99060677],\n",
       "        [ 0.58515088,  0.67243971, -1.81092444]]),\n",
       " (9505, 3),\n",
       " array([-3.44241573, -3.57967458, -4.62746802, ...,  2.24654913,\n",
       "         3.27876385,  2.51652655]),\n",
       " (9505,))"
      ]
     },
     "execution_count": 6,
     "metadata": {},
     "output_type": "execute_result"
    },
    {
     "name": "stdout",
     "output_type": "stream",
     "text": [
      "time: 7.29 ms (started: 2022-09-12 17:52:48 -07:00)\n"
     ]
    }
   ],
   "source": [
    "data, labels = make_scurvehole()\n",
    "data, data.shape, labels, labels.shape"
   ]
  },
  {
   "cell_type": "markdown",
   "id": "a8d811a0-6181-4cde-9658-ec896a6b49bb",
   "metadata": {},
   "source": [
    "The `labels` are effectively the coordinate along the longest axis of the curve, so can be used to color each point."
   ]
  },
  {
   "cell_type": "markdown",
   "id": "ca7a0089-12b3-40a3-aacb-c63b2df0ba27",
   "metadata": {},
   "source": [
    "## Data Pipeline"
   ]
  },
  {
   "cell_type": "code",
   "execution_count": 8,
   "id": "0098d8b2-2a63-41d4-b7b3-46d9eeee0a00",
   "metadata": {},
   "outputs": [
    {
     "data": {
      "text/html": [
       "<div>\n",
       "<style scoped>\n",
       "    .dataframe tbody tr th:only-of-type {\n",
       "        vertical-align: middle;\n",
       "    }\n",
       "\n",
       "    .dataframe tbody tr th {\n",
       "        vertical-align: top;\n",
       "    }\n",
       "\n",
       "    .dataframe thead th {\n",
       "        text-align: right;\n",
       "    }\n",
       "</style>\n",
       "<table border=\"1\" class=\"dataframe\">\n",
       "  <thead>\n",
       "    <tr style=\"text-align: right;\">\n",
       "      <th></th>\n",
       "      <th>label</th>\n",
       "    </tr>\n",
       "  </thead>\n",
       "  <tbody>\n",
       "    <tr>\n",
       "      <th>0</th>\n",
       "      <td>-3.442416</td>\n",
       "    </tr>\n",
       "    <tr>\n",
       "      <th>1</th>\n",
       "      <td>-3.579675</td>\n",
       "    </tr>\n",
       "    <tr>\n",
       "      <th>2</th>\n",
       "      <td>-4.627468</td>\n",
       "    </tr>\n",
       "    <tr>\n",
       "      <th>3</th>\n",
       "      <td>2.432928</td>\n",
       "    </tr>\n",
       "    <tr>\n",
       "      <th>4</th>\n",
       "      <td>-0.921451</td>\n",
       "    </tr>\n",
       "    <tr>\n",
       "      <th>...</th>\n",
       "      <td>...</td>\n",
       "    </tr>\n",
       "    <tr>\n",
       "      <th>9500</th>\n",
       "      <td>-1.864398</td>\n",
       "    </tr>\n",
       "    <tr>\n",
       "      <th>9501</th>\n",
       "      <td>0.688607</td>\n",
       "    </tr>\n",
       "    <tr>\n",
       "      <th>9502</th>\n",
       "      <td>2.246549</td>\n",
       "    </tr>\n",
       "    <tr>\n",
       "      <th>9503</th>\n",
       "      <td>3.278764</td>\n",
       "    </tr>\n",
       "    <tr>\n",
       "      <th>9504</th>\n",
       "      <td>2.516527</td>\n",
       "    </tr>\n",
       "  </tbody>\n",
       "</table>\n",
       "<p>9505 rows × 1 columns</p>\n",
       "</div>"
      ],
      "text/plain": [
       "         label\n",
       "0    -3.442416\n",
       "1    -3.579675\n",
       "2    -4.627468\n",
       "3     2.432928\n",
       "4    -0.921451\n",
       "...        ...\n",
       "9500 -1.864398\n",
       "9501  0.688607\n",
       "9502  2.246549\n",
       "9503  3.278764\n",
       "9504  2.516527\n",
       "\n",
       "[9505 rows x 1 columns]"
      ]
     },
     "execution_count": 8,
     "metadata": {},
     "output_type": "execute_result"
    },
    {
     "name": "stdout",
     "output_type": "stream",
     "text": [
      "time: 8.78 ms (started: 2022-09-12 17:54:09 -07:00)\n"
     ]
    }
   ],
   "source": [
    "target = pd.DataFrame(dict(label=labels))\n",
    "target"
   ]
  },
  {
   "cell_type": "code",
   "execution_count": 9,
   "id": "63eb8fea-4ff9-4f70-bb9c-d404e28b10c8",
   "metadata": {},
   "outputs": [
    {
     "name": "stderr",
     "output_type": "stream",
     "text": [
      "INFO:rich:Requesting one extra neighbor to account for self-neighbor\n"
     ]
    },
    {
     "name": "stdout",
     "output_type": "stream",
     "text": [
      "time: 4.03 s (started: 2022-09-12 17:54:18 -07:00)\n"
     ]
    }
   ],
   "source": [
    "from drnb.dataset import create_data_pipeline\n",
    "\n",
    "data_pipe = create_data_pipeline(\n",
    "    convert=dict(dtype=\"float32\", layout=\"c\"),\n",
    "    data_export=[\"csv\", \"npy\"],\n",
    "    target_export=[\"csv\", \"pkl\"],\n",
    "    neighbors=dict(\n",
    "        n_neighbors=[15, 50, 150],\n",
    "        method=\"exact\",\n",
    "        metric=[\"euclidean\"],\n",
    "        file_types=[\"csv\", \"npy\"],\n",
    "    ),\n",
    "    triplets=dict(\n",
    "        n_triplets_per_point=5,\n",
    "        seed=1337,\n",
    "        file_types=[\"csv\", \"npy\"],\n",
    "    ),\n",
    "    verbose=True,\n",
    ")"
   ]
  },
  {
   "cell_type": "code",
   "execution_count": 11,
   "id": "5bb6aedb-5ff1-4aac-a099-1dfb341e6747",
   "metadata": {},
   "outputs": [
    {
     "name": "stderr",
     "output_type": "stream",
     "text": [
      "INFO:rich:initial data shape: (9505, 3)\n",
      "INFO:rich:Removing rows with NAs\n",
      "INFO:rich:data shape after filtering NAs: (9505, 3)\n",
      "INFO:rich:Keeping all columns\n",
      "INFO:rich:data shape after filtering columns: (9505, 3)\n",
      "INFO:rich:No scaling\n",
      "INFO:rich:Converting to numpy with {'dtype': 'float32', 'layout': 'c'}\n",
      "INFO:rich:Writing data for scurvehole\n",
      "INFO:rich:Processing target with initial shape (9505, 1)\n",
      "INFO:rich:Keeping all columns\n",
      "INFO:rich:Writing target for scurvehole\n",
      "INFO:rich:Calculating nearest neighbors\n",
      "INFO:rich:Finding 151 neighbors using faiss with euclidean metric and params: {}\n",
      "INFO:rich:Calculating triplets\n",
      "INFO:rich:Writing csv format to triplets/scurvehole.5.1337.idx.csv\n",
      "INFO:rich:Writing csv format to triplets/scurvehole.5.1337.l2.csv\n",
      "INFO:rich:Writing numpy format to triplets/scurvehole.5.1337.idx.npy\n",
      "INFO:rich:Writing numpy format to triplets/scurvehole.5.1337.l2.npy\n",
      "INFO:rich:Writing pipeline result for scurvehole\n"
     ]
    },
    {
     "name": "stdout",
     "output_type": "stream",
     "text": [
      "time: 6.96 s (started: 2022-09-12 17:54:48 -07:00)\n"
     ]
    }
   ],
   "source": [
    "data_result = data_pipe.run(\"scurvehole\", data=data, target=target, verbose=True)"
   ]
  },
  {
   "cell_type": "code",
   "execution_count": null,
   "id": "8c443da6-98de-4c36-9b90-0cc386e8ea4b",
   "metadata": {},
   "outputs": [],
   "source": []
  }
 ],
 "metadata": {
  "kernelspec": {
   "display_name": "Python 3 (ipykernel)",
   "language": "python",
   "name": "python3"
  },
  "language_info": {
   "codemirror_mode": {
    "name": "ipython",
    "version": 3
   },
   "file_extension": ".py",
   "mimetype": "text/x-python",
   "name": "python",
   "nbconvert_exporter": "python",
   "pygments_lexer": "ipython3",
   "version": "3.10.4"
  }
 },
 "nbformat": 4,
 "nbformat_minor": 5
}
