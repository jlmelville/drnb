{
 "cells": [
  {
   "cell_type": "code",
   "execution_count": 1,
   "id": "a3a32275-6551-4510-93ce-d88f8c5b2ef6",
   "metadata": {},
   "outputs": [
    {
     "name": "stdout",
     "output_type": "stream",
     "text": [
      "time: 406 ms (started: 2022-09-12 14:49:09 -07:00)\n"
     ]
    }
   ],
   "source": [
    "%load_ext lab_black\n",
    "%load_ext autotime\n",
    "import pandas as pd\n",
    "import numpy as np"
   ]
  },
  {
   "cell_type": "markdown",
   "id": "9f1a9d25-3677-4901-b50e-45ef4c9a8ba3",
   "metadata": {},
   "source": [
    "The Swiss Roll dataset from the Isomap paper. This is basically a 2D sheet of points that has been rolled up. Unfolding it is a goal beloved of all manifold learning methods. However, the MIT website has been less kind as I can no longer find the original URL on its domain: <http://web.mit.edu/cocosci/isomap/isomap.html>. However the internet archive can help us here."
   ]
  },
  {
   "cell_type": "code",
   "execution_count": 3,
   "id": "77414b71-528a-402b-9677-165587bd7c4e",
   "metadata": {},
   "outputs": [
    {
     "name": "stdout",
     "output_type": "stream",
     "text": [
      "time: 350 ms (started: 2022-09-12 14:50:01 -07:00)\n"
     ]
    }
   ],
   "source": [
    "from io import BytesIO\n",
    "\n",
    "import requests\n",
    "import scipy.io\n",
    "\n",
    "req = requests.get(\n",
    "    \"https://web.archive.org/web/20160101000000/http://web.mit.edu/cocosci/isomap/swiss_roll_data.mat\",\n",
    "    timeout=10,\n",
    ")\n",
    "data = scipy.io.loadmat(BytesIO(req.content), squeeze_me=True, struct_as_record=False)"
   ]
  },
  {
   "cell_type": "code",
   "execution_count": 4,
   "id": "9a2024e1-1bef-4a52-bf73-3fd686bfba20",
   "metadata": {},
   "outputs": [
    {
     "data": {
      "text/plain": [
       "{'__header__': b'MATLAB 5.0 MAT-file, Platform: LNX86, Created on: Thu May 18 03:25:00 2000',\n",
       " '__version__': '1.0',\n",
       " '__globals__': [],\n",
       " 'X_data': array([[-7.81669039, 11.63249768,  4.98949669, ..., -0.15761409,\n",
       "         -6.13858617, 10.16509492],\n",
       "        [-6.41497431, -3.83386251, -2.87793725, ...,  7.87242236,\n",
       "         13.21593522,  8.52082985],\n",
       "        [15.51749805, 12.96227365, 27.81921752, ..., 18.35944185,\n",
       "         32.82565478,  1.06143158]]),\n",
       " 'Y_data': array([[39.40748137, 63.46282985,  4.29079433, ..., 19.01280751,\n",
       "         94.79912446, 76.50555546],\n",
       "        [15.51749805, 12.96227365, 27.81921752, ..., 18.35944185,\n",
       "         32.82565478,  1.06143158]])}"
      ]
     },
     "execution_count": 4,
     "metadata": {},
     "output_type": "execute_result"
    },
    {
     "name": "stdout",
     "output_type": "stream",
     "text": [
      "time: 7.49 ms (started: 2022-09-12 14:50:05 -07:00)\n"
     ]
    }
   ],
   "source": [
    "data"
   ]
  },
  {
   "cell_type": "code",
   "execution_count": 6,
   "id": "ac34a861-49f9-4c49-b75c-7d44adb40523",
   "metadata": {},
   "outputs": [
    {
     "data": {
      "text/plain": [
       "(3, 20000)"
      ]
     },
     "execution_count": 6,
     "metadata": {},
     "output_type": "execute_result"
    },
    {
     "name": "stdout",
     "output_type": "stream",
     "text": [
      "time: 3.01 ms (started: 2022-09-12 15:37:19 -07:00)\n"
     ]
    }
   ],
   "source": [
    "x = data[\"X_data\"]\n",
    "x.shape"
   ]
  },
  {
   "cell_type": "markdown",
   "id": "39e26dc6-468d-42cb-99dc-1040295d0164",
   "metadata": {},
   "source": [
    "Note that this data is stored by column."
   ]
  },
  {
   "cell_type": "code",
   "execution_count": 7,
   "id": "07e2a3ea-6121-41ea-b34d-d9645909c0ea",
   "metadata": {},
   "outputs": [
    {
     "data": {
      "text/plain": [
       "array([15.51749805, 12.96227365, 27.81921752, ..., 18.35944185,\n",
       "       32.82565478,  1.06143158])"
      ]
     },
     "execution_count": 7,
     "metadata": {},
     "output_type": "execute_result"
    },
    {
     "name": "stdout",
     "output_type": "stream",
     "text": [
      "time: 19.3 ms (started: 2022-09-12 15:46:11 -07:00)\n"
     ]
    }
   ],
   "source": [
    "data[\"Y_data\"][1, :]"
   ]
  },
  {
   "cell_type": "markdown",
   "id": "f90edf2f-ec16-4177-95d2-d8b7dadd2572",
   "metadata": {},
   "source": [
    "## Data pipeline\n",
    "\n",
    "First, transpose the data to get it by row:"
   ]
  },
  {
   "cell_type": "code",
   "execution_count": 9,
   "id": "aafd71a9-a446-4e73-8ea0-2e99ffdc905c",
   "metadata": {},
   "outputs": [
    {
     "name": "stdout",
     "output_type": "stream",
     "text": [
      "time: 1.17 ms (started: 2022-09-12 15:46:59 -07:00)\n"
     ]
    }
   ],
   "source": [
    "x = x.T"
   ]
  },
  {
   "cell_type": "code",
   "execution_count": 13,
   "id": "2044c05e-6890-404a-8f64-4005b7577ce8",
   "metadata": {},
   "outputs": [
    {
     "name": "stdout",
     "output_type": "stream",
     "text": [
      "time: 3.92 ms (started: 2022-09-12 15:49:59 -07:00)\n"
     ]
    }
   ],
   "source": [
    "target = pd.DataFrame(dict(X=data[\"Y_data\"][0, :], Y=data[\"Y_data\"][1, :]))"
   ]
  },
  {
   "cell_type": "code",
   "execution_count": 14,
   "id": "e24af394-a020-40dd-9264-5c084f765f20",
   "metadata": {},
   "outputs": [
    {
     "data": {
      "text/html": [
       "<div>\n",
       "<style scoped>\n",
       "    .dataframe tbody tr th:only-of-type {\n",
       "        vertical-align: middle;\n",
       "    }\n",
       "\n",
       "    .dataframe tbody tr th {\n",
       "        vertical-align: top;\n",
       "    }\n",
       "\n",
       "    .dataframe thead th {\n",
       "        text-align: right;\n",
       "    }\n",
       "</style>\n",
       "<table border=\"1\" class=\"dataframe\">\n",
       "  <thead>\n",
       "    <tr style=\"text-align: right;\">\n",
       "      <th></th>\n",
       "      <th>X</th>\n",
       "      <th>Y</th>\n",
       "    </tr>\n",
       "  </thead>\n",
       "  <tbody>\n",
       "    <tr>\n",
       "      <th>0</th>\n",
       "      <td>39.407481</td>\n",
       "      <td>15.517498</td>\n",
       "    </tr>\n",
       "    <tr>\n",
       "      <th>1</th>\n",
       "      <td>63.462830</td>\n",
       "      <td>12.962274</td>\n",
       "    </tr>\n",
       "    <tr>\n",
       "      <th>2</th>\n",
       "      <td>4.290794</td>\n",
       "      <td>27.819218</td>\n",
       "    </tr>\n",
       "    <tr>\n",
       "      <th>3</th>\n",
       "      <td>22.285673</td>\n",
       "      <td>19.880264</td>\n",
       "    </tr>\n",
       "    <tr>\n",
       "      <th>4</th>\n",
       "      <td>57.325563</td>\n",
       "      <td>12.826453</td>\n",
       "    </tr>\n",
       "    <tr>\n",
       "      <th>...</th>\n",
       "      <td>...</td>\n",
       "      <td>...</td>\n",
       "    </tr>\n",
       "    <tr>\n",
       "      <th>19995</th>\n",
       "      <td>30.505732</td>\n",
       "      <td>7.540049</td>\n",
       "    </tr>\n",
       "    <tr>\n",
       "      <th>19996</th>\n",
       "      <td>54.118022</td>\n",
       "      <td>18.001537</td>\n",
       "    </tr>\n",
       "    <tr>\n",
       "      <th>19997</th>\n",
       "      <td>19.012808</td>\n",
       "      <td>18.359442</td>\n",
       "    </tr>\n",
       "    <tr>\n",
       "      <th>19998</th>\n",
       "      <td>94.799124</td>\n",
       "      <td>32.825655</td>\n",
       "    </tr>\n",
       "    <tr>\n",
       "      <th>19999</th>\n",
       "      <td>76.505555</td>\n",
       "      <td>1.061432</td>\n",
       "    </tr>\n",
       "  </tbody>\n",
       "</table>\n",
       "<p>20000 rows × 2 columns</p>\n",
       "</div>"
      ],
      "text/plain": [
       "               X          Y\n",
       "0      39.407481  15.517498\n",
       "1      63.462830  12.962274\n",
       "2       4.290794  27.819218\n",
       "3      22.285673  19.880264\n",
       "4      57.325563  12.826453\n",
       "...          ...        ...\n",
       "19995  30.505732   7.540049\n",
       "19996  54.118022  18.001537\n",
       "19997  19.012808  18.359442\n",
       "19998  94.799124  32.825655\n",
       "19999  76.505555   1.061432\n",
       "\n",
       "[20000 rows x 2 columns]"
      ]
     },
     "execution_count": 14,
     "metadata": {},
     "output_type": "execute_result"
    },
    {
     "name": "stdout",
     "output_type": "stream",
     "text": [
      "time: 9.83 ms (started: 2022-09-12 15:50:00 -07:00)\n"
     ]
    }
   ],
   "source": [
    "target"
   ]
  },
  {
   "cell_type": "code",
   "execution_count": 15,
   "id": "bfb41e70-e0ae-47cd-9a72-e4bb56e47281",
   "metadata": {},
   "outputs": [
    {
     "name": "stderr",
     "output_type": "stream",
     "text": [
      "INFO:rich:Requesting one extra neighbor to account for self-neighbor\n"
     ]
    },
    {
     "name": "stdout",
     "output_type": "stream",
     "text": [
      "time: 7.94 s (started: 2022-09-12 15:50:25 -07:00)\n"
     ]
    }
   ],
   "source": [
    "from drnb.dataset import create_data_pipeline\n",
    "\n",
    "data_pipe = create_data_pipeline(\n",
    "    data_export=[\"csv\", \"npy\"],\n",
    "    target_export=[\"csv\", \"pkl\"],\n",
    "    neighbors=dict(\n",
    "        n_neighbors=[15, 50, 150],\n",
    "        method=\"exact\",\n",
    "        metric=[\"euclidean\"],\n",
    "        file_types=[\"csv\", \"npy\"],\n",
    "    ),\n",
    "    triplets=dict(\n",
    "        n_triplets_per_point=5,\n",
    "        seed=1337,\n",
    "        file_types=[\"csv\", \"npy\"],\n",
    "    ),\n",
    "    verbose=True,\n",
    ")"
   ]
  },
  {
   "cell_type": "code",
   "execution_count": 16,
   "id": "1da2016e-3eea-492d-b845-ea10eca32271",
   "metadata": {},
   "outputs": [
    {
     "name": "stderr",
     "output_type": "stream",
     "text": [
      "INFO:rich:initial data shape: (20000, 3)\n",
      "INFO:rich:Removing rows with NAs\n",
      "INFO:rich:data shape after filtering NAs: (20000, 3)\n",
      "INFO:rich:Keeping all columns\n",
      "INFO:rich:data shape after filtering columns: (20000, 3)\n",
      "INFO:rich:No scaling\n",
      "INFO:rich:Converting to numpy with {'dtype': 'float32', 'layout': 'c'}\n",
      "INFO:rich:Writing data for isoswiss\n",
      "INFO:rich:Processing target with initial shape (20000, 2)\n",
      "INFO:rich:Keeping all columns\n",
      "INFO:rich:Writing target for isoswiss\n",
      "INFO:rich:Calculating nearest neighbors\n",
      "INFO:rich:Finding 151 neighbors using faiss with euclidean metric and params: {}\n",
      "INFO:rich:Calculating triplets\n",
      "INFO:rich:Writing csv format to triplets/isoswiss.5.1337.idx.csv\n",
      "INFO:rich:Writing csv format to triplets/isoswiss.5.1337.l2.csv\n",
      "INFO:rich:Writing numpy format to triplets/isoswiss.5.1337.idx.npy\n",
      "INFO:rich:Writing numpy format to triplets/isoswiss.5.1337.l2.npy\n",
      "INFO:rich:Writing pipeline result for isoswiss\n"
     ]
    },
    {
     "name": "stdout",
     "output_type": "stream",
     "text": [
      "time: 35.5 s (started: 2022-09-12 15:50:46 -07:00)\n"
     ]
    }
   ],
   "source": [
    "data_result = data_pipe.run(\"isoswiss\", data=x, target=target, verbose=True)"
   ]
  },
  {
   "cell_type": "code",
   "execution_count": null,
   "id": "98529c9c-1a2e-496c-bf81-4ba415197efc",
   "metadata": {},
   "outputs": [],
   "source": []
  }
 ],
 "metadata": {
  "kernelspec": {
   "display_name": "Python 3 (ipykernel)",
   "language": "python",
   "name": "python3"
  },
  "language_info": {
   "codemirror_mode": {
    "name": "ipython",
    "version": 3
   },
   "file_extension": ".py",
   "mimetype": "text/x-python",
   "name": "python",
   "nbconvert_exporter": "python",
   "pygments_lexer": "ipython3",
   "version": "3.10.4"
  }
 },
 "nbformat": 4,
 "nbformat_minor": 5
}
