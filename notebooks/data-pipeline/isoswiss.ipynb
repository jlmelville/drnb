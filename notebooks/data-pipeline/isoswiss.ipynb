{
 "cells": [
  {
   "cell_type": "code",
   "execution_count": 1,
   "id": "a3a32275-6551-4510-93ce-d88f8c5b2ef6",
   "metadata": {},
   "outputs": [
    {
     "name": "stdout",
     "output_type": "stream",
     "text": [
      "time: 241 ms (started: 2022-09-15 22:54:22 -07:00)\n"
     ]
    }
   ],
   "source": [
    "%load_ext lab_black\n",
    "%load_ext autotime\n",
    "import pandas as pd\n",
    "import numpy as np"
   ]
  },
  {
   "cell_type": "markdown",
   "id": "9f1a9d25-3677-4901-b50e-45ef4c9a8ba3",
   "metadata": {},
   "source": [
    "The Swiss Roll dataset from the Isomap paper. This is basically a 2D sheet of points that has been rolled up. Unfolding it is a goal beloved of all manifold learning methods. However, the MIT website has been less kind as I can no longer find the original URL on its domain: <http://web.mit.edu/cocosci/isomap/isomap.html>. However the internet archive can help us here."
   ]
  },
  {
   "cell_type": "code",
   "execution_count": 2,
   "id": "77414b71-528a-402b-9677-165587bd7c4e",
   "metadata": {},
   "outputs": [
    {
     "name": "stdout",
     "output_type": "stream",
     "text": [
      "time: 1.3 s (started: 2022-09-15 22:54:22 -07:00)\n"
     ]
    }
   ],
   "source": [
    "from io import BytesIO\n",
    "\n",
    "import requests\n",
    "import scipy.io\n",
    "\n",
    "req = requests.get(\n",
    "    \"https://web.archive.org/web/20160101000000/http://web.mit.edu/cocosci/isomap/swiss_roll_data.mat\",\n",
    "    timeout=10,\n",
    ")\n",
    "data = scipy.io.loadmat(BytesIO(req.content), squeeze_me=True, struct_as_record=False)"
   ]
  },
  {
   "cell_type": "code",
   "execution_count": 3,
   "id": "9a2024e1-1bef-4a52-bf73-3fd686bfba20",
   "metadata": {},
   "outputs": [
    {
     "data": {
      "text/plain": [
       "{'__header__': b'MATLAB 5.0 MAT-file, Platform: LNX86, Created on: Thu May 18 03:25:00 2000',\n",
       " '__version__': '1.0',\n",
       " '__globals__': [],\n",
       " 'X_data': array([[-7.81669039, 11.63249768,  4.98949669, ..., -0.15761409,\n",
       "         -6.13858617, 10.16509492],\n",
       "        [-6.41497431, -3.83386251, -2.87793725, ...,  7.87242236,\n",
       "         13.21593522,  8.52082985],\n",
       "        [15.51749805, 12.96227365, 27.81921752, ..., 18.35944185,\n",
       "         32.82565478,  1.06143158]]),\n",
       " 'Y_data': array([[39.40748137, 63.46282985,  4.29079433, ..., 19.01280751,\n",
       "         94.79912446, 76.50555546],\n",
       "        [15.51749805, 12.96227365, 27.81921752, ..., 18.35944185,\n",
       "         32.82565478,  1.06143158]])}"
      ]
     },
     "execution_count": 3,
     "metadata": {},
     "output_type": "execute_result"
    },
    {
     "name": "stdout",
     "output_type": "stream",
     "text": [
      "time: 8.24 ms (started: 2022-09-15 22:54:23 -07:00)\n"
     ]
    }
   ],
   "source": [
    "data"
   ]
  },
  {
   "cell_type": "code",
   "execution_count": 4,
   "id": "ac34a861-49f9-4c49-b75c-7d44adb40523",
   "metadata": {},
   "outputs": [
    {
     "data": {
      "text/plain": [
       "(3, 20000)"
      ]
     },
     "execution_count": 4,
     "metadata": {},
     "output_type": "execute_result"
    },
    {
     "name": "stdout",
     "output_type": "stream",
     "text": [
      "time: 5.92 ms (started: 2022-09-15 22:54:23 -07:00)\n"
     ]
    }
   ],
   "source": [
    "x = data[\"X_data\"]\n",
    "x.shape"
   ]
  },
  {
   "cell_type": "markdown",
   "id": "39e26dc6-468d-42cb-99dc-1040295d0164",
   "metadata": {},
   "source": [
    "Note that this data is stored by column."
   ]
  },
  {
   "cell_type": "code",
   "execution_count": 5,
   "id": "07e2a3ea-6121-41ea-b34d-d9645909c0ea",
   "metadata": {},
   "outputs": [
    {
     "data": {
      "text/plain": [
       "array([15.51749805, 12.96227365, 27.81921752, ..., 18.35944185,\n",
       "       32.82565478,  1.06143158])"
      ]
     },
     "execution_count": 5,
     "metadata": {},
     "output_type": "execute_result"
    },
    {
     "name": "stdout",
     "output_type": "stream",
     "text": [
      "time: 4.02 ms (started: 2022-09-15 22:54:23 -07:00)\n"
     ]
    }
   ],
   "source": [
    "data[\"Y_data\"][1, :]"
   ]
  },
  {
   "cell_type": "markdown",
   "id": "f90edf2f-ec16-4177-95d2-d8b7dadd2572",
   "metadata": {},
   "source": [
    "## Data pipeline\n",
    "\n",
    "First, transpose the data to get it by row:"
   ]
  },
  {
   "cell_type": "code",
   "execution_count": 6,
   "id": "aafd71a9-a446-4e73-8ea0-2e99ffdc905c",
   "metadata": {},
   "outputs": [
    {
     "name": "stdout",
     "output_type": "stream",
     "text": [
      "time: 1.96 ms (started: 2022-09-15 22:54:23 -07:00)\n"
     ]
    }
   ],
   "source": [
    "x = x.T"
   ]
  },
  {
   "cell_type": "code",
   "execution_count": 7,
   "id": "2044c05e-6890-404a-8f64-4005b7577ce8",
   "metadata": {},
   "outputs": [
    {
     "name": "stdout",
     "output_type": "stream",
     "text": [
      "time: 3.33 ms (started: 2022-09-15 22:54:23 -07:00)\n"
     ]
    }
   ],
   "source": [
    "target = pd.DataFrame(dict(X=data[\"Y_data\"][0, :], Y=data[\"Y_data\"][1, :]))"
   ]
  },
  {
   "cell_type": "code",
   "execution_count": 8,
   "id": "e24af394-a020-40dd-9264-5c084f765f20",
   "metadata": {},
   "outputs": [
    {
     "data": {
      "text/html": [
       "<div>\n",
       "<style scoped>\n",
       "    .dataframe tbody tr th:only-of-type {\n",
       "        vertical-align: middle;\n",
       "    }\n",
       "\n",
       "    .dataframe tbody tr th {\n",
       "        vertical-align: top;\n",
       "    }\n",
       "\n",
       "    .dataframe thead th {\n",
       "        text-align: right;\n",
       "    }\n",
       "</style>\n",
       "<table border=\"1\" class=\"dataframe\">\n",
       "  <thead>\n",
       "    <tr style=\"text-align: right;\">\n",
       "      <th></th>\n",
       "      <th>X</th>\n",
       "      <th>Y</th>\n",
       "    </tr>\n",
       "  </thead>\n",
       "  <tbody>\n",
       "    <tr>\n",
       "      <th>0</th>\n",
       "      <td>39.407481</td>\n",
       "      <td>15.517498</td>\n",
       "    </tr>\n",
       "    <tr>\n",
       "      <th>1</th>\n",
       "      <td>63.462830</td>\n",
       "      <td>12.962274</td>\n",
       "    </tr>\n",
       "    <tr>\n",
       "      <th>2</th>\n",
       "      <td>4.290794</td>\n",
       "      <td>27.819218</td>\n",
       "    </tr>\n",
       "    <tr>\n",
       "      <th>3</th>\n",
       "      <td>22.285673</td>\n",
       "      <td>19.880264</td>\n",
       "    </tr>\n",
       "    <tr>\n",
       "      <th>4</th>\n",
       "      <td>57.325563</td>\n",
       "      <td>12.826453</td>\n",
       "    </tr>\n",
       "    <tr>\n",
       "      <th>...</th>\n",
       "      <td>...</td>\n",
       "      <td>...</td>\n",
       "    </tr>\n",
       "    <tr>\n",
       "      <th>19995</th>\n",
       "      <td>30.505732</td>\n",
       "      <td>7.540049</td>\n",
       "    </tr>\n",
       "    <tr>\n",
       "      <th>19996</th>\n",
       "      <td>54.118022</td>\n",
       "      <td>18.001537</td>\n",
       "    </tr>\n",
       "    <tr>\n",
       "      <th>19997</th>\n",
       "      <td>19.012808</td>\n",
       "      <td>18.359442</td>\n",
       "    </tr>\n",
       "    <tr>\n",
       "      <th>19998</th>\n",
       "      <td>94.799124</td>\n",
       "      <td>32.825655</td>\n",
       "    </tr>\n",
       "    <tr>\n",
       "      <th>19999</th>\n",
       "      <td>76.505555</td>\n",
       "      <td>1.061432</td>\n",
       "    </tr>\n",
       "  </tbody>\n",
       "</table>\n",
       "<p>20000 rows × 2 columns</p>\n",
       "</div>"
      ],
      "text/plain": [
       "               X          Y\n",
       "0      39.407481  15.517498\n",
       "1      63.462830  12.962274\n",
       "2       4.290794  27.819218\n",
       "3      22.285673  19.880264\n",
       "4      57.325563  12.826453\n",
       "...          ...        ...\n",
       "19995  30.505732   7.540049\n",
       "19996  54.118022  18.001537\n",
       "19997  19.012808  18.359442\n",
       "19998  94.799124  32.825655\n",
       "19999  76.505555   1.061432\n",
       "\n",
       "[20000 rows x 2 columns]"
      ]
     },
     "execution_count": 8,
     "metadata": {},
     "output_type": "execute_result"
    },
    {
     "name": "stdout",
     "output_type": "stream",
     "text": [
      "time: 9.7 ms (started: 2022-09-15 22:54:23 -07:00)\n"
     ]
    }
   ],
   "source": [
    "target"
   ]
  },
  {
   "cell_type": "code",
   "execution_count": 11,
   "id": "bfb41e70-e0ae-47cd-9a72-e4bb56e47281",
   "metadata": {},
   "outputs": [
    {
     "data": {
      "text/html": [
       "<pre style=\"white-space:pre;overflow-x:auto;line-height:normal;font-family:Menlo,'DejaVu Sans Mono',consolas,'Courier New',monospace\"><span style=\"color: #7fbfbf; text-decoration-color: #7fbfbf\">[23:01:19] </span><span style=\"color: #000080; text-decoration-color: #000080\">INFO    </span> Requesting one extra neighbor to account for self-neighbor                      <a href=\"file:///home/james/dev/drnb/src/drnb/io/pipeline.py\" target=\"_blank\"><span style=\"color: #7f7f7f; text-decoration-color: #7f7f7f\">pipeline.py</span></a><span style=\"color: #7f7f7f; text-decoration-color: #7f7f7f\">:</span><a href=\"file:///home/james/dev/drnb/src/drnb/io/pipeline.py#392\" target=\"_blank\"><span style=\"color: #7f7f7f; text-decoration-color: #7f7f7f\">392</span></a>\n",
       "</pre>\n"
      ],
      "text/plain": [
       "\u001b[2;36m[23:01:19]\u001b[0m\u001b[2;36m \u001b[0m\u001b[34mINFO    \u001b[0m Requesting one extra neighbor to account for self-neighbor                      \u001b]8;id=462588;file:///home/james/dev/drnb/src/drnb/io/pipeline.py\u001b\\\u001b[2mpipeline.py\u001b[0m\u001b]8;;\u001b\\\u001b[2m:\u001b[0m\u001b]8;id=624248;file:///home/james/dev/drnb/src/drnb/io/pipeline.py#392\u001b\\\u001b[2m392\u001b[0m\u001b]8;;\u001b\\\n"
      ]
     },
     "metadata": {},
     "output_type": "display_data"
    },
    {
     "data": {
      "text/html": [
       "<pre style=\"white-space:pre;overflow-x:auto;line-height:normal;font-family:Menlo,'DejaVu Sans Mono',consolas,'Courier New',monospace\"><span style=\"color: #7fbfbf; text-decoration-color: #7fbfbf\">           </span><span style=\"color: #000080; text-decoration-color: #000080\">INFO    </span> Initial data shape: <span style=\"font-weight: bold\">(</span><span style=\"color: #008080; text-decoration-color: #008080; font-weight: bold\">20000</span>, <span style=\"color: #008080; text-decoration-color: #008080; font-weight: bold\">3</span><span style=\"font-weight: bold\">)</span>                                                   <a href=\"file:///home/james/dev/drnb/src/drnb/io/pipeline.py\" target=\"_blank\"><span style=\"color: #7f7f7f; text-decoration-color: #7f7f7f\">pipeline.py</span></a><span style=\"color: #7f7f7f; text-decoration-color: #7f7f7f\">:</span><a href=\"file:///home/james/dev/drnb/src/drnb/io/pipeline.py#80\" target=\"_blank\"><span style=\"color: #7f7f7f; text-decoration-color: #7f7f7f\">80</span></a>\n",
       "</pre>\n"
      ],
      "text/plain": [
       "\u001b[2;36m          \u001b[0m\u001b[2;36m \u001b[0m\u001b[34mINFO    \u001b[0m Initial data shape: \u001b[1m(\u001b[0m\u001b[1;36m20000\u001b[0m, \u001b[1;36m3\u001b[0m\u001b[1m)\u001b[0m                                                   \u001b]8;id=817922;file:///home/james/dev/drnb/src/drnb/io/pipeline.py\u001b\\\u001b[2mpipeline.py\u001b[0m\u001b]8;;\u001b\\\u001b[2m:\u001b[0m\u001b]8;id=895409;file:///home/james/dev/drnb/src/drnb/io/pipeline.py#80\u001b\\\u001b[2m80\u001b[0m\u001b]8;;\u001b\\\n"
      ]
     },
     "metadata": {},
     "output_type": "display_data"
    },
    {
     "data": {
      "text/html": [
       "<pre style=\"white-space:pre;overflow-x:auto;line-height:normal;font-family:Menlo,'DejaVu Sans Mono',consolas,'Courier New',monospace\"><span style=\"color: #7fbfbf; text-decoration-color: #7fbfbf\">           </span><span style=\"color: #000080; text-decoration-color: #000080\">INFO    </span> Keeping all columns                                                            <a href=\"file:///home/james/dev/drnb/src/drnb/preprocess.py\" target=\"_blank\"><span style=\"color: #7f7f7f; text-decoration-color: #7f7f7f\">preprocess.py</span></a><span style=\"color: #7f7f7f; text-decoration-color: #7f7f7f\">:</span><a href=\"file:///home/james/dev/drnb/src/drnb/preprocess.py#62\" target=\"_blank\"><span style=\"color: #7f7f7f; text-decoration-color: #7f7f7f\">62</span></a>\n",
       "</pre>\n"
      ],
      "text/plain": [
       "\u001b[2;36m          \u001b[0m\u001b[2;36m \u001b[0m\u001b[34mINFO    \u001b[0m Keeping all columns                                                            \u001b]8;id=194678;file:///home/james/dev/drnb/src/drnb/preprocess.py\u001b\\\u001b[2mpreprocess.py\u001b[0m\u001b]8;;\u001b\\\u001b[2m:\u001b[0m\u001b]8;id=24049;file:///home/james/dev/drnb/src/drnb/preprocess.py#62\u001b\\\u001b[2m62\u001b[0m\u001b]8;;\u001b\\\n"
      ]
     },
     "metadata": {},
     "output_type": "display_data"
    },
    {
     "data": {
      "text/html": [
       "<pre style=\"white-space:pre;overflow-x:auto;line-height:normal;font-family:Menlo,'DejaVu Sans Mono',consolas,'Courier New',monospace\"><span style=\"color: #7fbfbf; text-decoration-color: #7fbfbf\">           </span><span style=\"color: #000080; text-decoration-color: #000080\">INFO    </span> Data shape after filtering columns: <span style=\"font-weight: bold\">(</span><span style=\"color: #008080; text-decoration-color: #008080; font-weight: bold\">20000</span>, <span style=\"color: #008080; text-decoration-color: #008080; font-weight: bold\">3</span><span style=\"font-weight: bold\">)</span>                                  <a href=\"file:///home/james/dev/drnb/src/drnb/io/pipeline.py\" target=\"_blank\"><span style=\"color: #7f7f7f; text-decoration-color: #7f7f7f\">pipeline.py</span></a><span style=\"color: #7f7f7f; text-decoration-color: #7f7f7f\">:</span><a href=\"file:///home/james/dev/drnb/src/drnb/io/pipeline.py#151\" target=\"_blank\"><span style=\"color: #7f7f7f; text-decoration-color: #7f7f7f\">151</span></a>\n",
       "</pre>\n"
      ],
      "text/plain": [
       "\u001b[2;36m          \u001b[0m\u001b[2;36m \u001b[0m\u001b[34mINFO    \u001b[0m Data shape after filtering columns: \u001b[1m(\u001b[0m\u001b[1;36m20000\u001b[0m, \u001b[1;36m3\u001b[0m\u001b[1m)\u001b[0m                                  \u001b]8;id=985644;file:///home/james/dev/drnb/src/drnb/io/pipeline.py\u001b\\\u001b[2mpipeline.py\u001b[0m\u001b]8;;\u001b\\\u001b[2m:\u001b[0m\u001b]8;id=64186;file:///home/james/dev/drnb/src/drnb/io/pipeline.py#151\u001b\\\u001b[2m151\u001b[0m\u001b]8;;\u001b\\\n"
      ]
     },
     "metadata": {},
     "output_type": "display_data"
    },
    {
     "data": {
      "text/html": [
       "<pre style=\"white-space:pre;overflow-x:auto;line-height:normal;font-family:Menlo,'DejaVu Sans Mono',consolas,'Courier New',monospace\"><span style=\"color: #7fbfbf; text-decoration-color: #7fbfbf\">           </span><span style=\"color: #000080; text-decoration-color: #000080\">INFO    </span> Removing rows with NAs                                                          <a href=\"file:///home/james/dev/drnb/src/drnb/io/pipeline.py\" target=\"_blank\"><span style=\"color: #7f7f7f; text-decoration-color: #7f7f7f\">pipeline.py</span></a><span style=\"color: #7f7f7f; text-decoration-color: #7f7f7f\">:</span><a href=\"file:///home/james/dev/drnb/src/drnb/io/pipeline.py#135\" target=\"_blank\"><span style=\"color: #7f7f7f; text-decoration-color: #7f7f7f\">135</span></a>\n",
       "</pre>\n"
      ],
      "text/plain": [
       "\u001b[2;36m          \u001b[0m\u001b[2;36m \u001b[0m\u001b[34mINFO    \u001b[0m Removing rows with NAs                                                          \u001b]8;id=601264;file:///home/james/dev/drnb/src/drnb/io/pipeline.py\u001b\\\u001b[2mpipeline.py\u001b[0m\u001b]8;;\u001b\\\u001b[2m:\u001b[0m\u001b]8;id=10644;file:///home/james/dev/drnb/src/drnb/io/pipeline.py#135\u001b\\\u001b[2m135\u001b[0m\u001b]8;;\u001b\\\n"
      ]
     },
     "metadata": {},
     "output_type": "display_data"
    },
    {
     "data": {
      "text/html": [
       "<pre style=\"white-space:pre;overflow-x:auto;line-height:normal;font-family:Menlo,'DejaVu Sans Mono',consolas,'Courier New',monospace\"><span style=\"color: #7fbfbf; text-decoration-color: #7fbfbf\">           </span><span style=\"color: #000080; text-decoration-color: #000080\">INFO    </span> Data shape after filtering NAs: <span style=\"font-weight: bold\">(</span><span style=\"color: #008080; text-decoration-color: #008080; font-weight: bold\">20000</span>, <span style=\"color: #008080; text-decoration-color: #008080; font-weight: bold\">3</span><span style=\"font-weight: bold\">)</span>                                      <a href=\"file:///home/james/dev/drnb/src/drnb/io/pipeline.py\" target=\"_blank\"><span style=\"color: #7f7f7f; text-decoration-color: #7f7f7f\">pipeline.py</span></a><span style=\"color: #7f7f7f; text-decoration-color: #7f7f7f\">:</span><a href=\"file:///home/james/dev/drnb/src/drnb/io/pipeline.py#146\" target=\"_blank\"><span style=\"color: #7f7f7f; text-decoration-color: #7f7f7f\">146</span></a>\n",
       "</pre>\n"
      ],
      "text/plain": [
       "\u001b[2;36m          \u001b[0m\u001b[2;36m \u001b[0m\u001b[34mINFO    \u001b[0m Data shape after filtering NAs: \u001b[1m(\u001b[0m\u001b[1;36m20000\u001b[0m, \u001b[1;36m3\u001b[0m\u001b[1m)\u001b[0m                                      \u001b]8;id=601511;file:///home/james/dev/drnb/src/drnb/io/pipeline.py\u001b\\\u001b[2mpipeline.py\u001b[0m\u001b]8;;\u001b\\\u001b[2m:\u001b[0m\u001b]8;id=51274;file:///home/james/dev/drnb/src/drnb/io/pipeline.py#146\u001b\\\u001b[2m146\u001b[0m\u001b]8;;\u001b\\\n"
      ]
     },
     "metadata": {},
     "output_type": "display_data"
    },
    {
     "data": {
      "text/html": [
       "<pre style=\"white-space:pre;overflow-x:auto;line-height:normal;font-family:Menlo,'DejaVu Sans Mono',consolas,'Courier New',monospace\"><span style=\"color: #7fbfbf; text-decoration-color: #7fbfbf\">           </span><span style=\"color: #000080; text-decoration-color: #000080\">INFO    </span> Checked for duplicates: found <span style=\"color: #008080; text-decoration-color: #008080; font-weight: bold\">0</span>                                                 <a href=\"file:///home/james/dev/drnb/src/drnb/io/pipeline.py\" target=\"_blank\"><span style=\"color: #7f7f7f; text-decoration-color: #7f7f7f\">pipeline.py</span></a><span style=\"color: #7f7f7f; text-decoration-color: #7f7f7f\">:</span><a href=\"file:///home/james/dev/drnb/src/drnb/io/pipeline.py#158\" target=\"_blank\"><span style=\"color: #7f7f7f; text-decoration-color: #7f7f7f\">158</span></a>\n",
       "</pre>\n"
      ],
      "text/plain": [
       "\u001b[2;36m          \u001b[0m\u001b[2;36m \u001b[0m\u001b[34mINFO    \u001b[0m Checked for duplicates: found \u001b[1;36m0\u001b[0m                                                 \u001b]8;id=975452;file:///home/james/dev/drnb/src/drnb/io/pipeline.py\u001b\\\u001b[2mpipeline.py\u001b[0m\u001b]8;;\u001b\\\u001b[2m:\u001b[0m\u001b]8;id=225002;file:///home/james/dev/drnb/src/drnb/io/pipeline.py#158\u001b\\\u001b[2m158\u001b[0m\u001b]8;;\u001b\\\n"
      ]
     },
     "metadata": {},
     "output_type": "display_data"
    },
    {
     "data": {
      "text/html": [
       "<pre style=\"white-space:pre;overflow-x:auto;line-height:normal;font-family:Menlo,'DejaVu Sans Mono',consolas,'Courier New',monospace\"><span style=\"color: #7fbfbf; text-decoration-color: #7fbfbf\">           </span><span style=\"color: #000080; text-decoration-color: #000080\">INFO    </span> No scaling                                                                     <a href=\"file:///home/james/dev/drnb/src/drnb/preprocess.py\" target=\"_blank\"><span style=\"color: #7f7f7f; text-decoration-color: #7f7f7f\">preprocess.py</span></a><span style=\"color: #7f7f7f; text-decoration-color: #7f7f7f\">:</span><a href=\"file:///home/james/dev/drnb/src/drnb/preprocess.py#25\" target=\"_blank\"><span style=\"color: #7f7f7f; text-decoration-color: #7f7f7f\">25</span></a>\n",
       "</pre>\n"
      ],
      "text/plain": [
       "\u001b[2;36m          \u001b[0m\u001b[2;36m \u001b[0m\u001b[34mINFO    \u001b[0m No scaling                                                                     \u001b]8;id=252710;file:///home/james/dev/drnb/src/drnb/preprocess.py\u001b\\\u001b[2mpreprocess.py\u001b[0m\u001b]8;;\u001b\\\u001b[2m:\u001b[0m\u001b]8;id=1124;file:///home/james/dev/drnb/src/drnb/preprocess.py#25\u001b\\\u001b[2m25\u001b[0m\u001b]8;;\u001b\\\n"
      ]
     },
     "metadata": {},
     "output_type": "display_data"
    },
    {
     "data": {
      "text/html": [
       "<pre style=\"white-space:pre;overflow-x:auto;line-height:normal;font-family:Menlo,'DejaVu Sans Mono',consolas,'Courier New',monospace\"><span style=\"color: #7fbfbf; text-decoration-color: #7fbfbf\">           </span><span style=\"color: #000080; text-decoration-color: #000080\">INFO    </span> Converting to numpy with <span style=\"font-weight: bold\">{</span><span style=\"color: #008000; text-decoration-color: #008000\">'dtype'</span>: <span style=\"color: #008000; text-decoration-color: #008000\">'float32'</span>, <span style=\"color: #008000; text-decoration-color: #008000\">'layout'</span>: <span style=\"color: #008000; text-decoration-color: #008000\">'c'</span><span style=\"font-weight: bold\">}</span>                    <a href=\"file:///home/james/dev/drnb/src/drnb/io/pipeline.py\" target=\"_blank\"><span style=\"color: #7f7f7f; text-decoration-color: #7f7f7f\">pipeline.py</span></a><span style=\"color: #7f7f7f; text-decoration-color: #7f7f7f\">:</span><a href=\"file:///home/james/dev/drnb/src/drnb/io/pipeline.py#163\" target=\"_blank\"><span style=\"color: #7f7f7f; text-decoration-color: #7f7f7f\">163</span></a>\n",
       "</pre>\n"
      ],
      "text/plain": [
       "\u001b[2;36m          \u001b[0m\u001b[2;36m \u001b[0m\u001b[34mINFO    \u001b[0m Converting to numpy with \u001b[1m{\u001b[0m\u001b[32m'dtype'\u001b[0m: \u001b[32m'float32'\u001b[0m, \u001b[32m'layout'\u001b[0m: \u001b[32m'c'\u001b[0m\u001b[1m}\u001b[0m                    \u001b]8;id=971255;file:///home/james/dev/drnb/src/drnb/io/pipeline.py\u001b\\\u001b[2mpipeline.py\u001b[0m\u001b]8;;\u001b\\\u001b[2m:\u001b[0m\u001b]8;id=593468;file:///home/james/dev/drnb/src/drnb/io/pipeline.py#163\u001b\\\u001b[2m163\u001b[0m\u001b]8;;\u001b\\\n"
      ]
     },
     "metadata": {},
     "output_type": "display_data"
    },
    {
     "data": {
      "text/html": [
       "<pre style=\"white-space:pre;overflow-x:auto;line-height:normal;font-family:Menlo,'DejaVu Sans Mono',consolas,'Courier New',monospace\"><span style=\"color: #7fbfbf; text-decoration-color: #7fbfbf\">           </span><span style=\"color: #000080; text-decoration-color: #000080\">INFO    </span> Writing data for isoswiss                                                       <a href=\"file:///home/james/dev/drnb/src/drnb/io/pipeline.py\" target=\"_blank\"><span style=\"color: #7f7f7f; text-decoration-color: #7f7f7f\">pipeline.py</span></a><span style=\"color: #7f7f7f; text-decoration-color: #7f7f7f\">:</span><a href=\"file:///home/james/dev/drnb/src/drnb/io/pipeline.py#225\" target=\"_blank\"><span style=\"color: #7f7f7f; text-decoration-color: #7f7f7f\">225</span></a>\n",
       "</pre>\n"
      ],
      "text/plain": [
       "\u001b[2;36m          \u001b[0m\u001b[2;36m \u001b[0m\u001b[34mINFO    \u001b[0m Writing data for isoswiss                                                       \u001b]8;id=830369;file:///home/james/dev/drnb/src/drnb/io/pipeline.py\u001b\\\u001b[2mpipeline.py\u001b[0m\u001b]8;;\u001b\\\u001b[2m:\u001b[0m\u001b]8;id=88158;file:///home/james/dev/drnb/src/drnb/io/pipeline.py#225\u001b\\\u001b[2m225\u001b[0m\u001b]8;;\u001b\\\n"
      ]
     },
     "metadata": {},
     "output_type": "display_data"
    },
    {
     "data": {
      "text/html": [
       "<pre style=\"white-space:pre;overflow-x:auto;line-height:normal;font-family:Menlo,'DejaVu Sans Mono',consolas,'Courier New',monospace\"><span style=\"color: #7fbfbf; text-decoration-color: #7fbfbf\">           </span><span style=\"color: #000080; text-decoration-color: #000080\">INFO    </span> Processing target with initial shape <span style=\"font-weight: bold\">(</span><span style=\"color: #008080; text-decoration-color: #008080; font-weight: bold\">20000</span>, <span style=\"color: #008080; text-decoration-color: #008080; font-weight: bold\">2</span><span style=\"font-weight: bold\">)</span>                                 <a href=\"file:///home/james/dev/drnb/src/drnb/io/pipeline.py\" target=\"_blank\"><span style=\"color: #7f7f7f; text-decoration-color: #7f7f7f\">pipeline.py</span></a><span style=\"color: #7f7f7f; text-decoration-color: #7f7f7f\">:</span><a href=\"file:///home/james/dev/drnb/src/drnb/io/pipeline.py#196\" target=\"_blank\"><span style=\"color: #7f7f7f; text-decoration-color: #7f7f7f\">196</span></a>\n",
       "</pre>\n"
      ],
      "text/plain": [
       "\u001b[2;36m          \u001b[0m\u001b[2;36m \u001b[0m\u001b[34mINFO    \u001b[0m Processing target with initial shape \u001b[1m(\u001b[0m\u001b[1;36m20000\u001b[0m, \u001b[1;36m2\u001b[0m\u001b[1m)\u001b[0m                                 \u001b]8;id=280668;file:///home/james/dev/drnb/src/drnb/io/pipeline.py\u001b\\\u001b[2mpipeline.py\u001b[0m\u001b]8;;\u001b\\\u001b[2m:\u001b[0m\u001b]8;id=398554;file:///home/james/dev/drnb/src/drnb/io/pipeline.py#196\u001b\\\u001b[2m196\u001b[0m\u001b]8;;\u001b\\\n"
      ]
     },
     "metadata": {},
     "output_type": "display_data"
    },
    {
     "data": {
      "text/html": [
       "<pre style=\"white-space:pre;overflow-x:auto;line-height:normal;font-family:Menlo,'DejaVu Sans Mono',consolas,'Courier New',monospace\"><span style=\"color: #7fbfbf; text-decoration-color: #7fbfbf\">           </span><span style=\"color: #000080; text-decoration-color: #000080\">INFO    </span> Keeping all columns                                                            <a href=\"file:///home/james/dev/drnb/src/drnb/preprocess.py\" target=\"_blank\"><span style=\"color: #7f7f7f; text-decoration-color: #7f7f7f\">preprocess.py</span></a><span style=\"color: #7f7f7f; text-decoration-color: #7f7f7f\">:</span><a href=\"file:///home/james/dev/drnb/src/drnb/preprocess.py#62\" target=\"_blank\"><span style=\"color: #7f7f7f; text-decoration-color: #7f7f7f\">62</span></a>\n",
       "</pre>\n"
      ],
      "text/plain": [
       "\u001b[2;36m          \u001b[0m\u001b[2;36m \u001b[0m\u001b[34mINFO    \u001b[0m Keeping all columns                                                            \u001b]8;id=531132;file:///home/james/dev/drnb/src/drnb/preprocess.py\u001b\\\u001b[2mpreprocess.py\u001b[0m\u001b]8;;\u001b\\\u001b[2m:\u001b[0m\u001b]8;id=208027;file:///home/james/dev/drnb/src/drnb/preprocess.py#62\u001b\\\u001b[2m62\u001b[0m\u001b]8;;\u001b\\\n"
      ]
     },
     "metadata": {},
     "output_type": "display_data"
    },
    {
     "data": {
      "text/html": [
       "<pre style=\"white-space:pre;overflow-x:auto;line-height:normal;font-family:Menlo,'DejaVu Sans Mono',consolas,'Courier New',monospace\"><span style=\"color: #7fbfbf; text-decoration-color: #7fbfbf\">           </span><span style=\"color: #000080; text-decoration-color: #000080\">INFO    </span> Writing target for isoswiss                                                     <a href=\"file:///home/james/dev/drnb/src/drnb/io/pipeline.py\" target=\"_blank\"><span style=\"color: #7f7f7f; text-decoration-color: #7f7f7f\">pipeline.py</span></a><span style=\"color: #7f7f7f; text-decoration-color: #7f7f7f\">:</span><a href=\"file:///home/james/dev/drnb/src/drnb/io/pipeline.py#225\" target=\"_blank\"><span style=\"color: #7f7f7f; text-decoration-color: #7f7f7f\">225</span></a>\n",
       "</pre>\n"
      ],
      "text/plain": [
       "\u001b[2;36m          \u001b[0m\u001b[2;36m \u001b[0m\u001b[34mINFO    \u001b[0m Writing target for isoswiss                                                     \u001b]8;id=777919;file:///home/james/dev/drnb/src/drnb/io/pipeline.py\u001b\\\u001b[2mpipeline.py\u001b[0m\u001b]8;;\u001b\\\u001b[2m:\u001b[0m\u001b]8;id=347759;file:///home/james/dev/drnb/src/drnb/io/pipeline.py#225\u001b\\\u001b[2m225\u001b[0m\u001b]8;;\u001b\\\n"
      ]
     },
     "metadata": {},
     "output_type": "display_data"
    },
    {
     "data": {
      "text/html": [
       "<pre style=\"white-space:pre;overflow-x:auto;line-height:normal;font-family:Menlo,'DejaVu Sans Mono',consolas,'Courier New',monospace\"><span style=\"color: #7fbfbf; text-decoration-color: #7fbfbf\">           </span><span style=\"color: #000080; text-decoration-color: #000080\">INFO    </span> Calculating nearest neighbors                                                   <a href=\"file:///home/james/dev/drnb/src/drnb/io/pipeline.py\" target=\"_blank\"><span style=\"color: #7f7f7f; text-decoration-color: #7f7f7f\">pipeline.py</span></a><span style=\"color: #7f7f7f; text-decoration-color: #7f7f7f\">:</span><a href=\"file:///home/james/dev/drnb/src/drnb/io/pipeline.py#240\" target=\"_blank\"><span style=\"color: #7f7f7f; text-decoration-color: #7f7f7f\">240</span></a>\n",
       "</pre>\n"
      ],
      "text/plain": [
       "\u001b[2;36m          \u001b[0m\u001b[2;36m \u001b[0m\u001b[34mINFO    \u001b[0m Calculating nearest neighbors                                                   \u001b]8;id=164292;file:///home/james/dev/drnb/src/drnb/io/pipeline.py\u001b\\\u001b[2mpipeline.py\u001b[0m\u001b]8;;\u001b\\\u001b[2m:\u001b[0m\u001b]8;id=66894;file:///home/james/dev/drnb/src/drnb/io/pipeline.py#240\u001b\\\u001b[2m240\u001b[0m\u001b]8;;\u001b\\\n"
      ]
     },
     "metadata": {},
     "output_type": "display_data"
    },
    {
     "data": {
      "text/html": [
       "<pre style=\"white-space:pre;overflow-x:auto;line-height:normal;font-family:Menlo,'DejaVu Sans Mono',consolas,'Courier New',monospace\"><span style=\"color: #7fbfbf; text-decoration-color: #7fbfbf\">           </span><span style=\"color: #000080; text-decoration-color: #000080\">INFO    </span> Finding <span style=\"color: #008080; text-decoration-color: #008080; font-weight: bold\">151</span> neighbors using faiss with euclidean metric and params: <span style=\"font-weight: bold\">{}</span>           <a href=\"file:///home/james/dev/drnb/src/drnb/neighbors/__init__.py\" target=\"_blank\"><span style=\"color: #7f7f7f; text-decoration-color: #7f7f7f\">__init__.py</span></a><span style=\"color: #7f7f7f; text-decoration-color: #7f7f7f\">:</span><a href=\"file:///home/james/dev/drnb/src/drnb/neighbors/__init__.py#71\" target=\"_blank\"><span style=\"color: #7f7f7f; text-decoration-color: #7f7f7f\">71</span></a>\n",
       "</pre>\n"
      ],
      "text/plain": [
       "\u001b[2;36m          \u001b[0m\u001b[2;36m \u001b[0m\u001b[34mINFO    \u001b[0m Finding \u001b[1;36m151\u001b[0m neighbors using faiss with euclidean metric and params: \u001b[1m{\u001b[0m\u001b[1m}\u001b[0m           \u001b]8;id=319460;file:///home/james/dev/drnb/src/drnb/neighbors/__init__.py\u001b\\\u001b[2m__init__.py\u001b[0m\u001b]8;;\u001b\\\u001b[2m:\u001b[0m\u001b]8;id=31999;file:///home/james/dev/drnb/src/drnb/neighbors/__init__.py#71\u001b\\\u001b[2m71\u001b[0m\u001b]8;;\u001b\\\n"
      ]
     },
     "metadata": {},
     "output_type": "display_data"
    },
    {
     "data": {
      "text/html": [
       "<pre style=\"white-space:pre;overflow-x:auto;line-height:normal;font-family:Menlo,'DejaVu Sans Mono',consolas,'Courier New',monospace\"><span style=\"color: #7fbfbf; text-decoration-color: #7fbfbf\">[23:01:32] </span><span style=\"color: #000080; text-decoration-color: #000080\">INFO    </span> Calculating triplets                                                            <a href=\"file:///home/james/dev/drnb/src/drnb/io/pipeline.py\" target=\"_blank\"><span style=\"color: #7f7f7f; text-decoration-color: #7f7f7f\">pipeline.py</span></a><span style=\"color: #7f7f7f; text-decoration-color: #7f7f7f\">:</span><a href=\"file:///home/james/dev/drnb/src/drnb/io/pipeline.py#276\" target=\"_blank\"><span style=\"color: #7f7f7f; text-decoration-color: #7f7f7f\">276</span></a>\n",
       "</pre>\n"
      ],
      "text/plain": [
       "\u001b[2;36m[23:01:32]\u001b[0m\u001b[2;36m \u001b[0m\u001b[34mINFO    \u001b[0m Calculating triplets                                                            \u001b]8;id=150079;file:///home/james/dev/drnb/src/drnb/io/pipeline.py\u001b\\\u001b[2mpipeline.py\u001b[0m\u001b]8;;\u001b\\\u001b[2m:\u001b[0m\u001b]8;id=532962;file:///home/james/dev/drnb/src/drnb/io/pipeline.py#276\u001b\\\u001b[2m276\u001b[0m\u001b]8;;\u001b\\\n"
      ]
     },
     "metadata": {},
     "output_type": "display_data"
    },
    {
     "data": {
      "text/html": [
       "<pre style=\"white-space:pre;overflow-x:auto;line-height:normal;font-family:Menlo,'DejaVu Sans Mono',consolas,'Courier New',monospace\"><span style=\"color: #7fbfbf; text-decoration-color: #7fbfbf\">[23:01:33] </span><span style=\"color: #000080; text-decoration-color: #000080\">INFO    </span> Writing csv format to triplets/isoswiss.<span style=\"color: #008080; text-decoration-color: #008080; font-weight: bold\">5.1337</span>.idx.csv                          <a href=\"file:///home/james/dev/drnb/src/drnb/io/__init__.py\" target=\"_blank\"><span style=\"color: #7f7f7f; text-decoration-color: #7f7f7f\">__init__.py</span></a><span style=\"color: #7f7f7f; text-decoration-color: #7f7f7f\">:</span><a href=\"file:///home/james/dev/drnb/src/drnb/io/__init__.py#221\" target=\"_blank\"><span style=\"color: #7f7f7f; text-decoration-color: #7f7f7f\">221</span></a>\n",
       "</pre>\n"
      ],
      "text/plain": [
       "\u001b[2;36m[23:01:33]\u001b[0m\u001b[2;36m \u001b[0m\u001b[34mINFO    \u001b[0m Writing csv format to triplets/isoswiss.\u001b[1;36m5.1337\u001b[0m.idx.csv                          \u001b]8;id=804725;file:///home/james/dev/drnb/src/drnb/io/__init__.py\u001b\\\u001b[2m__init__.py\u001b[0m\u001b]8;;\u001b\\\u001b[2m:\u001b[0m\u001b]8;id=244761;file:///home/james/dev/drnb/src/drnb/io/__init__.py#221\u001b\\\u001b[2m221\u001b[0m\u001b]8;;\u001b\\\n"
      ]
     },
     "metadata": {},
     "output_type": "display_data"
    },
    {
     "data": {
      "text/html": [
       "<pre style=\"white-space:pre;overflow-x:auto;line-height:normal;font-family:Menlo,'DejaVu Sans Mono',consolas,'Courier New',monospace\"><span style=\"color: #7fbfbf; text-decoration-color: #7fbfbf\">[23:01:34] </span><span style=\"color: #000080; text-decoration-color: #000080\">INFO    </span> Writing csv format to triplets/isoswiss.<span style=\"color: #008080; text-decoration-color: #008080; font-weight: bold\">5.1337</span>.l2.csv                           <a href=\"file:///home/james/dev/drnb/src/drnb/io/__init__.py\" target=\"_blank\"><span style=\"color: #7f7f7f; text-decoration-color: #7f7f7f\">__init__.py</span></a><span style=\"color: #7f7f7f; text-decoration-color: #7f7f7f\">:</span><a href=\"file:///home/james/dev/drnb/src/drnb/io/__init__.py#221\" target=\"_blank\"><span style=\"color: #7f7f7f; text-decoration-color: #7f7f7f\">221</span></a>\n",
       "</pre>\n"
      ],
      "text/plain": [
       "\u001b[2;36m[23:01:34]\u001b[0m\u001b[2;36m \u001b[0m\u001b[34mINFO    \u001b[0m Writing csv format to triplets/isoswiss.\u001b[1;36m5.1337\u001b[0m.l2.csv                           \u001b]8;id=695801;file:///home/james/dev/drnb/src/drnb/io/__init__.py\u001b\\\u001b[2m__init__.py\u001b[0m\u001b]8;;\u001b\\\u001b[2m:\u001b[0m\u001b]8;id=391378;file:///home/james/dev/drnb/src/drnb/io/__init__.py#221\u001b\\\u001b[2m221\u001b[0m\u001b]8;;\u001b\\\n"
      ]
     },
     "metadata": {},
     "output_type": "display_data"
    },
    {
     "data": {
      "text/html": [
       "<pre style=\"white-space:pre;overflow-x:auto;line-height:normal;font-family:Menlo,'DejaVu Sans Mono',consolas,'Courier New',monospace\"><span style=\"color: #7fbfbf; text-decoration-color: #7fbfbf\">           </span><span style=\"color: #000080; text-decoration-color: #000080\">INFO    </span> Writing numpy format to triplets/isoswiss.<span style=\"color: #008080; text-decoration-color: #008080; font-weight: bold\">5.1337</span>.idx.npy                        <a href=\"file:///home/james/dev/drnb/src/drnb/io/__init__.py\" target=\"_blank\"><span style=\"color: #7f7f7f; text-decoration-color: #7f7f7f\">__init__.py</span></a><span style=\"color: #7f7f7f; text-decoration-color: #7f7f7f\">:</span><a href=\"file:///home/james/dev/drnb/src/drnb/io/__init__.py#244\" target=\"_blank\"><span style=\"color: #7f7f7f; text-decoration-color: #7f7f7f\">244</span></a>\n",
       "</pre>\n"
      ],
      "text/plain": [
       "\u001b[2;36m          \u001b[0m\u001b[2;36m \u001b[0m\u001b[34mINFO    \u001b[0m Writing numpy format to triplets/isoswiss.\u001b[1;36m5.1337\u001b[0m.idx.npy                        \u001b]8;id=814485;file:///home/james/dev/drnb/src/drnb/io/__init__.py\u001b\\\u001b[2m__init__.py\u001b[0m\u001b]8;;\u001b\\\u001b[2m:\u001b[0m\u001b]8;id=531583;file:///home/james/dev/drnb/src/drnb/io/__init__.py#244\u001b\\\u001b[2m244\u001b[0m\u001b]8;;\u001b\\\n"
      ]
     },
     "metadata": {},
     "output_type": "display_data"
    },
    {
     "data": {
      "text/html": [
       "<pre style=\"white-space:pre;overflow-x:auto;line-height:normal;font-family:Menlo,'DejaVu Sans Mono',consolas,'Courier New',monospace\"><span style=\"color: #7fbfbf; text-decoration-color: #7fbfbf\">           </span><span style=\"color: #000080; text-decoration-color: #000080\">INFO    </span> Writing numpy format to triplets/isoswiss.<span style=\"color: #008080; text-decoration-color: #008080; font-weight: bold\">5.1337</span>.l2.npy                         <a href=\"file:///home/james/dev/drnb/src/drnb/io/__init__.py\" target=\"_blank\"><span style=\"color: #7f7f7f; text-decoration-color: #7f7f7f\">__init__.py</span></a><span style=\"color: #7f7f7f; text-decoration-color: #7f7f7f\">:</span><a href=\"file:///home/james/dev/drnb/src/drnb/io/__init__.py#244\" target=\"_blank\"><span style=\"color: #7f7f7f; text-decoration-color: #7f7f7f\">244</span></a>\n",
       "</pre>\n"
      ],
      "text/plain": [
       "\u001b[2;36m          \u001b[0m\u001b[2;36m \u001b[0m\u001b[34mINFO    \u001b[0m Writing numpy format to triplets/isoswiss.\u001b[1;36m5.1337\u001b[0m.l2.npy                         \u001b]8;id=481760;file:///home/james/dev/drnb/src/drnb/io/__init__.py\u001b\\\u001b[2m__init__.py\u001b[0m\u001b]8;;\u001b\\\u001b[2m:\u001b[0m\u001b]8;id=905142;file:///home/james/dev/drnb/src/drnb/io/__init__.py#244\u001b\\\u001b[2m244\u001b[0m\u001b]8;;\u001b\\\n"
      ]
     },
     "metadata": {},
     "output_type": "display_data"
    },
    {
     "data": {
      "text/html": [
       "<pre style=\"white-space:pre;overflow-x:auto;line-height:normal;font-family:Menlo,'DejaVu Sans Mono',consolas,'Courier New',monospace\"><span style=\"color: #7fbfbf; text-decoration-color: #7fbfbf\">           </span><span style=\"color: #000080; text-decoration-color: #000080\">INFO    </span> Writing pipeline result for isoswiss                                            <a href=\"file:///home/james/dev/drnb/src/drnb/io/pipeline.py\" target=\"_blank\"><span style=\"color: #7f7f7f; text-decoration-color: #7f7f7f\">pipeline.py</span></a><span style=\"color: #7f7f7f; text-decoration-color: #7f7f7f\">:</span><a href=\"file:///home/james/dev/drnb/src/drnb/io/pipeline.py#128\" target=\"_blank\"><span style=\"color: #7f7f7f; text-decoration-color: #7f7f7f\">128</span></a>\n",
       "</pre>\n"
      ],
      "text/plain": [
       "\u001b[2;36m          \u001b[0m\u001b[2;36m \u001b[0m\u001b[34mINFO    \u001b[0m Writing pipeline result for isoswiss                                            \u001b]8;id=240865;file:///home/james/dev/drnb/src/drnb/io/pipeline.py\u001b\\\u001b[2mpipeline.py\u001b[0m\u001b]8;;\u001b\\\u001b[2m:\u001b[0m\u001b]8;id=232011;file:///home/james/dev/drnb/src/drnb/io/pipeline.py#128\u001b\\\u001b[2m128\u001b[0m\u001b]8;;\u001b\\\n"
      ]
     },
     "metadata": {},
     "output_type": "display_data"
    },
    {
     "name": "stdout",
     "output_type": "stream",
     "text": [
      "time: 15.2 s (started: 2022-09-15 23:01:19 -07:00)\n"
     ]
    }
   ],
   "source": [
    "from drnb.io.pipeline import create_default_pipeline\n",
    "\n",
    "data_result = create_default_pipeline(check_for_duplicates=True).run(\n",
    "    \"isoswiss\",\n",
    "    data=x,\n",
    "    target=target,\n",
    "    tags=[\"synthetic\", \"lowdim\", \"isomap\"],\n",
    "    verbose=True,\n",
    ")"
   ]
  },
  {
   "cell_type": "code",
   "execution_count": null,
   "id": "98529c9c-1a2e-496c-bf81-4ba415197efc",
   "metadata": {},
   "outputs": [],
   "source": []
  }
 ],
 "metadata": {
  "kernelspec": {
   "display_name": "Python 3 (ipykernel)",
   "language": "python",
   "name": "python3"
  },
  "language_info": {
   "codemirror_mode": {
    "name": "ipython",
    "version": 3
   },
   "file_extension": ".py",
   "mimetype": "text/x-python",
   "name": "python",
   "nbconvert_exporter": "python",
   "pygments_lexer": "ipython3",
   "version": "3.10.4"
  }
 },
 "nbformat": 4,
 "nbformat_minor": 5
}
