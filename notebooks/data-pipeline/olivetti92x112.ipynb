{
 "cells": [
  {
   "cell_type": "code",
   "execution_count": 1,
   "id": "bd9f9ac9-4d50-4c50-9daa-d8aed3c5f821",
   "metadata": {},
   "outputs": [
    {
     "name": "stdout",
     "output_type": "stream",
     "text": [
      "time: 294 ms (started: 2022-09-12 22:08:24 -07:00)\n"
     ]
    }
   ],
   "source": [
    "%load_ext lab_black\n",
    "%load_ext autotime\n",
    "import pandas as pd\n",
    "import numpy as np"
   ]
  },
  {
   "cell_type": "markdown",
   "id": "fcb7d2db-0113-4a7a-8a58-ff8fb29363dd",
   "metadata": {},
   "source": [
    "In the `olivetti.ipynb` note I noted that the original [ORL database website](https://cam-orl.co.uk/facedatabase.html) said the images were at a resolution of 92 x 112, but the versions you get from [sklearn](https://scikit-learn.org/stable/modules/generated/sklearn.datasets.fetch_olivetti_faces.html) are only 64 x 64. Unfortunately, the ORL website links to a defunct FTP site for the original files. However, the Wayback Machine has these files. We have two choices, a Z-compressed `tar` file (e.g. <https://web.archive.org/web/20160404224444/http://www.cl.cam.ac.uk/Research/DTG/attarchive/pub/data/att_faces.tar.Z>) or a `zip` file (e.g. <https://web.archive.org/web/20180728235255/http://www.cl.cam.ac.uk/Research/DTG/attarchive/pub/data/att_faces.zip>). It's easier to work with the `zip` file, so we'll go with that.\n",
    "\n",
    "These images are also out there on github if you look hard enough. For example <https://github.com/mohamed-elsayed-mohamed/Face-Recognition/tree/master/Datasets/att_faces> has them, but nested under various directories."
   ]
  },
  {
   "cell_type": "markdown",
   "id": "90657f2d-4d66-4b9f-bb96-c6eb425e8774",
   "metadata": {},
   "source": [
    "## Read the zip file"
   ]
  },
  {
   "cell_type": "code",
   "execution_count": 2,
   "id": "83f6fb9a-5405-400c-8757-0f4995c514e8",
   "metadata": {},
   "outputs": [
    {
     "name": "stdout",
     "output_type": "stream",
     "text": [
      "time: 926 ms (started: 2022-09-12 22:08:24 -07:00)\n"
     ]
    }
   ],
   "source": [
    "import zipfile\n",
    "from io import BytesIO\n",
    "\n",
    "import requests\n",
    "\n",
    "url = \"https://web.archive.org/web/20180728235255/http://www.cl.cam.ac.uk/Research/DTG/attarchive/pub/data/att_faces.zip\"\n",
    "req = requests.get(url, timeout=10)\n",
    "faces_zip = zipfile.ZipFile(BytesIO(req.content))"
   ]
  },
  {
   "cell_type": "code",
   "execution_count": 3,
   "id": "7c884e40-eb6e-43c0-9aa1-3c3a957c830d",
   "metadata": {
    "tags": []
   },
   "outputs": [
    {
     "data": {
      "text/plain": [
       "[<ZipInfo filename='README' compress_type=deflate filemode='-rw-rw-rw-' file_size=1579 compress_size=840>,\n",
       " <ZipInfo filename='s1/' filemode='drwxrwxrwx' external_attr=0x10>,\n",
       " <ZipInfo filename='s1/6.pgm' compress_type=deflate filemode='-rw-rw-rw-' file_size=10318 compress_size=8590>,\n",
       " <ZipInfo filename='s1/7.pgm' compress_type=deflate filemode='-rw-rw-rw-' file_size=10318 compress_size=8927>,\n",
       " <ZipInfo filename='s1/8.pgm' compress_type=deflate filemode='-rw-rw-rw-' file_size=10318 compress_size=9255>,\n",
       " <ZipInfo filename='s1/9.pgm' compress_type=deflate filemode='-rw-rw-rw-' file_size=10318 compress_size=9289>,\n",
       " <ZipInfo filename='s1/10.pgm' compress_type=deflate filemode='-rw-rw-rw-' file_size=10318 compress_size=9341>,\n",
       " <ZipInfo filename='s1/1.pgm' compress_type=deflate filemode='-rw-rw-rw-' file_size=10318 compress_size=8939>,\n",
       " <ZipInfo filename='s1/2.pgm' compress_type=deflate filemode='-rw-rw-rw-' file_size=10318 compress_size=8508>,\n",
       " <ZipInfo filename='s1/3.pgm' compress_type=deflate filemode='-rw-rw-rw-' file_size=10318 compress_size=8839>]"
      ]
     },
     "execution_count": 3,
     "metadata": {},
     "output_type": "execute_result"
    },
    {
     "name": "stdout",
     "output_type": "stream",
     "text": [
      "time: 41.4 ms (started: 2022-09-12 22:08:25 -07:00)\n"
     ]
    }
   ],
   "source": [
    "faces_zip.infolist()[:10]"
   ]
  },
  {
   "cell_type": "markdown",
   "id": "907fcd07-e146-4f96-ab47-06036d362090",
   "metadata": {},
   "source": [
    "We are only interested in the image (`.pgm`) files:"
   ]
  },
  {
   "cell_type": "code",
   "execution_count": 4,
   "id": "bd08d16a-5ae5-4549-8f8b-9602b0948f73",
   "metadata": {},
   "outputs": [
    {
     "name": "stdout",
     "output_type": "stream",
     "text": [
      "time: 11.7 ms (started: 2022-09-12 22:08:25 -07:00)\n"
     ]
    }
   ],
   "source": [
    "zip_infos = [\n",
    "    zip_info\n",
    "    for zip_info in faces_zip.infolist()\n",
    "    if not zip_info.is_dir() and zip_info.filename.endswith(\".pgm\")\n",
    "]"
   ]
  },
  {
   "cell_type": "markdown",
   "id": "307b8c20-ef44-4139-8e2d-f99fa570ad70",
   "metadata": {},
   "source": [
    "Before reading the files, create a numpy `ndarray` that can store the image data:"
   ]
  },
  {
   "cell_type": "code",
   "execution_count": 5,
   "id": "d06b94fa-e550-4002-ae4f-e0f22edfed8d",
   "metadata": {},
   "outputs": [
    {
     "data": {
      "text/plain": [
       "(400, 10304)"
      ]
     },
     "execution_count": 5,
     "metadata": {},
     "output_type": "execute_result"
    },
    {
     "name": "stdout",
     "output_type": "stream",
     "text": [
      "time: 20.3 ms (started: 2022-09-12 22:08:25 -07:00)\n"
     ]
    }
   ],
   "source": [
    "n_subjects = 40\n",
    "n_poses = 10\n",
    "nx = 92\n",
    "ny = 112\n",
    "n_features = nx * ny\n",
    "img_data = np.empty([n_subjects * n_poses, n_features], dtype=int)\n",
    "img_data.shape"
   ]
  },
  {
   "cell_type": "markdown",
   "id": "42bcc7ce-522d-4904-bcf2-6a2af99b500d",
   "metadata": {},
   "source": [
    "Now iterate over the images, read them into PIL, and then export the data as integers into the right row of `img_data`:"
   ]
  },
  {
   "cell_type": "code",
   "execution_count": 6,
   "id": "3434fae0-204b-4083-a22c-ab90ffbb666e",
   "metadata": {
    "tags": []
   },
   "outputs": [
    {
     "name": "stdout",
     "output_type": "stream",
     "text": [
      "time: 479 ms (started: 2022-09-12 22:08:26 -07:00)\n"
     ]
    }
   ],
   "source": [
    "import PIL.Image\n",
    "\n",
    "for zip_info in zip_infos:\n",
    "    pgm_dir, pgm_filename = zip_info.filename.split(\"/\")\n",
    "    # s1/10.pgm => subject 1, pose 10, then zero-index to 0, 9\n",
    "    subject_id = int(pgm_dir[1:])  # remove leading 2\n",
    "    pose_id = int(pgm_filename[0:-4])  # strip trailing '.pgm'\n",
    "    # then convert to 1D row index of output data\n",
    "    idx = (subject_id - 1) * n_poses + (pose_id - 1)\n",
    "    with faces_zip.open(zip_info.filename) as pgm_file:\n",
    "        # PIL knows how to read these files\n",
    "        img = PIL.Image.open(pgm_file)\n",
    "        img_data[idx, :] = list(img.getdata())"
   ]
  },
  {
   "cell_type": "code",
   "execution_count": 7,
   "id": "c84133c0-b3af-41bb-a20b-33213be99e42",
   "metadata": {},
   "outputs": [
    {
     "data": {
      "text/plain": [
       "array([[ 48,  49,  45, ...,  47,  46,  46],\n",
       "       [ 60,  60,  62, ...,  32,  34,  34],\n",
       "       [ 39,  44,  53, ...,  29,  26,  29],\n",
       "       ...,\n",
       "       [125, 119, 124, ...,  36,  39,  40],\n",
       "       [119, 120, 120, ...,  89,  94,  85],\n",
       "       [125, 124, 124, ...,  36,  35,  34]])"
      ]
     },
     "execution_count": 7,
     "metadata": {},
     "output_type": "execute_result"
    },
    {
     "name": "stdout",
     "output_type": "stream",
     "text": [
      "time: 6.3 ms (started: 2022-09-12 22:08:26 -07:00)\n"
     ]
    }
   ],
   "source": [
    "img_data"
   ]
  },
  {
   "cell_type": "markdown",
   "id": "8127eff4-d930-4ba3-9fb5-03eed5ba14fa",
   "metadata": {},
   "source": [
    "And don't forget to close the zip file:"
   ]
  },
  {
   "cell_type": "code",
   "execution_count": 8,
   "id": "89a8b0cc-923b-4e31-9aad-0668e820f566",
   "metadata": {},
   "outputs": [
    {
     "name": "stdout",
     "output_type": "stream",
     "text": [
      "time: 2.65 ms (started: 2022-09-12 22:08:26 -07:00)\n"
     ]
    }
   ],
   "source": [
    "faces_zip.close()"
   ]
  },
  {
   "cell_type": "markdown",
   "id": "f5b8af0a-c84a-41b2-8330-0a36a68effe7",
   "metadata": {},
   "source": [
    "## View face image"
   ]
  },
  {
   "cell_type": "code",
   "execution_count": 25,
   "id": "48b5e771-0211-440d-9fd8-b7c1102f5b0c",
   "metadata": {},
   "outputs": [
    {
     "name": "stdout",
     "output_type": "stream",
     "text": [
      "time: 5.77 ms (started: 2022-09-12 23:05:48 -07:00)\n"
     ]
    }
   ],
   "source": [
    "import matplotlib.pyplot as plt\n",
    "\n",
    "\n",
    "def show_olivetti92x112(olivetti92x112, subject, pose):\n",
    "    if not 0 <= subject < 40:\n",
    "        raise ValueError(\"subject should be a value in [0, 39]\")\n",
    "    n_poses = 10\n",
    "    if not 0 <= pose < n_poses:\n",
    "        raise ValueError(\"pose should be a value in [0, 9]\")\n",
    "    idx = subject * n_poses + pose\n",
    "    nx = 92\n",
    "    ny = 112\n",
    "    if olivetti92x112.shape[1] != nx * ny:\n",
    "        raise ValueError(f\"olivetti image should be {nx} x {ny}\")\n",
    "    plt.imshow(\n",
    "        olivetti92x112[idx].reshape((ny, nx)),\n",
    "        cmap=plt.cm.gray,\n",
    "        interpolation=\"nearest\",\n",
    "        vmin=0,\n",
    "        vmax=255,\n",
    "    )"
   ]
  },
  {
   "cell_type": "code",
   "execution_count": 26,
   "id": "e3e2feec-dab3-4e0d-a595-b0e0f4ca8b05",
   "metadata": {},
   "outputs": [
    {
     "data": {
      "image/png": "[encoded data removed]",
      "text/plain": [
       "<Figure size 640x480 with 1 Axes>"
      ]
     },
     "metadata": {},
     "output_type": "display_data"
    },
    {
     "name": "stdout",
     "output_type": "stream",
     "text": [
      "time: 101 ms (started: 2022-09-12 23:05:48 -07:00)\n"
     ]
    }
   ],
   "source": [
    "show_olivetti92x112(img_data, 0, 0)"
   ]
  },
  {
   "cell_type": "markdown",
   "id": "86dcc579-6954-40e2-a39a-ca7593f0ca78",
   "metadata": {},
   "source": [
    "If you compare these images to those in the `olivetti.ipynb` notebook, I don't think these are higher-res, but the 64x64 versions have been cropped to focus more on the face and to have less background shown."
   ]
  },
  {
   "cell_type": "markdown",
   "id": "eeef704d-324a-41c6-b8d4-0ba597128b30",
   "metadata": {},
   "source": [
    "## Pipeline"
   ]
  },
  {
   "cell_type": "code",
   "execution_count": 24,
   "id": "f4e982a0-1226-4e80-8f5a-97e3f0594b43",
   "metadata": {},
   "outputs": [
    {
     "name": "stdout",
     "output_type": "stream",
     "text": [
      "time: 6.26 ms (started: 2022-09-12 23:05:15 -07:00)\n"
     ]
    }
   ],
   "source": [
    "from drnb.util import categorize\n",
    "\n",
    "target = pd.DataFrame(\n",
    "    dict(\n",
    "        pose_id=list(range(n_poses)) * n_subjects,\n",
    "        subject_id=np.repeat(range(n_subjects), n_poses),\n",
    "    )\n",
    ")\n",
    "categorize(target, \"subject_id\")"
   ]
  },
  {
   "cell_type": "code",
   "execution_count": 20,
   "id": "ecdb90fa-0ea2-4bce-bce4-1f5aad231fd7",
   "metadata": {},
   "outputs": [
    {
     "data": {
      "text/html": [
       "<div>\n",
       "<style scoped>\n",
       "    .dataframe tbody tr th:only-of-type {\n",
       "        vertical-align: middle;\n",
       "    }\n",
       "\n",
       "    .dataframe tbody tr th {\n",
       "        vertical-align: top;\n",
       "    }\n",
       "\n",
       "    .dataframe thead th {\n",
       "        text-align: right;\n",
       "    }\n",
       "</style>\n",
       "<table border=\"1\" class=\"dataframe\">\n",
       "  <thead>\n",
       "    <tr style=\"text-align: right;\">\n",
       "      <th></th>\n",
       "      <th>pose_id</th>\n",
       "      <th>subject_id</th>\n",
       "    </tr>\n",
       "  </thead>\n",
       "  <tbody>\n",
       "    <tr>\n",
       "      <th>0</th>\n",
       "      <td>0</td>\n",
       "      <td>0</td>\n",
       "    </tr>\n",
       "    <tr>\n",
       "      <th>1</th>\n",
       "      <td>1</td>\n",
       "      <td>0</td>\n",
       "    </tr>\n",
       "    <tr>\n",
       "      <th>2</th>\n",
       "      <td>2</td>\n",
       "      <td>0</td>\n",
       "    </tr>\n",
       "    <tr>\n",
       "      <th>3</th>\n",
       "      <td>3</td>\n",
       "      <td>0</td>\n",
       "    </tr>\n",
       "    <tr>\n",
       "      <th>4</th>\n",
       "      <td>4</td>\n",
       "      <td>0</td>\n",
       "    </tr>\n",
       "    <tr>\n",
       "      <th>...</th>\n",
       "      <td>...</td>\n",
       "      <td>...</td>\n",
       "    </tr>\n",
       "    <tr>\n",
       "      <th>395</th>\n",
       "      <td>5</td>\n",
       "      <td>39</td>\n",
       "    </tr>\n",
       "    <tr>\n",
       "      <th>396</th>\n",
       "      <td>6</td>\n",
       "      <td>39</td>\n",
       "    </tr>\n",
       "    <tr>\n",
       "      <th>397</th>\n",
       "      <td>7</td>\n",
       "      <td>39</td>\n",
       "    </tr>\n",
       "    <tr>\n",
       "      <th>398</th>\n",
       "      <td>8</td>\n",
       "      <td>39</td>\n",
       "    </tr>\n",
       "    <tr>\n",
       "      <th>399</th>\n",
       "      <td>9</td>\n",
       "      <td>39</td>\n",
       "    </tr>\n",
       "  </tbody>\n",
       "</table>\n",
       "<p>400 rows × 2 columns</p>\n",
       "</div>"
      ],
      "text/plain": [
       "     pose_id subject_id\n",
       "0          0          0\n",
       "1          1          0\n",
       "2          2          0\n",
       "3          3          0\n",
       "4          4          0\n",
       "..       ...        ...\n",
       "395        5         39\n",
       "396        6         39\n",
       "397        7         39\n",
       "398        8         39\n",
       "399        9         39\n",
       "\n",
       "[400 rows x 2 columns]"
      ]
     },
     "execution_count": 20,
     "metadata": {},
     "output_type": "execute_result"
    },
    {
     "name": "stdout",
     "output_type": "stream",
     "text": [
      "time: 10.2 ms (started: 2022-09-12 22:14:11 -07:00)\n"
     ]
    }
   ],
   "source": [
    "target"
   ]
  },
  {
   "cell_type": "code",
   "execution_count": 21,
   "id": "5e4da70d-13e4-4fee-adbb-b58fe6c78241",
   "metadata": {},
   "outputs": [
    {
     "name": "stderr",
     "output_type": "stream",
     "text": [
      "INFO:rich:Requesting one extra neighbor to account for self-neighbor\n"
     ]
    },
    {
     "name": "stdout",
     "output_type": "stream",
     "text": [
      "time: 10.9 ms (started: 2022-09-12 22:15:03 -07:00)\n"
     ]
    }
   ],
   "source": [
    "from drnb.dataset import create_data_pipeline\n",
    "\n",
    "data_pipe = create_data_pipeline(\n",
    "    data_export=[\"csv\", \"npy\"],\n",
    "    target_export=[\"csv\", \"pkl\"],\n",
    "    neighbors=dict(\n",
    "        n_neighbors=[15, 50, 150],\n",
    "        method=\"exact\",\n",
    "        metric=[\"euclidean\"],\n",
    "        file_types=[\"csv\", \"npy\"],\n",
    "    ),\n",
    "    triplets=dict(\n",
    "        n_triplets_per_point=5,\n",
    "        seed=1337,\n",
    "        file_types=[\"csv\", \"npy\"],\n",
    "    ),\n",
    "    verbose=True,\n",
    ")"
   ]
  },
  {
   "cell_type": "code",
   "execution_count": 23,
   "id": "211cca3f-b633-4878-8eb7-0de8d7514e81",
   "metadata": {},
   "outputs": [
    {
     "name": "stderr",
     "output_type": "stream",
     "text": [
      "INFO:rich:initial data shape: (400, 10304)\n",
      "INFO:rich:Removing rows with NAs\n",
      "INFO:rich:data shape after filtering NAs: (400, 10304)\n",
      "INFO:rich:Keeping all columns\n",
      "INFO:rich:data shape after filtering columns: (400, 10304)\n",
      "INFO:rich:No scaling\n",
      "INFO:rich:Converting to numpy with {'dtype': 'float32', 'layout': 'c'}\n",
      "INFO:rich:Writing data for olivetti92x112\n",
      "INFO:rich:Processing target with initial shape (400, 2)\n",
      "INFO:rich:Keeping all columns\n",
      "INFO:rich:Writing target for olivetti92x112\n",
      "INFO:rich:Calculating nearest neighbors\n",
      "WARNING:rich:Using sklearn to find exact nearest neighbors: this might take a while\n",
      "INFO:rich:Finding 151 neighbors using faiss with euclidean metric and params: {}\n",
      "INFO:rich:Calculating triplets\n",
      "INFO:rich:Writing csv format to triplets/olivetti92x112.5.1337.idx.csv\n",
      "INFO:rich:Writing csv format to triplets/olivetti92x112.5.1337.l2.csv\n",
      "INFO:rich:Writing numpy format to triplets/olivetti92x112.5.1337.idx.npy\n",
      "INFO:rich:Writing numpy format to triplets/olivetti92x112.5.1337.l2.npy\n",
      "INFO:rich:Writing pipeline result for olivetti92x112\n"
     ]
    },
    {
     "name": "stdout",
     "output_type": "stream",
     "text": [
      "time: 2.6 s (started: 2022-09-12 22:15:36 -07:00)\n"
     ]
    }
   ],
   "source": [
    "data_result = data_pipe.run(\n",
    "    \"olivetti92x112\", data=img_data, target=target, verbose=True\n",
    ")"
   ]
  },
  {
   "cell_type": "code",
   "execution_count": null,
   "id": "046fd746-ac96-4514-bf43-b330f48306f1",
   "metadata": {},
   "outputs": [],
   "source": []
  }
 ],
 "metadata": {
  "kernelspec": {
   "display_name": "Python 3 (ipykernel)",
   "language": "python",
   "name": "python3"
  },
  "language_info": {
   "codemirror_mode": {
    "name": "ipython",
    "version": 3
   },
   "file_extension": ".py",
   "mimetype": "text/x-python",
   "name": "python",
   "nbconvert_exporter": "python",
   "pygments_lexer": "ipython3",
   "version": "3.10.4"
  }
 },
 "nbformat": 4,
 "nbformat_minor": 5
}
