{
 "cells": [
  {
   "cell_type": "code",
   "execution_count": 1,
   "id": "bfb85b97-9849-44df-92f8-89228953614e",
   "metadata": {},
   "outputs": [],
   "source": [
    "%load_ext lab_black\n",
    "import pandas as pd\n",
    "import numpy as np\n",
    "import drnb as nb"
   ]
  },
  {
   "cell_type": "code",
   "execution_count": 2,
   "id": "7f0dce94-50c2-4fe1-977e-1ed0c17fe528",
   "metadata": {},
   "outputs": [],
   "source": [
    "import drnb.io as nbio\n",
    "\n",
    "irisx, _ = nbio.read_dataxy(\"iris\")"
   ]
  },
  {
   "cell_type": "markdown",
   "id": "eb95b8cf-3057-470a-902a-0644ad776f25",
   "metadata": {},
   "source": [
    "* `n_neighbors=5`\n",
    "* `algorithm=\"auto\"`: one of `\"auto\"`, `\"ball_tree\"`, `\"kd_tree\"`, `\"brute`\"\n",
    "* `metric=\"minkowski\"`: one of the metrics from `sklearn.metrics.pairwise.distance_metrics()`\n",
    "* `p=2`: parameter for the Minkowski metric, i.e. Euclidean distance by default.\n",
    "* `metric_params=None` dict of keyword args for the `metric`.\n",
    "* `n_jobs=None`: number of jobs, `-1` means all processors.\n",
    "* `leaf_size=30`: parameter when `metric=\"ball_tree\"` or `metric=\"kd_tree\"`"
   ]
  },
  {
   "cell_type": "code",
   "execution_count": 3,
   "id": "43f758ec-dae5-47ac-a736-78e484b3e551",
   "metadata": {},
   "outputs": [
    {
     "data": {
      "text/plain": [
       "dict_keys(['cityblock', 'cosine', 'euclidean', 'haversine', 'l2', 'l1', 'manhattan', 'precomputed', 'nan_euclidean'])"
      ]
     },
     "execution_count": 3,
     "metadata": {},
     "output_type": "execute_result"
    }
   ],
   "source": [
    "import sklearn.metrics.pairwise\n",
    "\n",
    "sklearn.metrics.pairwise.distance_metrics().keys()"
   ]
  },
  {
   "cell_type": "code",
   "execution_count": 4,
   "id": "7eee6451-4dcd-4cc2-a427-cf26a28d768f",
   "metadata": {},
   "outputs": [],
   "source": [
    "from sklearn.neighbors import NearestNeighbors\n",
    "\n",
    "nn = NearestNeighbors(n_neighbors=15, algorithm=\"auto\", n_jobs=-1).fit(irisx)\n",
    "\n",
    "(dist, idx) = nn.kneighbors(irisx)"
   ]
  },
  {
   "cell_type": "code",
   "execution_count": 5,
   "id": "658afbab-792c-41e2-b8a7-e5630fcdcf8e",
   "metadata": {},
   "outputs": [
    {
     "data": {
      "text/plain": [
       "array([[  0,  17,   4, ...,  26,  19,  46],\n",
       "       [  1,  34,  45, ...,  47,   7,  39],\n",
       "       [  2,  47,   3, ...,  49,  30,  38],\n",
       "       ...,\n",
       "       [147, 110, 111, ..., 103, 123, 141],\n",
       "       [148, 136, 115, ..., 145, 128, 116],\n",
       "       [149, 127, 138, ...,  63, 111, 147]])"
      ]
     },
     "execution_count": 5,
     "metadata": {},
     "output_type": "execute_result"
    }
   ],
   "source": [
    "idx"
   ]
  },
  {
   "cell_type": "code",
   "execution_count": 6,
   "id": "cc3477fb-49ce-419b-9f39-ba85cb1be794",
   "metadata": {},
   "outputs": [
    {
     "data": {
      "text/plain": [
       "array([[  0,  17,   4, ...,  26,  19,  46],\n",
       "       [  1,  34,  45, ...,  47,   7,  39],\n",
       "       [  2,  47,   3, ...,  49,  30,  38],\n",
       "       ...,\n",
       "       [147, 110, 111, ..., 103, 123, 141],\n",
       "       [148, 136, 115, ..., 145, 128, 116],\n",
       "       [149, 127, 138, ...,  63, 111, 147]])"
      ]
     },
     "execution_count": 6,
     "metadata": {},
     "output_type": "execute_result"
    }
   ],
   "source": [
    "nn.kneighbors(irisx, return_distance=False)"
   ]
  },
  {
   "cell_type": "code",
   "execution_count": 7,
   "id": "99ce0c79-f7df-49bb-accb-5ba791255ebe",
   "metadata": {},
   "outputs": [
    {
     "data": {
      "text/plain": [
       "(array([[  0,  17,   4, ...,  26,  19,  46],\n",
       "        [  1,  34,  45, ...,  47,   7,  39],\n",
       "        [  2,  47,   3, ...,  49,  30,  38],\n",
       "        ...,\n",
       "        [147, 110, 111, ..., 103, 123, 141],\n",
       "        [148, 136, 115, ..., 145, 128, 116],\n",
       "        [149, 127, 138, ...,  63, 111, 147]]),\n",
       " array([[0.        , 0.1       , 0.14142136, ..., 0.31622777, 0.33166248,\n",
       "         0.36055513],\n",
       "        [0.        , 0.14142136, 0.14142136, ..., 0.36055513, 0.42426407,\n",
       "         0.45825757],\n",
       "        [0.        , 0.14142136, 0.24494897, ..., 0.33166248, 0.33166248,\n",
       "         0.36055513],\n",
       "        ...,\n",
       "        [0.        , 0.2236068 , 0.34641016, ..., 0.5       , 0.50990195,\n",
       "         0.51961524],\n",
       "        [0.        , 0.24494897, 0.3       , ..., 0.67082039, 0.69282032,\n",
       "         0.71414284],\n",
       "        [0.        , 0.28284271, 0.31622777, ..., 0.60827625, 0.6244998 ,\n",
       "         0.64031242]]))"
      ]
     },
     "execution_count": 7,
     "metadata": {},
     "output_type": "execute_result"
    }
   ],
   "source": [
    "import drnb.neighbors as nbnbrs\n",
    "\n",
    "nbnbrs.sklearn_nbrs(irisx, 15)"
   ]
  },
  {
   "cell_type": "code",
   "execution_count": null,
   "id": "604fc738-7429-4be6-8916-96e30dc5da2d",
   "metadata": {},
   "outputs": [],
   "source": []
  }
 ],
 "metadata": {
  "kernelspec": {
   "display_name": "Python 3 (ipykernel)",
   "language": "python",
   "name": "python3"
  },
  "language_info": {
   "codemirror_mode": {
    "name": "ipython",
    "version": 3
   },
   "file_extension": ".py",
   "mimetype": "text/x-python",
   "name": "python",
   "nbconvert_exporter": "python",
   "pygments_lexer": "ipython3",
   "version": "3.10.4"
  }
 },
 "nbformat": 4,
 "nbformat_minor": 5
}
